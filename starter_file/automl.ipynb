{
  "cells": [
    {
      "cell_type": "markdown",
      "metadata": {},
      "source": [
        "# Automated ML"
      ]
    },
    {
      "cell_type": "code",
      "execution_count": 1,
      "metadata": {
        "gather": {
          "logged": 1638098339442
        },
        "jupyter": {
          "outputs_hidden": false,
          "source_hidden": false
        },
        "nteract": {
          "transient": {
            "deleting": false
          }
        }
      },
      "outputs": [],
      "source": [
        "import logging\n",
        "import os\n",
        "import csv\n",
        "\n",
        "from matplotlib import pyplot as plt\n",
        "import numpy as np\n",
        "import pandas as pd\n",
        "from sklearn import datasets\n",
        "import pkg_resources\n",
        "\n",
        "import azureml.core\n",
        "from azureml.core.experiment import Experiment\n",
        "from azureml.core.workspace import Workspace\n",
        "from azureml.train.automl import AutoMLConfig\n",
        "# from azureml.core.dataset import Dataset\n",
        "from azureml.core import Dataset, Datastore\n",
        "from azureml.pipeline.steps import AutoMLStep"
      ]
    },
    {
      "cell_type": "markdown",
      "metadata": {},
      "source": [
        "## Dataset\n",
        "\n",
        "### Overview\n",
        "Machine Learning with R by Brett Lantz is a book that provides an introduction to machine learning using R. As far as I can tell, Packt Publishing does not make its datasets available online unless you buy the book and create a user account which can be a problem if you are checking the book out from the library or borrowing the book from a friend. All of these datasets are in the public domain but simply needed some cleaning up and recoding to match the format in the book.\n",
        "\n",
        "#### Data content:\n",
        "\n",
        "Columns\n",
        "\n",
        "age: age of primary beneficiary\n",
        "\n",
        "sex: insurance contractor gender, female, male\n",
        "\n",
        "bmi: Body mass index, providing an understanding of body, weights that are relatively high or low relative to height,\n",
        "objective index of body weight (kg / m ^ 2) using the ratio of height to weight, ideally 18.5 to 24.9\n",
        "\n",
        "children: Number of children covered by health insurance / Number of dependents\n",
        "\n",
        "smoker: Smoking\n",
        "\n",
        "region: the beneficiary's residential area in the US, northeast, southeast, southwest, northwest.\n",
        "\n",
        "charges: Individual medical costs billed by health insurance.\n",
        "\n",
        "#### Activity of Project:\n",
        "In this capstone project we will be predicting the medical personal charges given age, sex, bmi, children, smoker, region as input parameters."
      ]
    },
    {
      "cell_type": "code",
      "execution_count": 2,
      "metadata": {
        "gather": {
          "logged": 1638098340108
        },
        "jupyter": {
          "outputs_hidden": false,
          "source_hidden": false
        },
        "nteract": {
          "transient": {
            "deleting": false
          }
        }
      },
      "outputs": [],
      "source": [
        "ws = Workspace.from_config()\n",
        "\n",
        "# choose a name for experiment\n",
        "experiment_name = 'demo-experiment'\n",
        "experiment=Experiment(ws, experiment_name)"
      ]
    },
    {
      "cell_type": "code",
      "execution_count": 5,
      "metadata": {
        "gather": {
          "logged": 1638098362472
        },
        "jupyter": {
          "outputs_hidden": false,
          "source_hidden": false
        },
        "nteract": {
          "transient": {
            "deleting": false
          }
        }
      },
      "outputs": [
        {
          "data": {
            "text/html": [
              "<div>\n",
              "<style scoped>\n",
              "    .dataframe tbody tr th:only-of-type {\n",
              "        vertical-align: middle;\n",
              "    }\n",
              "\n",
              "    .dataframe tbody tr th {\n",
              "        vertical-align: top;\n",
              "    }\n",
              "\n",
              "    .dataframe thead th {\n",
              "        text-align: right;\n",
              "    }\n",
              "</style>\n",
              "<table border=\"1\" class=\"dataframe\">\n",
              "  <thead>\n",
              "    <tr style=\"text-align: right;\">\n",
              "      <th></th>\n",
              "      <th>age</th>\n",
              "      <th>bmi</th>\n",
              "      <th>children</th>\n",
              "      <th>charges</th>\n",
              "    </tr>\n",
              "  </thead>\n",
              "  <tbody>\n",
              "    <tr>\n",
              "      <th>count</th>\n",
              "      <td>1338.000000</td>\n",
              "      <td>1338.000000</td>\n",
              "      <td>1338.000000</td>\n",
              "      <td>1338.000000</td>\n",
              "    </tr>\n",
              "    <tr>\n",
              "      <th>mean</th>\n",
              "      <td>39.207025</td>\n",
              "      <td>30.663397</td>\n",
              "      <td>1.094918</td>\n",
              "      <td>13270.422265</td>\n",
              "    </tr>\n",
              "    <tr>\n",
              "      <th>std</th>\n",
              "      <td>14.049960</td>\n",
              "      <td>6.098187</td>\n",
              "      <td>1.205493</td>\n",
              "      <td>12110.011237</td>\n",
              "    </tr>\n",
              "    <tr>\n",
              "      <th>min</th>\n",
              "      <td>18.000000</td>\n",
              "      <td>15.960000</td>\n",
              "      <td>0.000000</td>\n",
              "      <td>1121.873900</td>\n",
              "    </tr>\n",
              "    <tr>\n",
              "      <th>25%</th>\n",
              "      <td>27.000000</td>\n",
              "      <td>26.296250</td>\n",
              "      <td>0.000000</td>\n",
              "      <td>4740.287150</td>\n",
              "    </tr>\n",
              "    <tr>\n",
              "      <th>50%</th>\n",
              "      <td>39.000000</td>\n",
              "      <td>30.400000</td>\n",
              "      <td>1.000000</td>\n",
              "      <td>9382.033000</td>\n",
              "    </tr>\n",
              "    <tr>\n",
              "      <th>75%</th>\n",
              "      <td>51.000000</td>\n",
              "      <td>34.693750</td>\n",
              "      <td>2.000000</td>\n",
              "      <td>16639.912515</td>\n",
              "    </tr>\n",
              "    <tr>\n",
              "      <th>max</th>\n",
              "      <td>64.000000</td>\n",
              "      <td>53.130000</td>\n",
              "      <td>5.000000</td>\n",
              "      <td>63770.428010</td>\n",
              "    </tr>\n",
              "  </tbody>\n",
              "</table>\n",
              "</div>"
            ],
            "text/plain": [
              "               age          bmi     children       charges\n",
              "count  1338.000000  1338.000000  1338.000000   1338.000000\n",
              "mean     39.207025    30.663397     1.094918  13270.422265\n",
              "std      14.049960     6.098187     1.205493  12110.011237\n",
              "min      18.000000    15.960000     0.000000   1121.873900\n",
              "25%      27.000000    26.296250     0.000000   4740.287150\n",
              "50%      39.000000    30.400000     1.000000   9382.033000\n",
              "75%      51.000000    34.693750     2.000000  16639.912515\n",
              "max      64.000000    53.130000     5.000000  63770.428010"
            ]
          },
          "execution_count": 5,
          "metadata": {},
          "output_type": "execute_result"
        }
      ],
      "source": [
        "# Try to load the dataset from the Workspace. Otherwise, create it from the file\n",
        "# NOTE: update the key to match the dataset name\n",
        "found = False\n",
        "key = \"insurance Dataset\"\n",
        "description_text = \"insurance dataset for udacity capstone project\"\n",
        "if key in ws.datasets.keys(): \n",
        "        found = True\n",
        "        dataset = ws.datasets[key] \n",
        "if not found:\n",
        "        # Create AML Dataset and register it into Workspace\n",
        "        example_data = 'https://raw.githubusercontent.com/kalimi03/nd00333-capstone/master/insurance.csv'\n",
        "        dataset = Dataset.Tabular.from_delimited_files(example_data)        \n",
        "        #Register Dataset in Workspace\n",
        "        dataset = dataset.register(workspace=ws,\n",
        "                                   name=key,\n",
        "                                   description=description_text)\n",
        "\n",
        "df = dataset.to_pandas_dataframe()\n",
        "df.describe()"
      ]
    },
    {
      "cell_type": "markdown",
      "metadata": {
        "nteract": {
          "transient": {
            "deleting": false
          }
        }
      },
      "source": [
        "## Creating or cttaching a compute cluster target"
      ]
    },
    {
      "cell_type": "code",
      "execution_count": 7,
      "metadata": {
        "gather": {
          "logged": 1638099905787
        },
        "jupyter": {
          "outputs_hidden": false,
          "source_hidden": false
        },
        "nteract": {
          "transient": {
            "deleting": false
          }
        }
      },
      "outputs": [
        {
          "name": "stdout",
          "output_type": "stream",
          "text": [
            "Found existing cluster, use it.\n",
            "Succeeded\n",
            "AmlCompute wait for completion finished\n",
            "\n",
            "Minimum number of nodes requested have been provisioned\n"
          ]
        }
      ],
      "source": [
        "from azureml.core.compute import AmlCompute\n",
        "from azureml.core.compute import ComputeTarget\n",
        "from azureml.core.compute_target import ComputeTargetException\n",
        "\n",
        "amlcompute_cluster_name = \"demo-cluster\"\n",
        "try:\n",
        "    compute_target = ComputeTarget(workspace=ws, name=amlcompute_cluster_name)\n",
        "    print('Found existing cluster, use it.')\n",
        "except ComputeTargetException:\n",
        "    compute_config = AmlCompute.provisioning_configuration(vm_size='STANDARD_D2_V2', max_nodes=4)\n",
        "    compute_target = ComputeTarget.create(ws, amlcompute_cluster_name, compute_config)\n",
        "\n",
        "compute_target.wait_for_completion(show_output=True, min_node_count = 1, timeout_in_minutes = 10)\n"
      ]
    },
    {
      "cell_type": "markdown",
      "metadata": {},
      "source": [
        "## AutoML Configuration\n",
        "\n",
        "The details of Azure ML configuration settings have been explained in the ReadMe document."
      ]
    },
    {
      "cell_type": "code",
      "execution_count": 28,
      "metadata": {
        "gather": {
          "logged": 1638103834227
        },
        "jupyter": {
          "outputs_hidden": false,
          "source_hidden": false
        },
        "nteract": {
          "transient": {
            "deleting": false
          }
        }
      },
      "outputs": [],
      "source": [
        "project_folder = './insurance-project'\n",
        "automl_settings = {\n",
        "    \"n_cross_validations\": 5,\n",
        "    \"experiment_timeout_minutes\": 20,\n",
        "    \"max_concurrent_iterations\": 5,\n",
        "    \"enable_early_stopping\": True,\n",
        "    \"primary_metric\": 'normalized_root_mean_squared_error'\n",
        "}\n",
        "automl_config = AutoMLConfig(compute_target=compute_target,\n",
        "                            task = 'regression',\n",
        "                            training_data=dataset,\n",
        "                            label_column_name =\"charges\",\n",
        "                            path = project_folder,\n",
        "                            **automl_settings\n",
        "                            )"
      ]
    },
    {
      "cell_type": "code",
      "execution_count": 29,
      "metadata": {
        "gather": {
          "logged": 1638103954078
        },
        "jupyter": {
          "outputs_hidden": false,
          "source_hidden": false
        },
        "nteract": {
          "transient": {
            "deleting": false
          }
        }
      },
      "outputs": [
        {
          "name": "stdout",
          "output_type": "stream",
          "text": [
            "Submitting remote run.\n"
          ]
        },
        {
          "data": {
            "text/html": [
              "<table style=\"width:100%\"><tr><th>Experiment</th><th>Id</th><th>Type</th><th>Status</th><th>Details Page</th><th>Docs Page</th></tr><tr><td>demo-experiment</td><td>AutoML_04dcdcf8-d9fd-42d2-a9f1-e4752e32d2b4</td><td>automl</td><td>NotStarted</td><td><a href=\"https://ml.azure.com/runs/AutoML_04dcdcf8-d9fd-42d2-a9f1-e4752e32d2b4?wsid=/subscriptions/a0a76bad-11a1-4a2d-9887-97a29122c8ed/resourcegroups/aml-quickstarts-164567/workspaces/quick-starts-ws-164567&amp;tid=660b3398-b80e-49d2-bc5b-ac1dc93b5254\" target=\"_blank\" rel=\"noopener\">Link to Azure Machine Learning studio</a></td><td><a href=\"https://docs.microsoft.com/en-us/python/api/overview/azure/ml/intro?view=azure-ml-py\" target=\"_blank\" rel=\"noopener\">Link to Documentation</a></td></tr></table>"
            ],
            "text/plain": [
              "<IPython.core.display.HTML object>"
            ]
          },
          "metadata": {},
          "output_type": "display_data"
        }
      ],
      "source": [
        "remote_run = experiment.submit(automl_config, show_output=True)"
      ]
    },
    {
      "cell_type": "markdown",
      "metadata": {},
      "source": [
        "## Run Details"
      ]
    },
    {
      "cell_type": "code",
      "execution_count": 31,
      "metadata": {
        "gather": {
          "logged": 1638104133218
        },
        "jupyter": {
          "outputs_hidden": false,
          "source_hidden": false
        },
        "nteract": {
          "transient": {
            "deleting": false
          }
        }
      },
      "outputs": [
        {
          "data": {
            "application/vnd.jupyter.widget-view+json": {
              "model_id": "2e0606ad163d4932974d92750a8ba2a0",
              "version_major": 2,
              "version_minor": 0
            },
            "text/plain": [
              "_AutoMLWidget(widget_settings={'childWidgetDisplay': 'popup', 'send_telemetry': False, 'log_level': 'INFO', 's…"
            ]
          },
          "metadata": {},
          "output_type": "display_data"
        },
        {
          "data": {
            "application/aml.mini.widget.v1": "{\"status\": \"Completed\", \"workbench_run_details_uri\": \"https://ml.azure.com/runs/AutoML_04dcdcf8-d9fd-42d2-a9f1-e4752e32d2b4?wsid=/subscriptions/a0a76bad-11a1-4a2d-9887-97a29122c8ed/resourcegroups/aml-quickstarts-164567/workspaces/quick-starts-ws-164567&tid=660b3398-b80e-49d2-bc5b-ac1dc93b5254\", \"run_id\": \"AutoML_04dcdcf8-d9fd-42d2-a9f1-e4752e32d2b4\", \"run_properties\": {\"run_id\": \"AutoML_04dcdcf8-d9fd-42d2-a9f1-e4752e32d2b4\", \"created_utc\": \"2021-11-28T12:52:32.266022Z\", \"properties\": {\"num_iterations\": \"1000\", \"training_type\": \"TrainFull\", \"acquisition_function\": \"EI\", \"primary_metric\": \"normalized_root_mean_squared_error\", \"train_split\": \"0\", \"acquisition_parameter\": \"0\", \"num_cross_validation\": \"3\", \"target\": \"demo-cluster\", \"AMLSettingsJsonString\": \"{\\\"path\\\":null,\\\"name\\\":\\\"demo-experiment\\\",\\\"subscription_id\\\":\\\"a0a76bad-11a1-4a2d-9887-97a29122c8ed\\\",\\\"resource_group\\\":\\\"aml-quickstarts-164567\\\",\\\"workspace_name\\\":\\\"quick-starts-ws-164567\\\",\\\"region\\\":\\\"southcentralus\\\",\\\"compute_target\\\":\\\"demo-cluster\\\",\\\"spark_service\\\":null,\\\"azure_service\\\":\\\"remote\\\",\\\"many_models\\\":false,\\\"pipeline_fetch_max_batch_size\\\":1,\\\"enable_batch_run\\\":false,\\\"enable_run_restructure\\\":false,\\\"start_auxiliary_runs_before_parent_complete\\\":false,\\\"enable_code_generation\\\":false,\\\"iterations\\\":1000,\\\"primary_metric\\\":\\\"normalized_root_mean_squared_error\\\",\\\"task_type\\\":\\\"regression\\\",\\\"data_script\\\":null,\\\"test_size\\\":0.0,\\\"test_include_predictions_only\\\":false,\\\"validation_size\\\":0.0,\\\"n_cross_validations\\\":3,\\\"y_min\\\":null,\\\"y_max\\\":null,\\\"num_classes\\\":null,\\\"featurization\\\":\\\"auto\\\",\\\"_ignore_package_version_incompatibilities\\\":false,\\\"is_timeseries\\\":false,\\\"max_cores_per_iteration\\\":1,\\\"max_concurrent_iterations\\\":5,\\\"iteration_timeout_minutes\\\":null,\\\"mem_in_mb\\\":null,\\\"enforce_time_on_windows\\\":false,\\\"experiment_timeout_minutes\\\":20,\\\"experiment_exit_score\\\":null,\\\"whitelist_models\\\":null,\\\"blacklist_algos\\\":[\\\"TensorFlowDNN\\\",\\\"TensorFlowLinearRegressor\\\"],\\\"supported_models\\\":[\\\"DecisionTree\\\",\\\"OnlineGradientDescentRegressor\\\",\\\"LassoLars\\\",\\\"XGBoostRegressor\\\",\\\"RandomForest\\\",\\\"KNN\\\",\\\"GradientBoosting\\\",\\\"LightGBM\\\",\\\"ElasticNet\\\",\\\"TensorFlowLinearRegressor\\\",\\\"FastLinearRegressor\\\",\\\"TensorFlowDNN\\\",\\\"ExtremeRandomTrees\\\",\\\"SGD\\\"],\\\"private_models\\\":[],\\\"auto_blacklist\\\":true,\\\"blacklist_samples_reached\\\":false,\\\"exclude_nan_labels\\\":true,\\\"verbosity\\\":20,\\\"_debug_log\\\":\\\"azureml_automl.log\\\",\\\"show_warnings\\\":false,\\\"model_explainability\\\":true,\\\"service_url\\\":null,\\\"sdk_url\\\":null,\\\"sdk_packages\\\":null,\\\"enable_onnx_compatible_models\\\":false,\\\"enable_split_onnx_featurizer_estimator_models\\\":false,\\\"vm_type\\\":\\\"STANDARD_DS12_V2\\\",\\\"telemetry_verbosity\\\":20,\\\"send_telemetry\\\":true,\\\"enable_dnn\\\":false,\\\"scenario\\\":\\\"SDK-1.13.0\\\",\\\"environment_label\\\":null,\\\"save_mlflow\\\":false,\\\"force_text_dnn\\\":false,\\\"enable_feature_sweeping\\\":true,\\\"enable_early_stopping\\\":true,\\\"early_stopping_n_iters\\\":10,\\\"metrics\\\":null,\\\"enable_metric_confidence\\\":false,\\\"enable_ensembling\\\":true,\\\"enable_stack_ensembling\\\":true,\\\"ensemble_iterations\\\":15,\\\"enable_tf\\\":false,\\\"enable_subsampling\\\":null,\\\"subsample_seed\\\":null,\\\"enable_nimbusml\\\":false,\\\"enable_streaming\\\":false,\\\"force_streaming\\\":false,\\\"track_child_runs\\\":true,\\\"allowed_private_models\\\":[],\\\"label_column_name\\\":\\\"charges\\\",\\\"weight_column_name\\\":null,\\\"cv_split_column_names\\\":null,\\\"positive_label\\\":null,\\\"enable_local_managed\\\":false,\\\"_local_managed_run_id\\\":null,\\\"cost_mode\\\":1,\\\"lag_length\\\":0,\\\"metric_operation\\\":\\\"minimize\\\",\\\"preprocess\\\":true}\", \"DataPrepJsonString\": \"{\\\\\\\"training_data\\\\\\\": {\\\\\\\"datasetId\\\\\\\": \\\\\\\"8be007a6-a734-48cd-8423-423d484e582e\\\\\\\"}, \\\\\\\"datasets\\\\\\\": 0}\", \"EnableSubsampling\": null, \"runTemplate\": \"AutoML\", \"azureml.runsource\": \"automl\", \"display_task_type\": \"regression\", \"dependencies_versions\": \"{\\\"azureml-widgets\\\": \\\"1.34.0\\\", \\\"azureml-train\\\": \\\"1.34.0\\\", \\\"azureml-train-restclients-hyperdrive\\\": \\\"1.34.0\\\", \\\"azureml-train-core\\\": \\\"1.34.0\\\", \\\"azureml-train-automl\\\": \\\"1.34.0\\\", \\\"azureml-train-automl-runtime\\\": \\\"1.34.0\\\", \\\"azureml-train-automl-client\\\": \\\"1.34.0\\\", \\\"azureml-tensorboard\\\": \\\"1.34.0\\\", \\\"azureml-telemetry\\\": \\\"1.34.0\\\", \\\"azureml-sdk\\\": \\\"1.34.0\\\", \\\"azureml-samples\\\": \\\"0+unknown\\\", \\\"azureml-responsibleai\\\": \\\"1.34.0\\\", \\\"azureml-pipeline\\\": \\\"1.34.0\\\", \\\"azureml-pipeline-steps\\\": \\\"1.34.0\\\", \\\"azureml-pipeline-core\\\": \\\"1.34.0\\\", \\\"azureml-opendatasets\\\": \\\"1.34.0\\\", \\\"azureml-mlflow\\\": \\\"1.34.0\\\", \\\"azureml-interpret\\\": \\\"1.34.0\\\", \\\"azureml-inference-server-http\\\": \\\"0.3.1\\\", \\\"azureml-explain-model\\\": \\\"1.34.0\\\", \\\"azureml-defaults\\\": \\\"1.34.0\\\", \\\"azureml-dataset-runtime\\\": \\\"1.34.0\\\", \\\"azureml-dataprep\\\": \\\"2.22.2\\\", \\\"azureml-dataprep-rslex\\\": \\\"1.20.1\\\", \\\"azureml-dataprep-native\\\": \\\"38.0.0\\\", \\\"azureml-datadrift\\\": \\\"1.34.0\\\", \\\"azureml-core\\\": \\\"1.34.0\\\", \\\"azureml-contrib-services\\\": \\\"1.34.0\\\", \\\"azureml-contrib-server\\\": \\\"1.34.0\\\", \\\"azureml-contrib-reinforcementlearning\\\": \\\"1.34.0\\\", \\\"azureml-contrib-pipeline-steps\\\": \\\"1.34.0\\\", \\\"azureml-contrib-notebook\\\": \\\"1.34.0\\\", \\\"azureml-contrib-fairness\\\": \\\"1.34.0\\\", \\\"azureml-contrib-dataset\\\": \\\"1.34.0\\\", \\\"azureml-contrib-automl-pipeline-steps\\\": \\\"1.34.0\\\", \\\"azureml-cli-common\\\": \\\"1.34.0\\\", \\\"azureml-automl-runtime\\\": \\\"1.34.0\\\", \\\"azureml-automl-dnn-nlp\\\": \\\"1.34.0\\\", \\\"azureml-automl-core\\\": \\\"1.34.0\\\", \\\"azureml-accel-models\\\": \\\"1.34.0\\\"}\", \"_aml_system_scenario_identification\": \"Remote.Parent\", \"ClientType\": \"SDK\", \"environment_cpu_name\": \"AzureML-AutoML\", \"environment_cpu_label\": \"prod\", \"environment_gpu_name\": \"AzureML-AutoML-GPU\", \"environment_gpu_label\": \"prod\", \"root_attribution\": \"automl\", \"attribution\": \"AutoML\", \"Orchestrator\": \"AutoML\", \"CancelUri\": \"https://southcentralus.api.azureml.ms/jasmine/v1.0/subscriptions/a0a76bad-11a1-4a2d-9887-97a29122c8ed/resourceGroups/aml-quickstarts-164567/providers/Microsoft.MachineLearningServices/workspaces/quick-starts-ws-164567/experimentids/cee22267-c9c7-41c4-80cc-6aad44bcbb1f/cancel/AutoML_04dcdcf8-d9fd-42d2-a9f1-e4752e32d2b4\", \"ClientSdkVersion\": \"1.35.1\", \"snapshotId\": \"00000000-0000-0000-0000-000000000000\", \"SetupRunId\": \"AutoML_04dcdcf8-d9fd-42d2-a9f1-e4752e32d2b4_setup\", \"SetupRunContainerId\": \"dcid.AutoML_04dcdcf8-d9fd-42d2-a9f1-e4752e32d2b4_setup\", \"FeaturizationRunJsonPath\": \"featurizer_container.json\", \"FeaturizationRunId\": \"AutoML_04dcdcf8-d9fd-42d2-a9f1-e4752e32d2b4_featurize\", \"ProblemInfoJsonString\": \"{\\\"dataset_num_categorical\\\": 0, \\\"is_sparse\\\": true, \\\"subsampling\\\": false, \\\"has_extra_col\\\": true, \\\"dataset_classes\\\": 1337, \\\"dataset_features\\\": 60, \\\"dataset_samples\\\": 1338, \\\"single_frequency_class_detected\\\": false}\", \"ModelExplainRunId\": \"AutoML_04dcdcf8-d9fd-42d2-a9f1-e4752e32d2b4_ModelExplain\"}, \"tags\": {\"model_explain_run\": \"best_run\", \"_aml_system_azureml.automlComponent\": \"AutoML\", \"pipeline_id\": \"\", \"score\": \"\", \"predicted_cost\": \"\", \"fit_time\": \"\", \"training_percent\": \"\", \"iteration\": \"\", \"run_preprocessor\": \"\", \"run_algorithm\": \"\", \"dynamic_whitelisting_iterations\": \"<24>;<30>;<35>;\", \"_aml_system_azureml.automl_early_exit_message\": \"No scores improved over last 20 iterations, so experiment stopped early. This early stopping behavior can be disabled by setting enable_early_stopping = False in AutoMLConfig for notebook/python SDK runs.\", \"automl_best_child_run_id\": \"AutoML_04dcdcf8-d9fd-42d2-a9f1-e4752e32d2b4_38\", \"model_explain_best_run_child_id\": \"AutoML_04dcdcf8-d9fd-42d2-a9f1-e4752e32d2b4_38\"}, \"end_time_utc\": \"2021-11-28T13:06:54.801515Z\", \"status\": \"Completed\", \"log_files\": {}, \"log_groups\": [], \"run_duration\": \"0:14:22\", \"run_number\": \"1\", \"run_queued_details\": {\"status\": \"Completed\", \"details\": null}}, \"child_runs\": [{\"run_id\": \"AutoML_04dcdcf8-d9fd-42d2-a9f1-e4752e32d2b4_setup\", \"run_number\": 2, \"metric\": null, \"status\": \"Completed\", \"run_type\": \"azureml.scriptrun\", \"training_percent\": null, \"start_time\": \"2021-11-28T12:52:45.57542Z\", \"end_time\": \"2021-11-28T12:54:01.519399Z\", \"created_time\": \"2021-11-28T12:52:45.57542Z\", \"created_time_dt\": \"2021-11-28T12:52:45.57542Z\", \"duration\": \"0:01:15\", \"iteration\": null, \"goal\": null, \"run_name\": \"Completed\", \"run_properties\": null}, {\"run_id\": \"AutoML_04dcdcf8-d9fd-42d2-a9f1-e4752e32d2b4_featurize\", \"run_number\": 3, \"metric\": null, \"status\": \"Completed\", \"run_type\": \"automl.featurization\", \"training_percent\": null, \"start_time\": \"2021-11-28T12:54:02.461082Z\", \"end_time\": \"2021-11-28T12:54:36.356364Z\", \"created_time\": \"2021-11-28T12:54:02.019645Z\", \"created_time_dt\": \"2021-11-28T12:54:02.019645Z\", \"duration\": \"0:00:34\", \"iteration\": null, \"goal\": null, \"run_name\": \"Completed\", \"run_properties\": null}, {\"run_id\": \"AutoML_04dcdcf8-d9fd-42d2-a9f1-e4752e32d2b4_0\", \"run_number\": 5, \"metric\": null, \"status\": \"Completed\", \"run_type\": \"azureml.scriptrun\", \"training_percent\": \"100\", \"start_time\": \"2021-11-28T12:54:37.469857Z\", \"end_time\": \"2021-11-28T12:55:25.905275Z\", \"created_time\": \"2021-11-28T12:54:37.469857Z\", \"created_time_dt\": \"2021-11-28T12:54:37.469857Z\", \"duration\": \"0:00:48\", \"iteration\": \"0\", \"goal\": \"normalized_root_mean_squared_error_min\", \"run_name\": \"MaxAbsScaler, LightGBM\", \"run_properties\": \"copy=True\", \"primary_metric\": 0.0953899, \"best_metric\": 0.0953899}, {\"run_id\": \"AutoML_04dcdcf8-d9fd-42d2-a9f1-e4752e32d2b4_1\", \"run_number\": 6, \"metric\": null, \"status\": \"Completed\", \"run_type\": \"azureml.scriptrun\", \"training_percent\": \"100\", \"start_time\": \"2021-11-28T12:54:37.491468Z\", \"end_time\": \"2021-11-28T12:57:11.044102Z\", \"created_time\": \"2021-11-28T12:54:37.491468Z\", \"created_time_dt\": \"2021-11-28T12:54:37.491468Z\", \"duration\": \"0:02:33\", \"iteration\": \"1\", \"goal\": \"normalized_root_mean_squared_error_min\", \"run_name\": \"MaxAbsScaler, XGBoostRegressor\", \"run_properties\": \"copy=True\", \"primary_metric\": 0.07855172, \"best_metric\": 0.07855172}, {\"run_id\": \"AutoML_04dcdcf8-d9fd-42d2-a9f1-e4752e32d2b4_4\", \"run_number\": 7, \"metric\": null, \"status\": \"Completed\", \"run_type\": \"azureml.scriptrun\", \"training_percent\": \"100\", \"start_time\": \"2021-11-28T12:54:37.496946Z\", \"end_time\": \"2021-11-28T12:55:01.877154Z\", \"created_time\": \"2021-11-28T12:54:37.496946Z\", \"created_time_dt\": \"2021-11-28T12:54:37.496946Z\", \"duration\": \"0:00:24\", \"iteration\": \"4\", \"goal\": \"normalized_root_mean_squared_error_min\", \"run_name\": \"MaxAbsScaler, ElasticNet\", \"run_properties\": \"copy=True\", \"primary_metric\": 0.0984943, \"best_metric\": 0.07855172}, {\"run_id\": \"AutoML_04dcdcf8-d9fd-42d2-a9f1-e4752e32d2b4_3\", \"run_number\": 8, \"metric\": null, \"status\": \"Completed\", \"run_type\": \"azureml.scriptrun\", \"training_percent\": \"100\", \"start_time\": \"2021-11-28T12:54:37.524198Z\", \"end_time\": \"2021-11-28T12:56:20.533958Z\", \"created_time\": \"2021-11-28T12:54:37.524198Z\", \"created_time_dt\": \"2021-11-28T12:54:37.524198Z\", \"duration\": \"0:01:43\", \"iteration\": \"3\", \"goal\": \"normalized_root_mean_squared_error_min\", \"run_name\": \"StandardScalerWrapper, ElasticNet\", \"run_properties\": \"\\n    copy=True,\\n    with_mean=False,\\n    with_std=True\\n\", \"primary_metric\": 0.09853566, \"best_metric\": 0.07855172}, {\"run_id\": \"AutoML_04dcdcf8-d9fd-42d2-a9f1-e4752e32d2b4_2\", \"run_number\": 9, \"metric\": null, \"status\": \"Completed\", \"run_type\": \"azureml.scriptrun\", \"training_percent\": \"100\", \"start_time\": \"2021-11-28T12:54:37.494Z\", \"end_time\": \"2021-11-28T12:55:53.075876Z\", \"created_time\": \"2021-11-28T12:54:37.494Z\", \"created_time_dt\": \"2021-11-28T12:54:37.494Z\", \"duration\": \"0:01:15\", \"iteration\": \"2\", \"goal\": \"normalized_root_mean_squared_error_min\", \"run_name\": \"MaxAbsScaler, ElasticNet\", \"run_properties\": \"copy=True\", \"primary_metric\": 0.09845777, \"best_metric\": 0.07855172}, {\"run_id\": \"AutoML_04dcdcf8-d9fd-42d2-a9f1-e4752e32d2b4_5\", \"run_number\": 10, \"metric\": null, \"status\": \"Completed\", \"run_type\": \"azureml.scriptrun\", \"training_percent\": \"100\", \"start_time\": \"2021-11-28T12:55:04.766323Z\", \"end_time\": \"2021-11-28T12:56:44.500703Z\", \"created_time\": \"2021-11-28T12:55:04.766323Z\", \"created_time_dt\": \"2021-11-28T12:55:04.766323Z\", \"duration\": \"0:01:39\", \"iteration\": \"5\", \"goal\": \"normalized_root_mean_squared_error_min\", \"run_name\": \"MaxAbsScaler, ElasticNet\", \"run_properties\": \"copy=True\", \"primary_metric\": 0.09853618, \"best_metric\": 0.07855172}, {\"run_id\": \"AutoML_04dcdcf8-d9fd-42d2-a9f1-e4752e32d2b4_6\", \"run_number\": 11, \"metric\": null, \"status\": \"Completed\", \"run_type\": \"azureml.scriptrun\", \"training_percent\": \"100\", \"start_time\": \"2021-11-28T12:55:28.770344Z\", \"end_time\": \"2021-11-28T12:58:09.227575Z\", \"created_time\": \"2021-11-28T12:55:28.770344Z\", \"created_time_dt\": \"2021-11-28T12:55:28.770344Z\", \"duration\": \"0:02:40\", \"iteration\": \"6\", \"goal\": \"normalized_root_mean_squared_error_min\", \"run_name\": \"MaxAbsScaler, ExtremeRandomTrees\", \"run_properties\": \"copy=True\", \"primary_metric\": 0.08549266, \"best_metric\": 0.07855172}, {\"run_id\": \"AutoML_04dcdcf8-d9fd-42d2-a9f1-e4752e32d2b4_7\", \"run_number\": 12, \"metric\": null, \"status\": \"Completed\", \"run_type\": \"azureml.scriptrun\", \"training_percent\": \"100\", \"start_time\": \"2021-11-28T12:55:56.019339Z\", \"end_time\": \"2021-11-28T12:57:38.606881Z\", \"created_time\": \"2021-11-28T12:55:56.019339Z\", \"created_time_dt\": \"2021-11-28T12:55:56.019339Z\", \"duration\": \"0:01:42\", \"iteration\": \"7\", \"goal\": \"normalized_root_mean_squared_error_min\", \"run_name\": \"StandardScalerWrapper, ElasticNet\", \"run_properties\": \"\\n    copy=True,\\n    with_mean=False,\\n    with_std=True\\n\", \"primary_metric\": 0.09853418, \"best_metric\": 0.07855172}, {\"run_id\": \"AutoML_04dcdcf8-d9fd-42d2-a9f1-e4752e32d2b4_8\", \"run_number\": 13, \"metric\": null, \"status\": \"Completed\", \"run_type\": \"azureml.scriptrun\", \"training_percent\": \"100\", \"start_time\": \"2021-11-28T12:56:23.781915Z\", \"end_time\": \"2021-11-28T12:58:11.638603Z\", \"created_time\": \"2021-11-28T12:56:23.781915Z\", \"created_time_dt\": \"2021-11-28T12:56:23.781915Z\", \"duration\": \"0:01:47\", \"iteration\": \"8\", \"goal\": \"normalized_root_mean_squared_error_min\", \"run_name\": \"StandardScalerWrapper, ElasticNet\", \"run_properties\": \"\\n    copy=True,\\n    with_mean=False,\\n    with_std=True\\n\", \"primary_metric\": 0.09853377, \"best_metric\": 0.07855172}, {\"run_id\": \"AutoML_04dcdcf8-d9fd-42d2-a9f1-e4752e32d2b4_9\", \"run_number\": 14, \"metric\": null, \"status\": \"Completed\", \"run_type\": \"azureml.scriptrun\", \"training_percent\": \"100\", \"start_time\": \"2021-11-28T12:56:47.633566Z\", \"end_time\": \"2021-11-28T12:58:05.383405Z\", \"created_time\": \"2021-11-28T12:56:47.633566Z\", \"created_time_dt\": \"2021-11-28T12:56:47.633566Z\", \"duration\": \"0:01:17\", \"iteration\": \"9\", \"goal\": \"normalized_root_mean_squared_error_min\", \"run_name\": \"StandardScalerWrapper, ElasticNet\", \"run_properties\": \"\\n    copy=True,\\n    with_mean=False,\\n    with_std=False\\n\", \"primary_metric\": 0.15808442, \"best_metric\": 0.07855172}, {\"run_id\": \"AutoML_04dcdcf8-d9fd-42d2-a9f1-e4752e32d2b4_10\", \"run_number\": 15, \"metric\": null, \"status\": \"Completed\", \"run_type\": \"azureml.scriptrun\", \"training_percent\": \"100\", \"start_time\": \"2021-11-28T12:57:14.084236Z\", \"end_time\": \"2021-11-28T12:58:30.065129Z\", \"created_time\": \"2021-11-28T12:57:14.084236Z\", \"created_time_dt\": \"2021-11-28T12:57:14.084236Z\", \"duration\": \"0:01:15\", \"iteration\": \"10\", \"goal\": \"normalized_root_mean_squared_error_min\", \"run_name\": \"MaxAbsScaler, RandomForest\", \"run_properties\": \"copy=True\", \"primary_metric\": 0.10500613, \"best_metric\": 0.07855172}, {\"run_id\": \"AutoML_04dcdcf8-d9fd-42d2-a9f1-e4752e32d2b4_11\", \"run_number\": 16, \"metric\": null, \"status\": \"Completed\", \"run_type\": \"azureml.scriptrun\", \"training_percent\": \"100\", \"start_time\": \"2021-11-28T12:57:41.830003Z\", \"end_time\": \"2021-11-28T12:58:35.435278Z\", \"created_time\": \"2021-11-28T12:57:41.830003Z\", \"created_time_dt\": \"2021-11-28T12:57:41.830003Z\", \"duration\": \"0:00:53\", \"iteration\": \"11\", \"goal\": \"normalized_root_mean_squared_error_min\", \"run_name\": \"StandardScalerWrapper, ElasticNet\", \"run_properties\": \"\\n    copy=True,\\n    with_mean=False,\\n    with_std=False\\n\", \"primary_metric\": 0.12184572, \"best_metric\": 0.07855172}, {\"run_id\": \"AutoML_04dcdcf8-d9fd-42d2-a9f1-e4752e32d2b4_12\", \"run_number\": 17, \"metric\": null, \"status\": \"Completed\", \"run_type\": \"azureml.scriptrun\", \"training_percent\": \"100\", \"start_time\": \"2021-11-28T12:58:08.467926Z\", \"end_time\": \"2021-11-28T12:59:10.855376Z\", \"created_time\": \"2021-11-28T12:58:08.467926Z\", \"created_time_dt\": \"2021-11-28T12:58:08.467926Z\", \"duration\": \"0:01:02\", \"iteration\": \"12\", \"goal\": \"normalized_root_mean_squared_error_min\", \"run_name\": \"StandardScalerWrapper, ElasticNet\", \"run_properties\": \"\\n    copy=True,\\n    with_mean=False,\\n    with_std=False\\n\", \"primary_metric\": 0.10434266, \"best_metric\": 0.07855172}, {\"run_id\": \"AutoML_04dcdcf8-d9fd-42d2-a9f1-e4752e32d2b4_13\", \"run_number\": 18, \"metric\": null, \"status\": \"Completed\", \"run_type\": \"azureml.scriptrun\", \"training_percent\": \"100\", \"start_time\": \"2021-11-28T12:58:12.600467Z\", \"end_time\": \"2021-11-28T12:59:11.282963Z\", \"created_time\": \"2021-11-28T12:58:12.600467Z\", \"created_time_dt\": \"2021-11-28T12:58:12.600467Z\", \"duration\": \"0:00:58\", \"iteration\": \"13\", \"goal\": \"normalized_root_mean_squared_error_min\", \"run_name\": \"StandardScalerWrapper, ElasticNet\", \"run_properties\": \"\\n    copy=True,\\n    with_mean=False,\\n    with_std=True\\n\", \"primary_metric\": 0.09853418, \"best_metric\": 0.07855172}, {\"run_id\": \"AutoML_04dcdcf8-d9fd-42d2-a9f1-e4752e32d2b4_14\", \"run_number\": 19, \"metric\": null, \"status\": \"Completed\", \"run_type\": \"azureml.scriptrun\", \"training_percent\": \"100\", \"start_time\": \"2021-11-28T12:58:16.770526Z\", \"end_time\": \"2021-11-28T12:59:10.786779Z\", \"created_time\": \"2021-11-28T12:58:16.770526Z\", \"created_time_dt\": \"2021-11-28T12:58:16.770526Z\", \"duration\": \"0:00:54\", \"iteration\": \"14\", \"goal\": \"normalized_root_mean_squared_error_min\", \"run_name\": \"StandardScalerWrapper, ElasticNet\", \"run_properties\": \"\\n    copy=True,\\n    with_mean=False,\\n    with_std=True\\n\", \"primary_metric\": 0.10407803, \"best_metric\": 0.07855172}, {\"run_id\": \"AutoML_04dcdcf8-d9fd-42d2-a9f1-e4752e32d2b4_15\", \"run_number\": 20, \"metric\": null, \"status\": \"Completed\", \"run_type\": \"azureml.scriptrun\", \"training_percent\": \"100\", \"start_time\": \"2021-11-28T12:58:33.446068Z\", \"end_time\": \"2021-11-28T13:00:17.427249Z\", \"created_time\": \"2021-11-28T12:58:33.446068Z\", \"created_time_dt\": \"2021-11-28T12:58:33.446068Z\", \"duration\": \"0:01:43\", \"iteration\": \"15\", \"goal\": \"normalized_root_mean_squared_error_min\", \"run_name\": \"StandardScalerWrapper, ElasticNet\", \"run_properties\": \"\\n    copy=True,\\n    with_mean=False,\\n    with_std=True\\n\", \"primary_metric\": 0.0985194, \"best_metric\": 0.07855172}, {\"run_id\": \"AutoML_04dcdcf8-d9fd-42d2-a9f1-e4752e32d2b4_16\", \"run_number\": 21, \"metric\": null, \"status\": \"Completed\", \"run_type\": \"azureml.scriptrun\", \"training_percent\": \"100\", \"start_time\": \"2021-11-28T12:58:38.482802Z\", \"end_time\": \"2021-11-28T12:59:43.158423Z\", \"created_time\": \"2021-11-28T12:58:38.482802Z\", \"created_time_dt\": \"2021-11-28T12:58:38.482802Z\", \"duration\": \"0:01:04\", \"iteration\": \"16\", \"goal\": \"normalized_root_mean_squared_error_min\", \"run_name\": \"StandardScalerWrapper, DecisionTree\", \"run_properties\": \"\\n    copy=True,\\n    with_mean=False,\\n    with_std=False\\n\", \"primary_metric\": 0.09218615, \"best_metric\": 0.07855172}, {\"run_id\": \"AutoML_04dcdcf8-d9fd-42d2-a9f1-e4752e32d2b4_17\", \"run_number\": 22, \"metric\": null, \"status\": \"Completed\", \"run_type\": \"azureml.scriptrun\", \"training_percent\": \"100\", \"start_time\": \"2021-11-28T12:59:13.803549Z\", \"end_time\": \"2021-11-28T13:01:11.884208Z\", \"created_time\": \"2021-11-28T12:59:13.803549Z\", \"created_time_dt\": \"2021-11-28T12:59:13.803549Z\", \"duration\": \"0:01:58\", \"iteration\": \"17\", \"goal\": \"normalized_root_mean_squared_error_min\", \"run_name\": \"StandardScalerWrapper, ElasticNet\", \"run_properties\": \"\\n    copy=True,\\n    with_mean=False,\\n    with_std=True\\n\", \"primary_metric\": 0.09854401, \"best_metric\": 0.07855172}, {\"run_id\": \"AutoML_04dcdcf8-d9fd-42d2-a9f1-e4752e32d2b4_18\", \"run_number\": 23, \"metric\": null, \"status\": \"Completed\", \"run_type\": \"azureml.scriptrun\", \"training_percent\": \"100\", \"start_time\": \"2021-11-28T12:59:13.820256Z\", \"end_time\": \"2021-11-28T13:00:31.092918Z\", \"created_time\": \"2021-11-28T12:59:13.820256Z\", \"created_time_dt\": \"2021-11-28T12:59:13.820256Z\", \"duration\": \"0:01:17\", \"iteration\": \"18\", \"goal\": \"normalized_root_mean_squared_error_min\", \"run_name\": \"MaxAbsScaler, DecisionTree\", \"run_properties\": \"copy=True\", \"primary_metric\": 0.08826986, \"best_metric\": 0.07855172}, {\"run_id\": \"AutoML_04dcdcf8-d9fd-42d2-a9f1-e4752e32d2b4_19\", \"run_number\": 24, \"metric\": null, \"status\": \"Completed\", \"run_type\": \"azureml.scriptrun\", \"training_percent\": \"100\", \"start_time\": \"2021-11-28T12:59:18.916381Z\", \"end_time\": \"2021-11-28T13:01:13.487689Z\", \"created_time\": \"2021-11-28T12:59:18.916381Z\", \"created_time_dt\": \"2021-11-28T12:59:18.916381Z\", \"duration\": \"0:01:54\", \"iteration\": \"19\", \"goal\": \"normalized_root_mean_squared_error_min\", \"run_name\": \"SparseNormalizer, XGBoostRegressor\", \"run_properties\": \"copy=True, norm='max'\", \"primary_metric\": 0.08314993, \"best_metric\": 0.07855172}, {\"run_id\": \"AutoML_04dcdcf8-d9fd-42d2-a9f1-e4752e32d2b4_20\", \"run_number\": 25, \"metric\": null, \"status\": \"Completed\", \"run_type\": \"azureml.scriptrun\", \"training_percent\": \"100\", \"start_time\": \"2021-11-28T12:59:46.237603Z\", \"end_time\": \"2021-11-28T13:01:12.703392Z\", \"created_time\": \"2021-11-28T12:59:46.237603Z\", \"created_time_dt\": \"2021-11-28T12:59:46.237603Z\", \"duration\": \"0:01:26\", \"iteration\": \"20\", \"goal\": \"normalized_root_mean_squared_error_min\", \"run_name\": \"StandardScalerWrapper, LightGBM\", \"run_properties\": \"\\n    copy=True,\\n    with_mean=False,\\n    with_std=True\\n\", \"primary_metric\": 0.08246069, \"best_metric\": 0.07855172}, {\"run_id\": \"AutoML_04dcdcf8-d9fd-42d2-a9f1-e4752e32d2b4_21\", \"run_number\": 26, \"metric\": null, \"status\": \"Completed\", \"run_type\": \"azureml.scriptrun\", \"training_percent\": \"100\", \"start_time\": \"2021-11-28T13:00:21.017587Z\", \"end_time\": \"2021-11-28T13:01:15.346061Z\", \"created_time\": \"2021-11-28T13:00:21.017587Z\", \"created_time_dt\": \"2021-11-28T13:00:21.017587Z\", \"duration\": \"0:00:54\", \"iteration\": \"21\", \"goal\": \"normalized_root_mean_squared_error_min\", \"run_name\": \"TruncatedSVDWrapper, ElasticNet\", \"run_properties\": \"n_components=0.8015789473684211, random_state=None\", \"primary_metric\": 0.10699461, \"best_metric\": 0.07855172}, {\"run_id\": \"AutoML_04dcdcf8-d9fd-42d2-a9f1-e4752e32d2b4_22\", \"run_number\": 27, \"metric\": null, \"status\": \"Completed\", \"run_type\": \"azureml.scriptrun\", \"training_percent\": \"100\", \"start_time\": \"2021-11-28T13:00:33.761994Z\", \"end_time\": \"2021-11-28T13:01:46.031929Z\", \"created_time\": \"2021-11-28T13:00:33.761994Z\", \"created_time_dt\": \"2021-11-28T13:00:33.761994Z\", \"duration\": \"0:01:12\", \"iteration\": \"22\", \"goal\": \"normalized_root_mean_squared_error_min\", \"run_name\": \"StandardScalerWrapper, ExtremeRandomTrees\", \"run_properties\": \"\\n    copy=True,\\n    with_mean=False,\\n    with_std=True\\n\", \"primary_metric\": 0.08245658, \"best_metric\": 0.07855172}, {\"run_id\": \"AutoML_04dcdcf8-d9fd-42d2-a9f1-e4752e32d2b4_23\", \"run_number\": 28, \"metric\": null, \"status\": \"Completed\", \"run_type\": \"azureml.scriptrun\", \"training_percent\": \"100\", \"start_time\": \"2021-11-28T13:01:14.373317Z\", \"end_time\": \"2021-11-28T13:02:38.953178Z\", \"created_time\": \"2021-11-28T13:01:14.373317Z\", \"created_time_dt\": \"2021-11-28T13:01:14.373317Z\", \"duration\": \"0:01:24\", \"iteration\": \"23\", \"goal\": \"normalized_root_mean_squared_error_min\", \"run_name\": \"StandardScalerWrapper, RandomForest\", \"run_properties\": \"\\n    copy=True,\\n    with_mean=False,\\n    with_std=False\\n\", \"primary_metric\": 0.09765283, \"best_metric\": 0.07855172}, {\"run_id\": \"AutoML_04dcdcf8-d9fd-42d2-a9f1-e4752e32d2b4_24\", \"run_number\": 29, \"metric\": null, \"status\": \"Completed\", \"run_type\": \"azureml.scriptrun\", \"training_percent\": \"100\", \"start_time\": \"2021-11-28T13:01:18.508115Z\", \"end_time\": \"2021-11-28T13:03:08.792798Z\", \"created_time\": \"2021-11-28T13:01:18.508115Z\", \"created_time_dt\": \"2021-11-28T13:01:18.508115Z\", \"duration\": \"0:01:50\", \"iteration\": \"24\", \"goal\": \"normalized_root_mean_squared_error_min\", \"run_name\": \"TruncatedSVDWrapper, XGBoostRegressor\", \"run_properties\": \"n_components=0.7026315789473684, random_state=None\", \"primary_metric\": 0.0896958, \"best_metric\": 0.07855172}, {\"run_id\": \"AutoML_04dcdcf8-d9fd-42d2-a9f1-e4752e32d2b4_25\", \"run_number\": 30, \"metric\": null, \"status\": \"Completed\", \"run_type\": \"azureml.scriptrun\", \"training_percent\": \"100\", \"start_time\": \"2021-11-28T13:01:18.521829Z\", \"end_time\": \"2021-11-28T13:03:13.091985Z\", \"created_time\": \"2021-11-28T13:01:18.521829Z\", \"created_time_dt\": \"2021-11-28T13:01:18.521829Z\", \"duration\": \"0:01:54\", \"iteration\": \"25\", \"goal\": \"normalized_root_mean_squared_error_min\", \"run_name\": \"MaxAbsScaler, GradientBoosting\", \"run_properties\": \"copy=True\", \"primary_metric\": 0.10860416, \"best_metric\": 0.07855172}, {\"run_id\": \"AutoML_04dcdcf8-d9fd-42d2-a9f1-e4752e32d2b4_26\", \"run_number\": 31, \"metric\": null, \"status\": \"Completed\", \"run_type\": \"azureml.scriptrun\", \"training_percent\": \"100\", \"start_time\": \"2021-11-28T13:01:18.530057Z\", \"end_time\": \"2021-11-28T13:03:08.32786Z\", \"created_time\": \"2021-11-28T13:01:18.530057Z\", \"created_time_dt\": \"2021-11-28T13:01:18.530057Z\", \"duration\": \"0:01:49\", \"iteration\": \"26\", \"goal\": \"normalized_root_mean_squared_error_min\", \"run_name\": \"MaxAbsScaler, ExtremeRandomTrees\", \"run_properties\": \"copy=True\", \"primary_metric\": 0.08450623, \"best_metric\": 0.07855172}, {\"run_id\": \"AutoML_04dcdcf8-d9fd-42d2-a9f1-e4752e32d2b4_27\", \"run_number\": 32, \"metric\": null, \"status\": \"Completed\", \"run_type\": \"azureml.scriptrun\", \"training_percent\": \"100\", \"start_time\": \"2021-11-28T13:01:48.016314Z\", \"end_time\": \"2021-11-28T13:03:17.608076Z\", \"created_time\": \"2021-11-28T13:01:48.016314Z\", \"created_time_dt\": \"2021-11-28T13:01:48.016314Z\", \"duration\": \"0:01:29\", \"iteration\": \"27\", \"goal\": \"normalized_root_mean_squared_error_min\", \"run_name\": \"MaxAbsScaler, ExtremeRandomTrees\", \"run_properties\": \"copy=True\", \"primary_metric\": 0.08845964, \"best_metric\": 0.07855172}, {\"run_id\": \"AutoML_04dcdcf8-d9fd-42d2-a9f1-e4752e32d2b4_28\", \"run_number\": 33, \"metric\": null, \"status\": \"Completed\", \"run_type\": \"azureml.scriptrun\", \"training_percent\": \"100\", \"start_time\": \"2021-11-28T13:02:41.015214Z\", \"end_time\": \"2021-11-28T13:03:44.933583Z\", \"created_time\": \"2021-11-28T13:02:41.015214Z\", \"created_time_dt\": \"2021-11-28T13:02:41.015214Z\", \"duration\": \"0:01:03\", \"iteration\": \"28\", \"goal\": \"normalized_root_mean_squared_error_min\", \"run_name\": \"MaxAbsScaler, ExtremeRandomTrees\", \"run_properties\": \"copy=True\", \"primary_metric\": 0.08500768, \"best_metric\": 0.07855172}, {\"run_id\": \"AutoML_04dcdcf8-d9fd-42d2-a9f1-e4752e32d2b4_29\", \"run_number\": 34, \"metric\": null, \"status\": \"Completed\", \"run_type\": \"azureml.scriptrun\", \"training_percent\": \"100\", \"start_time\": \"2021-11-28T13:03:10.914383Z\", \"end_time\": \"2021-11-28T13:04:43.309227Z\", \"created_time\": \"2021-11-28T13:03:10.914383Z\", \"created_time_dt\": \"2021-11-28T13:03:10.914383Z\", \"duration\": \"0:01:32\", \"iteration\": \"29\", \"goal\": \"normalized_root_mean_squared_error_min\", \"run_name\": \"MaxAbsScaler, RandomForest\", \"run_properties\": \"copy=True\", \"primary_metric\": 0.08297758, \"best_metric\": 0.07855172}, {\"run_id\": \"AutoML_04dcdcf8-d9fd-42d2-a9f1-e4752e32d2b4_30\", \"run_number\": 35, \"metric\": null, \"status\": \"Completed\", \"run_type\": \"azureml.scriptrun\", \"training_percent\": \"100\", \"start_time\": \"2021-11-28T13:03:15.227007Z\", \"end_time\": \"2021-11-28T13:05:09.149849Z\", \"created_time\": \"2021-11-28T13:03:15.227007Z\", \"created_time_dt\": \"2021-11-28T13:03:15.227007Z\", \"duration\": \"0:01:53\", \"iteration\": \"30\", \"goal\": \"normalized_root_mean_squared_error_min\", \"run_name\": \"StandardScalerWrapper, XGBoostRegressor\", \"run_properties\": \"\\n    copy=True,\\n    with_mean=False,\\n    with_std=False\\n\", \"primary_metric\": 0.0797619, \"best_metric\": 0.07855172}, {\"run_id\": \"AutoML_04dcdcf8-d9fd-42d2-a9f1-e4752e32d2b4_31\", \"run_number\": 36, \"metric\": null, \"status\": \"Completed\", \"run_type\": \"azureml.scriptrun\", \"training_percent\": \"100\", \"start_time\": \"2021-11-28T13:03:18.207654Z\", \"end_time\": \"2021-11-28T13:05:10.085233Z\", \"created_time\": \"2021-11-28T13:03:18.207654Z\", \"created_time_dt\": \"2021-11-28T13:03:18.207654Z\", \"duration\": \"0:01:51\", \"iteration\": \"31\", \"goal\": \"normalized_root_mean_squared_error_min\", \"run_name\": \"MaxAbsScaler, ExtremeRandomTrees\", \"run_properties\": \"copy=True\", \"primary_metric\": 0.12812885, \"best_metric\": 0.07855172}, {\"run_id\": \"AutoML_04dcdcf8-d9fd-42d2-a9f1-e4752e32d2b4_32\", \"run_number\": 37, \"metric\": null, \"status\": \"Completed\", \"run_type\": \"azureml.scriptrun\", \"training_percent\": \"100\", \"start_time\": \"2021-11-28T13:03:28.43208Z\", \"end_time\": \"2021-11-28T13:05:14.577589Z\", \"created_time\": \"2021-11-28T13:03:28.43208Z\", \"created_time_dt\": \"2021-11-28T13:03:28.43208Z\", \"duration\": \"0:01:46\", \"iteration\": \"32\", \"goal\": \"normalized_root_mean_squared_error_min\", \"run_name\": \"MaxAbsScaler, ExtremeRandomTrees\", \"run_properties\": \"copy=True\", \"primary_metric\": 0.10044317, \"best_metric\": 0.07855172}, {\"run_id\": \"AutoML_04dcdcf8-d9fd-42d2-a9f1-e4752e32d2b4_33\", \"run_number\": 38, \"metric\": null, \"status\": \"Completed\", \"run_type\": \"azureml.scriptrun\", \"training_percent\": \"100\", \"start_time\": \"2021-11-28T13:03:46.981214Z\", \"end_time\": \"2021-11-28T13:05:16.308806Z\", \"created_time\": \"2021-11-28T13:03:46.981214Z\", \"created_time_dt\": \"2021-11-28T13:03:46.981214Z\", \"duration\": \"0:01:29\", \"iteration\": \"33\", \"goal\": \"normalized_root_mean_squared_error_min\", \"run_name\": \"MaxAbsScaler, LightGBM\", \"run_properties\": \"copy=True\", \"primary_metric\": 0.08300349, \"best_metric\": 0.07855172}, {\"run_id\": \"AutoML_04dcdcf8-d9fd-42d2-a9f1-e4752e32d2b4_34\", \"run_number\": 39, \"metric\": null, \"status\": \"Canceled\", \"run_type\": \"azureml.scriptrun\", \"training_percent\": \"100\", \"start_time\": \"2021-11-28T13:04:45.264949Z\", \"end_time\": \"2021-11-28T13:05:17.608118Z\", \"created_time\": \"2021-11-28T13:04:45.264949Z\", \"created_time_dt\": \"2021-11-28T13:04:45.264949Z\", \"duration\": \"0:00:32\", \"iteration\": \"34\", \"goal\": null, \"run_name\": \"Canceled\", \"run_properties\": null}, {\"run_id\": \"AutoML_04dcdcf8-d9fd-42d2-a9f1-e4752e32d2b4_35\", \"run_number\": 40, \"metric\": null, \"status\": \"Canceled\", \"run_type\": \"azureml.scriptrun\", \"training_percent\": \"100\", \"start_time\": \"2021-11-28T13:05:12.175837Z\", \"end_time\": \"2021-11-28T13:05:17.634028Z\", \"created_time\": \"2021-11-28T13:05:12.175837Z\", \"created_time_dt\": \"2021-11-28T13:05:12.175837Z\", \"duration\": \"0:00:05\", \"iteration\": \"35\", \"goal\": null, \"run_name\": \"Canceled\", \"run_properties\": null}, {\"run_id\": \"AutoML_04dcdcf8-d9fd-42d2-a9f1-e4752e32d2b4_36\", \"run_number\": 41, \"metric\": null, \"status\": \"Canceled\", \"run_type\": \"azureml.scriptrun\", \"training_percent\": \"100\", \"start_time\": \"2021-11-28T13:05:15.287541Z\", \"end_time\": \"2021-11-28T13:05:18.000234Z\", \"created_time\": \"2021-11-28T13:05:15.287541Z\", \"created_time_dt\": \"2021-11-28T13:05:15.287541Z\", \"duration\": \"0:00:02\", \"iteration\": \"36\", \"goal\": null, \"run_name\": \"Canceled\", \"run_properties\": null}, {\"run_id\": \"AutoML_04dcdcf8-d9fd-42d2-a9f1-e4752e32d2b4_37\", \"run_number\": 42, \"metric\": null, \"status\": \"Completed\", \"run_type\": \"azureml.scriptrun\", \"training_percent\": \"100\", \"start_time\": \"2021-11-28T13:05:18.740915Z\", \"end_time\": \"2021-11-28T13:05:54.941744Z\", \"created_time\": \"2021-11-28T13:05:18.740915Z\", \"created_time_dt\": \"2021-11-28T13:05:18.740915Z\", \"duration\": \"0:00:36\", \"iteration\": \"37\", \"goal\": \"normalized_root_mean_squared_error_min\", \"run_name\": \"VotingEnsemble\", \"run_properties\": \"\\n    estimators=[('1', Pipeline(\\n        memory=None,\\n        steps=[('maxabsscaler', MaxAbsScaler(\\n            copy=True\\n        \", \"primary_metric\": 0.07687001, \"best_metric\": 0.07687001}, {\"run_id\": \"AutoML_04dcdcf8-d9fd-42d2-a9f1-e4752e32d2b4_38\", \"run_number\": 43, \"metric\": null, \"status\": \"Completed\", \"run_type\": \"azureml.scriptrun\", \"training_percent\": \"100\", \"start_time\": \"2021-11-28T13:05:18.754606Z\", \"end_time\": \"2021-11-28T13:06:52.800372Z\", \"created_time\": \"2021-11-28T13:05:18.754606Z\", \"created_time_dt\": \"2021-11-28T13:05:18.754606Z\", \"duration\": \"0:01:34\", \"iteration\": \"38\", \"goal\": \"normalized_root_mean_squared_error_min\", \"run_name\": \"StackEnsemble\", \"run_properties\": \"\\n    base_learners=[('1', Pipeline(\\n        memory=None,\\n        steps=[('maxabsscaler', MaxAbsScaler(\\n            copy=True\\n        \", \"primary_metric\": 0.07661682, \"best_metric\": 0.07661682}], \"children_metrics\": {\"categories\": [0], \"series\": {\"root_mean_squared_log_error\": [{\"categories\": [\"0\", \"1\", \"2\", \"3\", \"4\", \"5\", \"6\", \"7\", \"8\", \"9\", \"10\", \"11\", \"12\", \"13\", \"14\", \"15\", \"16\", \"17\", \"18\", \"19\", \"20\", \"21\", \"22\", \"23\", \"24\", \"25\", \"26\", \"27\", \"28\", \"29\", \"30\", \"31\", \"32\", \"33\", \"37\", \"38\"], \"mode\": \"markers\", \"name\": \"root_mean_squared_log_error\", \"stepped\": false, \"type\": \"scatter\", \"data\": [0.6521647532077051, 0.5304286693866019, NaN, NaN, NaN, NaN, 0.4902040928381218, NaN, NaN, 0.8749215840152438, 0.7326636478379008, 0.7335057056395197, 0.6179436417373578, NaN, 0.5687522664781933, NaN, 0.6350854523457046, NaN, 0.5451421500980014, 0.4552629802799562, 0.48606110122964946, 0.6414781529222627, 0.47452402779532116, 0.6395850696634718, 0.561697010764711, 0.6422585382675937, 0.47280224819019523, 0.4892599321698648, 0.48219931543851396, 0.5435878241242396, 0.5042296756564912, 0.7411060845470937, 0.559704683702364, 0.5283033838548797, 0.4815966812535269, 0.4617373506245226]}, {\"categories\": [\"0\", \"1\", \"2\", \"3\", \"4\", \"5\", \"6\", \"7\", \"8\", \"9\", \"10\", \"11\", \"12\", \"13\", \"14\", \"15\", \"16\", \"17\", \"18\", \"19\", \"20\", \"21\", \"22\", \"23\", \"24\", \"25\", \"26\", \"27\", \"28\", \"29\", \"30\", \"31\", \"32\", \"33\", \"37\", \"38\"], \"mode\": \"lines\", \"name\": \"root_mean_squared_log_error_min\", \"stepped\": true, \"type\": \"scatter\", \"data\": [0.6521647532077051, 0.5304286693866019, 0.5304286693866019, 0.5304286693866019, 0.5304286693866019, 0.5304286693866019, 0.4902040928381218, 0.4902040928381218, 0.4902040928381218, 0.4902040928381218, 0.4902040928381218, 0.4902040928381218, 0.4902040928381218, 0.4902040928381218, 0.4902040928381218, 0.4902040928381218, 0.4902040928381218, 0.4902040928381218, 0.4902040928381218, 0.4552629802799562, 0.4552629802799562, 0.4552629802799562, 0.4552629802799562, 0.4552629802799562, 0.4552629802799562, 0.4552629802799562, 0.4552629802799562, 0.4552629802799562, 0.4552629802799562, 0.4552629802799562, 0.4552629802799562, 0.4552629802799562, 0.4552629802799562, 0.4552629802799562, 0.4552629802799562, 0.4552629802799562]}], \"explained_variance\": [{\"categories\": [\"0\", \"1\", \"2\", \"3\", \"4\", \"5\", \"6\", \"7\", \"8\", \"9\", \"10\", \"11\", \"12\", \"13\", \"14\", \"15\", \"16\", \"17\", \"18\", \"19\", \"20\", \"21\", \"22\", \"23\", \"24\", \"25\", \"26\", \"27\", \"28\", \"29\", \"30\", \"31\", \"32\", \"33\", \"37\", \"38\"], \"mode\": \"markers\", \"name\": \"explained_variance\", \"stepped\": false, \"type\": \"scatter\", \"data\": [0.7534481605153642, 0.8327283894190876, 0.7403393834751922, 0.7399499094626445, 0.7401577833647549, 0.7399479642113569, 0.8026898654989193, 0.739853245956393, 0.7399566453711081, 0.32955665953583374, 0.7026452001225462, 0.6005868841790366, 0.7071216102945787, 0.739853245956393, 0.7090518124801265, 0.7399751345145864, 0.7698714184184811, 0.7397870787463753, 0.7900886086618425, 0.8130783161267563, 0.8161398421920868, 0.6917869719521578, 0.8166862119247112, 0.7423468601218609, 0.7819032942690981, 0.6843908317095342, 0.8073990404233147, 0.7891615981426036, 0.8047815371812529, 0.814260443350339, 0.8278109452456853, 0.5586800126961172, 0.728464896567656, 0.8132267522354852, 0.8400550249276325, 0.8414404740034863]}, {\"categories\": [\"0\", \"1\", \"2\", \"3\", \"4\", \"5\", \"6\", \"7\", \"8\", \"9\", \"10\", \"11\", \"12\", \"13\", \"14\", \"15\", \"16\", \"17\", \"18\", \"19\", \"20\", \"21\", \"22\", \"23\", \"24\", \"25\", \"26\", \"27\", \"28\", \"29\", \"30\", \"31\", \"32\", \"33\", \"37\", \"38\"], \"mode\": \"lines\", \"name\": \"explained_variance_max\", \"stepped\": true, \"type\": \"scatter\", \"data\": [0.7534481605153642, 0.8327283894190876, 0.8327283894190876, 0.8327283894190876, 0.8327283894190876, 0.8327283894190876, 0.8327283894190876, 0.8327283894190876, 0.8327283894190876, 0.8327283894190876, 0.8327283894190876, 0.8327283894190876, 0.8327283894190876, 0.8327283894190876, 0.8327283894190876, 0.8327283894190876, 0.8327283894190876, 0.8327283894190876, 0.8327283894190876, 0.8327283894190876, 0.8327283894190876, 0.8327283894190876, 0.8327283894190876, 0.8327283894190876, 0.8327283894190876, 0.8327283894190876, 0.8327283894190876, 0.8327283894190876, 0.8327283894190876, 0.8327283894190876, 0.8327283894190876, 0.8327283894190876, 0.8327283894190876, 0.8327283894190876, 0.8400550249276325, 0.8414404740034863]}], \"mean_absolute_error\": [{\"categories\": [\"0\", \"1\", \"2\", \"3\", \"4\", \"5\", \"6\", \"7\", \"8\", \"9\", \"10\", \"11\", \"12\", \"13\", \"14\", \"15\", \"16\", \"17\", \"18\", \"19\", \"20\", \"21\", \"22\", \"23\", \"24\", \"25\", \"26\", \"27\", \"28\", \"29\", \"30\", \"31\", \"32\", \"33\", \"37\", \"38\"], \"mode\": \"markers\", \"name\": \"mean_absolute_error\", \"stepped\": false, \"type\": \"scatter\", \"data\": [4279.897858814732, 3164.901363772609, 4375.98804479407, 4391.252744626708, 4383.36578723132, 4391.152149026536, 3291.992215078763, 4404.436733518485, 4391.607390269953, 7482.386662532659, 5030.1720841043925, 5730.951291647765, 4848.762730776372, 4404.436733518485, 4756.718713272745, 4398.435221908726, 4257.85681962586, 4406.65612848265, 3657.597952812464, 3201.6896934607907, 3228.66154373536, 5050.4546694006285, 3222.31399442662, 4491.677324299465, 3885.025697578196, 4987.434766898264, 3314.63818585849, 3614.119365047421, 3279.356476807426, 3531.8961642819017, 3113.001729712328, 5889.588826071639, 4480.36394428999, 3467.3228021870113, 2955.06840416734, 2865.1453775602695]}, {\"categories\": [\"0\", \"1\", \"2\", \"3\", \"4\", \"5\", \"6\", \"7\", \"8\", \"9\", \"10\", \"11\", \"12\", \"13\", \"14\", \"15\", \"16\", \"17\", \"18\", \"19\", \"20\", \"21\", \"22\", \"23\", \"24\", \"25\", \"26\", \"27\", \"28\", \"29\", \"30\", \"31\", \"32\", \"33\", \"37\", \"38\"], \"mode\": \"lines\", \"name\": \"mean_absolute_error_min\", \"stepped\": true, \"type\": \"scatter\", \"data\": [4279.897858814732, 3164.901363772609, 3164.901363772609, 3164.901363772609, 3164.901363772609, 3164.901363772609, 3164.901363772609, 3164.901363772609, 3164.901363772609, 3164.901363772609, 3164.901363772609, 3164.901363772609, 3164.901363772609, 3164.901363772609, 3164.901363772609, 3164.901363772609, 3164.901363772609, 3164.901363772609, 3164.901363772609, 3164.901363772609, 3164.901363772609, 3164.901363772609, 3164.901363772609, 3164.901363772609, 3164.901363772609, 3164.901363772609, 3164.901363772609, 3164.901363772609, 3164.901363772609, 3164.901363772609, 3113.001729712328, 3113.001729712328, 3113.001729712328, 3113.001729712328, 2955.06840416734, 2865.1453775602695]}], \"normalized_mean_absolute_error\": [{\"categories\": [\"0\", \"1\", \"2\", \"3\", \"4\", \"5\", \"6\", \"7\", \"8\", \"9\", \"10\", \"11\", \"12\", \"13\", \"14\", \"15\", \"16\", \"17\", \"18\", \"19\", \"20\", \"21\", \"22\", \"23\", \"24\", \"25\", \"26\", \"27\", \"28\", \"29\", \"30\", \"31\", \"32\", \"33\", \"37\", \"38\"], \"mode\": \"markers\", \"name\": \"normalized_mean_absolute_error\", \"stepped\": false, \"type\": \"scatter\", \"data\": [0.06831598780875252, 0.050518346492332285, 0.06984978515402913, 0.07009344121360613, 0.06996754912387744, 0.0700918355005677, 0.05254697832768168, 0.07030388483962546, 0.07009910208875773, 0.11943430728496757, 0.08029191025338402, 0.09147779023894481, 0.07739624321197877, 0.07030388483962546, 0.07592703105199795, 0.07020808834926719, 0.06796416741158624, 0.07033931095592925, 0.05838279916868242, 0.05110556403008406, 0.051536090331253136, 0.08061566210343667, 0.05143477036626886, 0.07169642441249095, 0.06201301455029216, 0.07960973461799602, 0.05290845467939387, 0.05768879132791562, 0.05234528591113922, 0.056376339637152745, 0.049689921402598314, 0.09400997213328409, 0.07151583955829607, 0.055345615735983206, 0.047168980132865516, 0.045733623357525066]}, {\"categories\": [\"0\", \"1\", \"2\", \"3\", \"4\", \"5\", \"6\", \"7\", \"8\", \"9\", \"10\", \"11\", \"12\", \"13\", \"14\", \"15\", \"16\", \"17\", \"18\", \"19\", \"20\", \"21\", \"22\", \"23\", \"24\", \"25\", \"26\", \"27\", \"28\", \"29\", \"30\", \"31\", \"32\", \"33\", \"37\", \"38\"], \"mode\": \"lines\", \"name\": \"normalized_mean_absolute_error_min\", \"stepped\": true, \"type\": \"scatter\", \"data\": [0.06831598780875252, 0.050518346492332285, 0.050518346492332285, 0.050518346492332285, 0.050518346492332285, 0.050518346492332285, 0.050518346492332285, 0.050518346492332285, 0.050518346492332285, 0.050518346492332285, 0.050518346492332285, 0.050518346492332285, 0.050518346492332285, 0.050518346492332285, 0.050518346492332285, 0.050518346492332285, 0.050518346492332285, 0.050518346492332285, 0.050518346492332285, 0.050518346492332285, 0.050518346492332285, 0.050518346492332285, 0.050518346492332285, 0.050518346492332285, 0.050518346492332285, 0.050518346492332285, 0.050518346492332285, 0.050518346492332285, 0.050518346492332285, 0.050518346492332285, 0.049689921402598314, 0.049689921402598314, 0.049689921402598314, 0.049689921402598314, 0.047168980132865516, 0.045733623357525066]}], \"r2_score\": [{\"categories\": [\"0\", \"1\", \"2\", \"3\", \"4\", \"5\", \"6\", \"7\", \"8\", \"9\", \"10\", \"11\", \"12\", \"13\", \"14\", \"15\", \"16\", \"17\", \"18\", \"19\", \"20\", \"21\", \"22\", \"23\", \"24\", \"25\", \"26\", \"27\", \"28\", \"29\", \"30\", \"31\", \"32\", \"33\", \"37\", \"38\"], \"mode\": \"markers\", \"name\": \"r2_score\", \"stepped\": false, \"type\": \"scatter\", \"data\": [0.7531236766599095, 0.8326164882918218, 0.7390674700970324, 0.7386529034621857, 0.7388729897643248, 0.7386500472074863, 0.8024757684479903, 0.7386662267208041, 0.7386630628516384, 0.3275168484325424, 0.7024112929678393, 0.6002674881336915, 0.7066564843596258, 0.7386662267208041, 0.7085040312927983, 0.7387421838512241, 0.7697814146528946, 0.7386148675296136, 0.7897578158903715, 0.8128722582290644, 0.8160238379433743, 0.6914680245349717, 0.81627471882009, 0.7420280097955194, 0.7818078743671615, 0.6825085072430657, 0.8071640970433817, 0.788793475875774, 0.8046331448048618, 0.8141095087202439, 0.827659252704774, 0.5578796350758728, 0.7282501986544337, 0.8131429582806939, 0.839900782777673, 0.8408549446511847]}, {\"categories\": [\"0\", \"1\", \"2\", \"3\", \"4\", \"5\", \"6\", \"7\", \"8\", \"9\", \"10\", \"11\", \"12\", \"13\", \"14\", \"15\", \"16\", \"17\", \"18\", \"19\", \"20\", \"21\", \"22\", \"23\", \"24\", \"25\", \"26\", \"27\", \"28\", \"29\", \"30\", \"31\", \"32\", \"33\", \"37\", \"38\"], \"mode\": \"lines\", \"name\": \"r2_score_max\", \"stepped\": true, \"type\": \"scatter\", \"data\": [0.7531236766599095, 0.8326164882918218, 0.8326164882918218, 0.8326164882918218, 0.8326164882918218, 0.8326164882918218, 0.8326164882918218, 0.8326164882918218, 0.8326164882918218, 0.8326164882918218, 0.8326164882918218, 0.8326164882918218, 0.8326164882918218, 0.8326164882918218, 0.8326164882918218, 0.8326164882918218, 0.8326164882918218, 0.8326164882918218, 0.8326164882918218, 0.8326164882918218, 0.8326164882918218, 0.8326164882918218, 0.8326164882918218, 0.8326164882918218, 0.8326164882918218, 0.8326164882918218, 0.8326164882918218, 0.8326164882918218, 0.8326164882918218, 0.8326164882918218, 0.8326164882918218, 0.8326164882918218, 0.8326164882918218, 0.8326164882918218, 0.839900782777673, 0.8408549446511847]}], \"root_mean_squared_error\": [{\"categories\": [\"0\", \"1\", \"2\", \"3\", \"4\", \"5\", \"6\", \"7\", \"8\", \"9\", \"10\", \"11\", \"12\", \"13\", \"14\", \"15\", \"16\", \"17\", \"18\", \"19\", \"20\", \"21\", \"22\", \"23\", \"24\", \"25\", \"26\", \"27\", \"28\", \"29\", \"30\", \"31\", \"32\", \"33\", \"37\", \"38\"], \"mode\": \"markers\", \"name\": \"root_mean_squared_error\", \"stepped\": false, \"type\": \"scatter\", \"data\": [5976.039535245006, 4921.151905050295, 6168.236722386921, 6173.116329422718, 6170.525507726251, 6173.149366483481, 5355.991377043395, 6173.023723545536, 6172.998287252404, 9903.760282618046, 6578.481979326712, 7633.458342463834, 6536.916519287515, 6173.023723545536, 6520.338353999399, 6172.09799795774, 5775.328738589749, 6173.639874596737, 5529.97923705672, 5209.223140123412, 5166.043109878915, 6703.057555973396, 5165.785438552792, 6117.808846908366, 5619.311883616588, 6803.893622832566, 5294.193407907921, 5541.868243073596, 5325.608185511261, 5198.425236576609, 4996.968012206494, 8027.087225636781, 6292.619612291644, 5200.0483531692635, 4815.79492442745, 4799.933179126102]}, {\"categories\": [\"0\", \"1\", \"2\", \"3\", \"4\", \"5\", \"6\", \"7\", \"8\", \"9\", \"10\", \"11\", \"12\", \"13\", \"14\", \"15\", \"16\", \"17\", \"18\", \"19\", \"20\", \"21\", \"22\", \"23\", \"24\", \"25\", \"26\", \"27\", \"28\", \"29\", \"30\", \"31\", \"32\", \"33\", \"37\", \"38\"], \"mode\": \"lines\", \"name\": \"root_mean_squared_error_min\", \"stepped\": true, \"type\": \"scatter\", \"data\": [5976.039535245006, 4921.151905050295, 4921.151905050295, 4921.151905050295, 4921.151905050295, 4921.151905050295, 4921.151905050295, 4921.151905050295, 4921.151905050295, 4921.151905050295, 4921.151905050295, 4921.151905050295, 4921.151905050295, 4921.151905050295, 4921.151905050295, 4921.151905050295, 4921.151905050295, 4921.151905050295, 4921.151905050295, 4921.151905050295, 4921.151905050295, 4921.151905050295, 4921.151905050295, 4921.151905050295, 4921.151905050295, 4921.151905050295, 4921.151905050295, 4921.151905050295, 4921.151905050295, 4921.151905050295, 4921.151905050295, 4921.151905050295, 4921.151905050295, 4921.151905050295, 4815.79492442745, 4799.933179126102]}], \"spearman_correlation\": [{\"categories\": [\"0\", \"1\", \"2\", \"3\", \"4\", \"5\", \"6\", \"7\", \"8\", \"9\", \"10\", \"11\", \"12\", \"13\", \"14\", \"15\", \"16\", \"17\", \"18\", \"19\", \"20\", \"21\", \"22\", \"23\", \"24\", \"25\", \"26\", \"27\", \"28\", \"29\", \"30\", \"31\", \"32\", \"33\", \"37\", \"38\"], \"mode\": \"markers\", \"name\": \"spearman_correlation\", \"stepped\": false, \"type\": \"scatter\", \"data\": [0.644029360288011, 0.8620852134423692, 0.8439371534312526, 0.8433364055782798, 0.8436561221080701, 0.843337577856933, 0.8325062591067779, 0.8431118690623599, 0.8433370818954377, 0.5419140937497448, 0.5455043334881097, 0.6541549320620001, 0.762455470979852, 0.8431118690623599, 0.8375294315094323, 0.843309488245016, 0.6048423593712472, 0.8430021257181557, 0.7872057639745614, 0.8308541519884605, 0.8391067781248133, 0.719204059179782, 0.8519668130769045, 0.8035984547225054, 0.8059041573681028, 0.7187793800806433, 0.8541675054839333, 0.8584559725961305, 0.838130348813849, 0.8473399384161802, 0.8604559170467033, 0.8112995271113768, 0.8650481709340982, 0.8301745820932065, 0.8746428358771148, 0.8747820214140495]}, {\"categories\": [\"0\", \"1\", \"2\", \"3\", \"4\", \"5\", \"6\", \"7\", \"8\", \"9\", \"10\", \"11\", \"12\", \"13\", \"14\", \"15\", \"16\", \"17\", \"18\", \"19\", \"20\", \"21\", \"22\", \"23\", \"24\", \"25\", \"26\", \"27\", \"28\", \"29\", \"30\", \"31\", \"32\", \"33\", \"37\", \"38\"], \"mode\": \"lines\", \"name\": \"spearman_correlation_max\", \"stepped\": true, \"type\": \"scatter\", \"data\": [0.644029360288011, 0.8620852134423692, 0.8620852134423692, 0.8620852134423692, 0.8620852134423692, 0.8620852134423692, 0.8620852134423692, 0.8620852134423692, 0.8620852134423692, 0.8620852134423692, 0.8620852134423692, 0.8620852134423692, 0.8620852134423692, 0.8620852134423692, 0.8620852134423692, 0.8620852134423692, 0.8620852134423692, 0.8620852134423692, 0.8620852134423692, 0.8620852134423692, 0.8620852134423692, 0.8620852134423692, 0.8620852134423692, 0.8620852134423692, 0.8620852134423692, 0.8620852134423692, 0.8620852134423692, 0.8620852134423692, 0.8620852134423692, 0.8620852134423692, 0.8620852134423692, 0.8620852134423692, 0.8650481709340982, 0.8650481709340982, 0.8746428358771148, 0.8747820214140495]}], \"normalized_median_absolute_error\": [{\"categories\": [\"0\", \"1\", \"2\", \"3\", \"4\", \"5\", \"6\", \"7\", \"8\", \"9\", \"10\", \"11\", \"12\", \"13\", \"14\", \"15\", \"16\", \"17\", \"18\", \"19\", \"20\", \"21\", \"22\", \"23\", \"24\", \"25\", \"26\", \"27\", \"28\", \"29\", \"30\", \"31\", \"32\", \"33\", \"37\", \"38\"], \"mode\": \"markers\", \"name\": \"normalized_median_absolute_error\", \"stepped\": false, \"type\": \"scatter\", \"data\": [0.052353615452501855, 0.034951959143400456, 0.04669346658081985, 0.04700825438930617, 0.04671402156279378, 0.04700761184488763, 0.02713345965900839, 0.04737677613000844, 0.04700390633334283, 0.0947066849206561, 0.06887406198818657, 0.07010177479248024, 0.05713888007345793, 0.04737677613000844, 0.055136605303141024, 0.04724189564026576, 0.05699966895744122, 0.047420438469266336, 0.038668449847401, 0.028225760329639176, 0.028676302104028648, 0.06293904000120353, 0.030370999264954197, 0.057173999922607605, 0.044031885082499146, 0.05825592660304979, 0.029506390993242575, 0.03492425920322098, 0.028709903761620567, 0.040069493353186124, 0.030063371529498034, 0.0751473022026266, 0.049491742149998685, 0.03706835470969954, 0.029644418122363365, 0.02750273122864649]}, {\"categories\": [\"0\", \"1\", \"2\", \"3\", \"4\", \"5\", \"6\", \"7\", \"8\", \"9\", \"10\", \"11\", \"12\", \"13\", \"14\", \"15\", \"16\", \"17\", \"18\", \"19\", \"20\", \"21\", \"22\", \"23\", \"24\", \"25\", \"26\", \"27\", \"28\", \"29\", \"30\", \"31\", \"32\", \"33\", \"37\", \"38\"], \"mode\": \"lines\", \"name\": \"normalized_median_absolute_error_min\", \"stepped\": true, \"type\": \"scatter\", \"data\": [0.052353615452501855, 0.034951959143400456, 0.034951959143400456, 0.034951959143400456, 0.034951959143400456, 0.034951959143400456, 0.02713345965900839, 0.02713345965900839, 0.02713345965900839, 0.02713345965900839, 0.02713345965900839, 0.02713345965900839, 0.02713345965900839, 0.02713345965900839, 0.02713345965900839, 0.02713345965900839, 0.02713345965900839, 0.02713345965900839, 0.02713345965900839, 0.02713345965900839, 0.02713345965900839, 0.02713345965900839, 0.02713345965900839, 0.02713345965900839, 0.02713345965900839, 0.02713345965900839, 0.02713345965900839, 0.02713345965900839, 0.02713345965900839, 0.02713345965900839, 0.02713345965900839, 0.02713345965900839, 0.02713345965900839, 0.02713345965900839, 0.02713345965900839, 0.02713345965900839]}], \"mean_absolute_percentage_error\": [{\"categories\": [\"0\", \"1\", \"2\", \"3\", \"4\", \"5\", \"6\", \"7\", \"8\", \"9\", \"10\", \"11\", \"12\", \"13\", \"14\", \"15\", \"16\", \"17\", \"18\", \"19\", \"20\", \"21\", \"22\", \"23\", \"24\", \"25\", \"26\", \"27\", \"28\", \"29\", \"30\", \"31\", \"32\", \"33\", \"37\", \"38\"], \"mode\": \"markers\", \"name\": \"mean_absolute_percentage_error\", \"stepped\": false, \"type\": \"scatter\", \"data\": [62.14106691362062, 49.042325839554614, 45.79419610075996, 46.05343750232379, 45.918737171382055, 46.05114824701943, 35.85356024142415, 46.455755084781714, 46.06410395664608, 125.46541645411479, 89.78215037036296, 91.57076705027838, 65.62577060392901, 46.455755084781714, 57.90844016249124, 46.27200211644652, 66.09274043843736, 46.5235873176797, 44.66327646459217, 39.75414653906765, 40.04044579142528, 69.32866574611649, 36.193736999011435, 71.62771733691622, 55.383509065047356, 70.04179023859045, 36.79851833763686, 42.344346057615105, 35.2643921876754, 52.134539738335754, 43.75398732443815, 93.36189440497638, 57.514742890127216, 48.837666566181746, 40.554903606400735, 36.20356756866402]}, {\"categories\": [\"0\", \"1\", \"2\", \"3\", \"4\", \"5\", \"6\", \"7\", \"8\", \"9\", \"10\", \"11\", \"12\", \"13\", \"14\", \"15\", \"16\", \"17\", \"18\", \"19\", \"20\", \"21\", \"22\", \"23\", \"24\", \"25\", \"26\", \"27\", \"28\", \"29\", \"30\", \"31\", \"32\", \"33\", \"37\", \"38\"], \"mode\": \"lines\", \"name\": \"mean_absolute_percentage_error_min\", \"stepped\": true, \"type\": \"scatter\", \"data\": [62.14106691362062, 49.042325839554614, 45.79419610075996, 45.79419610075996, 45.79419610075996, 45.79419610075996, 35.85356024142415, 35.85356024142415, 35.85356024142415, 35.85356024142415, 35.85356024142415, 35.85356024142415, 35.85356024142415, 35.85356024142415, 35.85356024142415, 35.85356024142415, 35.85356024142415, 35.85356024142415, 35.85356024142415, 35.85356024142415, 35.85356024142415, 35.85356024142415, 35.85356024142415, 35.85356024142415, 35.85356024142415, 35.85356024142415, 35.85356024142415, 35.85356024142415, 35.2643921876754, 35.2643921876754, 35.2643921876754, 35.2643921876754, 35.2643921876754, 35.2643921876754, 35.2643921876754, 35.2643921876754]}], \"normalized_root_mean_squared_error\": [{\"categories\": [\"0\", \"1\", \"2\", \"3\", \"4\", \"5\", \"6\", \"7\", \"8\", \"9\", \"10\", \"11\", \"12\", \"13\", \"14\", \"15\", \"16\", \"17\", \"18\", \"19\", \"20\", \"21\", \"22\", \"23\", \"24\", \"25\", \"26\", \"27\", \"28\", \"29\", \"30\", \"31\", \"32\", \"33\", \"37\", \"38\"], \"mode\": \"markers\", \"name\": \"normalized_root_mean_squared_error\", \"stepped\": false, \"type\": \"scatter\", \"data\": [0.09538990356827894, 0.07855172357864165, 0.09845776666380146, 0.09853565524567087, 0.09849430039345963, 0.09853618258522774, 0.0854926574624404, 0.09853417706507284, 0.09853377104942738, 0.15808441907899037, 0.10500612620326459, 0.12184572255348151, 0.10434265582266788, 0.09853417706507284, 0.10407803414825528, 0.09851940057739571, 0.09218614572411794, 0.09854401210532164, 0.08826986217985232, 0.08314993401087788, 0.08246069176326462, 0.1069946090727647, 0.08245657879801292, 0.09765283387333334, 0.08969579527326439, 0.10860416045494214, 0.08450623455111565, 0.08845963521110219, 0.08500767912632773, 0.08297757722307646, 0.07976190485470237, 0.12812885053248965, 0.1004431738559025, 0.0830034855080435, 0.0768700090982427, 0.07661682296287717]}, {\"categories\": [\"0\", \"1\", \"2\", \"3\", \"4\", \"5\", \"6\", \"7\", \"8\", \"9\", \"10\", \"11\", \"12\", \"13\", \"14\", \"15\", \"16\", \"17\", \"18\", \"19\", \"20\", \"21\", \"22\", \"23\", \"24\", \"25\", \"26\", \"27\", \"28\", \"29\", \"30\", \"31\", \"32\", \"33\", \"37\", \"38\"], \"mode\": \"lines\", \"name\": \"normalized_root_mean_squared_error_min\", \"stepped\": true, \"type\": \"scatter\", \"data\": [0.09538990356827894, 0.07855172357864165, 0.07855172357864165, 0.07855172357864165, 0.07855172357864165, 0.07855172357864165, 0.07855172357864165, 0.07855172357864165, 0.07855172357864165, 0.07855172357864165, 0.07855172357864165, 0.07855172357864165, 0.07855172357864165, 0.07855172357864165, 0.07855172357864165, 0.07855172357864165, 0.07855172357864165, 0.07855172357864165, 0.07855172357864165, 0.07855172357864165, 0.07855172357864165, 0.07855172357864165, 0.07855172357864165, 0.07855172357864165, 0.07855172357864165, 0.07855172357864165, 0.07855172357864165, 0.07855172357864165, 0.07855172357864165, 0.07855172357864165, 0.07855172357864165, 0.07855172357864165, 0.07855172357864165, 0.07855172357864165, 0.0768700090982427, 0.07661682296287717]}], \"median_absolute_error\": [{\"categories\": [\"0\", \"1\", \"2\", \"3\", \"4\", \"5\", \"6\", \"7\", \"8\", \"9\", \"10\", \"11\", \"12\", \"13\", \"14\", \"15\", \"16\", \"17\", \"18\", \"19\", \"20\", \"21\", \"22\", \"23\", \"24\", \"25\", \"26\", \"27\", \"28\", \"29\", \"30\", \"31\", \"32\", \"33\", \"37\", \"38\"], \"mode\": \"markers\", \"name\": \"median_absolute_error\", \"stepped\": false, \"type\": \"scatter\", \"data\": [3279.878310530195, 2189.6897036458327, 2925.278167671969, 2944.999168725093, 2926.565907572394, 2944.9589142463205, 1699.8720156388897, 2968.0865229381907, 2944.7267693058, 5933.236874830446, 4314.860399242401, 4391.774831293732, 3579.6682200668297, 2968.0865229381907, 3454.2286007755442, 2959.6364552781633, 3570.9468449323435, 2970.821905361758, 2422.522472614723, 1768.3030733072917, 1796.5288640389456, 3943.039853146854, 1902.6991908252537, 3581.868427836618, 2758.53393515625, 3649.6495700193536, 1848.5327327309742, 2187.9543424446556, 1798.6339593027787, 2510.2958224973668, 1883.4267579947912, 4707.869828261774, 3100.58608608236, 2322.278825799285, 1857.179932798346, 1723.0063455506463]}, {\"categories\": [\"0\", \"1\", \"2\", \"3\", \"4\", \"5\", \"6\", \"7\", \"8\", \"9\", \"10\", \"11\", \"12\", \"13\", \"14\", \"15\", \"16\", \"17\", \"18\", \"19\", \"20\", \"21\", \"22\", \"23\", \"24\", \"25\", \"26\", \"27\", \"28\", \"29\", \"30\", \"31\", \"32\", \"33\", \"37\", \"38\"], \"mode\": \"lines\", \"name\": \"median_absolute_error_min\", \"stepped\": true, \"type\": \"scatter\", \"data\": [3279.878310530195, 2189.6897036458327, 2189.6897036458327, 2189.6897036458327, 2189.6897036458327, 2189.6897036458327, 1699.8720156388897, 1699.8720156388897, 1699.8720156388897, 1699.8720156388897, 1699.8720156388897, 1699.8720156388897, 1699.8720156388897, 1699.8720156388897, 1699.8720156388897, 1699.8720156388897, 1699.8720156388897, 1699.8720156388897, 1699.8720156388897, 1699.8720156388897, 1699.8720156388897, 1699.8720156388897, 1699.8720156388897, 1699.8720156388897, 1699.8720156388897, 1699.8720156388897, 1699.8720156388897, 1699.8720156388897, 1699.8720156388897, 1699.8720156388897, 1699.8720156388897, 1699.8720156388897, 1699.8720156388897, 1699.8720156388897, 1699.8720156388897, 1699.8720156388897]}], \"normalized_root_mean_squared_log_error\": [{\"categories\": [\"0\", \"1\", \"2\", \"3\", \"4\", \"5\", \"6\", \"7\", \"8\", \"9\", \"10\", \"11\", \"12\", \"13\", \"14\", \"15\", \"16\", \"17\", \"18\", \"19\", \"20\", \"21\", \"22\", \"23\", \"24\", \"25\", \"26\", \"27\", \"28\", \"29\", \"30\", \"31\", \"32\", \"33\", \"37\", \"38\"], \"mode\": \"markers\", \"name\": \"normalized_root_mean_squared_log_error\", \"stepped\": false, \"type\": \"scatter\", \"data\": [0.16145034250756288, 0.13131327617305824, NaN, NaN, NaN, NaN, 0.1213552530983192, NaN, NaN, 0.2165961725342315, 0.1813787027042786, 0.18158716309686165, 0.15297854126301236, NaN, 0.1408006915019708, NaN, 0.15722217936259536, NaN, 0.13495575529915305, 0.11270520790289222, 0.12032961132466638, 0.15880476059311593, 0.1174734857086382, 0.15833610763537204, 0.13905408767860014, 0.15899795331117048, 0.11704724079797287, 0.12112151605177922, 0.11937358505123928, 0.13457096532147036, 0.1248274357619118, 0.1834687179827699, 0.13856086585846822, 0.1307871390653179, 0.11922439652932916, 0.11430800735580615]}, {\"categories\": [\"0\", \"1\", \"2\", \"3\", \"4\", \"5\", \"6\", \"7\", \"8\", \"9\", \"10\", \"11\", \"12\", \"13\", \"14\", \"15\", \"16\", \"17\", \"18\", \"19\", \"20\", \"21\", \"22\", \"23\", \"24\", \"25\", \"26\", \"27\", \"28\", \"29\", \"30\", \"31\", \"32\", \"33\", \"37\", \"38\"], \"mode\": \"lines\", \"name\": \"normalized_root_mean_squared_log_error_min\", \"stepped\": true, \"type\": \"scatter\", \"data\": [0.16145034250756288, 0.13131327617305824, 0.13131327617305824, 0.13131327617305824, 0.13131327617305824, 0.13131327617305824, 0.1213552530983192, 0.1213552530983192, 0.1213552530983192, 0.1213552530983192, 0.1213552530983192, 0.1213552530983192, 0.1213552530983192, 0.1213552530983192, 0.1213552530983192, 0.1213552530983192, 0.1213552530983192, 0.1213552530983192, 0.1213552530983192, 0.11270520790289222, 0.11270520790289222, 0.11270520790289222, 0.11270520790289222, 0.11270520790289222, 0.11270520790289222, 0.11270520790289222, 0.11270520790289222, 0.11270520790289222, 0.11270520790289222, 0.11270520790289222, 0.11270520790289222, 0.11270520790289222, 0.11270520790289222, 0.11270520790289222, 0.11270520790289222, 0.11270520790289222]}]}, \"metricName\": null, \"primaryMetricName\": \"normalized_root_mean_squared_error\", \"showLegend\": false}, \"run_metrics\": [{\"name\": \"experiment_status\", \"run_id\": \"AutoML_04dcdcf8-d9fd-42d2-a9f1-e4752e32d2b4\", \"categories\": [0, 1, 2, 3, 4, 5, 6, 7, 8, 9, 10, 11], \"series\": [{\"data\": [\"DatasetEvaluation\", \"FeaturesGeneration\", \"DatasetFeaturization\", \"DatasetFeaturizationCompleted\", \"DatasetCrossValidationSplit\", \"ModelSelection\", \"BestRunExplainModel\", \"ModelExplanationDataSetSetup\", \"PickSurrogateModel\", \"EngineeredFeatureExplanations\", \"EngineeredFeatureExplanations\", \"RawFeaturesExplanations\"]}]}, {\"name\": \"experiment_status_description\", \"run_id\": \"AutoML_04dcdcf8-d9fd-42d2-a9f1-e4752e32d2b4\", \"categories\": [0, 1, 2, 3, 4, 5, 6, 7, 8, 9, 10, 11], \"series\": [{\"data\": [\"Gathering dataset statistics.\", \"Generating features for the dataset.\", \"Beginning to fit featurizers and featurize the dataset.\", \"Completed fit featurizers and featurizing the dataset.\", \"Generating individually featurized CV splits.\", \"Beginning model selection.\", \"Best run model explanations started\", \"Model explanations data setup completed\", \"Choosing LightGBM as the surrogate model for explanations\", \"Computation of engineered features started\", \"Computation of engineered features completed\", \"Computation of raw features started\"]}]}, {\"name\": \"mean_absolute_percentage_error\", \"run_id\": \"AutoML_04dcdcf8-d9fd-42d2-a9f1-e4752e32d2b4\", \"categories\": [0], \"series\": [{\"data\": [36.20356756866402]}]}, {\"name\": \"root_mean_squared_error\", \"run_id\": \"AutoML_04dcdcf8-d9fd-42d2-a9f1-e4752e32d2b4\", \"categories\": [0], \"series\": [{\"data\": [4799.933179126102]}]}, {\"name\": \"normalized_root_mean_squared_error\", \"run_id\": \"AutoML_04dcdcf8-d9fd-42d2-a9f1-e4752e32d2b4\", \"categories\": [0], \"series\": [{\"data\": [0.07661682296287717]}]}, {\"name\": \"root_mean_squared_log_error\", \"run_id\": \"AutoML_04dcdcf8-d9fd-42d2-a9f1-e4752e32d2b4\", \"categories\": [0], \"series\": [{\"data\": [0.4617373506245226]}]}, {\"name\": \"mean_absolute_error\", \"run_id\": \"AutoML_04dcdcf8-d9fd-42d2-a9f1-e4752e32d2b4\", \"categories\": [0], \"series\": [{\"data\": [2865.1453775602695]}]}, {\"name\": \"normalized_mean_absolute_error\", \"run_id\": \"AutoML_04dcdcf8-d9fd-42d2-a9f1-e4752e32d2b4\", \"categories\": [0], \"series\": [{\"data\": [0.045733623357525066]}]}, {\"name\": \"r2_score\", \"run_id\": \"AutoML_04dcdcf8-d9fd-42d2-a9f1-e4752e32d2b4\", \"categories\": [0], \"series\": [{\"data\": [0.8408549446511847]}]}, {\"name\": \"explained_variance\", \"run_id\": \"AutoML_04dcdcf8-d9fd-42d2-a9f1-e4752e32d2b4\", \"categories\": [0], \"series\": [{\"data\": [0.8414404740034863]}]}, {\"name\": \"spearman_correlation\", \"run_id\": \"AutoML_04dcdcf8-d9fd-42d2-a9f1-e4752e32d2b4\", \"categories\": [0], \"series\": [{\"data\": [0.8747820214140495]}]}, {\"name\": \"normalized_root_mean_squared_log_error\", \"run_id\": \"AutoML_04dcdcf8-d9fd-42d2-a9f1-e4752e32d2b4\", \"categories\": [0], \"series\": [{\"data\": [0.11430800735580615]}]}, {\"name\": \"median_absolute_error\", \"run_id\": \"AutoML_04dcdcf8-d9fd-42d2-a9f1-e4752e32d2b4\", \"categories\": [0], \"series\": [{\"data\": [1723.0063455506463]}]}, {\"name\": \"normalized_median_absolute_error\", \"run_id\": \"AutoML_04dcdcf8-d9fd-42d2-a9f1-e4752e32d2b4\", \"categories\": [0], \"series\": [{\"data\": [0.02750273122864649]}]}], \"run_logs\": \"\\nRun is completed.\", \"graph\": {}, \"widget_settings\": {\"childWidgetDisplay\": \"popup\", \"send_telemetry\": false, \"log_level\": \"INFO\", \"sdk_version\": \"1.34.0\"}, \"loading\": false}"
          },
          "metadata": {},
          "output_type": "display_data"
        }
      ],
      "source": [
        "from azureml.widgets import RunDetails\n",
        "RunDetails(remote_run).show()"
      ]
    },
    {
      "cell_type": "code",
      "execution_count": null,
      "metadata": {},
      "outputs": [],
      "source": [
        "# return details of the run\n",
        "remote_run.wait_for_completion(show_output=True)"
      ]
    },
    {
      "cell_type": "markdown",
      "metadata": {},
      "source": [
        "## Best Model\n",
        "\n",
        "TODO: In the cell below, get the best model from the automl experiments and display all the properties of the model.\n",
        "\n"
      ]
    },
    {
      "cell_type": "code",
      "execution_count": 35,
      "metadata": {
        "gather": {
          "logged": 1638105435075
        },
        "jupyter": {
          "outputs_hidden": false,
          "source_hidden": false
        },
        "nteract": {
          "transient": {
            "deleting": false
          }
        }
      },
      "outputs": [
        {
          "name": "stderr",
          "output_type": "stream",
          "text": [
            "WARNING:root:The version of the SDK does not match the version the model was trained on.\n",
            "WARNING:root:The consistency in the result may not be guaranteed.\n",
            "WARNING:root:Package:azureml-automl-core, training version:1.35.1, current version:1.34.0\n",
            "Package:azureml-automl-runtime, training version:1.35.1, current version:1.34.0\n",
            "Package:azureml-core, training version:1.35.0.post1, current version:1.34.0\n",
            "Package:azureml-dataprep, training version:2.23.2, current version:2.22.2\n",
            "Package:azureml-dataprep-rslex, training version:1.21.2, current version:1.20.1\n",
            "Package:azureml-dataset-runtime, training version:1.35.0, current version:1.34.0\n",
            "Package:azureml-defaults, training version:1.35.0, current version:1.34.0\n",
            "Package:azureml-interpret, training version:1.35.0, current version:1.34.0\n",
            "Package:azureml-mlflow, training version:1.35.0, current version:1.34.0\n",
            "Package:azureml-pipeline-core, training version:1.35.0, current version:1.34.0\n",
            "Package:azureml-responsibleai, training version:1.35.0, current version:1.34.0\n",
            "Package:azureml-telemetry, training version:1.35.0, current version:1.34.0\n",
            "Package:azureml-train-automl-client, training version:1.35.0, current version:1.34.0\n",
            "Package:azureml-train-automl-runtime, training version:1.35.1, current version:1.34.0\n",
            "Package:azureml-train-core, training version:1.35.0, current version:1.34.0\n",
            "Package:azureml-train-restclients-hyperdrive, training version:1.35.0, current version:1.34.0\n",
            "WARNING:root:Please ensure the version of your local conda dependencies match the version on which your model was trained in order to properly retrieve your model.\n"
          ]
        },
        {
          "name": "stdout",
          "output_type": "stream",
          "text": [
            "Run(Experiment: demo-experiment,\n",
            "Id: AutoML_04dcdcf8-d9fd-42d2-a9f1-e4752e32d2b4_38,\n",
            "Type: azureml.scriptrun,\n",
            "Status: Completed)\n",
            "RegressionPipeline(pipeline=Pipeline(memory=None,\n",
            "                                     steps=[('datatransformer',\n",
            "                                             DataTransformer(enable_dnn=False, enable_feature_sweeping=True, feature_sweeping_config={}, feature_sweeping_timeout=86400, featurization_config=None, force_text_dnn=False, is_cross_validation=True, is_onnx_compatible=False, observer=None, task='regression', working_dir='/mnt/batch/ta...\n",
            "), random_state=0, reg_alpha=1.4583333333333335, reg_lambda=2.3958333333333335, subsample=0.6, tree_method='hist'))], verbose=False)), ('5', Pipeline(memory=None, steps=[('maxabsscaler', MaxAbsScaler(copy=True)), ('elasticnet', ElasticNet(alpha=0.001, copy_X=True, fit_intercept=True, l1_ratio=1, max_iter=1000, normalize=False, positive=False, precompute=False, random_state=None, selection='cyclic', tol=0.0001, warm_start=False))], verbose=False))], meta_learner=ElasticNetCV(alphas=None, copy_X=True, cv=None, eps=0.001, fit_intercept=True, l1_ratio=0.5, max_iter=1000, n_alphas=100, n_jobs=None, normalize=False, positive=False, precompute='auto', random_state=None, selection='cyclic', tol=0.0001, verbose=0), training_cv_folds=5))],\n",
            "                                     verbose=False),\n",
            "                   stddev=[4805.593971410841])\n"
          ]
        }
      ],
      "source": [
        "best_run, model = remote_run.get_output()\n",
        "best_run"
      ]
    },
    {
      "cell_type": "code",
      "execution_count": null,
      "metadata": {},
      "outputs": [],
      "source": [
        "model"
      ]
    },
    {
      "cell_type": "code",
      "execution_count": null,
      "metadata": {},
      "outputs": [],
      "source": [
        "model.steps"
      ]
    },
    {
      "cell_type": "code",
      "execution_count": null,
      "metadata": {},
      "outputs": [],
      "source": [
        "dir_name = 'infer_dir'\n",
        "if dir_name not in os.listdir():\n",
        "    os.mkdir(dir_name)"
      ]
    },
    {
      "cell_type": "code",
      "execution_count": 39,
      "metadata": {
        "gather": {
          "logged": 1638105914505
        },
        "jupyter": {
          "outputs_hidden": false,
          "source_hidden": false
        },
        "nteract": {
          "transient": {
            "deleting": false
          }
        }
      },
      "outputs": [],
      "source": [
        "#TODO: Save the best model\n",
        "import pickle\n",
        "best_run.download_file('outputs/scoring_file_v_1_0_0.py', 'infer_dir/score.py')\n",
        "best_run.download_file('outputs/model.pkl', 'infer_dir/model.pkl')\n",
        "best_run.download_file('outputs/conda_env_v_1_0_0.yml', 'infer_dir/conda_env.yml')\n",
        "\n",
        "\n",
        "\n",
        "# save the model to disk\n",
        "filename = 'best_model.sav'\n",
        "pickle.dump(model, open(filename, 'wb'))\n",
        "\n",
        "# https://docs.microsoft.com/en-us/azure/machine-learning/tutorial-auto-train-models"
      ]
    },
    {
      "cell_type": "markdown",
      "metadata": {},
      "source": [
        "## Model Deployment\n",
        "\n",
        "Remember you have to deploy only one of the two models you trained but you still need to register both the models. Perform the steps in the rest of this notebook only if you wish to deploy this model.\n",
        "\n",
        "TODO: In the cell below, register the model, create an inference config and deploy the model as a web service."
      ]
    },
    {
      "cell_type": "code",
      "execution_count": null,
      "metadata": {
        "gather": {
          "logged": 1598431435189
        },
        "jupyter": {
          "outputs_hidden": false,
          "source_hidden": false
        },
        "nteract": {
          "transient": {
            "deleting": false
          }
        }
      },
      "outputs": [],
      "source": [
        "# Register the model\n",
        "import sklearn\n",
        "\n",
        "from azureml.core import Model\n",
        "from azureml.core.resource_configuration import ResourceConfiguration\n",
        "\n",
        "model_name = best_run.properties['model_name']\n",
        "run_id = best_run.id\n",
        "experiment_name = best_run.experiment.name\n",
        "\n",
        "model = Model.register(workspace=ws,\n",
        "                       model_name=model_name, # Name of the registered model in your workspace.\n",
        "                       model_path='infer_dir/model.pkl',  # Local file to upload and register as a model.\n",
        "                       model_framework=Model.Framework.SCIKITLEARN,  # Framework used to create the model.\n",
        "                       model_framework_version=sklearn.__version__,  # Version of scikit-learn used to create the model.\n",
        "                       description='Auto ML model to predict personal medical charges.',\n",
        "                       tags={'area': 'charges', 'type': 'regression'})\n",
        "\n",
        "print('Name:', model.name)\n",
        "print('Version:', model.version)"
      ]
    },
    {
      "cell_type": "code",
      "execution_count": null,
      "metadata": {},
      "outputs": [],
      "source": [
        "# create inference configuration\n",
        "from azureml.core.environment import Environment\n",
        "from azureml.core.model import InferenceConfig\n",
        "\n",
        "myenv = Environment.from_conda_specification(name=\"myenv\", file_path=\"infer_dir/conda_env.yml\")\n",
        "inference_config = InferenceConfig(entry_script=\"infer_dir/score.py\", environment=myenv)\n",
        "\n",
        "# display the environment file\n",
        "with open('infer_dir/conda_env.yml', 'r') as file:\n",
        "    env_file = file.read()\n",
        "    print(env_file)"
      ]
    },
    {
      "cell_type": "markdown",
      "metadata": {
        "collapsed": true,
        "gather": {
          "logged": 1598431657736
        },
        "jupyter": {
          "outputs_hidden": false,
          "source_hidden": false
        },
        "nteract": {
          "transient": {
            "deleting": false
          }
        }
      },
      "source": [
        "TODO: In the cell below, send a request to the web service you deployed to test it."
      ]
    },
    {
      "cell_type": "code",
      "execution_count": null,
      "metadata": {
        "gather": {
          "logged": 1598432707604
        },
        "jupyter": {
          "outputs_hidden": false,
          "source_hidden": false
        },
        "nteract": {
          "transient": {
            "deleting": false
          }
        }
      },
      "outputs": [],
      "source": [
        "# Model Deployment\n",
        "from azureml.core.webservice import AciWebservice\n",
        "\n",
        "# define deployment configuration\n",
        "aci_deployment_config = AciWebservice.deploy_configuration(cpu_cores=1,\n",
        "                                                           memory_gb=1,\n",
        "                                                           tags={'area': \"charges\", 'type': \"regression\"},\n",
        "                                                           description=\"Predict personal medical charges using regreesion model\",\n",
        "                                                           enable_app_insights=True)\n",
        "\n",
        "# deploy model as webservice using Azure Container Instance(ACI)\n",
        "aci_service_name = \"aci-medical-charges-deploy\"\n",
        "\n",
        "aci_service = Model.deploy(ws, aci_service_name, [model], inference_config, aci_deployment_config, overwrite=True)\n",
        "aci_service.wait_for_deployment(show_output=True)\n",
        "\n",
        "print(aci_service.state)"
      ]
    },
    {
      "cell_type": "code",
      "execution_count": null,
      "metadata": {},
      "outputs": [],
      "source": [
        "# get the active api endpoint for scoring\n",
        "print(aci_service.scoring_uri)"
      ]
    },
    {
      "cell_type": "code",
      "execution_count": null,
      "metadata": {},
      "outputs": [],
      "source": [
        "# run script to score the 4 observations below in the json payloader\n",
        "import json\n",
        "import requests\n",
        "\n",
        "scoring_uri = 'http://11fafa41-7731-4f6d-bf89-b58119229b7b.southcentralus.azurecontainer.io/score'\n",
        "headers = {'Content-Type':'application/json'}\n",
        "\n",
        "test_sample = json.dumps({\n",
        "    \"data\": [\n",
        "            [75.0, 0.0, 582.0, 0.0, 20.0, 1.0, 265000.0, 1.9, 130.0, 1.0, 0.0, 4.0],\n",
        "            [80.0, 1.0, 123.0, 0.0, 35.0, 1.0, 388000.0, 9.4, 133.0, 1.0, 1.0, 10.0],\n",
        "            [62.0, 0.0, 61.0, 1.0, 38.0, 1.0, 155000.0, 1.1, 143.0, 1.0, 1.0, 270.0],\n",
        "            [50.0, 1.0, 111.0, 0.0, 20.0, 0.0, 210000.0, 1.9, 137.0, 1.0, 0.0, 7.0]\n",
        "        ]\n",
        "    })\n",
        "\n",
        "response = requests.post(scoring_uri, data=test_sample, headers=headers)\n",
        "print(\"Results:\", response.json())"
      ]
    },
    {
      "cell_type": "markdown",
      "metadata": {
        "collapsed": true,
        "gather": {
          "logged": 1598432765711
        },
        "jupyter": {
          "outputs_hidden": false,
          "source_hidden": false
        },
        "nteract": {
          "transient": {
            "deleting": false
          }
        }
      },
      "source": [
        "TODO: In the cell below, print the logs of the web service and delete the service"
      ]
    },
    {
      "cell_type": "code",
      "execution_count": null,
      "metadata": {
        "jupyter": {
          "outputs_hidden": false,
          "source_hidden": false
        },
        "nteract": {
          "transient": {
            "deleting": false
          }
        }
      },
      "outputs": [],
      "source": [
        "# print the log of the webservice\n",
        "print(aci_service.get_logs())"
      ]
    },
    {
      "cell_type": "code",
      "execution_count": null,
      "metadata": {},
      "outputs": [],
      "source": [
        "# delete the web service\n",
        "aci_service.delete()\n",
        "model.delete()"
      ]
    },
    {
      "cell_type": "markdown",
      "metadata": {},
      "source": [
        "**Submission Checklist**\n",
        "- I have registered the model.\n",
        "- I have deployed the model with the best accuracy as a webservice.\n",
        "- I have tested the webservice by sending a request to the model endpoint.\n",
        "- I have deleted the webservice and shutdown all the computes that I have used.\n",
        "- I have taken a screenshot showing the model endpoint as active.\n",
        "- The project includes a file containing the environment details.\n"
      ]
    },
    {
      "cell_type": "markdown",
      "metadata": {},
      "source": []
    }
  ],
  "metadata": {
    "kernel_info": {
      "name": "python3"
    },
    "kernelspec": {
      "display_name": "Python 3",
      "language": "python",
      "name": "python3"
    },
    "language_info": {
      "codemirror_mode": {
        "name": "ipython",
        "version": 3
      },
      "file_extension": ".py",
      "mimetype": "text/x-python",
      "name": "python",
      "nbconvert_exporter": "python",
      "pygments_lexer": "ipython3",
      "version": "3.6.9"
    },
    "microsoft": {
      "host": {
        "AzureML": {
          "notebookHasBeenCompleted": true
        }
      }
    },
    "nteract": {
      "version": "nteract-front-end@1.0.0"
    }
  },
  "nbformat": 4,
  "nbformat_minor": 2
}
