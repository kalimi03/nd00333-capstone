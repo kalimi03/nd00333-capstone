{
  "cells": [
    {
      "cell_type": "markdown",
      "source": [
        "# Automated ML"
      ],
      "metadata": {}
    },
    {
      "cell_type": "code",
      "source": [
        "import logging\n",
        "import os\n",
        "import csv\n",
        "\n",
        "from matplotlib import pyplot as plt\n",
        "import numpy as np\n",
        "import pandas as pd\n",
        "from sklearn import datasets\n",
        "import pkg_resources\n",
        "\n",
        "import azureml.core\n",
        "from azureml.core.experiment import Experiment\n",
        "from azureml.core.workspace import Workspace\n",
        "from azureml.train.automl import AutoMLConfig\n",
        "# from azureml.core.dataset import Dataset\n",
        "from azureml.core import Dataset, Datastore\n",
        "from azureml.pipeline.steps import AutoMLStep"
      ],
      "outputs": [],
      "execution_count": 1,
      "metadata": {
        "gather": {
          "logged": 1639213189593
        },
        "jupyter": {
          "outputs_hidden": false,
          "source_hidden": false
        },
        "nteract": {
          "transient": {
            "deleting": false
          }
        }
      }
    },
    {
      "cell_type": "markdown",
      "source": [
        "## Dataset\n",
        "\n",
        "### Overview\n",
        "Stellar Classification uses the spectral data of stars to categorize them into different categories. The modern stellar classification system is known as the Morgan–Keenan (MK) classification system. It uses the old HR classification system to categorize stars with their chromaticity and uses Roman numerals to categorize the star’s size.\n",
        "In this Dataset, we will be using Absolute Magnitude and B-V Color Index to Identify Giants and Dwarfs.\n",
        "\n",
        "#### Data content:\n",
        "This Dataset contains several features of Stars:\n",
        "1. Vmag: Visual Apparent Magnitude of the Star\n",
        "2. Plx: Distance Between the Star and the Earth\n",
        "3. e_Plx: Standard Error of Plx (Drop the Row if you find the e_Plx is too high!)\n",
        "4. B-V: B-V color index. (A hot star has a B-V color index close to 0 or negative, while a cool star has a B-V color index close to 2.0.\n",
        "5. Amag: Absolute Magnitude of the Star\n",
        "\n",
        "#### Activity of Project:\n",
        "In this capstone project we will be predicting the TargetClass given the above feature as input."
      ],
      "metadata": {}
    },
    {
      "cell_type": "code",
      "source": [
        "ws = Workspace.from_config()\n",
        "\n",
        "# choose a name for experiment\n",
        "experiment_name = 'demo-experiment'\n",
        "experiment=Experiment(ws, experiment_name)"
      ],
      "outputs": [],
      "execution_count": 2,
      "metadata": {
        "gather": {
          "logged": 1639213220437
        },
        "jupyter": {
          "outputs_hidden": false,
          "source_hidden": false
        },
        "nteract": {
          "transient": {
            "deleting": false
          }
        }
      }
    },
    {
      "cell_type": "code",
      "source": [
        "# Try to load the dataset from the Workspace. Otherwise, create it from the file\n",
        "# NOTE: update the key to match the dataset name\n",
        "found = False\n",
        "key = \"spectral-dataset\"\n",
        "description_text = \"spectral data of stars dataset for udacity capstone project\"\n",
        "if key in ws.datasets.keys(): \n",
        "        found = True\n",
        "        dataset = ws.datasets[key] \n",
        "if not found:\n",
        "        # Create AML Dataset and register it into Workspace\n",
        "        example_data = 'https://raw.githubusercontent.com/kalimi03/nd00333-capstone/master/Star3642_balanced.csv'\n",
        "        dataset = Dataset.Tabular.from_delimited_files(example_data)        \n",
        "        #Register Dataset in Workspace\n",
        "        dataset = dataset.register(workspace=ws,\n",
        "                                   name=key,\n",
        "                                   description=description_text)\n",
        "\n",
        "df = dataset.to_pandas_dataframe().dropna()\n",
        "df.pop(\"SpType\")\n",
        "df.describe()"
      ],
      "outputs": [
        {
          "output_type": "execute_result",
          "execution_count": 4,
          "data": {
            "text/plain": "              Vmag          Plx        e_Plx          B-V         Amag  \\\ncount  3642.000000  3642.000000  3642.000000  3642.000000  3642.000000   \nmean      8.120530     7.606153     1.176568     0.827077    16.427388   \nstd       1.338875    11.924052     0.919999     0.436699     2.428144   \nmin       0.450000    -6.820000     0.470000    -0.196000     2.820000   \n25%       7.370000     2.740000     0.840000     0.487250    15.150312   \n50%       8.390000     4.950000     1.040000     0.867000    16.392485   \n75%       9.060000     8.670000     1.270000     1.136000    18.029836   \nmax      12.490000   280.270000    30.290000     2.530000    29.249165   \n\n       TargetClass  \ncount  3642.000000  \nmean      0.500000  \nstd       0.500069  \nmin       0.000000  \n25%       0.000000  \n50%       0.500000  \n75%       1.000000  \nmax       1.000000  ",
            "text/html": "<div>\n<style scoped>\n    .dataframe tbody tr th:only-of-type {\n        vertical-align: middle;\n    }\n\n    .dataframe tbody tr th {\n        vertical-align: top;\n    }\n\n    .dataframe thead th {\n        text-align: right;\n    }\n</style>\n<table border=\"1\" class=\"dataframe\">\n  <thead>\n    <tr style=\"text-align: right;\">\n      <th></th>\n      <th>Vmag</th>\n      <th>Plx</th>\n      <th>e_Plx</th>\n      <th>B-V</th>\n      <th>Amag</th>\n      <th>TargetClass</th>\n    </tr>\n  </thead>\n  <tbody>\n    <tr>\n      <th>count</th>\n      <td>3642.000000</td>\n      <td>3642.000000</td>\n      <td>3642.000000</td>\n      <td>3642.000000</td>\n      <td>3642.000000</td>\n      <td>3642.000000</td>\n    </tr>\n    <tr>\n      <th>mean</th>\n      <td>8.120530</td>\n      <td>7.606153</td>\n      <td>1.176568</td>\n      <td>0.827077</td>\n      <td>16.427388</td>\n      <td>0.500000</td>\n    </tr>\n    <tr>\n      <th>std</th>\n      <td>1.338875</td>\n      <td>11.924052</td>\n      <td>0.919999</td>\n      <td>0.436699</td>\n      <td>2.428144</td>\n      <td>0.500069</td>\n    </tr>\n    <tr>\n      <th>min</th>\n      <td>0.450000</td>\n      <td>-6.820000</td>\n      <td>0.470000</td>\n      <td>-0.196000</td>\n      <td>2.820000</td>\n      <td>0.000000</td>\n    </tr>\n    <tr>\n      <th>25%</th>\n      <td>7.370000</td>\n      <td>2.740000</td>\n      <td>0.840000</td>\n      <td>0.487250</td>\n      <td>15.150312</td>\n      <td>0.000000</td>\n    </tr>\n    <tr>\n      <th>50%</th>\n      <td>8.390000</td>\n      <td>4.950000</td>\n      <td>1.040000</td>\n      <td>0.867000</td>\n      <td>16.392485</td>\n      <td>0.500000</td>\n    </tr>\n    <tr>\n      <th>75%</th>\n      <td>9.060000</td>\n      <td>8.670000</td>\n      <td>1.270000</td>\n      <td>1.136000</td>\n      <td>18.029836</td>\n      <td>1.000000</td>\n    </tr>\n    <tr>\n      <th>max</th>\n      <td>12.490000</td>\n      <td>280.270000</td>\n      <td>30.290000</td>\n      <td>2.530000</td>\n      <td>29.249165</td>\n      <td>1.000000</td>\n    </tr>\n  </tbody>\n</table>\n</div>"
          },
          "metadata": {}
        }
      ],
      "execution_count": 4,
      "metadata": {
        "gather": {
          "logged": 1639213280344
        },
        "jupyter": {
          "outputs_hidden": false,
          "source_hidden": false
        },
        "nteract": {
          "transient": {
            "deleting": false
          }
        }
      }
    },
    {
      "cell_type": "markdown",
      "source": [
        "## Creating or attaching a compute cluster target"
      ],
      "metadata": {
        "nteract": {
          "transient": {
            "deleting": false
          }
        }
      }
    },
    {
      "cell_type": "code",
      "source": [
        "from azureml.core.compute import AmlCompute\n",
        "from azureml.core.compute import ComputeTarget\n",
        "from azureml.core.compute_target import ComputeTargetException\n",
        "\n",
        "amlcompute_cluster_name = \"demo-cluster\"\n",
        "try:\n",
        "    compute_target = ComputeTarget(workspace=ws, name=amlcompute_cluster_name)\n",
        "    print('Found existing cluster, use it.')\n",
        "except ComputeTargetException:\n",
        "    compute_config = AmlCompute.provisioning_configuration(vm_size='STANDARD_D2_V2', max_nodes=4)\n",
        "    compute_target = ComputeTarget.create(ws, amlcompute_cluster_name, compute_config)\n",
        "\n",
        "compute_target.wait_for_completion(show_output=True, min_node_count = 1, timeout_in_minutes = 1)\n"
      ],
      "outputs": [
        {
          "output_type": "stream",
          "name": "stdout",
          "text": "Found existing cluster, use it.\nSucceeded\nAmlCompute wait for completion finished\n\nMinimum number of nodes requested have been provisioned\n"
        }
      ],
      "execution_count": 5,
      "metadata": {
        "gather": {
          "logged": 1639213295798
        },
        "jupyter": {
          "outputs_hidden": false,
          "source_hidden": false
        },
        "nteract": {
          "transient": {
            "deleting": false
          }
        }
      }
    },
    {
      "cell_type": "markdown",
      "source": [
        "## AutoML Configuration\n",
        "\n",
        "The details of Azure ML configuration settings have been explained in the ReadMe document."
      ],
      "metadata": {}
    },
    {
      "cell_type": "code",
      "source": [
        "project_folder = './insurance-project'\n",
        "automl_settings = {\n",
        "    \"n_cross_validations\": 5,\n",
        "    \"experiment_timeout_minutes\": 25,\n",
        "    \"max_concurrent_iterations\": 5,\n",
        "    \"enable_early_stopping\": True,\n",
        "    \"primary_metric\": 'accuracy'\n",
        "}\n",
        "automl_config = AutoMLConfig(compute_target=compute_target,\n",
        "                            task = 'classification',\n",
        "                            training_data=dataset,\n",
        "                            label_column_name =\"TargetClass\",\n",
        "                            path = project_folder,\n",
        "                            **automl_settings\n",
        "                            )"
      ],
      "outputs": [],
      "execution_count": 7,
      "metadata": {
        "gather": {
          "logged": 1639213321659
        },
        "jupyter": {
          "outputs_hidden": false,
          "source_hidden": false
        },
        "nteract": {
          "transient": {
            "deleting": false
          }
        }
      }
    },
    {
      "cell_type": "code",
      "source": [
        "remote_run = experiment.submit(automl_config, show_output=True)"
      ],
      "outputs": [
        {
          "output_type": "stream",
          "name": "stdout",
          "text": "Submitting remote run.\nNo run_configuration provided, running on demo-cluster with default configuration\nRunning on remote compute: demo-cluster\n"
        },
        {
          "output_type": "display_data",
          "data": {
            "text/plain": "<IPython.core.display.HTML object>",
            "text/html": "<table style=\"width:100%\"><tr><th>Experiment</th><th>Id</th><th>Type</th><th>Status</th><th>Details Page</th><th>Docs Page</th></tr><tr><td>demo-experiment</td><td>AutoML_f2ffd54f-172e-4409-bf3f-943e7cbaa3ed</td><td>automl</td><td>NotStarted</td><td><a href=\"https://ml.azure.com/runs/AutoML_f2ffd54f-172e-4409-bf3f-943e7cbaa3ed?wsid=/subscriptions/48a74bb7-9950-4cc1-9caa-5d50f995cc55/resourcegroups/aml-quickstarts-165546/workspaces/quick-starts-ws-165546&amp;tid=660b3398-b80e-49d2-bc5b-ac1dc93b5254\" target=\"_blank\" rel=\"noopener\">Link to Azure Machine Learning studio</a></td><td><a href=\"https://docs.microsoft.com/en-us/python/api/overview/azure/ml/intro?view=azure-ml-py\" target=\"_blank\" rel=\"noopener\">Link to Documentation</a></td></tr></table>"
          },
          "metadata": {}
        },
        {
          "output_type": "stream",
          "name": "stdout",
          "text": "\nCurrent status: FeaturesGeneration. Generating features for the dataset.\nCurrent status: DatasetCrossValidationSplit. Generating individually featurized CV splits.\nCurrent status: ModelSelection. Beginning model selection.\n\n****************************************************************************************************\nDATA GUARDRAILS: \n\nTYPE:         Class balancing detection\nSTATUS:       PASSED\nDESCRIPTION:  Your inputs were analyzed, and all classes are balanced in your training data.\n              Learn more about imbalanced data: https://aka.ms/AutomatedMLImbalancedData\n\n****************************************************************************************************\n\nTYPE:         Missing feature values imputation\nSTATUS:       PASSED\nDESCRIPTION:  No feature missing values were detected in the training data.\n              Learn more about missing value imputation: https://aka.ms/AutomatedMLFeaturization\n\n****************************************************************************************************\n\nTYPE:         High cardinality feature detection\nSTATUS:       PASSED\nDESCRIPTION:  Your inputs were analyzed, and no high cardinality features were detected.\n              Learn more about high cardinality feature handling: https://aka.ms/AutomatedMLFeaturization\n\n****************************************************************************************************\n\n****************************************************************************************************\nITERATION: The iteration being evaluated.\nPIPELINE: A summary description of the pipeline being evaluated.\nDURATION: Time taken for the current iteration.\nMETRIC: The result of computing score on the fitted pipeline.\nBEST: The best observed score thus far.\n****************************************************************************************************\n\n ITERATION   PIPELINE                                       DURATION      METRIC      BEST\n         1   MaxAbsScaler XGBoostClassifier                 0:00:29       0.9253    0.9253\n         3   SparseNormalizer XGBoostClassifier             0:00:57       0.9187    0.9253\n         4   MaxAbsScaler LightGBM                          0:01:27       0.8998    0.9253\n         0   MaxAbsScaler LightGBM                          0:01:51       0.9149    0.9253\n         7   MaxAbsScaler LogisticRegression                0:01:00       0.9514    0.9514\n         2   MaxAbsScaler ExtremeRandomTrees                0:00:49       0.8553    0.9514\n         5   MaxAbsScaler LightGBM                          0:02:27       0.9080    0.9514\n         9   StandardScalerWrapper XGBoostClassifier        0:00:24       0.9020    0.9514\n         6   StandardScalerWrapper XGBoostClassifier        0:02:16       0.9152    0.9514\n         8   StandardScalerWrapper ExtremeRandomTrees       0:01:19       0.8306    0.9514\n        10   SparseNormalizer LightGBM                      0:00:52       0.8904    0.9514\n        11   StandardScalerWrapper XGBoostClassifier        0:01:29       0.9121    0.9514\n        12   MaxAbsScaler LogisticRegression                0:01:29       0.9484    0.9514\n        13   MaxAbsScaler SGD                               0:01:16       0.9489    0.9514\n        14   StandardScalerWrapper XGBoostClassifier        0:01:13       0.9080    0.9514\n        15   SparseNormalizer RandomForest                  0:01:10       0.8789    0.9514\n        16   StandardScalerWrapper LogisticRegression       0:01:18       0.9519    0.9519\n        17   StandardScalerWrapper RandomForest             0:01:59       0.8811    0.9519\n        18   StandardScalerWrapper XGBoostClassifier        0:01:54       0.9264    0.9519\n        19   TruncatedSVDWrapper RandomForest               0:02:08       0.9091    0.9519\n        20   TruncatedSVDWrapper RandomForest               0:01:42       0.9283    0.9519\n        21   StandardScalerWrapper XGBoostClassifier        0:01:03       0.9264    0.9519\n        22   SparseNormalizer XGBoostClassifier             0:01:23       0.9182    0.9519\n        23   StandardScalerWrapper LogisticRegression       0:01:57       0.9344    0.9519\n        24   StandardScalerWrapper RandomForest             0:01:46       0.6928    0.9519\n        25   MaxAbsScaler LogisticRegression                0:01:38       0.9467    0.9519\n        26   SparseNormalizer XGBoostClassifier             0:01:37       0.9160    0.9519\n        27   MaxAbsScaler LogisticRegression                0:01:01       0.9407    0.9519\n        28   SparseNormalizer LightGBM                      0:01:17       0.8946    0.9519\n        29   StandardScalerWrapper XGBoostClassifier        0:02:04       0.9259    0.9519\n        30   StandardScalerWrapper LogisticRegression       0:01:57       0.9415    0.9519\n        31   SparseNormalizer XGBoostClassifier             0:01:58       0.9184    0.9519\n        32   SparseNormalizer XGBoostClassifier             0:01:38       0.9212    0.9519\n        33   MaxAbsScaler LogisticRegression                0:01:12       0.9517    0.9519\n        34                                                  0:00:26          nan    0.9519\n        35                                                  0:00:22          nan    0.9519\n        36                                                  0:00:22          nan    0.9519\n        37                                                  0:00:22          nan    0.9519\n        38    VotingEnsemble                                0:01:07       0.9547    0.9547\n        39    StackEnsemble                                 0:01:48       0.9514    0.9547\n"
        }
      ],
      "execution_count": 8,
      "metadata": {
        "gather": {
          "logged": 1639214274953
        },
        "jupyter": {
          "outputs_hidden": false,
          "source_hidden": false
        },
        "nteract": {
          "transient": {
            "deleting": false
          }
        }
      }
    },
    {
      "cell_type": "markdown",
      "source": [
        "## Run Details"
      ],
      "metadata": {}
    },
    {
      "cell_type": "code",
      "source": [
        "from azureml.widgets import RunDetails\n",
        "RunDetails(remote_run).show()"
      ],
      "outputs": [
        {
          "output_type": "display_data",
          "data": {
            "text/plain": "_AutoMLWidget(widget_settings={'childWidgetDisplay': 'popup', 'send_telemetry': False, 'log_level': 'INFO', 's…",
            "application/vnd.jupyter.widget-view+json": {
              "version_major": 2,
              "version_minor": 0,
              "model_id": "06c2f8db72da41fdbaa2d0060118a49a"
            }
          },
          "metadata": {}
        },
        {
          "output_type": "display_data",
          "data": {
            "application/aml.mini.widget.v1": "{\"status\": \"Completed\", \"workbench_run_details_uri\": \"https://ml.azure.com/runs/AutoML_f2ffd54f-172e-4409-bf3f-943e7cbaa3ed?wsid=/subscriptions/48a74bb7-9950-4cc1-9caa-5d50f995cc55/resourcegroups/aml-quickstarts-165546/workspaces/quick-starts-ws-165546&tid=660b3398-b80e-49d2-bc5b-ac1dc93b5254\", \"run_id\": \"AutoML_f2ffd54f-172e-4409-bf3f-943e7cbaa3ed\", \"run_properties\": {\"run_id\": \"AutoML_f2ffd54f-172e-4409-bf3f-943e7cbaa3ed\", \"created_utc\": \"2021-12-11T09:02:20.263275Z\", \"properties\": {\"num_iterations\": \"1000\", \"training_type\": \"TrainFull\", \"acquisition_function\": \"EI\", \"primary_metric\": \"accuracy\", \"train_split\": \"0\", \"acquisition_parameter\": \"0\", \"num_cross_validation\": \"5\", \"target\": \"demo-cluster\", \"AMLSettingsJsonString\": \"{\\\"path\\\":null,\\\"name\\\":\\\"demo-experiment\\\",\\\"subscription_id\\\":\\\"48a74bb7-9950-4cc1-9caa-5d50f995cc55\\\",\\\"resource_group\\\":\\\"aml-quickstarts-165546\\\",\\\"workspace_name\\\":\\\"quick-starts-ws-165546\\\",\\\"region\\\":\\\"southcentralus\\\",\\\"compute_target\\\":\\\"demo-cluster\\\",\\\"spark_service\\\":null,\\\"azure_service\\\":\\\"remote\\\",\\\"many_models\\\":false,\\\"pipeline_fetch_max_batch_size\\\":1,\\\"enable_batch_run\\\":false,\\\"enable_run_restructure\\\":false,\\\"start_auxiliary_runs_before_parent_complete\\\":false,\\\"enable_code_generation\\\":false,\\\"iterations\\\":1000,\\\"primary_metric\\\":\\\"accuracy\\\",\\\"task_type\\\":\\\"classification\\\",\\\"data_script\\\":null,\\\"test_size\\\":0.0,\\\"test_include_predictions_only\\\":false,\\\"validation_size\\\":0.0,\\\"n_cross_validations\\\":5,\\\"y_min\\\":null,\\\"y_max\\\":null,\\\"num_classes\\\":null,\\\"featurization\\\":\\\"auto\\\",\\\"_ignore_package_version_incompatibilities\\\":false,\\\"is_timeseries\\\":false,\\\"max_cores_per_iteration\\\":1,\\\"max_concurrent_iterations\\\":5,\\\"iteration_timeout_minutes\\\":null,\\\"mem_in_mb\\\":null,\\\"enforce_time_on_windows\\\":false,\\\"experiment_timeout_minutes\\\":25,\\\"experiment_exit_score\\\":null,\\\"whitelist_models\\\":null,\\\"blacklist_algos\\\":[\\\"TensorFlowLinearClassifier\\\",\\\"TensorFlowDNN\\\"],\\\"supported_models\\\":[\\\"SVM\\\",\\\"RandomForest\\\",\\\"MultinomialNaiveBayes\\\",\\\"AveragedPerceptronClassifier\\\",\\\"LinearSVM\\\",\\\"LogisticRegression\\\",\\\"ExtremeRandomTrees\\\",\\\"XGBoostClassifier\\\",\\\"DecisionTree\\\",\\\"LightGBM\\\",\\\"TensorFlowLinearClassifier\\\",\\\"KNN\\\",\\\"SGD\\\",\\\"GradientBoosting\\\",\\\"TensorFlowDNN\\\",\\\"BernoulliNaiveBayes\\\"],\\\"private_models\\\":[],\\\"auto_blacklist\\\":true,\\\"blacklist_samples_reached\\\":false,\\\"exclude_nan_labels\\\":true,\\\"verbosity\\\":20,\\\"_debug_log\\\":\\\"azureml_automl.log\\\",\\\"show_warnings\\\":false,\\\"model_explainability\\\":true,\\\"service_url\\\":null,\\\"sdk_url\\\":null,\\\"sdk_packages\\\":null,\\\"enable_onnx_compatible_models\\\":false,\\\"enable_split_onnx_featurizer_estimator_models\\\":false,\\\"vm_type\\\":\\\"STANDARD_DS12_V2\\\",\\\"telemetry_verbosity\\\":20,\\\"send_telemetry\\\":true,\\\"enable_dnn\\\":false,\\\"scenario\\\":\\\"SDK-1.13.0\\\",\\\"environment_label\\\":null,\\\"save_mlflow\\\":false,\\\"force_text_dnn\\\":false,\\\"enable_feature_sweeping\\\":true,\\\"enable_early_stopping\\\":true,\\\"early_stopping_n_iters\\\":10,\\\"metrics\\\":null,\\\"enable_metric_confidence\\\":false,\\\"enable_ensembling\\\":true,\\\"enable_stack_ensembling\\\":true,\\\"ensemble_iterations\\\":15,\\\"enable_tf\\\":false,\\\"enable_subsampling\\\":null,\\\"subsample_seed\\\":null,\\\"enable_nimbusml\\\":false,\\\"enable_streaming\\\":false,\\\"force_streaming\\\":false,\\\"track_child_runs\\\":true,\\\"allowed_private_models\\\":[],\\\"label_column_name\\\":\\\"TargetClass\\\",\\\"weight_column_name\\\":null,\\\"cv_split_column_names\\\":null,\\\"positive_label\\\":null,\\\"enable_local_managed\\\":false,\\\"_local_managed_run_id\\\":null,\\\"cost_mode\\\":1,\\\"lag_length\\\":0,\\\"metric_operation\\\":\\\"maximize\\\",\\\"preprocess\\\":true}\", \"DataPrepJsonString\": \"{\\\\\\\"training_data\\\\\\\": {\\\\\\\"datasetId\\\\\\\": \\\\\\\"9f7a28ea-2cf7-4202-8e0d-95edff82bdc3\\\\\\\"}, \\\\\\\"datasets\\\\\\\": 0}\", \"EnableSubsampling\": null, \"runTemplate\": \"AutoML\", \"azureml.runsource\": \"automl\", \"display_task_type\": \"classification\", \"dependencies_versions\": \"{\\\"azureml-widgets\\\": \\\"1.34.0\\\", \\\"azureml-train\\\": \\\"1.34.0\\\", \\\"azureml-train-restclients-hyperdrive\\\": \\\"1.34.0\\\", \\\"azureml-train-core\\\": \\\"1.34.0\\\", \\\"azureml-train-automl\\\": \\\"1.34.0\\\", \\\"azureml-train-automl-runtime\\\": \\\"1.34.0\\\", \\\"azureml-train-automl-client\\\": \\\"1.34.0\\\", \\\"azureml-tensorboard\\\": \\\"1.34.0\\\", \\\"azureml-telemetry\\\": \\\"1.34.0\\\", \\\"azureml-sdk\\\": \\\"1.34.0\\\", \\\"azureml-samples\\\": \\\"0+unknown\\\", \\\"azureml-responsibleai\\\": \\\"1.34.0\\\", \\\"azureml-pipeline\\\": \\\"1.34.0\\\", \\\"azureml-pipeline-steps\\\": \\\"1.34.0\\\", \\\"azureml-pipeline-core\\\": \\\"1.34.0\\\", \\\"azureml-opendatasets\\\": \\\"1.34.0\\\", \\\"azureml-mlflow\\\": \\\"1.34.0\\\", \\\"azureml-interpret\\\": \\\"1.34.0\\\", \\\"azureml-inference-server-http\\\": \\\"0.3.1\\\", \\\"azureml-explain-model\\\": \\\"1.34.0\\\", \\\"azureml-defaults\\\": \\\"1.34.0\\\", \\\"azureml-dataset-runtime\\\": \\\"1.34.0\\\", \\\"azureml-dataprep\\\": \\\"2.22.2\\\", \\\"azureml-dataprep-rslex\\\": \\\"1.20.1\\\", \\\"azureml-dataprep-native\\\": \\\"38.0.0\\\", \\\"azureml-datadrift\\\": \\\"1.34.0\\\", \\\"azureml-core\\\": \\\"1.34.0\\\", \\\"azureml-contrib-services\\\": \\\"1.34.0\\\", \\\"azureml-contrib-server\\\": \\\"1.34.0\\\", \\\"azureml-contrib-reinforcementlearning\\\": \\\"1.34.0\\\", \\\"azureml-contrib-pipeline-steps\\\": \\\"1.34.0\\\", \\\"azureml-contrib-notebook\\\": \\\"1.34.0\\\", \\\"azureml-contrib-fairness\\\": \\\"1.34.0\\\", \\\"azureml-contrib-dataset\\\": \\\"1.34.0\\\", \\\"azureml-contrib-automl-pipeline-steps\\\": \\\"1.34.0\\\", \\\"azureml-cli-common\\\": \\\"1.34.0\\\", \\\"azureml-automl-runtime\\\": \\\"1.34.0\\\", \\\"azureml-automl-dnn-nlp\\\": \\\"1.34.0\\\", \\\"azureml-automl-core\\\": \\\"1.34.0\\\", \\\"azureml-accel-models\\\": \\\"1.34.0\\\"}\", \"_aml_system_scenario_identification\": \"Remote.Parent\", \"ClientType\": \"SDK\", \"environment_cpu_name\": \"AzureML-AutoML\", \"environment_cpu_label\": \"prod\", \"environment_gpu_name\": \"AzureML-AutoML-GPU\", \"environment_gpu_label\": \"prod\", \"root_attribution\": \"automl\", \"attribution\": \"AutoML\", \"Orchestrator\": \"AutoML\", \"CancelUri\": \"https://southcentralus.api.azureml.ms/jasmine/v1.0/subscriptions/48a74bb7-9950-4cc1-9caa-5d50f995cc55/resourceGroups/aml-quickstarts-165546/providers/Microsoft.MachineLearningServices/workspaces/quick-starts-ws-165546/experimentids/708b4102-9cf3-451e-86b7-f813a8a3417e/cancel/AutoML_f2ffd54f-172e-4409-bf3f-943e7cbaa3ed\", \"ClientSdkVersion\": \"1.36.1\", \"snapshotId\": \"00000000-0000-0000-0000-000000000000\", \"SetupRunId\": \"AutoML_f2ffd54f-172e-4409-bf3f-943e7cbaa3ed_setup\", \"SetupRunContainerId\": \"dcid.AutoML_f2ffd54f-172e-4409-bf3f-943e7cbaa3ed_setup\", \"FeaturizationRunJsonPath\": \"featurizer_container.json\", \"FeaturizationRunId\": \"AutoML_f2ffd54f-172e-4409-bf3f-943e7cbaa3ed_featurize\", \"ProblemInfoJsonString\": \"{\\\"dataset_num_categorical\\\": 0, \\\"is_sparse\\\": true, \\\"subsampling\\\": false, \\\"has_extra_col\\\": true, \\\"dataset_classes\\\": 2, \\\"dataset_features\\\": 517, \\\"dataset_samples\\\": 3642, \\\"single_frequency_class_detected\\\": false}\", \"ModelExplainRunId\": \"AutoML_f2ffd54f-172e-4409-bf3f-943e7cbaa3ed_ModelExplain\"}, \"tags\": {\"model_explain_run\": \"best_run\", \"_aml_system_azureml.automlComponent\": \"AutoML\", \"pipeline_id\": \"\", \"score\": \"\", \"predicted_cost\": \"\", \"fit_time\": \"\", \"training_percent\": \"\", \"iteration\": \"\", \"run_preprocessor\": \"\", \"run_algorithm\": \"\", \"dynamic_whitelisting_iterations\": \"<25>;<30>;<35>;\", \"_aml_system_azureml.automl_early_exit_message\": \"No scores improved over last 20 iterations, so experiment stopped early. This early stopping behavior can be disabled by setting enable_early_stopping = False in AutoMLConfig for notebook/python SDK runs.\", \"automl_best_child_run_id\": \"AutoML_f2ffd54f-172e-4409-bf3f-943e7cbaa3ed_38\", \"model_explain_best_run_child_id\": \"AutoML_f2ffd54f-172e-4409-bf3f-943e7cbaa3ed_38\"}, \"end_time_utc\": \"2021-12-11T09:17:33.501673Z\", \"status\": \"Completed\", \"log_files\": {}, \"log_groups\": [], \"run_duration\": \"0:15:13\", \"run_number\": \"1\", \"run_queued_details\": {\"status\": \"Completed\", \"details\": null}}, \"child_runs\": [{\"run_id\": \"AutoML_f2ffd54f-172e-4409-bf3f-943e7cbaa3ed_setup\", \"run_number\": 2, \"metric\": null, \"status\": \"Completed\", \"run_type\": \"azureml.scriptrun\", \"training_percent\": null, \"start_time\": \"2021-12-11T09:02:34.886322Z\", \"end_time\": \"2021-12-11T09:03:54.244129Z\", \"created_time\": \"2021-12-11T09:02:34.886322Z\", \"created_time_dt\": \"2021-12-11T09:02:34.886322Z\", \"duration\": \"0:01:19\", \"iteration\": null, \"goal\": null, \"run_name\": \"Completed\", \"run_properties\": null}, {\"run_id\": \"AutoML_f2ffd54f-172e-4409-bf3f-943e7cbaa3ed_featurize\", \"run_number\": 3, \"metric\": null, \"status\": \"Completed\", \"run_type\": \"automl.featurization\", \"training_percent\": null, \"start_time\": \"2021-12-11T09:03:55.178326Z\", \"end_time\": \"2021-12-11T09:04:33.165893Z\", \"created_time\": \"2021-12-11T09:03:54.744623Z\", \"created_time_dt\": \"2021-12-11T09:03:54.744623Z\", \"duration\": \"0:00:38\", \"iteration\": null, \"goal\": null, \"run_name\": \"Completed\", \"run_properties\": null}, {\"run_id\": \"AutoML_f2ffd54f-172e-4409-bf3f-943e7cbaa3ed_0\", \"run_number\": 5, \"metric\": null, \"status\": \"Completed\", \"run_type\": \"azureml.scriptrun\", \"training_percent\": \"100\", \"start_time\": \"2021-12-11T09:04:34.067947Z\", \"end_time\": \"2021-12-11T09:06:25.56504Z\", \"created_time\": \"2021-12-11T09:04:34.067947Z\", \"created_time_dt\": \"2021-12-11T09:04:34.067947Z\", \"duration\": \"0:01:51\", \"iteration\": \"0\", \"goal\": \"accuracy_max\", \"run_name\": \"MaxAbsScaler, LightGBM\", \"run_properties\": \"copy=True\", \"primary_metric\": 0.91488227, \"best_metric\": 0.91488227}, {\"run_id\": \"AutoML_f2ffd54f-172e-4409-bf3f-943e7cbaa3ed_2\", \"run_number\": 6, \"metric\": null, \"status\": \"Completed\", \"run_type\": \"azureml.scriptrun\", \"training_percent\": \"100\", \"start_time\": \"2021-12-11T09:06:43.569886Z\", \"end_time\": \"2021-12-11T09:07:32.451403Z\", \"created_time\": \"2021-12-11T09:04:34.076514Z\", \"created_time_dt\": \"2021-12-11T09:04:34.076514Z\", \"duration\": \"0:02:58\", \"iteration\": \"2\", \"goal\": \"accuracy_max\", \"run_name\": \"MaxAbsScaler, ExtremeRandomTrees\", \"run_properties\": \"copy=True\", \"primary_metric\": 0.85529063, \"best_metric\": 0.92531543}, {\"run_id\": \"AutoML_f2ffd54f-172e-4409-bf3f-943e7cbaa3ed_1\", \"run_number\": 7, \"metric\": null, \"status\": \"Completed\", \"run_type\": \"azureml.scriptrun\", \"training_percent\": \"100\", \"start_time\": \"2021-12-11T09:04:34.086227Z\", \"end_time\": \"2021-12-11T09:05:03.138338Z\", \"created_time\": \"2021-12-11T09:04:34.086227Z\", \"created_time_dt\": \"2021-12-11T09:04:34.086227Z\", \"duration\": \"0:00:29\", \"iteration\": \"1\", \"goal\": \"accuracy_max\", \"run_name\": \"MaxAbsScaler, XGBoostClassifier\", \"run_properties\": \"copy=True\", \"primary_metric\": 0.92531543, \"best_metric\": 0.92531543}, {\"run_id\": \"AutoML_f2ffd54f-172e-4409-bf3f-943e7cbaa3ed_4\", \"run_number\": 8, \"metric\": null, \"status\": \"Completed\", \"run_type\": \"azureml.scriptrun\", \"training_percent\": \"100\", \"start_time\": \"2021-12-11T09:04:34.070111Z\", \"end_time\": \"2021-12-11T09:06:01.17958Z\", \"created_time\": \"2021-12-11T09:04:34.070111Z\", \"created_time_dt\": \"2021-12-11T09:04:34.070111Z\", \"duration\": \"0:01:27\", \"iteration\": \"4\", \"goal\": \"accuracy_max\", \"run_name\": \"MaxAbsScaler, LightGBM\", \"run_properties\": \"copy=True\", \"primary_metric\": 0.89978067, \"best_metric\": 0.92531543}, {\"run_id\": \"AutoML_f2ffd54f-172e-4409-bf3f-943e7cbaa3ed_3\", \"run_number\": 9, \"metric\": null, \"status\": \"Completed\", \"run_type\": \"azureml.scriptrun\", \"training_percent\": \"100\", \"start_time\": \"2021-12-11T09:04:34.090165Z\", \"end_time\": \"2021-12-11T09:05:30.910303Z\", \"created_time\": \"2021-12-11T09:04:34.090165Z\", \"created_time_dt\": \"2021-12-11T09:04:34.090165Z\", \"duration\": \"0:00:56\", \"iteration\": \"3\", \"goal\": \"accuracy_max\", \"run_name\": \"SparseNormalizer, XGBoostClassifier\", \"run_properties\": \"copy=True, norm='l2'\", \"primary_metric\": 0.91872579, \"best_metric\": 0.92531543}, {\"run_id\": \"AutoML_f2ffd54f-172e-4409-bf3f-943e7cbaa3ed_5\", \"run_number\": 10, \"metric\": null, \"status\": \"Completed\", \"run_type\": \"azureml.scriptrun\", \"training_percent\": \"100\", \"start_time\": \"2021-12-11T09:05:05.005681Z\", \"end_time\": \"2021-12-11T09:07:31.927555Z\", \"created_time\": \"2021-12-11T09:05:05.005681Z\", \"created_time_dt\": \"2021-12-11T09:05:05.005681Z\", \"duration\": \"0:02:26\", \"iteration\": \"5\", \"goal\": \"accuracy_max\", \"run_name\": \"MaxAbsScaler, LightGBM\", \"run_properties\": \"copy=True\", \"primary_metric\": 0.90801979, \"best_metric\": 0.92531543}, {\"run_id\": \"AutoML_f2ffd54f-172e-4409-bf3f-943e7cbaa3ed_6\", \"run_number\": 11, \"metric\": null, \"status\": \"Completed\", \"run_type\": \"azureml.scriptrun\", \"training_percent\": \"100\", \"start_time\": \"2021-12-11T09:05:33.879684Z\", \"end_time\": \"2021-12-11T09:07:49.566822Z\", \"created_time\": \"2021-12-11T09:05:33.879684Z\", \"created_time_dt\": \"2021-12-11T09:05:33.879684Z\", \"duration\": \"0:02:15\", \"iteration\": \"6\", \"goal\": \"accuracy_max\", \"run_name\": \"StandardScalerWrapper, XGBoostClassifier\", \"run_properties\": \"\\n    copy=True,\\n    with_mean=False,\\n    with_std=False\\n\", \"primary_metric\": 0.91515662, \"best_metric\": 0.92531543}, {\"run_id\": \"AutoML_f2ffd54f-172e-4409-bf3f-943e7cbaa3ed_7\", \"run_number\": 12, \"metric\": null, \"status\": \"Completed\", \"run_type\": \"azureml.scriptrun\", \"training_percent\": \"100\", \"start_time\": \"2021-12-11T09:06:04.025676Z\", \"end_time\": \"2021-12-11T09:07:03.991262Z\", \"created_time\": \"2021-12-11T09:06:04.025676Z\", \"created_time_dt\": \"2021-12-11T09:06:04.025676Z\", \"duration\": \"0:00:59\", \"iteration\": \"7\", \"goal\": \"accuracy_max\", \"run_name\": \"MaxAbsScaler, LogisticRegression\", \"run_properties\": \"copy=True\", \"primary_metric\": 0.95139812, \"best_metric\": 0.95139812}, {\"run_id\": \"AutoML_f2ffd54f-172e-4409-bf3f-943e7cbaa3ed_8\", \"run_number\": 13, \"metric\": null, \"status\": \"Completed\", \"run_type\": \"azureml.scriptrun\", \"training_percent\": \"100\", \"start_time\": \"2021-12-11T09:06:28.539371Z\", \"end_time\": \"2021-12-11T09:07:47.973452Z\", \"created_time\": \"2021-12-11T09:06:28.539371Z\", \"created_time_dt\": \"2021-12-11T09:06:28.539371Z\", \"duration\": \"0:01:19\", \"iteration\": \"8\", \"goal\": \"accuracy_max\", \"run_name\": \"StandardScalerWrapper, ExtremeRandomTrees\", \"run_properties\": \"\\n    copy=True,\\n    with_mean=False,\\n    with_std=False\\n\", \"primary_metric\": 0.83061397, \"best_metric\": 0.95139812}, {\"run_id\": \"AutoML_f2ffd54f-172e-4409-bf3f-943e7cbaa3ed_9\", \"run_number\": 14, \"metric\": null, \"status\": \"Completed\", \"run_type\": \"azureml.scriptrun\", \"training_percent\": \"100\", \"start_time\": \"2021-12-11T09:07:06.666397Z\", \"end_time\": \"2021-12-11T09:07:30.76955Z\", \"created_time\": \"2021-12-11T09:07:06.666397Z\", \"created_time_dt\": \"2021-12-11T09:07:06.666397Z\", \"duration\": \"0:00:24\", \"iteration\": \"9\", \"goal\": \"accuracy_max\", \"run_name\": \"StandardScalerWrapper, XGBoostClassifier\", \"run_properties\": \"\\n    copy=True,\\n    with_mean=False,\\n    with_std=False\\n\", \"primary_metric\": 0.90197659, \"best_metric\": 0.95139812}, {\"run_id\": \"AutoML_f2ffd54f-172e-4409-bf3f-943e7cbaa3ed_10\", \"run_number\": 15, \"metric\": null, \"status\": \"Completed\", \"run_type\": \"azureml.scriptrun\", \"training_percent\": \"100\", \"start_time\": \"2021-12-11T09:07:33.733803Z\", \"end_time\": \"2021-12-11T09:08:26.089505Z\", \"created_time\": \"2021-12-11T09:07:33.733803Z\", \"created_time_dt\": \"2021-12-11T09:07:33.733803Z\", \"duration\": \"0:00:52\", \"iteration\": \"10\", \"goal\": \"accuracy_max\", \"run_name\": \"SparseNormalizer, LightGBM\", \"run_properties\": \"copy=True, norm='l1'\", \"primary_metric\": 0.89044303, \"best_metric\": 0.95139812}, {\"run_id\": \"AutoML_f2ffd54f-172e-4409-bf3f-943e7cbaa3ed_11\", \"run_number\": 16, \"metric\": null, \"status\": \"Completed\", \"run_type\": \"azureml.scriptrun\", \"training_percent\": \"100\", \"start_time\": \"2021-12-11T09:07:38.667883Z\", \"end_time\": \"2021-12-11T09:09:07.188367Z\", \"created_time\": \"2021-12-11T09:07:38.667883Z\", \"created_time_dt\": \"2021-12-11T09:07:38.667883Z\", \"duration\": \"0:01:28\", \"iteration\": \"11\", \"goal\": \"accuracy_max\", \"run_name\": \"StandardScalerWrapper, XGBoostClassifier\", \"run_properties\": \"\\n    copy=True,\\n    with_mean=False,\\n    with_std=False\\n\", \"primary_metric\": 0.9121354, \"best_metric\": 0.95139812}, {\"run_id\": \"AutoML_f2ffd54f-172e-4409-bf3f-943e7cbaa3ed_12\", \"run_number\": 17, \"metric\": null, \"status\": \"Completed\", \"run_type\": \"azureml.scriptrun\", \"training_percent\": \"100\", \"start_time\": \"2021-12-11T09:07:38.712436Z\", \"end_time\": \"2021-12-11T09:09:07.435658Z\", \"created_time\": \"2021-12-11T09:07:38.712436Z\", \"created_time_dt\": \"2021-12-11T09:07:38.712436Z\", \"duration\": \"0:01:28\", \"iteration\": \"12\", \"goal\": \"accuracy_max\", \"run_name\": \"MaxAbsScaler, LogisticRegression\", \"run_properties\": \"copy=True\", \"primary_metric\": 0.9483784, \"best_metric\": 0.95139812}, {\"run_id\": \"AutoML_f2ffd54f-172e-4409-bf3f-943e7cbaa3ed_13\", \"run_number\": 18, \"metric\": null, \"status\": \"Completed\", \"run_type\": \"azureml.scriptrun\", \"training_percent\": \"100\", \"start_time\": \"2021-12-11T09:07:50.627931Z\", \"end_time\": \"2021-12-11T09:09:06.962995Z\", \"created_time\": \"2021-12-11T09:07:50.627931Z\", \"created_time_dt\": \"2021-12-11T09:07:50.627931Z\", \"duration\": \"0:01:16\", \"iteration\": \"13\", \"goal\": \"accuracy_max\", \"run_name\": \"MaxAbsScaler, SGD\", \"run_properties\": \"copy=True\", \"primary_metric\": 0.94892635, \"best_metric\": 0.95139812}, {\"run_id\": \"AutoML_f2ffd54f-172e-4409-bf3f-943e7cbaa3ed_14\", \"run_number\": 19, \"metric\": null, \"status\": \"Completed\", \"run_type\": \"azureml.scriptrun\", \"training_percent\": \"100\", \"start_time\": \"2021-12-11T09:07:54.409713Z\", \"end_time\": \"2021-12-11T09:09:07.447168Z\", \"created_time\": \"2021-12-11T09:07:54.409713Z\", \"created_time_dt\": \"2021-12-11T09:07:54.409713Z\", \"duration\": \"0:01:13\", \"iteration\": \"14\", \"goal\": \"accuracy_max\", \"run_name\": \"StandardScalerWrapper, XGBoostClassifier\", \"run_properties\": \"\\n    copy=True,\\n    with_mean=False,\\n    with_std=False\\n\", \"primary_metric\": 0.90801678, \"best_metric\": 0.95139812}, {\"run_id\": \"AutoML_f2ffd54f-172e-4409-bf3f-943e7cbaa3ed_15\", \"run_number\": 20, \"metric\": null, \"status\": \"Completed\", \"run_type\": \"azureml.scriptrun\", \"training_percent\": \"100\", \"start_time\": \"2021-12-11T09:08:28.877861Z\", \"end_time\": \"2021-12-11T09:09:38.876255Z\", \"created_time\": \"2021-12-11T09:08:28.877861Z\", \"created_time_dt\": \"2021-12-11T09:08:28.877861Z\", \"duration\": \"0:01:09\", \"iteration\": \"15\", \"goal\": \"accuracy_max\", \"run_name\": \"SparseNormalizer, RandomForest\", \"run_properties\": \"copy=True, norm='l2'\", \"primary_metric\": 0.8789106, \"best_metric\": 0.95139812}, {\"run_id\": \"AutoML_f2ffd54f-172e-4409-bf3f-943e7cbaa3ed_16\", \"run_number\": 21, \"metric\": null, \"status\": \"Completed\", \"run_type\": \"azureml.scriptrun\", \"training_percent\": \"100\", \"start_time\": \"2021-12-11T09:09:10.289341Z\", \"end_time\": \"2021-12-11T09:10:27.93718Z\", \"created_time\": \"2021-12-11T09:09:10.289341Z\", \"created_time_dt\": \"2021-12-11T09:09:10.289341Z\", \"duration\": \"0:01:17\", \"iteration\": \"16\", \"goal\": \"accuracy_max\", \"run_name\": \"StandardScalerWrapper, LogisticRegression\", \"run_properties\": \"\\n    copy=True,\\n    with_mean=False,\\n    with_std=False\\n\", \"primary_metric\": 0.95194757, \"best_metric\": 0.95194757}, {\"run_id\": \"AutoML_f2ffd54f-172e-4409-bf3f-943e7cbaa3ed_17\", \"run_number\": 22, \"metric\": null, \"status\": \"Completed\", \"run_type\": \"azureml.scriptrun\", \"training_percent\": \"100\", \"start_time\": \"2021-12-11T09:09:10.323518Z\", \"end_time\": \"2021-12-11T09:11:09.040301Z\", \"created_time\": \"2021-12-11T09:09:10.323518Z\", \"created_time_dt\": \"2021-12-11T09:09:10.323518Z\", \"duration\": \"0:01:58\", \"iteration\": \"17\", \"goal\": \"accuracy_max\", \"run_name\": \"StandardScalerWrapper, RandomForest\", \"run_properties\": \"\\n    copy=True,\\n    with_mean=False,\\n    with_std=False\\n\", \"primary_metric\": 0.8811133, \"best_metric\": 0.95194757}, {\"run_id\": \"AutoML_f2ffd54f-172e-4409-bf3f-943e7cbaa3ed_19\", \"run_number\": 23, \"metric\": null, \"status\": \"Completed\", \"run_type\": \"azureml.scriptrun\", \"training_percent\": \"100\", \"start_time\": \"2021-12-11T09:09:14.970103Z\", \"end_time\": \"2021-12-11T09:11:23.307139Z\", \"created_time\": \"2021-12-11T09:09:14.970103Z\", \"created_time_dt\": \"2021-12-11T09:09:14.970103Z\", \"duration\": \"0:02:08\", \"iteration\": \"19\", \"goal\": \"accuracy_max\", \"run_name\": \"TruncatedSVDWrapper, RandomForest\", \"run_properties\": \"n_components=0.8015789473684211, random_state=None\", \"primary_metric\": 0.90911191, \"best_metric\": 0.95194757}, {\"run_id\": \"AutoML_f2ffd54f-172e-4409-bf3f-943e7cbaa3ed_18\", \"run_number\": 24, \"metric\": null, \"status\": \"Completed\", \"run_type\": \"azureml.scriptrun\", \"training_percent\": \"100\", \"start_time\": \"2021-12-11T09:09:14.97629Z\", \"end_time\": \"2021-12-11T09:11:08.842576Z\", \"created_time\": \"2021-12-11T09:09:14.97629Z\", \"created_time_dt\": \"2021-12-11T09:09:14.97629Z\", \"duration\": \"0:01:53\", \"iteration\": \"18\", \"goal\": \"accuracy_max\", \"run_name\": \"StandardScalerWrapper, XGBoostClassifier\", \"run_properties\": \"\\n    copy=True,\\n    with_mean=False,\\n    with_std=False\\n\", \"primary_metric\": 0.9264083, \"best_metric\": 0.95194757}, {\"run_id\": \"AutoML_f2ffd54f-172e-4409-bf3f-943e7cbaa3ed_20\", \"run_number\": 25, \"metric\": null, \"status\": \"Completed\", \"run_type\": \"azureml.scriptrun\", \"training_percent\": \"100\", \"start_time\": \"2021-12-11T09:09:41.942584Z\", \"end_time\": \"2021-12-11T09:11:24.200549Z\", \"created_time\": \"2021-12-11T09:09:41.942584Z\", \"created_time_dt\": \"2021-12-11T09:09:41.942584Z\", \"duration\": \"0:01:42\", \"iteration\": \"20\", \"goal\": \"accuracy_max\", \"run_name\": \"TruncatedSVDWrapper, RandomForest\", \"run_properties\": \"n_components=0.7026315789473684, random_state=None\", \"primary_metric\": 0.92833213, \"best_metric\": 0.95194757}, {\"run_id\": \"AutoML_f2ffd54f-172e-4409-bf3f-943e7cbaa3ed_21\", \"run_number\": 26, \"metric\": null, \"status\": \"Completed\", \"run_type\": \"azureml.scriptrun\", \"training_percent\": \"100\", \"start_time\": \"2021-12-11T09:10:31.049963Z\", \"end_time\": \"2021-12-11T09:11:33.882824Z\", \"created_time\": \"2021-12-11T09:10:31.049963Z\", \"created_time_dt\": \"2021-12-11T09:10:31.049963Z\", \"duration\": \"0:01:02\", \"iteration\": \"21\", \"goal\": \"accuracy_max\", \"run_name\": \"StandardScalerWrapper, XGBoostClassifier\", \"run_properties\": \"\\n    copy=True,\\n    with_mean=False,\\n    with_std=False\\n\", \"primary_metric\": 0.92641282, \"best_metric\": 0.95194757}, {\"run_id\": \"AutoML_f2ffd54f-172e-4409-bf3f-943e7cbaa3ed_22\", \"run_number\": 27, \"metric\": null, \"status\": \"Completed\", \"run_type\": \"azureml.scriptrun\", \"training_percent\": \"100\", \"start_time\": \"2021-12-11T09:11:11.749788Z\", \"end_time\": \"2021-12-11T09:12:34.841311Z\", \"created_time\": \"2021-12-11T09:11:11.749788Z\", \"created_time_dt\": \"2021-12-11T09:11:11.749788Z\", \"duration\": \"0:01:23\", \"iteration\": \"22\", \"goal\": \"accuracy_max\", \"run_name\": \"SparseNormalizer, XGBoostClassifier\", \"run_properties\": \"copy=True, norm='l1'\", \"primary_metric\": 0.91817144, \"best_metric\": 0.95194757}, {\"run_id\": \"AutoML_f2ffd54f-172e-4409-bf3f-943e7cbaa3ed_23\", \"run_number\": 28, \"metric\": null, \"status\": \"Completed\", \"run_type\": \"azureml.scriptrun\", \"training_percent\": \"100\", \"start_time\": \"2021-12-11T09:11:11.75738Z\", \"end_time\": \"2021-12-11T09:13:08.868608Z\", \"created_time\": \"2021-12-11T09:11:11.75738Z\", \"created_time_dt\": \"2021-12-11T09:11:11.75738Z\", \"duration\": \"0:01:57\", \"iteration\": \"23\", \"goal\": \"accuracy_max\", \"run_name\": \"StandardScalerWrapper, LogisticRegression\", \"run_properties\": \"\\n    copy=True,\\n    with_mean=False,\\n    with_std=True\\n\", \"primary_metric\": 0.93437872, \"best_metric\": 0.95194757}, {\"run_id\": \"AutoML_f2ffd54f-172e-4409-bf3f-943e7cbaa3ed_24\", \"run_number\": 29, \"metric\": null, \"status\": \"Completed\", \"run_type\": \"azureml.scriptrun\", \"training_percent\": \"100\", \"start_time\": \"2021-12-11T09:11:26.284472Z\", \"end_time\": \"2021-12-11T09:13:12.464855Z\", \"created_time\": \"2021-12-11T09:11:26.284472Z\", \"created_time_dt\": \"2021-12-11T09:11:26.284472Z\", \"duration\": \"0:01:46\", \"iteration\": \"24\", \"goal\": \"accuracy_max\", \"run_name\": \"StandardScalerWrapper, RandomForest\", \"run_properties\": \"\\n    copy=True,\\n    with_mean=False,\\n    with_std=False\\n\", \"primary_metric\": 0.69275652, \"best_metric\": 0.95194757}, {\"run_id\": \"AutoML_f2ffd54f-172e-4409-bf3f-943e7cbaa3ed_25\", \"run_number\": 30, \"metric\": null, \"status\": \"Completed\", \"run_type\": \"azureml.scriptrun\", \"training_percent\": \"100\", \"start_time\": \"2021-12-11T09:11:33.791651Z\", \"end_time\": \"2021-12-11T09:13:12.121094Z\", \"created_time\": \"2021-12-11T09:11:33.791651Z\", \"created_time_dt\": \"2021-12-11T09:11:33.791651Z\", \"duration\": \"0:01:38\", \"iteration\": \"25\", \"goal\": \"accuracy_max\", \"run_name\": \"MaxAbsScaler, LogisticRegression\", \"run_properties\": \"copy=True\", \"primary_metric\": 0.94672968, \"best_metric\": 0.95194757}, {\"run_id\": \"AutoML_f2ffd54f-172e-4409-bf3f-943e7cbaa3ed_26\", \"run_number\": 31, \"metric\": null, \"status\": \"Completed\", \"run_type\": \"azureml.scriptrun\", \"training_percent\": \"100\", \"start_time\": \"2021-12-11T09:11:37.055919Z\", \"end_time\": \"2021-12-11T09:13:13.759218Z\", \"created_time\": \"2021-12-11T09:11:37.055919Z\", \"created_time_dt\": \"2021-12-11T09:11:37.055919Z\", \"duration\": \"0:01:36\", \"iteration\": \"26\", \"goal\": \"accuracy_max\", \"run_name\": \"SparseNormalizer, XGBoostClassifier\", \"run_properties\": \"copy=True, norm='l1'\", \"primary_metric\": 0.9159774, \"best_metric\": 0.95194757}, {\"run_id\": \"AutoML_f2ffd54f-172e-4409-bf3f-943e7cbaa3ed_27\", \"run_number\": 32, \"metric\": null, \"status\": \"Completed\", \"run_type\": \"azureml.scriptrun\", \"training_percent\": \"100\", \"start_time\": \"2021-12-11T09:12:36.808796Z\", \"end_time\": \"2021-12-11T09:13:37.348044Z\", \"created_time\": \"2021-12-11T09:12:36.808796Z\", \"created_time_dt\": \"2021-12-11T09:12:36.808796Z\", \"duration\": \"0:01:00\", \"iteration\": \"27\", \"goal\": \"accuracy_max\", \"run_name\": \"MaxAbsScaler, LogisticRegression\", \"run_properties\": \"copy=True\", \"primary_metric\": 0.94068836, \"best_metric\": 0.95194757}, {\"run_id\": \"AutoML_f2ffd54f-172e-4409-bf3f-943e7cbaa3ed_28\", \"run_number\": 33, \"metric\": null, \"status\": \"Completed\", \"run_type\": \"azureml.scriptrun\", \"training_percent\": \"100\", \"start_time\": \"2021-12-11T09:13:10.73548Z\", \"end_time\": \"2021-12-11T09:14:27.9042Z\", \"created_time\": \"2021-12-11T09:13:10.73548Z\", \"created_time_dt\": \"2021-12-11T09:13:10.73548Z\", \"duration\": \"0:01:17\", \"iteration\": \"28\", \"goal\": \"accuracy_max\", \"run_name\": \"SparseNormalizer, LightGBM\", \"run_properties\": \"copy=True, norm='l1'\", \"primary_metric\": 0.89456089, \"best_metric\": 0.95194757}, {\"run_id\": \"AutoML_f2ffd54f-172e-4409-bf3f-943e7cbaa3ed_29\", \"run_number\": 34, \"metric\": null, \"status\": \"Completed\", \"run_type\": \"azureml.scriptrun\", \"training_percent\": \"100\", \"start_time\": \"2021-12-11T09:13:13.948542Z\", \"end_time\": \"2021-12-11T09:15:17.840937Z\", \"created_time\": \"2021-12-11T09:13:13.948542Z\", \"created_time_dt\": \"2021-12-11T09:13:13.948542Z\", \"duration\": \"0:02:03\", \"iteration\": \"29\", \"goal\": \"accuracy_max\", \"run_name\": \"StandardScalerWrapper, XGBoostClassifier\", \"run_properties\": \"\\n    copy=True,\\n    with_mean=False,\\n    with_std=False\\n\", \"primary_metric\": 0.92586337, \"best_metric\": 0.95194757}, {\"run_id\": \"AutoML_f2ffd54f-172e-4409-bf3f-943e7cbaa3ed_31\", \"run_number\": 35, \"metric\": null, \"status\": \"Completed\", \"run_type\": \"azureml.scriptrun\", \"training_percent\": \"100\", \"start_time\": \"2021-12-11T09:13:17.879842Z\", \"end_time\": \"2021-12-11T09:15:16.275815Z\", \"created_time\": \"2021-12-11T09:13:17.879842Z\", \"created_time_dt\": \"2021-12-11T09:13:17.879842Z\", \"duration\": \"0:01:58\", \"iteration\": \"31\", \"goal\": \"accuracy_max\", \"run_name\": \"SparseNormalizer, XGBoostClassifier\", \"run_properties\": \"copy=True, norm='l1'\", \"primary_metric\": 0.91844842, \"best_metric\": 0.95194757}, {\"run_id\": \"AutoML_f2ffd54f-172e-4409-bf3f-943e7cbaa3ed_30\", \"run_number\": 36, \"metric\": null, \"status\": \"Completed\", \"run_type\": \"azureml.scriptrun\", \"training_percent\": \"100\", \"start_time\": \"2021-12-11T09:13:17.897754Z\", \"end_time\": \"2021-12-11T09:15:15.017125Z\", \"created_time\": \"2021-12-11T09:13:17.897754Z\", \"created_time_dt\": \"2021-12-11T09:13:17.897754Z\", \"duration\": \"0:01:57\", \"iteration\": \"30\", \"goal\": \"accuracy_max\", \"run_name\": \"StandardScalerWrapper, LogisticRegression\", \"run_properties\": \"\\n    copy=True,\\n    with_mean=False,\\n    with_std=True\\n\", \"primary_metric\": 0.94151404, \"best_metric\": 0.95194757}, {\"run_id\": \"AutoML_f2ffd54f-172e-4409-bf3f-943e7cbaa3ed_32\", \"run_number\": 37, \"metric\": null, \"status\": \"Completed\", \"run_type\": \"azureml.scriptrun\", \"training_percent\": \"100\", \"start_time\": \"2021-12-11T09:13:39.121307Z\", \"end_time\": \"2021-12-11T09:15:16.805076Z\", \"created_time\": \"2021-12-11T09:13:39.121307Z\", \"created_time_dt\": \"2021-12-11T09:13:39.121307Z\", \"duration\": \"0:01:37\", \"iteration\": \"32\", \"goal\": \"accuracy_max\", \"run_name\": \"SparseNormalizer, XGBoostClassifier\", \"run_properties\": \"copy=True, norm='l2'\", \"primary_metric\": 0.92119342, \"best_metric\": 0.95194757}, {\"run_id\": \"AutoML_f2ffd54f-172e-4409-bf3f-943e7cbaa3ed_33\", \"run_number\": 38, \"metric\": null, \"status\": \"Completed\", \"run_type\": \"azureml.scriptrun\", \"training_percent\": \"100\", \"start_time\": \"2021-12-11T09:14:29.791165Z\", \"end_time\": \"2021-12-11T09:15:42.001678Z\", \"created_time\": \"2021-12-11T09:14:29.791165Z\", \"created_time_dt\": \"2021-12-11T09:14:29.791165Z\", \"duration\": \"0:01:12\", \"iteration\": \"33\", \"goal\": \"accuracy_max\", \"run_name\": \"MaxAbsScaler, LogisticRegression\", \"run_properties\": \"copy=True\", \"primary_metric\": 0.95167285, \"best_metric\": 0.95194757}, {\"run_id\": \"AutoML_f2ffd54f-172e-4409-bf3f-943e7cbaa3ed_34\", \"run_number\": 39, \"metric\": null, \"status\": \"Canceled\", \"run_type\": \"azureml.scriptrun\", \"training_percent\": \"100\", \"start_time\": \"2021-12-11T09:15:16.910147Z\", \"end_time\": \"2021-12-11T09:15:43.144094Z\", \"created_time\": \"2021-12-11T09:15:16.910147Z\", \"created_time_dt\": \"2021-12-11T09:15:16.910147Z\", \"duration\": \"0:00:26\", \"iteration\": \"34\", \"goal\": null, \"run_name\": \"Canceled\", \"run_properties\": null}, {\"run_id\": \"AutoML_f2ffd54f-172e-4409-bf3f-943e7cbaa3ed_35\", \"run_number\": 40, \"metric\": null, \"status\": \"Canceled\", \"run_type\": \"azureml.scriptrun\", \"training_percent\": \"100\", \"start_time\": \"2021-12-11T09:15:21.162923Z\", \"end_time\": \"2021-12-11T09:15:43.220405Z\", \"created_time\": \"2021-12-11T09:15:21.162923Z\", \"created_time_dt\": \"2021-12-11T09:15:21.162923Z\", \"duration\": \"0:00:22\", \"iteration\": \"35\", \"goal\": null, \"run_name\": \"Canceled\", \"run_properties\": null}, {\"run_id\": \"AutoML_f2ffd54f-172e-4409-bf3f-943e7cbaa3ed_36\", \"run_number\": 41, \"metric\": null, \"status\": \"Canceled\", \"run_type\": \"azureml.scriptrun\", \"training_percent\": \"100\", \"start_time\": \"2021-12-11T09:15:21.188044Z\", \"end_time\": \"2021-12-11T09:15:43.118466Z\", \"created_time\": \"2021-12-11T09:15:21.188044Z\", \"created_time_dt\": \"2021-12-11T09:15:21.188044Z\", \"duration\": \"0:00:21\", \"iteration\": \"36\", \"goal\": null, \"run_name\": \"Canceled\", \"run_properties\": null}, {\"run_id\": \"AutoML_f2ffd54f-172e-4409-bf3f-943e7cbaa3ed_37\", \"run_number\": 42, \"metric\": null, \"status\": \"Canceled\", \"run_type\": \"azureml.scriptrun\", \"training_percent\": \"100\", \"start_time\": \"2021-12-11T09:15:21.212402Z\", \"end_time\": \"2021-12-11T09:15:43.168467Z\", \"created_time\": \"2021-12-11T09:15:21.212402Z\", \"created_time_dt\": \"2021-12-11T09:15:21.212402Z\", \"duration\": \"0:00:21\", \"iteration\": \"37\", \"goal\": null, \"run_name\": \"Canceled\", \"run_properties\": null}, {\"run_id\": \"AutoML_f2ffd54f-172e-4409-bf3f-943e7cbaa3ed_38\", \"run_number\": 43, \"metric\": null, \"status\": \"Completed\", \"run_type\": \"azureml.scriptrun\", \"training_percent\": \"100\", \"start_time\": \"2021-12-11T09:15:44.299626Z\", \"end_time\": \"2021-12-11T09:16:51.537901Z\", \"created_time\": \"2021-12-11T09:15:44.299626Z\", \"created_time_dt\": \"2021-12-11T09:15:44.299626Z\", \"duration\": \"0:01:07\", \"iteration\": \"38\", \"goal\": \"accuracy_max\", \"run_name\": \"VotingEnsemble\", \"run_properties\": \"\\n    estimators=[('16', Pipeline(\\n        memory=None,\\n        steps=[('standardscalerwrapper', StandardScalerWrapper(\\n            copy=True,\\n            with_mean=False,\\n            with_std=False\\n        \", \"primary_metric\": 0.95469332, \"best_metric\": 0.95469332}, {\"run_id\": \"AutoML_f2ffd54f-172e-4409-bf3f-943e7cbaa3ed_39\", \"run_number\": 44, \"metric\": null, \"status\": \"Completed\", \"run_type\": \"azureml.scriptrun\", \"training_percent\": \"100\", \"start_time\": \"2021-12-11T09:15:44.326481Z\", \"end_time\": \"2021-12-11T09:17:31.844208Z\", \"created_time\": \"2021-12-11T09:15:44.326481Z\", \"created_time_dt\": \"2021-12-11T09:15:44.326481Z\", \"duration\": \"0:01:47\", \"iteration\": \"39\", \"goal\": \"accuracy_max\", \"run_name\": \"StackEnsemble\", \"run_properties\": \"\\n    base_learners=[('16', Pipeline(\\n        memory=None,\\n        steps=[('standardscalerwrapper', StandardScalerWrapper(\\n            copy=True,\\n            with_mean=False,\\n            with_std=False\\n        \", \"primary_metric\": 0.95139699, \"best_metric\": 0.95469332}], \"children_metrics\": {\"categories\": [0], \"series\": {\"AUC_weighted\": [{\"categories\": [\"0\", \"1\", \"2\", \"3\", \"4\", \"5\", \"6\", \"7\", \"8\", \"9\", \"10\", \"11\", \"12\", \"13\", \"14\", \"15\", \"16\", \"17\", \"18\", \"19\", \"20\", \"21\", \"22\", \"23\", \"24\", \"25\", \"26\", \"27\", \"28\", \"29\", \"30\", \"31\", \"32\", \"33\", \"38\", \"39\"], \"mode\": \"markers\", \"name\": \"AUC_weighted\", \"stepped\": false, \"type\": \"scatter\", \"data\": [0.9770390298406699, 0.9754869811078211, 0.9469695891090941, 0.9633102703491835, 0.9631435683560401, 0.9626194100904423, 0.9681094380532411, 0.9889950010384105, 0.9258710199317711, 0.9641242660541611, 0.9484380737794644, 0.9653257690111795, 0.9849750444982615, 0.986337872377398, 0.957772921129294, 0.936398918166355, 0.9890281010652032, 0.9548424974023775, 0.974171704473221, 0.9732587801144275, 0.984771299157404, 0.97640704650906, 0.9590714154467019, 0.970136213727611, 0.7251983945646565, 0.9886717679745942, 0.9716709593182669, 0.9870945972649852, 0.9587574232842504, 0.9772051027048276, 0.9780641438489258, 0.9725764250236366, 0.9725779789737867, 0.988548734811556, 0.9901173448266876, 0.9905263528379246]}, {\"categories\": [\"0\", \"1\", \"2\", \"3\", \"4\", \"5\", \"6\", \"7\", \"8\", \"9\", \"10\", \"11\", \"12\", \"13\", \"14\", \"15\", \"16\", \"17\", \"18\", \"19\", \"20\", \"21\", \"22\", \"23\", \"24\", \"25\", \"26\", \"27\", \"28\", \"29\", \"30\", \"31\", \"32\", \"33\", \"38\", \"39\"], \"mode\": \"lines\", \"name\": \"AUC_weighted_max\", \"stepped\": true, \"type\": \"scatter\", \"data\": [0.9770390298406699, 0.9770390298406699, 0.9770390298406699, 0.9770390298406699, 0.9770390298406699, 0.9770390298406699, 0.9770390298406699, 0.9889950010384105, 0.9889950010384105, 0.9889950010384105, 0.9889950010384105, 0.9889950010384105, 0.9889950010384105, 0.9889950010384105, 0.9889950010384105, 0.9889950010384105, 0.9890281010652032, 0.9890281010652032, 0.9890281010652032, 0.9890281010652032, 0.9890281010652032, 0.9890281010652032, 0.9890281010652032, 0.9890281010652032, 0.9890281010652032, 0.9890281010652032, 0.9890281010652032, 0.9890281010652032, 0.9890281010652032, 0.9890281010652032, 0.9890281010652032, 0.9890281010652032, 0.9890281010652032, 0.9890281010652032, 0.9901173448266876, 0.9905263528379246]}], \"precision_score_weighted\": [{\"categories\": [\"0\", \"1\", \"2\", \"3\", \"4\", \"5\", \"6\", \"7\", \"8\", \"9\", \"10\", \"11\", \"12\", \"13\", \"14\", \"15\", \"16\", \"17\", \"18\", \"19\", \"20\", \"21\", \"22\", \"23\", \"24\", \"25\", \"26\", \"27\", \"28\", \"29\", \"30\", \"31\", \"32\", \"33\", \"38\", \"39\"], \"mode\": \"markers\", \"name\": \"precision_score_weighted\", \"stepped\": false, \"type\": \"scatter\", \"data\": [0.9149370520216827, 0.9254540700064133, 0.8754852928587742, 0.9190218081975207, 0.8999317699928225, 0.9083508298308214, 0.9153738102446216, 0.9515625104904238, 0.8635142851611836, 0.9024090699661471, 0.8908618163377146, 0.9124013685618367, 0.9485481310922816, 0.9492087874834467, 0.9083532844082154, 0.8794596245342019, 0.9520195878822495, 0.882412400368066, 0.9264179959853885, 0.9112219836560478, 0.9295050081329583, 0.926492817922815, 0.9183801669405156, 0.9350663228129129, 0.6614527993589077, 0.9471237774535372, 0.9165828521156199, 0.9416418136132136, 0.8948103627684276, 0.9258943009401378, 0.9418191048312012, 0.9187297141863662, 0.9213153920391148, 0.95194714480657, 0.9547970953623286, 0.9515380447051045]}, {\"categories\": [\"0\", \"1\", \"2\", \"3\", \"4\", \"5\", \"6\", \"7\", \"8\", \"9\", \"10\", \"11\", \"12\", \"13\", \"14\", \"15\", \"16\", \"17\", \"18\", \"19\", \"20\", \"21\", \"22\", \"23\", \"24\", \"25\", \"26\", \"27\", \"28\", \"29\", \"30\", \"31\", \"32\", \"33\", \"38\", \"39\"], \"mode\": \"lines\", \"name\": \"precision_score_weighted_max\", \"stepped\": true, \"type\": \"scatter\", \"data\": [0.9149370520216827, 0.9254540700064133, 0.9254540700064133, 0.9254540700064133, 0.9254540700064133, 0.9254540700064133, 0.9254540700064133, 0.9515625104904238, 0.9515625104904238, 0.9515625104904238, 0.9515625104904238, 0.9515625104904238, 0.9515625104904238, 0.9515625104904238, 0.9515625104904238, 0.9515625104904238, 0.9520195878822495, 0.9520195878822495, 0.9520195878822495, 0.9520195878822495, 0.9520195878822495, 0.9520195878822495, 0.9520195878822495, 0.9520195878822495, 0.9520195878822495, 0.9520195878822495, 0.9520195878822495, 0.9520195878822495, 0.9520195878822495, 0.9520195878822495, 0.9520195878822495, 0.9520195878822495, 0.9520195878822495, 0.9520195878822495, 0.9547970953623286, 0.9547970953623286]}], \"accuracy\": [{\"categories\": [\"0\", \"1\", \"2\", \"3\", \"4\", \"5\", \"6\", \"7\", \"8\", \"9\", \"10\", \"11\", \"12\", \"13\", \"14\", \"15\", \"16\", \"17\", \"18\", \"19\", \"20\", \"21\", \"22\", \"23\", \"24\", \"25\", \"26\", \"27\", \"28\", \"29\", \"30\", \"31\", \"32\", \"33\", \"38\", \"39\"], \"mode\": \"markers\", \"name\": \"accuracy\", \"stepped\": false, \"type\": \"scatter\", \"data\": [0.9148822713637529, 0.9253154253154253, 0.8552906284387767, 0.9187257872443058, 0.8997806720028942, 0.9080197922790516, 0.9151566197862493, 0.951398121768492, 0.8306139676510046, 0.9019765899395529, 0.8904430274800645, 0.9121353954687288, 0.9483784048598863, 0.9489263480004221, 0.9080167774612219, 0.8789105955772623, 0.9519475723179427, 0.8811132968540376, 0.9264082967786671, 0.9091119100378359, 0.9283321274062015, 0.9264128190054116, 0.918171437615882, 0.9343787214157583, 0.6927565233120789, 0.946729676359306, 0.9159774039403669, 0.9406883582809508, 0.894560891783114, 0.9258633684559611, 0.9415140415140415, 0.9184484240039795, 0.9211934156378601, 0.9516728470432175, 0.9546933176562806, 0.9513969912118061]}, {\"categories\": [\"0\", \"1\", \"2\", \"3\", \"4\", \"5\", \"6\", \"7\", \"8\", \"9\", \"10\", \"11\", \"12\", \"13\", \"14\", \"15\", \"16\", \"17\", \"18\", \"19\", \"20\", \"21\", \"22\", \"23\", \"24\", \"25\", \"26\", \"27\", \"28\", \"29\", \"30\", \"31\", \"32\", \"33\", \"38\", \"39\"], \"mode\": \"lines\", \"name\": \"accuracy_max\", \"stepped\": true, \"type\": \"scatter\", \"data\": [0.9148822713637529, 0.9253154253154253, 0.9253154253154253, 0.9253154253154253, 0.9253154253154253, 0.9253154253154253, 0.9253154253154253, 0.951398121768492, 0.951398121768492, 0.951398121768492, 0.951398121768492, 0.951398121768492, 0.951398121768492, 0.951398121768492, 0.951398121768492, 0.951398121768492, 0.9519475723179427, 0.9519475723179427, 0.9519475723179427, 0.9519475723179427, 0.9519475723179427, 0.9519475723179427, 0.9519475723179427, 0.9519475723179427, 0.9519475723179427, 0.9519475723179427, 0.9519475723179427, 0.9519475723179427, 0.9519475723179427, 0.9519475723179427, 0.9519475723179427, 0.9519475723179427, 0.9519475723179427, 0.9519475723179427, 0.9546933176562806, 0.9546933176562806]}], \"precision_score_macro\": [{\"categories\": [\"0\", \"1\", \"2\", \"3\", \"4\", \"5\", \"6\", \"7\", \"8\", \"9\", \"10\", \"11\", \"12\", \"13\", \"14\", \"15\", \"16\", \"17\", \"18\", \"19\", \"20\", \"21\", \"22\", \"23\", \"24\", \"25\", \"26\", \"27\", \"28\", \"29\", \"30\", \"31\", \"32\", \"33\", \"38\", \"39\"], \"mode\": \"markers\", \"name\": \"precision_score_macro\", \"stepped\": false, \"type\": \"scatter\", \"data\": [0.9149280460107784, 0.9254857832625826, 0.8740707698892075, 0.9189472276749298, 0.8999825877739014, 0.9082289320932079, 0.9154442449065524, 0.9514945025277266, 0.8618847765474736, 0.9024632978111142, 0.8907462053752125, 0.9123810509718812, 0.9483322211295644, 0.949032368783881, 0.908344636453759, 0.8796947618933555, 0.9519191967565283, 0.8824290696392714, 0.9263790954467634, 0.911163981114662, 0.9295593898194976, 0.9265329195220435, 0.9182868516711935, 0.9347930550334151, 0.6603421843923452, 0.9470364028314023, 0.9164414776996324, 0.9415390527917484, 0.8947684070994224, 0.92585576793408, 0.94162791606317, 0.9186177143220032, 0.9212188036947122, 0.9517687093610068, 0.9546778389151166, 0.9513612468103816]}, {\"categories\": [\"0\", \"1\", \"2\", \"3\", \"4\", \"5\", \"6\", \"7\", \"8\", \"9\", \"10\", \"11\", \"12\", \"13\", \"14\", \"15\", \"16\", \"17\", \"18\", \"19\", \"20\", \"21\", \"22\", \"23\", \"24\", \"25\", \"26\", \"27\", \"28\", \"29\", \"30\", \"31\", \"32\", \"33\", \"38\", \"39\"], \"mode\": \"lines\", \"name\": \"precision_score_macro_max\", \"stepped\": true, \"type\": \"scatter\", \"data\": [0.9149280460107784, 0.9254857832625826, 0.9254857832625826, 0.9254857832625826, 0.9254857832625826, 0.9254857832625826, 0.9254857832625826, 0.9514945025277266, 0.9514945025277266, 0.9514945025277266, 0.9514945025277266, 0.9514945025277266, 0.9514945025277266, 0.9514945025277266, 0.9514945025277266, 0.9514945025277266, 0.9519191967565283, 0.9519191967565283, 0.9519191967565283, 0.9519191967565283, 0.9519191967565283, 0.9519191967565283, 0.9519191967565283, 0.9519191967565283, 0.9519191967565283, 0.9519191967565283, 0.9519191967565283, 0.9519191967565283, 0.9519191967565283, 0.9519191967565283, 0.9519191967565283, 0.9519191967565283, 0.9519191967565283, 0.9519191967565283, 0.9546778389151166, 0.9546778389151166]}], \"average_precision_score_micro\": [{\"categories\": [\"0\", \"1\", \"2\", \"3\", \"4\", \"5\", \"6\", \"7\", \"8\", \"9\", \"10\", \"11\", \"12\", \"13\", \"14\", \"15\", \"16\", \"17\", \"18\", \"19\", \"20\", \"21\", \"22\", \"23\", \"24\", \"25\", \"26\", \"27\", \"28\", \"29\", \"30\", \"31\", \"32\", \"33\", \"38\", \"39\"], \"mode\": \"markers\", \"name\": \"average_precision_score_micro\", \"stepped\": false, \"type\": \"scatter\", \"data\": [0.9783336276926505, 0.9755659042183054, 0.9408758977372246, 0.9600017125588274, 0.9613085160927106, 0.9592634445281192, 0.9660296792002393, 0.989057549403136, 0.9175326378177637, 0.9616911438499864, 0.9441211622278537, 0.9610266914882084, 0.9851613560204957, 0.9841749573763291, 0.9510862319795, 0.9353073576517946, 0.9892924375962139, 0.9525083720952484, 0.9724477218284651, 0.9747408300488916, 0.9850570329930818, 0.9754659448689994, 0.9512906863074873, 0.9619091053674932, 0.704790014625463, 0.9888064659311354, 0.9716024045682234, 0.9871088914740987, 0.9585082862782077, 0.9766945603139486, 0.9711639386773652, 0.9730697456825371, 0.9728774208223612, 0.9885804502483545, 0.9903686185390999, 0.9898424123972058]}, {\"categories\": [\"0\", \"1\", \"2\", \"3\", \"4\", \"5\", \"6\", \"7\", \"8\", \"9\", \"10\", \"11\", \"12\", \"13\", \"14\", \"15\", \"16\", \"17\", \"18\", \"19\", \"20\", \"21\", \"22\", \"23\", \"24\", \"25\", \"26\", \"27\", \"28\", \"29\", \"30\", \"31\", \"32\", \"33\", \"38\", \"39\"], \"mode\": \"lines\", \"name\": \"average_precision_score_micro_max\", \"stepped\": true, \"type\": \"scatter\", \"data\": [0.9783336276926505, 0.9783336276926505, 0.9783336276926505, 0.9783336276926505, 0.9783336276926505, 0.9783336276926505, 0.9783336276926505, 0.989057549403136, 0.989057549403136, 0.989057549403136, 0.989057549403136, 0.989057549403136, 0.989057549403136, 0.989057549403136, 0.989057549403136, 0.989057549403136, 0.9892924375962139, 0.9892924375962139, 0.9892924375962139, 0.9892924375962139, 0.9892924375962139, 0.9892924375962139, 0.9892924375962139, 0.9892924375962139, 0.9892924375962139, 0.9892924375962139, 0.9892924375962139, 0.9892924375962139, 0.9892924375962139, 0.9892924375962139, 0.9892924375962139, 0.9892924375962139, 0.9892924375962139, 0.9892924375962139, 0.9903686185390999, 0.9903686185390999]}], \"AUC_micro\": [{\"categories\": [\"0\", \"1\", \"2\", \"3\", \"4\", \"5\", \"6\", \"7\", \"8\", \"9\", \"10\", \"11\", \"12\", \"13\", \"14\", \"15\", \"16\", \"17\", \"18\", \"19\", \"20\", \"21\", \"22\", \"23\", \"24\", \"25\", \"26\", \"27\", \"28\", \"29\", \"30\", \"31\", \"32\", \"33\", \"38\", \"39\"], \"mode\": \"markers\", \"name\": \"AUC_micro\", \"stepped\": false, \"type\": \"scatter\", \"data\": [0.9775246179533582, 0.975408216948954, 0.9416586866954644, 0.9625917541445277, 0.9625538932650557, 0.9624208573182118, 0.9678107951477763, 0.9891460566438989, 0.9239952356912721, 0.9636415780196543, 0.948165710503563, 0.9650417638364737, 0.9850515015912092, 0.9863247457666894, 0.9587521736200199, 0.9367639209999776, 0.9890774477470938, 0.9526052933622491, 0.9740694552597381, 0.9734686048099304, 0.9843952207076425, 0.9760381711774805, 0.9599604336167984, 0.9678730309130776, 0.7282783431730298, 0.9887735129054478, 0.9718622247618514, 0.9868975547109808, 0.9592571837586327, 0.977488184044031, 0.9778456966138936, 0.9729191979720777, 0.9727826462019674, 0.9886558040222868, 0.9901719533543385, 0.9897578893589163]}, {\"categories\": [\"0\", \"1\", \"2\", \"3\", \"4\", \"5\", \"6\", \"7\", \"8\", \"9\", \"10\", \"11\", \"12\", \"13\", \"14\", \"15\", \"16\", \"17\", \"18\", \"19\", \"20\", \"21\", \"22\", \"23\", \"24\", \"25\", \"26\", \"27\", \"28\", \"29\", \"30\", \"31\", \"32\", \"33\", \"38\", \"39\"], \"mode\": \"lines\", \"name\": \"AUC_micro_max\", \"stepped\": true, \"type\": \"scatter\", \"data\": [0.9775246179533582, 0.9775246179533582, 0.9775246179533582, 0.9775246179533582, 0.9775246179533582, 0.9775246179533582, 0.9775246179533582, 0.9891460566438989, 0.9891460566438989, 0.9891460566438989, 0.9891460566438989, 0.9891460566438989, 0.9891460566438989, 0.9891460566438989, 0.9891460566438989, 0.9891460566438989, 0.9891460566438989, 0.9891460566438989, 0.9891460566438989, 0.9891460566438989, 0.9891460566438989, 0.9891460566438989, 0.9891460566438989, 0.9891460566438989, 0.9891460566438989, 0.9891460566438989, 0.9891460566438989, 0.9891460566438989, 0.9891460566438989, 0.9891460566438989, 0.9891460566438989, 0.9891460566438989, 0.9891460566438989, 0.9891460566438989, 0.9901719533543385, 0.9901719533543385]}], \"log_loss\": [{\"categories\": [\"0\", \"1\", \"2\", \"3\", \"4\", \"5\", \"6\", \"7\", \"8\", \"9\", \"10\", \"11\", \"12\", \"13\", \"14\", \"15\", \"16\", \"17\", \"18\", \"19\", \"20\", \"21\", \"22\", \"23\", \"24\", \"25\", \"26\", \"27\", \"28\", \"29\", \"30\", \"31\", \"32\", \"33\", \"38\", \"39\"], \"mode\": \"markers\", \"name\": \"log_loss\", \"stepped\": false, \"type\": \"scatter\", \"data\": [0.20326077447672503, 0.2028078885037848, 0.6525173962294503, 0.3812887252092597, 0.2728826270115089, 0.4412578456302512, 0.36063794303080193, 0.13448048594461898, 0.622088918455802, 0.37931026069273477, 0.31286275569565103, 0.3745346462982072, 0.1895980370934081, 0.2667796604461935, 0.35112445763053, 0.5998259171989475, 0.13685833979689735, 0.4034565872150287, 0.22914070121153793, 0.269808345650775, 0.21255882519858896, 0.2373499699144573, 0.34165768536556695, 0.3980412871285244, 0.6591220151238064, 0.15562761292869173, 0.21842229939522612, 0.1856303260411795, 0.2610538390004428, 0.1983530294126949, 0.19936117215484833, 0.21321086239584167, 0.21121078922759637, 0.13230706167621023, 0.2211738958467282, 0.30981095036312767]}, {\"categories\": [\"0\", \"1\", \"2\", \"3\", \"4\", \"5\", \"6\", \"7\", \"8\", \"9\", \"10\", \"11\", \"12\", \"13\", \"14\", \"15\", \"16\", \"17\", \"18\", \"19\", \"20\", \"21\", \"22\", \"23\", \"24\", \"25\", \"26\", \"27\", \"28\", \"29\", \"30\", \"31\", \"32\", \"33\", \"38\", \"39\"], \"mode\": \"lines\", \"name\": \"log_loss_min\", \"stepped\": true, \"type\": \"scatter\", \"data\": [0.20326077447672503, 0.2028078885037848, 0.2028078885037848, 0.2028078885037848, 0.2028078885037848, 0.2028078885037848, 0.2028078885037848, 0.13448048594461898, 0.13448048594461898, 0.13448048594461898, 0.13448048594461898, 0.13448048594461898, 0.13448048594461898, 0.13448048594461898, 0.13448048594461898, 0.13448048594461898, 0.13448048594461898, 0.13448048594461898, 0.13448048594461898, 0.13448048594461898, 0.13448048594461898, 0.13448048594461898, 0.13448048594461898, 0.13448048594461898, 0.13448048594461898, 0.13448048594461898, 0.13448048594461898, 0.13448048594461898, 0.13448048594461898, 0.13448048594461898, 0.13448048594461898, 0.13448048594461898, 0.13448048594461898, 0.13230706167621023, 0.13230706167621023, 0.13230706167621023]}], \"precision_score_micro\": [{\"categories\": [\"0\", \"1\", \"2\", \"3\", \"4\", \"5\", \"6\", \"7\", \"8\", \"9\", \"10\", \"11\", \"12\", \"13\", \"14\", \"15\", \"16\", \"17\", \"18\", \"19\", \"20\", \"21\", \"22\", \"23\", \"24\", \"25\", \"26\", \"27\", \"28\", \"29\", \"30\", \"31\", \"32\", \"33\", \"38\", \"39\"], \"mode\": \"markers\", \"name\": \"precision_score_micro\", \"stepped\": false, \"type\": \"scatter\", \"data\": [0.9148822713637529, 0.9253154253154253, 0.8552906284387767, 0.9187257872443058, 0.8997806720028942, 0.9080197922790516, 0.9151566197862493, 0.951398121768492, 0.8306139676510046, 0.9019765899395529, 0.8904430274800645, 0.9121353954687288, 0.9483784048598863, 0.9489263480004221, 0.9080167774612219, 0.8789105955772623, 0.9519475723179427, 0.8811132968540376, 0.9264082967786671, 0.9091119100378359, 0.9283321274062015, 0.9264128190054116, 0.918171437615882, 0.9343787214157583, 0.6927565233120789, 0.946729676359306, 0.9159774039403669, 0.9406883582809508, 0.894560891783114, 0.9258633684559611, 0.9415140415140415, 0.9184484240039795, 0.9211934156378601, 0.9516728470432175, 0.9546933176562806, 0.9513969912118061]}, {\"categories\": [\"0\", \"1\", \"2\", \"3\", \"4\", \"5\", \"6\", \"7\", \"8\", \"9\", \"10\", \"11\", \"12\", \"13\", \"14\", \"15\", \"16\", \"17\", \"18\", \"19\", \"20\", \"21\", \"22\", \"23\", \"24\", \"25\", \"26\", \"27\", \"28\", \"29\", \"30\", \"31\", \"32\", \"33\", \"38\", \"39\"], \"mode\": \"lines\", \"name\": \"precision_score_micro_max\", \"stepped\": true, \"type\": \"scatter\", \"data\": [0.9148822713637529, 0.9253154253154253, 0.9253154253154253, 0.9253154253154253, 0.9253154253154253, 0.9253154253154253, 0.9253154253154253, 0.951398121768492, 0.951398121768492, 0.951398121768492, 0.951398121768492, 0.951398121768492, 0.951398121768492, 0.951398121768492, 0.951398121768492, 0.951398121768492, 0.9519475723179427, 0.9519475723179427, 0.9519475723179427, 0.9519475723179427, 0.9519475723179427, 0.9519475723179427, 0.9519475723179427, 0.9519475723179427, 0.9519475723179427, 0.9519475723179427, 0.9519475723179427, 0.9519475723179427, 0.9519475723179427, 0.9519475723179427, 0.9519475723179427, 0.9519475723179427, 0.9519475723179427, 0.9519475723179427, 0.9546933176562806, 0.9546933176562806]}], \"f1_score_macro\": [{\"categories\": [\"0\", \"1\", \"2\", \"3\", \"4\", \"5\", \"6\", \"7\", \"8\", \"9\", \"10\", \"11\", \"12\", \"13\", \"14\", \"15\", \"16\", \"17\", \"18\", \"19\", \"20\", \"21\", \"22\", \"23\", \"24\", \"25\", \"26\", \"27\", \"28\", \"29\", \"30\", \"31\", \"32\", \"33\", \"38\", \"39\"], \"mode\": \"markers\", \"name\": \"f1_score_macro\", \"stepped\": false, \"type\": \"scatter\", \"data\": [0.914774794594828, 0.9252170696356086, 0.8527442703518833, 0.9186238317129932, 0.8996294211036859, 0.9079145279480529, 0.9150230632758138, 0.951346107386396, 0.8256075287161104, 0.9018120369636481, 0.8903094894778146, 0.9120186566388654, 0.9483399608078983, 0.9488811075320704, 0.9078849275230914, 0.8786333774778281, 0.9519023270350461, 0.8808246683999077, 0.9263355263888657, 0.9089175030440556, 0.9282082628239505, 0.9263187542616294, 0.9180847894395405, 0.9343128592669079, 0.6527703158946008, 0.9466688770137504, 0.9158764867335177, 0.9406107337733562, 0.8944254575059946, 0.9257815861398354, 0.9414620955244729, 0.9183625561740243, 0.9211187152445557, 0.951630619792765, 0.9546510105392759, 0.9513589569900839]}, {\"categories\": [\"0\", \"1\", \"2\", \"3\", \"4\", \"5\", \"6\", \"7\", \"8\", \"9\", \"10\", \"11\", \"12\", \"13\", \"14\", \"15\", \"16\", \"17\", \"18\", \"19\", \"20\", \"21\", \"22\", \"23\", \"24\", \"25\", \"26\", \"27\", \"28\", \"29\", \"30\", \"31\", \"32\", \"33\", \"38\", \"39\"], \"mode\": \"lines\", \"name\": \"f1_score_macro_max\", \"stepped\": true, \"type\": \"scatter\", \"data\": [0.914774794594828, 0.9252170696356086, 0.9252170696356086, 0.9252170696356086, 0.9252170696356086, 0.9252170696356086, 0.9252170696356086, 0.951346107386396, 0.951346107386396, 0.951346107386396, 0.951346107386396, 0.951346107386396, 0.951346107386396, 0.951346107386396, 0.951346107386396, 0.951346107386396, 0.9519023270350461, 0.9519023270350461, 0.9519023270350461, 0.9519023270350461, 0.9519023270350461, 0.9519023270350461, 0.9519023270350461, 0.9519023270350461, 0.9519023270350461, 0.9519023270350461, 0.9519023270350461, 0.9519023270350461, 0.9519023270350461, 0.9519023270350461, 0.9519023270350461, 0.9519023270350461, 0.9519023270350461, 0.9519023270350461, 0.9546510105392759, 0.9546510105392759]}], \"weighted_accuracy\": [{\"categories\": [\"0\", \"1\", \"2\", \"3\", \"4\", \"5\", \"6\", \"7\", \"8\", \"9\", \"10\", \"11\", \"12\", \"13\", \"14\", \"15\", \"16\", \"17\", \"18\", \"19\", \"20\", \"21\", \"22\", \"23\", \"24\", \"25\", \"26\", \"27\", \"28\", \"29\", \"30\", \"31\", \"32\", \"33\", \"38\", \"39\"], \"mode\": \"markers\", \"name\": \"weighted_accuracy\", \"stepped\": false, \"type\": \"scatter\", \"data\": [0.9150636404827335, 0.9255104372401386, 0.8534247415475086, 0.9188152312145744, 0.9000689959484804, 0.9080802616555561, 0.9154299034159372, 0.9514271398227722, 0.8284686555570232, 0.9022623146514113, 0.8905376007236795, 0.9123059336700056, 0.9482510033477178, 0.9488398645449445, 0.90820527786931, 0.8794922661379323, 0.9519401254052934, 0.8814134529785036, 0.9265088319099546, 0.9092125983692005, 0.9285231848773469, 0.926612705756704, 0.9182325238670618, 0.9342193787556174, 0.6895063749489576, 0.9467451237441866, 0.9159871103403242, 0.9406873933875637, 0.8947395202969277, 0.9259785701969967, 0.941424040108885, 0.9184857108244721, 0.9212407950297811, 0.9515796876584538, 0.954661214965126, 0.9513038916898937]}, {\"categories\": [\"0\", \"1\", \"2\", \"3\", \"4\", \"5\", \"6\", \"7\", \"8\", \"9\", \"10\", \"11\", \"12\", \"13\", \"14\", \"15\", \"16\", \"17\", \"18\", \"19\", \"20\", \"21\", \"22\", \"23\", \"24\", \"25\", \"26\", \"27\", \"28\", \"29\", \"30\", \"31\", \"32\", \"33\", \"38\", \"39\"], \"mode\": \"lines\", \"name\": \"weighted_accuracy_max\", \"stepped\": true, \"type\": \"scatter\", \"data\": [0.9150636404827335, 0.9255104372401386, 0.9255104372401386, 0.9255104372401386, 0.9255104372401386, 0.9255104372401386, 0.9255104372401386, 0.9514271398227722, 0.9514271398227722, 0.9514271398227722, 0.9514271398227722, 0.9514271398227722, 0.9514271398227722, 0.9514271398227722, 0.9514271398227722, 0.9514271398227722, 0.9519401254052934, 0.9519401254052934, 0.9519401254052934, 0.9519401254052934, 0.9519401254052934, 0.9519401254052934, 0.9519401254052934, 0.9519401254052934, 0.9519401254052934, 0.9519401254052934, 0.9519401254052934, 0.9519401254052934, 0.9519401254052934, 0.9519401254052934, 0.9519401254052934, 0.9519401254052934, 0.9519401254052934, 0.9519401254052934, 0.954661214965126, 0.954661214965126]}], \"average_precision_score_macro\": [{\"categories\": [\"0\", \"1\", \"2\", \"3\", \"4\", \"5\", \"6\", \"7\", \"8\", \"9\", \"10\", \"11\", \"12\", \"13\", \"14\", \"15\", \"16\", \"17\", \"18\", \"19\", \"20\", \"21\", \"22\", \"23\", \"24\", \"25\", \"26\", \"27\", \"28\", \"29\", \"30\", \"31\", \"32\", \"33\", \"38\", \"39\"], \"mode\": \"markers\", \"name\": \"average_precision_score_macro\", \"stepped\": false, \"type\": \"scatter\", \"data\": [0.9778177710061243, 0.9756405866186473, 0.9412759506444649, 0.9601624063110897, 0.9623807172117864, 0.9597322362194362, 0.9669740406789004, 0.9887297981545522, 0.9103333989554241, 0.9626885267380064, 0.9435453995875225, 0.9612828972659087, 0.9848877697235279, 0.9842067801306404, 0.9487735653899845, 0.9339824682561311, 0.9892022895168692, 0.9557625887251501, 0.9730790215515215, 0.9745409392753224, 0.9853977625635941, 0.9762124080833617, 0.9490764006210155, 0.9648008107193181, 0.6936080295445122, 0.9884472974808822, 0.971353384835453, 0.9870639114133036, 0.9578033314180315, 0.9764321109380155, 0.9718029766756805, 0.9726782471053476, 0.9727204639103693, 0.9882510461881708, 0.9903334176617408, 0.990755837663774]}, {\"categories\": [\"0\", \"1\", \"2\", \"3\", \"4\", \"5\", \"6\", \"7\", \"8\", \"9\", \"10\", \"11\", \"12\", \"13\", \"14\", \"15\", \"16\", \"17\", \"18\", \"19\", \"20\", \"21\", \"22\", \"23\", \"24\", \"25\", \"26\", \"27\", \"28\", \"29\", \"30\", \"31\", \"32\", \"33\", \"38\", \"39\"], \"mode\": \"lines\", \"name\": \"average_precision_score_macro_max\", \"stepped\": true, \"type\": \"scatter\", \"data\": [0.9778177710061243, 0.9778177710061243, 0.9778177710061243, 0.9778177710061243, 0.9778177710061243, 0.9778177710061243, 0.9778177710061243, 0.9887297981545522, 0.9887297981545522, 0.9887297981545522, 0.9887297981545522, 0.9887297981545522, 0.9887297981545522, 0.9887297981545522, 0.9887297981545522, 0.9887297981545522, 0.9892022895168692, 0.9892022895168692, 0.9892022895168692, 0.9892022895168692, 0.9892022895168692, 0.9892022895168692, 0.9892022895168692, 0.9892022895168692, 0.9892022895168692, 0.9892022895168692, 0.9892022895168692, 0.9892022895168692, 0.9892022895168692, 0.9892022895168692, 0.9892022895168692, 0.9892022895168692, 0.9892022895168692, 0.9892022895168692, 0.9903334176617408, 0.990755837663774]}], \"recall_score_micro\": [{\"categories\": [\"0\", \"1\", \"2\", \"3\", \"4\", \"5\", \"6\", \"7\", \"8\", \"9\", \"10\", \"11\", \"12\", \"13\", \"14\", \"15\", \"16\", \"17\", \"18\", \"19\", \"20\", \"21\", \"22\", \"23\", \"24\", \"25\", \"26\", \"27\", \"28\", \"29\", \"30\", \"31\", \"32\", \"33\", \"38\", \"39\"], \"mode\": \"markers\", \"name\": \"recall_score_micro\", \"stepped\": false, \"type\": \"scatter\", \"data\": [0.9148822713637529, 0.9253154253154253, 0.8552906284387767, 0.9187257872443058, 0.8997806720028942, 0.9080197922790516, 0.9151566197862493, 0.951398121768492, 0.8306139676510046, 0.9019765899395529, 0.8904430274800645, 0.9121353954687288, 0.9483784048598863, 0.9489263480004221, 0.9080167774612219, 0.8789105955772623, 0.9519475723179427, 0.8811132968540376, 0.9264082967786671, 0.9091119100378359, 0.9283321274062015, 0.9264128190054116, 0.918171437615882, 0.9343787214157583, 0.6927565233120789, 0.946729676359306, 0.9159774039403669, 0.9406883582809508, 0.894560891783114, 0.9258633684559611, 0.9415140415140415, 0.9184484240039795, 0.9211934156378601, 0.9516728470432175, 0.9546933176562806, 0.9513969912118061]}, {\"categories\": [\"0\", \"1\", \"2\", \"3\", \"4\", \"5\", \"6\", \"7\", \"8\", \"9\", \"10\", \"11\", \"12\", \"13\", \"14\", \"15\", \"16\", \"17\", \"18\", \"19\", \"20\", \"21\", \"22\", \"23\", \"24\", \"25\", \"26\", \"27\", \"28\", \"29\", \"30\", \"31\", \"32\", \"33\", \"38\", \"39\"], \"mode\": \"lines\", \"name\": \"recall_score_micro_max\", \"stepped\": true, \"type\": \"scatter\", \"data\": [0.9148822713637529, 0.9253154253154253, 0.9253154253154253, 0.9253154253154253, 0.9253154253154253, 0.9253154253154253, 0.9253154253154253, 0.951398121768492, 0.951398121768492, 0.951398121768492, 0.951398121768492, 0.951398121768492, 0.951398121768492, 0.951398121768492, 0.951398121768492, 0.951398121768492, 0.9519475723179427, 0.9519475723179427, 0.9519475723179427, 0.9519475723179427, 0.9519475723179427, 0.9519475723179427, 0.9519475723179427, 0.9519475723179427, 0.9519475723179427, 0.9519475723179427, 0.9519475723179427, 0.9519475723179427, 0.9519475723179427, 0.9519475723179427, 0.9519475723179427, 0.9519475723179427, 0.9519475723179427, 0.9519475723179427, 0.9546933176562806, 0.9546933176562806]}], \"recall_score_weighted\": [{\"categories\": [\"0\", \"1\", \"2\", \"3\", \"4\", \"5\", \"6\", \"7\", \"8\", \"9\", \"10\", \"11\", \"12\", \"13\", \"14\", \"15\", \"16\", \"17\", \"18\", \"19\", \"20\", \"21\", \"22\", \"23\", \"24\", \"25\", \"26\", \"27\", \"28\", \"29\", \"30\", \"31\", \"32\", \"33\", \"38\", \"39\"], \"mode\": \"markers\", \"name\": \"recall_score_weighted\", \"stepped\": false, \"type\": \"scatter\", \"data\": [0.9148822713637529, 0.9253154253154253, 0.8552906284387767, 0.9187257872443058, 0.8997806720028942, 0.9080197922790516, 0.9151566197862493, 0.951398121768492, 0.8306139676510046, 0.9019765899395529, 0.8904430274800645, 0.9121353954687288, 0.9483784048598863, 0.9489263480004221, 0.9080167774612219, 0.8789105955772623, 0.9519475723179427, 0.8811132968540376, 0.9264082967786671, 0.9091119100378359, 0.9283321274062015, 0.9264128190054116, 0.918171437615882, 0.9343787214157583, 0.6927565233120789, 0.946729676359306, 0.9159774039403669, 0.9406883582809508, 0.894560891783114, 0.9258633684559611, 0.9415140415140415, 0.9184484240039795, 0.9211934156378601, 0.9516728470432175, 0.9546933176562806, 0.9513969912118061]}, {\"categories\": [\"0\", \"1\", \"2\", \"3\", \"4\", \"5\", \"6\", \"7\", \"8\", \"9\", \"10\", \"11\", \"12\", \"13\", \"14\", \"15\", \"16\", \"17\", \"18\", \"19\", \"20\", \"21\", \"22\", \"23\", \"24\", \"25\", \"26\", \"27\", \"28\", \"29\", \"30\", \"31\", \"32\", \"33\", \"38\", \"39\"], \"mode\": \"lines\", \"name\": \"recall_score_weighted_max\", \"stepped\": true, \"type\": \"scatter\", \"data\": [0.9148822713637529, 0.9253154253154253, 0.9253154253154253, 0.9253154253154253, 0.9253154253154253, 0.9253154253154253, 0.9253154253154253, 0.951398121768492, 0.951398121768492, 0.951398121768492, 0.951398121768492, 0.951398121768492, 0.951398121768492, 0.951398121768492, 0.951398121768492, 0.951398121768492, 0.9519475723179427, 0.9519475723179427, 0.9519475723179427, 0.9519475723179427, 0.9519475723179427, 0.9519475723179427, 0.9519475723179427, 0.9519475723179427, 0.9519475723179427, 0.9519475723179427, 0.9519475723179427, 0.9519475723179427, 0.9519475723179427, 0.9519475723179427, 0.9519475723179427, 0.9519475723179427, 0.9519475723179427, 0.9519475723179427, 0.9546933176562806, 0.9546933176562806]}], \"AUC_macro\": [{\"categories\": [\"0\", \"1\", \"2\", \"3\", \"4\", \"5\", \"6\", \"7\", \"8\", \"9\", \"10\", \"11\", \"12\", \"13\", \"14\", \"15\", \"16\", \"17\", \"18\", \"19\", \"20\", \"21\", \"22\", \"23\", \"24\", \"25\", \"26\", \"27\", \"28\", \"29\", \"30\", \"31\", \"32\", \"33\", \"38\", \"39\"], \"mode\": \"markers\", \"name\": \"AUC_macro\", \"stepped\": false, \"type\": \"scatter\", \"data\": [0.9770390298406699, 0.9754869811078211, 0.9469695891090941, 0.9633102703491835, 0.9631435683560401, 0.9626194100904423, 0.9681094380532411, 0.9889950010384105, 0.9258710199317711, 0.9641242660541611, 0.9484380737794643, 0.9653257690111794, 0.9849750444982612, 0.986337872377398, 0.957772921129294, 0.936398918166355, 0.9890281010652032, 0.9548424974023775, 0.9741717044732209, 0.9732587801144275, 0.9847712991574038, 0.97640704650906, 0.9590714154467017, 0.9701362137276112, 0.7251983945646565, 0.9886717679745942, 0.9716709593182669, 0.9870945972649852, 0.9587574232842504, 0.9772051027048276, 0.9780641438489258, 0.9725764250236366, 0.9725779789737867, 0.988548734811556, 0.9901173448266876, 0.9905263528379248]}, {\"categories\": [\"0\", \"1\", \"2\", \"3\", \"4\", \"5\", \"6\", \"7\", \"8\", \"9\", \"10\", \"11\", \"12\", \"13\", \"14\", \"15\", \"16\", \"17\", \"18\", \"19\", \"20\", \"21\", \"22\", \"23\", \"24\", \"25\", \"26\", \"27\", \"28\", \"29\", \"30\", \"31\", \"32\", \"33\", \"38\", \"39\"], \"mode\": \"lines\", \"name\": \"AUC_macro_max\", \"stepped\": true, \"type\": \"scatter\", \"data\": [0.9770390298406699, 0.9770390298406699, 0.9770390298406699, 0.9770390298406699, 0.9770390298406699, 0.9770390298406699, 0.9770390298406699, 0.9889950010384105, 0.9889950010384105, 0.9889950010384105, 0.9889950010384105, 0.9889950010384105, 0.9889950010384105, 0.9889950010384105, 0.9889950010384105, 0.9889950010384105, 0.9890281010652032, 0.9890281010652032, 0.9890281010652032, 0.9890281010652032, 0.9890281010652032, 0.9890281010652032, 0.9890281010652032, 0.9890281010652032, 0.9890281010652032, 0.9890281010652032, 0.9890281010652032, 0.9890281010652032, 0.9890281010652032, 0.9890281010652032, 0.9890281010652032, 0.9890281010652032, 0.9890281010652032, 0.9890281010652032, 0.9901173448266876, 0.9905263528379248]}], \"f1_score_micro\": [{\"categories\": [\"0\", \"1\", \"2\", \"3\", \"4\", \"5\", \"6\", \"7\", \"8\", \"9\", \"10\", \"11\", \"12\", \"13\", \"14\", \"15\", \"16\", \"17\", \"18\", \"19\", \"20\", \"21\", \"22\", \"23\", \"24\", \"25\", \"26\", \"27\", \"28\", \"29\", \"30\", \"31\", \"32\", \"33\", \"38\", \"39\"], \"mode\": \"markers\", \"name\": \"f1_score_micro\", \"stepped\": false, \"type\": \"scatter\", \"data\": [0.9148822713637529, 0.9253154253154253, 0.8552906284387767, 0.9187257872443058, 0.8997806720028942, 0.9080197922790516, 0.9151566197862493, 0.951398121768492, 0.8306139676510046, 0.9019765899395529, 0.8904430274800645, 0.9121353954687288, 0.9483784048598863, 0.9489263480004221, 0.9080167774612219, 0.8789105955772623, 0.9519475723179427, 0.8811132968540376, 0.9264082967786672, 0.9091119100378359, 0.9283321274062015, 0.9264128190054116, 0.918171437615882, 0.9343787214157583, 0.6927565233120789, 0.946729676359306, 0.9159774039403669, 0.9406883582809508, 0.894560891783114, 0.9258633684559611, 0.9415140415140415, 0.9184484240039795, 0.9211934156378601, 0.9516728470432175, 0.9546933176562806, 0.9513969912118061]}, {\"categories\": [\"0\", \"1\", \"2\", \"3\", \"4\", \"5\", \"6\", \"7\", \"8\", \"9\", \"10\", \"11\", \"12\", \"13\", \"14\", \"15\", \"16\", \"17\", \"18\", \"19\", \"20\", \"21\", \"22\", \"23\", \"24\", \"25\", \"26\", \"27\", \"28\", \"29\", \"30\", \"31\", \"32\", \"33\", \"38\", \"39\"], \"mode\": \"lines\", \"name\": \"f1_score_micro_max\", \"stepped\": true, \"type\": \"scatter\", \"data\": [0.9148822713637529, 0.9253154253154253, 0.9253154253154253, 0.9253154253154253, 0.9253154253154253, 0.9253154253154253, 0.9253154253154253, 0.951398121768492, 0.951398121768492, 0.951398121768492, 0.951398121768492, 0.951398121768492, 0.951398121768492, 0.951398121768492, 0.951398121768492, 0.951398121768492, 0.9519475723179427, 0.9519475723179427, 0.9519475723179427, 0.9519475723179427, 0.9519475723179427, 0.9519475723179427, 0.9519475723179427, 0.9519475723179427, 0.9519475723179427, 0.9519475723179427, 0.9519475723179427, 0.9519475723179427, 0.9519475723179427, 0.9519475723179427, 0.9519475723179427, 0.9519475723179427, 0.9519475723179427, 0.9519475723179427, 0.9546933176562806, 0.9546933176562806]}], \"f1_score_weighted\": [{\"categories\": [\"0\", \"1\", \"2\", \"3\", \"4\", \"5\", \"6\", \"7\", \"8\", \"9\", \"10\", \"11\", \"12\", \"13\", \"14\", \"15\", \"16\", \"17\", \"18\", \"19\", \"20\", \"21\", \"22\", \"23\", \"24\", \"25\", \"26\", \"27\", \"28\", \"29\", \"30\", \"31\", \"32\", \"33\", \"38\", \"39\"], \"mode\": \"markers\", \"name\": \"f1_score_weighted\", \"stepped\": false, \"type\": \"scatter\", \"data\": [0.914870397507436, 0.9252993274504773, 0.8523724368338688, 0.918706243722262, 0.8997490996806319, 0.9080059963292951, 0.915125213820924, 0.95139474216334, 0.8252054257912749, 0.9019289235216867, 0.890414972374721, 0.9121146524385393, 0.9483840303992841, 0.94892613585782, 0.9079840097929424, 0.8788097379309946, 0.9519487612994905, 0.8809703480567862, 0.9264054522580609, 0.9089996765816238, 0.9282787127126995, 0.9263990468197317, 0.9181621378824149, 0.9343699375066306, 0.6514196657126816, 0.9467206222713406, 0.9159522639019331, 0.9406625812540103, 0.8945362570421608, 0.9258586650190083, 0.9415127894358017, 0.9184373653359437, 0.9211909258075865, 0.9516731935161182, 0.9546944992501765, 0.9514006836454791]}, {\"categories\": [\"0\", \"1\", \"2\", \"3\", \"4\", \"5\", \"6\", \"7\", \"8\", \"9\", \"10\", \"11\", \"12\", \"13\", \"14\", \"15\", \"16\", \"17\", \"18\", \"19\", \"20\", \"21\", \"22\", \"23\", \"24\", \"25\", \"26\", \"27\", \"28\", \"29\", \"30\", \"31\", \"32\", \"33\", \"38\", \"39\"], \"mode\": \"lines\", \"name\": \"f1_score_weighted_max\", \"stepped\": true, \"type\": \"scatter\", \"data\": [0.914870397507436, 0.9252993274504773, 0.9252993274504773, 0.9252993274504773, 0.9252993274504773, 0.9252993274504773, 0.9252993274504773, 0.95139474216334, 0.95139474216334, 0.95139474216334, 0.95139474216334, 0.95139474216334, 0.95139474216334, 0.95139474216334, 0.95139474216334, 0.95139474216334, 0.9519487612994905, 0.9519487612994905, 0.9519487612994905, 0.9519487612994905, 0.9519487612994905, 0.9519487612994905, 0.9519487612994905, 0.9519487612994905, 0.9519487612994905, 0.9519487612994905, 0.9519487612994905, 0.9519487612994905, 0.9519487612994905, 0.9519487612994905, 0.9519487612994905, 0.9519487612994905, 0.9519487612994905, 0.9519487612994905, 0.9546944992501765, 0.9546944992501765]}], \"matthews_correlation\": [{\"categories\": [\"0\", \"1\", \"2\", \"3\", \"4\", \"5\", \"6\", \"7\", \"8\", \"9\", \"10\", \"11\", \"12\", \"13\", \"14\", \"15\", \"16\", \"17\", \"18\", \"19\", \"20\", \"21\", \"22\", \"23\", \"24\", \"25\", \"26\", \"27\", \"28\", \"29\", \"30\", \"31\", \"32\", \"33\", \"38\", \"39\"], \"mode\": \"markers\", \"name\": \"matthews_correlation\", \"stepped\": false, \"type\": \"scatter\", \"data\": [0.8296281991020116, 0.8506051246611624, 0.7305195680439085, 0.8375829645539351, 0.7994733585255607, 0.8161879651682294, 0.8303262286982461, 0.9028634226616047, 0.6931080475210805, 0.8041518941698417, 0.7810941036522591, 0.8243449412514046, 0.8968386010328947, 0.8980452930446227, 0.8161720034158856, 0.7580181875717078, 0.9038743253706987, 0.7632307864256213, 0.8526864521287308, 0.8201686698544435, 0.857696584462135, 0.8527451124297747, 0.8363969434642617, 0.8693311120685314, 0.4052428318987998, 0.8937501187133885, 0.8324086946704992, 0.8822268502549255, 0.7891498445897227, 0.8516035215561943, 0.8832319681932445, 0.837028590357006, 0.842364483367487, 0.9035349801045974, 0.9094035047152154, 0.9028517045648762]}, {\"categories\": [\"0\", \"1\", \"2\", \"3\", \"4\", \"5\", \"6\", \"7\", \"8\", \"9\", \"10\", \"11\", \"12\", \"13\", \"14\", \"15\", \"16\", \"17\", \"18\", \"19\", \"20\", \"21\", \"22\", \"23\", \"24\", \"25\", \"26\", \"27\", \"28\", \"29\", \"30\", \"31\", \"32\", \"33\", \"38\", \"39\"], \"mode\": \"lines\", \"name\": \"matthews_correlation_max\", \"stepped\": true, \"type\": \"scatter\", \"data\": [0.8296281991020116, 0.8506051246611624, 0.8506051246611624, 0.8506051246611624, 0.8506051246611624, 0.8506051246611624, 0.8506051246611624, 0.9028634226616047, 0.9028634226616047, 0.9028634226616047, 0.9028634226616047, 0.9028634226616047, 0.9028634226616047, 0.9028634226616047, 0.9028634226616047, 0.9028634226616047, 0.9038743253706987, 0.9038743253706987, 0.9038743253706987, 0.9038743253706987, 0.9038743253706987, 0.9038743253706987, 0.9038743253706987, 0.9038743253706987, 0.9038743253706987, 0.9038743253706987, 0.9038743253706987, 0.9038743253706987, 0.9038743253706987, 0.9038743253706987, 0.9038743253706987, 0.9038743253706987, 0.9038743253706987, 0.9038743253706987, 0.9094035047152154, 0.9094035047152154]}], \"balanced_accuracy\": [{\"categories\": [\"0\", \"1\", \"2\", \"3\", \"4\", \"5\", \"6\", \"7\", \"8\", \"9\", \"10\", \"11\", \"12\", \"13\", \"14\", \"15\", \"16\", \"17\", \"18\", \"19\", \"20\", \"21\", \"22\", \"23\", \"24\", \"25\", \"26\", \"27\", \"28\", \"29\", \"30\", \"31\", \"32\", \"33\", \"38\", \"39\"], \"mode\": \"markers\", \"name\": \"balanced_accuracy\", \"stepped\": false, \"type\": \"scatter\", \"data\": [0.9147002551080234, 0.925119600624917, 0.8571603087288866, 0.9186364931879634, 0.8994912660055119, 0.9079596416974226, 0.9148826919226616, 0.9513690243247688, 0.8327669884071358, 0.901690170717569, 0.8903481733775649, 0.9119646480381091, 0.9485065112146407, 0.9490129951374673, 0.907828039192901, 0.8783265011910346, 0.9519551673847542, 0.880812848616759, 0.9263073681262572, 0.9090101551243649, 0.9281400247159104, 0.926212304448625, 0.9181102233163955, 0.9345382420876923, 0.6960212365427647, 0.9467140638454676, 0.9159677194541513, 0.940688942920126, 0.8943817581977594, 0.9257477753172972, 0.9416041657129831, 0.9184110511231935, 0.9211457647730288, 0.9517663957828916, 0.9547257400362044, 0.9514905504434941]}, {\"categories\": [\"0\", \"1\", \"2\", \"3\", \"4\", \"5\", \"6\", \"7\", \"8\", \"9\", \"10\", \"11\", \"12\", \"13\", \"14\", \"15\", \"16\", \"17\", \"18\", \"19\", \"20\", \"21\", \"22\", \"23\", \"24\", \"25\", \"26\", \"27\", \"28\", \"29\", \"30\", \"31\", \"32\", \"33\", \"38\", \"39\"], \"mode\": \"lines\", \"name\": \"balanced_accuracy_max\", \"stepped\": true, \"type\": \"scatter\", \"data\": [0.9147002551080234, 0.925119600624917, 0.925119600624917, 0.925119600624917, 0.925119600624917, 0.925119600624917, 0.925119600624917, 0.9513690243247688, 0.9513690243247688, 0.9513690243247688, 0.9513690243247688, 0.9513690243247688, 0.9513690243247688, 0.9513690243247688, 0.9513690243247688, 0.9513690243247688, 0.9519551673847542, 0.9519551673847542, 0.9519551673847542, 0.9519551673847542, 0.9519551673847542, 0.9519551673847542, 0.9519551673847542, 0.9519551673847542, 0.9519551673847542, 0.9519551673847542, 0.9519551673847542, 0.9519551673847542, 0.9519551673847542, 0.9519551673847542, 0.9519551673847542, 0.9519551673847542, 0.9519551673847542, 0.9519551673847542, 0.9547257400362044, 0.9547257400362044]}], \"norm_macro_recall\": [{\"categories\": [\"0\", \"1\", \"2\", \"3\", \"4\", \"5\", \"6\", \"7\", \"8\", \"9\", \"10\", \"11\", \"12\", \"13\", \"14\", \"15\", \"16\", \"17\", \"18\", \"19\", \"20\", \"21\", \"22\", \"23\", \"24\", \"25\", \"26\", \"27\", \"28\", \"29\", \"30\", \"31\", \"32\", \"33\", \"38\", \"39\"], \"mode\": \"markers\", \"name\": \"norm_macro_recall\", \"stepped\": false, \"type\": \"scatter\", \"data\": [0.8294005102160469, 0.8502392012498339, 0.7143206174577731, 0.8372729863759268, 0.798982532011024, 0.8159192833948454, 0.8297653838453234, 0.9027380486495374, 0.6655339768142717, 0.8033803414351379, 0.7806963467551299, 0.8239292960762181, 0.8970130224292813, 0.8980259902749348, 0.8156560783858019, 0.7566530023820693, 0.9039103347695079, 0.7616256972335178, 0.8526147362525144, 0.8180203102487298, 0.8562800494318207, 0.85242460889725, 0.8362204466327912, 0.8690764841753846, 0.3920424730855293, 0.893428127690935, 0.8319354389083028, 0.8813778858402518, 0.7887635163955188, 0.8514955506345944, 0.8832083314259664, 0.8368221022463871, 0.8422915295460577, 0.9035327915657829, 0.9094514800724088, 0.9029811008869881]}, {\"categories\": [\"0\", \"1\", \"2\", \"3\", \"4\", \"5\", \"6\", \"7\", \"8\", \"9\", \"10\", \"11\", \"12\", \"13\", \"14\", \"15\", \"16\", \"17\", \"18\", \"19\", \"20\", \"21\", \"22\", \"23\", \"24\", \"25\", \"26\", \"27\", \"28\", \"29\", \"30\", \"31\", \"32\", \"33\", \"38\", \"39\"], \"mode\": \"lines\", \"name\": \"norm_macro_recall_max\", \"stepped\": true, \"type\": \"scatter\", \"data\": [0.8294005102160469, 0.8502392012498339, 0.8502392012498339, 0.8502392012498339, 0.8502392012498339, 0.8502392012498339, 0.8502392012498339, 0.9027380486495374, 0.9027380486495374, 0.9027380486495374, 0.9027380486495374, 0.9027380486495374, 0.9027380486495374, 0.9027380486495374, 0.9027380486495374, 0.9027380486495374, 0.9039103347695079, 0.9039103347695079, 0.9039103347695079, 0.9039103347695079, 0.9039103347695079, 0.9039103347695079, 0.9039103347695079, 0.9039103347695079, 0.9039103347695079, 0.9039103347695079, 0.9039103347695079, 0.9039103347695079, 0.9039103347695079, 0.9039103347695079, 0.9039103347695079, 0.9039103347695079, 0.9039103347695079, 0.9039103347695079, 0.9094514800724088, 0.9094514800724088]}], \"average_precision_score_weighted\": [{\"categories\": [\"0\", \"1\", \"2\", \"3\", \"4\", \"5\", \"6\", \"7\", \"8\", \"9\", \"10\", \"11\", \"12\", \"13\", \"14\", \"15\", \"16\", \"17\", \"18\", \"19\", \"20\", \"21\", \"22\", \"23\", \"24\", \"25\", \"26\", \"27\", \"28\", \"29\", \"30\", \"31\", \"32\", \"33\", \"38\", \"39\"], \"mode\": \"markers\", \"name\": \"average_precision_score_weighted\", \"stepped\": false, \"type\": \"scatter\", \"data\": [0.9778495022539229, 0.9756802453706742, 0.9413936390263681, 0.9602003863508635, 0.9624445413233754, 0.9598166320629321, 0.9669565741402174, 0.988716779696268, 0.9103967155083348, 0.9627304809813981, 0.9435554987971526, 0.9613001997451891, 0.9849080729522177, 0.9842137857576907, 0.9488036431343307, 0.9340106052295921, 0.9892146920800287, 0.9558398305724584, 0.9731017069035698, 0.9745765892956563, 0.9854211044394875, 0.9762215729812873, 0.9490585690693099, 0.9648634927983126, 0.6939632809043808, 0.9884302317714443, 0.9714166799485842, 0.9870486404141265, 0.957860054513955, 0.976430002719827, 0.971853877858249, 0.9727154105177614, 0.9727620484904621, 0.988255577107782, 0.9903421024641542, 0.9907640955121625]}, {\"categories\": [\"0\", \"1\", \"2\", \"3\", \"4\", \"5\", \"6\", \"7\", \"8\", \"9\", \"10\", \"11\", \"12\", \"13\", \"14\", \"15\", \"16\", \"17\", \"18\", \"19\", \"20\", \"21\", \"22\", \"23\", \"24\", \"25\", \"26\", \"27\", \"28\", \"29\", \"30\", \"31\", \"32\", \"33\", \"38\", \"39\"], \"mode\": \"lines\", \"name\": \"average_precision_score_weighted_max\", \"stepped\": true, \"type\": \"scatter\", \"data\": [0.9778495022539229, 0.9778495022539229, 0.9778495022539229, 0.9778495022539229, 0.9778495022539229, 0.9778495022539229, 0.9778495022539229, 0.988716779696268, 0.988716779696268, 0.988716779696268, 0.988716779696268, 0.988716779696268, 0.988716779696268, 0.988716779696268, 0.988716779696268, 0.988716779696268, 0.9892146920800287, 0.9892146920800287, 0.9892146920800287, 0.9892146920800287, 0.9892146920800287, 0.9892146920800287, 0.9892146920800287, 0.9892146920800287, 0.9892146920800287, 0.9892146920800287, 0.9892146920800287, 0.9892146920800287, 0.9892146920800287, 0.9892146920800287, 0.9892146920800287, 0.9892146920800287, 0.9892146920800287, 0.9892146920800287, 0.9903421024641542, 0.9907640955121625]}], \"recall_score_macro\": [{\"categories\": [\"0\", \"1\", \"2\", \"3\", \"4\", \"5\", \"6\", \"7\", \"8\", \"9\", \"10\", \"11\", \"12\", \"13\", \"14\", \"15\", \"16\", \"17\", \"18\", \"19\", \"20\", \"21\", \"22\", \"23\", \"24\", \"25\", \"26\", \"27\", \"28\", \"29\", \"30\", \"31\", \"32\", \"33\", \"38\", \"39\"], \"mode\": \"markers\", \"name\": \"recall_score_macro\", \"stepped\": false, \"type\": \"scatter\", \"data\": [0.9147002551080234, 0.925119600624917, 0.8571603087288866, 0.9186364931879634, 0.8994912660055119, 0.9079596416974226, 0.9148826919226616, 0.9513690243247688, 0.8327669884071358, 0.901690170717569, 0.8903481733775649, 0.9119646480381091, 0.9485065112146407, 0.9490129951374673, 0.907828039192901, 0.8783265011910346, 0.9519551673847542, 0.880812848616759, 0.9263073681262572, 0.9090101551243649, 0.9281400247159104, 0.926212304448625, 0.9181102233163955, 0.9345382420876923, 0.6960212365427647, 0.9467140638454676, 0.9159677194541513, 0.940688942920126, 0.8943817581977594, 0.9257477753172972, 0.9416041657129831, 0.9184110511231935, 0.9211457647730288, 0.9517663957828916, 0.9547257400362044, 0.9514905504434941]}, {\"categories\": [\"0\", \"1\", \"2\", \"3\", \"4\", \"5\", \"6\", \"7\", \"8\", \"9\", \"10\", \"11\", \"12\", \"13\", \"14\", \"15\", \"16\", \"17\", \"18\", \"19\", \"20\", \"21\", \"22\", \"23\", \"24\", \"25\", \"26\", \"27\", \"28\", \"29\", \"30\", \"31\", \"32\", \"33\", \"38\", \"39\"], \"mode\": \"lines\", \"name\": \"recall_score_macro_max\", \"stepped\": true, \"type\": \"scatter\", \"data\": [0.9147002551080234, 0.925119600624917, 0.925119600624917, 0.925119600624917, 0.925119600624917, 0.925119600624917, 0.925119600624917, 0.9513690243247688, 0.9513690243247688, 0.9513690243247688, 0.9513690243247688, 0.9513690243247688, 0.9513690243247688, 0.9513690243247688, 0.9513690243247688, 0.9513690243247688, 0.9519551673847542, 0.9519551673847542, 0.9519551673847542, 0.9519551673847542, 0.9519551673847542, 0.9519551673847542, 0.9519551673847542, 0.9519551673847542, 0.9519551673847542, 0.9519551673847542, 0.9519551673847542, 0.9519551673847542, 0.9519551673847542, 0.9519551673847542, 0.9519551673847542, 0.9519551673847542, 0.9519551673847542, 0.9519551673847542, 0.9547257400362044, 0.9547257400362044]}]}, \"metricName\": null, \"primaryMetricName\": \"accuracy\", \"showLegend\": false}, \"run_metrics\": [{\"name\": \"experiment_status\", \"run_id\": \"AutoML_f2ffd54f-172e-4409-bf3f-943e7cbaa3ed\", \"categories\": [0, 1, 2, 3, 4, 5, 6, 7, 8, 9, 10, 11], \"series\": [{\"data\": [\"DatasetEvaluation\", \"FeaturesGeneration\", \"DatasetFeaturization\", \"DatasetFeaturizationCompleted\", \"DatasetCrossValidationSplit\", \"ModelSelection\", \"BestRunExplainModel\", \"ModelExplanationDataSetSetup\", \"PickSurrogateModel\", \"EngineeredFeatureExplanations\", \"EngineeredFeatureExplanations\", \"RawFeaturesExplanations\"]}]}, {\"name\": \"experiment_status_description\", \"run_id\": \"AutoML_f2ffd54f-172e-4409-bf3f-943e7cbaa3ed\", \"categories\": [0, 1, 2, 3, 4, 5, 6, 7, 8, 9, 10, 11], \"series\": [{\"data\": [\"Gathering dataset statistics.\", \"Generating features for the dataset.\", \"Beginning to fit featurizers and featurize the dataset.\", \"Completed fit featurizers and featurizing the dataset.\", \"Generating individually featurized CV splits.\", \"Beginning model selection.\", \"Best run model explanations started\", \"Model explanations data setup completed\", \"Choosing LightGBM as the surrogate model for explanations\", \"Computation of engineered features started\", \"Computation of engineered features completed\", \"Computation of raw features started\"]}]}, {\"name\": \"f1_score_macro\", \"run_id\": \"AutoML_f2ffd54f-172e-4409-bf3f-943e7cbaa3ed\", \"categories\": [0], \"series\": [{\"data\": [0.9546510105392759]}]}, {\"name\": \"AUC_macro\", \"run_id\": \"AutoML_f2ffd54f-172e-4409-bf3f-943e7cbaa3ed\", \"categories\": [0], \"series\": [{\"data\": [0.9901173448266876]}]}, {\"name\": \"recall_score_micro\", \"run_id\": \"AutoML_f2ffd54f-172e-4409-bf3f-943e7cbaa3ed\", \"categories\": [0], \"series\": [{\"data\": [0.9546933176562806]}]}, {\"name\": \"matthews_correlation\", \"run_id\": \"AutoML_f2ffd54f-172e-4409-bf3f-943e7cbaa3ed\", \"categories\": [0], \"series\": [{\"data\": [0.9094035047152154]}]}, {\"name\": \"average_precision_score_weighted\", \"run_id\": \"AutoML_f2ffd54f-172e-4409-bf3f-943e7cbaa3ed\", \"categories\": [0], \"series\": [{\"data\": [0.9903421024641542]}]}, {\"name\": \"AUC_weighted\", \"run_id\": \"AutoML_f2ffd54f-172e-4409-bf3f-943e7cbaa3ed\", \"categories\": [0], \"series\": [{\"data\": [0.9901173448266876]}]}, {\"name\": \"precision_score_micro\", \"run_id\": \"AutoML_f2ffd54f-172e-4409-bf3f-943e7cbaa3ed\", \"categories\": [0], \"series\": [{\"data\": [0.9546933176562806]}]}, {\"name\": \"precision_score_weighted\", \"run_id\": \"AutoML_f2ffd54f-172e-4409-bf3f-943e7cbaa3ed\", \"categories\": [0], \"series\": [{\"data\": [0.9547970953623286]}]}, {\"name\": \"average_precision_score_macro\", \"run_id\": \"AutoML_f2ffd54f-172e-4409-bf3f-943e7cbaa3ed\", \"categories\": [0], \"series\": [{\"data\": [0.9903334176617408]}]}, {\"name\": \"accuracy\", \"run_id\": \"AutoML_f2ffd54f-172e-4409-bf3f-943e7cbaa3ed\", \"categories\": [0], \"series\": [{\"data\": [0.9546933176562806]}]}, {\"name\": \"precision_score_macro\", \"run_id\": \"AutoML_f2ffd54f-172e-4409-bf3f-943e7cbaa3ed\", \"categories\": [0], \"series\": [{\"data\": [0.9546778389151166]}]}, {\"name\": \"recall_score_macro\", \"run_id\": \"AutoML_f2ffd54f-172e-4409-bf3f-943e7cbaa3ed\", \"categories\": [0], \"series\": [{\"data\": [0.9547257400362044]}]}, {\"name\": \"f1_score_micro\", \"run_id\": \"AutoML_f2ffd54f-172e-4409-bf3f-943e7cbaa3ed\", \"categories\": [0], \"series\": [{\"data\": [0.9546933176562806]}]}, {\"name\": \"f1_score_weighted\", \"run_id\": \"AutoML_f2ffd54f-172e-4409-bf3f-943e7cbaa3ed\", \"categories\": [0], \"series\": [{\"data\": [0.9546944992501765]}]}, {\"name\": \"balanced_accuracy\", \"run_id\": \"AutoML_f2ffd54f-172e-4409-bf3f-943e7cbaa3ed\", \"categories\": [0], \"series\": [{\"data\": [0.9547257400362044]}]}, {\"name\": \"weighted_accuracy\", \"run_id\": \"AutoML_f2ffd54f-172e-4409-bf3f-943e7cbaa3ed\", \"categories\": [0], \"series\": [{\"data\": [0.954661214965126]}]}, {\"name\": \"AUC_micro\", \"run_id\": \"AutoML_f2ffd54f-172e-4409-bf3f-943e7cbaa3ed\", \"categories\": [0], \"series\": [{\"data\": [0.9901719533543385]}]}, {\"name\": \"log_loss\", \"run_id\": \"AutoML_f2ffd54f-172e-4409-bf3f-943e7cbaa3ed\", \"categories\": [0], \"series\": [{\"data\": [0.2211738958467282]}]}, {\"name\": \"norm_macro_recall\", \"run_id\": \"AutoML_f2ffd54f-172e-4409-bf3f-943e7cbaa3ed\", \"categories\": [0], \"series\": [{\"data\": [0.9094514800724088]}]}, {\"name\": \"average_precision_score_micro\", \"run_id\": \"AutoML_f2ffd54f-172e-4409-bf3f-943e7cbaa3ed\", \"categories\": [0], \"series\": [{\"data\": [0.9903686185390999]}]}, {\"name\": \"recall_score_weighted\", \"run_id\": \"AutoML_f2ffd54f-172e-4409-bf3f-943e7cbaa3ed\", \"categories\": [0], \"series\": [{\"data\": [0.9546933176562806]}]}], \"run_logs\": \"\\nRun is completed.\", \"graph\": {}, \"widget_settings\": {\"childWidgetDisplay\": \"popup\", \"send_telemetry\": false, \"log_level\": \"INFO\", \"sdk_version\": \"1.34.0\"}, \"loading\": false}"
          },
          "metadata": {}
        }
      ],
      "execution_count": 9,
      "metadata": {
        "gather": {
          "logged": 1639214472846
        },
        "jupyter": {
          "outputs_hidden": false,
          "source_hidden": false
        },
        "nteract": {
          "transient": {
            "deleting": false
          }
        }
      }
    },
    {
      "cell_type": "code",
      "source": [
        "# return details of the run\n",
        "remote_run.wait_for_completion(show_output=True)"
      ],
      "outputs": [
        {
          "output_type": "display_data",
          "data": {
            "text/plain": "<IPython.core.display.HTML object>",
            "text/html": "<table style=\"width:100%\"><tr><th>Experiment</th><th>Id</th><th>Type</th><th>Status</th><th>Details Page</th><th>Docs Page</th></tr><tr><td>demo-experiment</td><td>AutoML_f2ffd54f-172e-4409-bf3f-943e7cbaa3ed</td><td>automl</td><td>Completed</td><td><a href=\"https://ml.azure.com/runs/AutoML_f2ffd54f-172e-4409-bf3f-943e7cbaa3ed?wsid=/subscriptions/48a74bb7-9950-4cc1-9caa-5d50f995cc55/resourcegroups/aml-quickstarts-165546/workspaces/quick-starts-ws-165546&amp;tid=660b3398-b80e-49d2-bc5b-ac1dc93b5254\" target=\"_blank\" rel=\"noopener\">Link to Azure Machine Learning studio</a></td><td><a href=\"https://docs.microsoft.com/en-us/python/api/overview/azure/ml/intro?view=azure-ml-py\" target=\"_blank\" rel=\"noopener\">Link to Documentation</a></td></tr></table>"
          },
          "metadata": {}
        },
        {
          "output_type": "stream",
          "name": "stdout",
          "text": "\n\n****************************************************************************************************\nDATA GUARDRAILS: \n\nTYPE:         Class balancing detection\nSTATUS:       PASSED\nDESCRIPTION:  Your inputs were analyzed, and all classes are balanced in your training data.\n              Learn more about imbalanced data: https://aka.ms/AutomatedMLImbalancedData\n\n****************************************************************************************************\n\nTYPE:         Missing feature values imputation\nSTATUS:       PASSED\nDESCRIPTION:  No feature missing values were detected in the training data.\n              Learn more about missing value imputation: https://aka.ms/AutomatedMLFeaturization\n\n****************************************************************************************************\n\nTYPE:         High cardinality feature detection\nSTATUS:       PASSED\nDESCRIPTION:  Your inputs were analyzed, and no high cardinality features were detected.\n              Learn more about high cardinality feature handling: https://aka.ms/AutomatedMLFeaturization\n\n****************************************************************************************************\n\n****************************************************************************************************\nITERATION: The iteration being evaluated.\nPIPELINE: A summary description of the pipeline being evaluated.\nDURATION: Time taken for the current iteration.\nMETRIC: The result of computing score on the fitted pipeline.\nBEST: The best observed score thus far.\n****************************************************************************************************\n\n ITERATION   PIPELINE                                       DURATION      METRIC      BEST\n         0   MaxAbsScaler LightGBM                          0:01:51       0.9149    0.9149\n         1   MaxAbsScaler XGBoostClassifier                 0:00:29       0.9253    0.9253\n         2   MaxAbsScaler ExtremeRandomTrees                0:00:49       0.8553    0.9253\n         3   SparseNormalizer XGBoostClassifier             0:00:57       0.9187    0.9253\n         4   MaxAbsScaler LightGBM                          0:01:27       0.8998    0.9253\n         5   MaxAbsScaler LightGBM                          0:02:27       0.9080    0.9253\n         6   StandardScalerWrapper XGBoostClassifier        0:02:16       0.9152    0.9253\n         7   MaxAbsScaler LogisticRegression                0:01:00       0.9514    0.9514\n         8   StandardScalerWrapper ExtremeRandomTrees       0:01:19       0.8306    0.9514\n         9   StandardScalerWrapper XGBoostClassifier        0:00:24       0.9020    0.9514\n        10   SparseNormalizer LightGBM                      0:00:52       0.8904    0.9514\n        11   StandardScalerWrapper XGBoostClassifier        0:01:29       0.9121    0.9514\n        12   MaxAbsScaler LogisticRegression                0:01:29       0.9484    0.9514\n        13   MaxAbsScaler SGD                               0:01:16       0.9489    0.9514\n        14   StandardScalerWrapper XGBoostClassifier        0:01:13       0.9080    0.9514\n        15   SparseNormalizer RandomForest                  0:01:10       0.8789    0.9514\n        16   StandardScalerWrapper LogisticRegression       0:01:18       0.9519    0.9519\n        17   StandardScalerWrapper RandomForest             0:01:59       0.8811    0.9519\n        18   StandardScalerWrapper XGBoostClassifier        0:01:54       0.9264    0.9519\n        19   TruncatedSVDWrapper RandomForest               0:02:08       0.9091    0.9519\n        20   TruncatedSVDWrapper RandomForest               0:01:42       0.9283    0.9519\n        21   StandardScalerWrapper XGBoostClassifier        0:01:03       0.9264    0.9519\n        22   SparseNormalizer XGBoostClassifier             0:01:23       0.9182    0.9519\n        23   StandardScalerWrapper LogisticRegression       0:01:57       0.9344    0.9519\n        24   StandardScalerWrapper RandomForest             0:01:46       0.6928    0.9519\n        25   MaxAbsScaler LogisticRegression                0:01:38       0.9467    0.9519\n        26   SparseNormalizer XGBoostClassifier             0:01:37       0.9160    0.9519\n        27   MaxAbsScaler LogisticRegression                0:01:01       0.9407    0.9519\n        28   SparseNormalizer LightGBM                      0:01:17       0.8946    0.9519\n        29   StandardScalerWrapper XGBoostClassifier        0:02:04       0.9259    0.9519\n        30   StandardScalerWrapper LogisticRegression       0:01:57       0.9415    0.9519\n        31   SparseNormalizer XGBoostClassifier             0:01:58       0.9184    0.9519\n        32   SparseNormalizer XGBoostClassifier             0:01:38       0.9212    0.9519\n        33   MaxAbsScaler LogisticRegression                0:01:12       0.9517    0.9519\n        34                                                  0:00:26          nan    0.9519\n        35                                                  0:00:22          nan    0.9519\n        36                                                  0:00:22          nan    0.9519\n        37                                                  0:00:22          nan    0.9519\n        38    VotingEnsemble                                0:01:07       0.9547    0.9547\n        39    StackEnsemble                                 0:01:48       0.9514    0.9547\n"
        },
        {
          "output_type": "execute_result",
          "execution_count": 10,
          "data": {
            "text/plain": "{'runId': 'AutoML_f2ffd54f-172e-4409-bf3f-943e7cbaa3ed',\n 'target': 'demo-cluster',\n 'status': 'Completed',\n 'startTimeUtc': '2021-12-11T09:02:37.020886Z',\n 'endTimeUtc': '2021-12-11T09:17:33.501673Z',\n 'services': {},\n 'warnings': [{'source': 'JasmineService',\n   'message': 'No scores improved over last 20 iterations, so experiment stopped early. This early stopping behavior can be disabled by setting enable_early_stopping = False in AutoMLConfig for notebook/python SDK runs.'}],\n 'properties': {'num_iterations': '1000',\n  'training_type': 'TrainFull',\n  'acquisition_function': 'EI',\n  'primary_metric': 'accuracy',\n  'train_split': '0',\n  'acquisition_parameter': '0',\n  'num_cross_validation': '5',\n  'target': 'demo-cluster',\n  'AMLSettingsJsonString': '{\"path\":null,\"name\":\"demo-experiment\",\"subscription_id\":\"48a74bb7-9950-4cc1-9caa-5d50f995cc55\",\"resource_group\":\"aml-quickstarts-165546\",\"workspace_name\":\"quick-starts-ws-165546\",\"region\":\"southcentralus\",\"compute_target\":\"demo-cluster\",\"spark_service\":null,\"azure_service\":\"remote\",\"many_models\":false,\"pipeline_fetch_max_batch_size\":1,\"enable_batch_run\":false,\"enable_run_restructure\":false,\"start_auxiliary_runs_before_parent_complete\":false,\"enable_code_generation\":false,\"iterations\":1000,\"primary_metric\":\"accuracy\",\"task_type\":\"classification\",\"data_script\":null,\"test_size\":0.0,\"test_include_predictions_only\":false,\"validation_size\":0.0,\"n_cross_validations\":5,\"y_min\":null,\"y_max\":null,\"num_classes\":null,\"featurization\":\"auto\",\"_ignore_package_version_incompatibilities\":false,\"is_timeseries\":false,\"max_cores_per_iteration\":1,\"max_concurrent_iterations\":5,\"iteration_timeout_minutes\":null,\"mem_in_mb\":null,\"enforce_time_on_windows\":false,\"experiment_timeout_minutes\":25,\"experiment_exit_score\":null,\"whitelist_models\":null,\"blacklist_algos\":[\"TensorFlowLinearClassifier\",\"TensorFlowDNN\"],\"supported_models\":[\"SVM\",\"RandomForest\",\"MultinomialNaiveBayes\",\"AveragedPerceptronClassifier\",\"LinearSVM\",\"LogisticRegression\",\"ExtremeRandomTrees\",\"XGBoostClassifier\",\"DecisionTree\",\"LightGBM\",\"TensorFlowLinearClassifier\",\"KNN\",\"SGD\",\"GradientBoosting\",\"TensorFlowDNN\",\"BernoulliNaiveBayes\"],\"private_models\":[],\"auto_blacklist\":true,\"blacklist_samples_reached\":false,\"exclude_nan_labels\":true,\"verbosity\":20,\"_debug_log\":\"azureml_automl.log\",\"show_warnings\":false,\"model_explainability\":true,\"service_url\":null,\"sdk_url\":null,\"sdk_packages\":null,\"enable_onnx_compatible_models\":false,\"enable_split_onnx_featurizer_estimator_models\":false,\"vm_type\":\"STANDARD_DS12_V2\",\"telemetry_verbosity\":20,\"send_telemetry\":true,\"enable_dnn\":false,\"scenario\":\"SDK-1.13.0\",\"environment_label\":null,\"save_mlflow\":false,\"force_text_dnn\":false,\"enable_feature_sweeping\":true,\"enable_early_stopping\":true,\"early_stopping_n_iters\":10,\"metrics\":null,\"enable_metric_confidence\":false,\"enable_ensembling\":true,\"enable_stack_ensembling\":true,\"ensemble_iterations\":15,\"enable_tf\":false,\"enable_subsampling\":null,\"subsample_seed\":null,\"enable_nimbusml\":false,\"enable_streaming\":false,\"force_streaming\":false,\"track_child_runs\":true,\"allowed_private_models\":[],\"label_column_name\":\"TargetClass\",\"weight_column_name\":null,\"cv_split_column_names\":null,\"positive_label\":null,\"enable_local_managed\":false,\"_local_managed_run_id\":null,\"cost_mode\":1,\"lag_length\":0,\"metric_operation\":\"maximize\",\"preprocess\":true}',\n  'DataPrepJsonString': '{\\\\\"training_data\\\\\": {\\\\\"datasetId\\\\\": \\\\\"9f7a28ea-2cf7-4202-8e0d-95edff82bdc3\\\\\"}, \\\\\"datasets\\\\\": 0}',\n  'EnableSubsampling': None,\n  'runTemplate': 'AutoML',\n  'azureml.runsource': 'automl',\n  'display_task_type': 'classification',\n  'dependencies_versions': '{\"azureml-widgets\": \"1.34.0\", \"azureml-train\": \"1.34.0\", \"azureml-train-restclients-hyperdrive\": \"1.34.0\", \"azureml-train-core\": \"1.34.0\", \"azureml-train-automl\": \"1.34.0\", \"azureml-train-automl-runtime\": \"1.34.0\", \"azureml-train-automl-client\": \"1.34.0\", \"azureml-tensorboard\": \"1.34.0\", \"azureml-telemetry\": \"1.34.0\", \"azureml-sdk\": \"1.34.0\", \"azureml-samples\": \"0+unknown\", \"azureml-responsibleai\": \"1.34.0\", \"azureml-pipeline\": \"1.34.0\", \"azureml-pipeline-steps\": \"1.34.0\", \"azureml-pipeline-core\": \"1.34.0\", \"azureml-opendatasets\": \"1.34.0\", \"azureml-mlflow\": \"1.34.0\", \"azureml-interpret\": \"1.34.0\", \"azureml-inference-server-http\": \"0.3.1\", \"azureml-explain-model\": \"1.34.0\", \"azureml-defaults\": \"1.34.0\", \"azureml-dataset-runtime\": \"1.34.0\", \"azureml-dataprep\": \"2.22.2\", \"azureml-dataprep-rslex\": \"1.20.1\", \"azureml-dataprep-native\": \"38.0.0\", \"azureml-datadrift\": \"1.34.0\", \"azureml-core\": \"1.34.0\", \"azureml-contrib-services\": \"1.34.0\", \"azureml-contrib-server\": \"1.34.0\", \"azureml-contrib-reinforcementlearning\": \"1.34.0\", \"azureml-contrib-pipeline-steps\": \"1.34.0\", \"azureml-contrib-notebook\": \"1.34.0\", \"azureml-contrib-fairness\": \"1.34.0\", \"azureml-contrib-dataset\": \"1.34.0\", \"azureml-contrib-automl-pipeline-steps\": \"1.34.0\", \"azureml-cli-common\": \"1.34.0\", \"azureml-automl-runtime\": \"1.34.0\", \"azureml-automl-dnn-nlp\": \"1.34.0\", \"azureml-automl-core\": \"1.34.0\", \"azureml-accel-models\": \"1.34.0\"}',\n  '_aml_system_scenario_identification': 'Remote.Parent',\n  'ClientType': 'SDK',\n  'environment_cpu_name': 'AzureML-AutoML',\n  'environment_cpu_label': 'prod',\n  'environment_gpu_name': 'AzureML-AutoML-GPU',\n  'environment_gpu_label': 'prod',\n  'root_attribution': 'automl',\n  'attribution': 'AutoML',\n  'Orchestrator': 'AutoML',\n  'CancelUri': 'https://southcentralus.api.azureml.ms/jasmine/v1.0/subscriptions/48a74bb7-9950-4cc1-9caa-5d50f995cc55/resourceGroups/aml-quickstarts-165546/providers/Microsoft.MachineLearningServices/workspaces/quick-starts-ws-165546/experimentids/708b4102-9cf3-451e-86b7-f813a8a3417e/cancel/AutoML_f2ffd54f-172e-4409-bf3f-943e7cbaa3ed',\n  'ClientSdkVersion': '1.36.1',\n  'snapshotId': '00000000-0000-0000-0000-000000000000',\n  'SetupRunId': 'AutoML_f2ffd54f-172e-4409-bf3f-943e7cbaa3ed_setup',\n  'SetupRunContainerId': 'dcid.AutoML_f2ffd54f-172e-4409-bf3f-943e7cbaa3ed_setup',\n  'FeaturizationRunJsonPath': 'featurizer_container.json',\n  'FeaturizationRunId': 'AutoML_f2ffd54f-172e-4409-bf3f-943e7cbaa3ed_featurize',\n  'ProblemInfoJsonString': '{\"dataset_num_categorical\": 0, \"is_sparse\": true, \"subsampling\": false, \"has_extra_col\": true, \"dataset_classes\": 2, \"dataset_features\": 517, \"dataset_samples\": 3642, \"single_frequency_class_detected\": false}',\n  'ModelExplainRunId': 'AutoML_f2ffd54f-172e-4409-bf3f-943e7cbaa3ed_ModelExplain'},\n 'inputDatasets': [{'dataset': {'id': '9f7a28ea-2cf7-4202-8e0d-95edff82bdc3'}, 'consumptionDetails': {'type': 'RunInput', 'inputName': 'training_data', 'mechanism': 'Direct'}}],\n 'outputDatasets': [],\n 'logFiles': {},\n 'submittedBy': 'ODL_User 165546'}"
          },
          "metadata": {}
        }
      ],
      "execution_count": 10,
      "metadata": {
        "gather": {
          "logged": 1639214669024
        }
      }
    },
    {
      "cell_type": "markdown",
      "source": [
        "## Best Model\n",
        "\n",
        "TODO: In the cell below, get the best model from the automl experiments and display all the properties of the model.\n",
        "\n"
      ],
      "metadata": {}
    },
    {
      "cell_type": "code",
      "source": [
        "best_run, model = remote_run.get_output()\n",
        "best_run"
      ],
      "outputs": [
        {
          "output_type": "stream",
          "name": "stderr",
          "text": "WARNING:root:The version of the SDK does not match the version the model was trained on.\nWARNING:root:The consistency in the result may not be guaranteed.\nWARNING:root:Package:azureml-automl-core, training version:1.36.1, current version:1.34.0\nPackage:azureml-automl-runtime, training version:1.36.1, current version:1.34.0\nPackage:azureml-core, training version:1.36.0.post2, current version:1.34.0\nPackage:azureml-dataprep, training version:2.24.4, current version:2.22.2\nPackage:azureml-dataprep-rslex, training version:2.0.3, current version:1.20.1\nPackage:azureml-dataset-runtime, training version:1.36.0, current version:1.34.0\nPackage:azureml-defaults, training version:1.36.0, current version:1.34.0\nPackage:azureml-inference-server-http, training version:0.4.2, current version:0.3.1\nPackage:azureml-interpret, training version:1.36.0, current version:1.34.0\nPackage:azureml-mlflow, training version:1.36.0, current version:1.34.0\nPackage:azureml-pipeline-core, training version:1.36.0, current version:1.34.0\nPackage:azureml-responsibleai, training version:1.36.0, current version:1.34.0\nPackage:azureml-telemetry, training version:1.36.0, current version:1.34.0\nPackage:azureml-train-automl-client, training version:1.36.0, current version:1.34.0\nPackage:azureml-train-automl-runtime, training version:1.36.1, current version:1.34.0\nPackage:azureml-train-core, training version:1.36.0, current version:1.34.0\nPackage:azureml-train-restclients-hyperdrive, training version:1.36.0, current version:1.34.0\nWARNING:root:Please ensure the version of your local conda dependencies match the version on which your model was trained in order to properly retrieve your model.\n"
        },
        {
          "output_type": "execute_result",
          "execution_count": 11,
          "data": {
            "text/plain": "Run(Experiment: demo-experiment,\nId: AutoML_f2ffd54f-172e-4409-bf3f-943e7cbaa3ed_38,\nType: azureml.scriptrun,\nStatus: Completed)",
            "text/html": "<table style=\"width:100%\"><tr><th>Experiment</th><th>Id</th><th>Type</th><th>Status</th><th>Details Page</th><th>Docs Page</th></tr><tr><td>demo-experiment</td><td>AutoML_f2ffd54f-172e-4409-bf3f-943e7cbaa3ed_38</td><td>azureml.scriptrun</td><td>Completed</td><td><a href=\"https://ml.azure.com/runs/AutoML_f2ffd54f-172e-4409-bf3f-943e7cbaa3ed_38?wsid=/subscriptions/48a74bb7-9950-4cc1-9caa-5d50f995cc55/resourcegroups/aml-quickstarts-165546/workspaces/quick-starts-ws-165546&amp;tid=660b3398-b80e-49d2-bc5b-ac1dc93b5254\" target=\"_blank\" rel=\"noopener\">Link to Azure Machine Learning studio</a></td><td><a href=\"https://docs.microsoft.com/en-us/python/api/azureml-core/azureml.core.run.Run?view=azure-ml-py\" target=\"_blank\" rel=\"noopener\">Link to Documentation</a></td></tr></table>"
          },
          "metadata": {}
        }
      ],
      "execution_count": 11,
      "metadata": {
        "gather": {
          "logged": 1639214701357
        },
        "jupyter": {
          "outputs_hidden": false,
          "source_hidden": false
        },
        "nteract": {
          "transient": {
            "deleting": false
          }
        }
      }
    },
    {
      "cell_type": "code",
      "source": [
        "model"
      ],
      "outputs": [
        {
          "output_type": "execute_result",
          "execution_count": 12,
          "data": {
            "text/plain": "Pipeline(memory=None,\n         steps=[('datatransformer',\n                 DataTransformer(enable_dnn=False, enable_feature_sweeping=True, feature_sweeping_config={}, feature_sweeping_timeout=86400, featurization_config=None, force_text_dnn=False, is_cross_validation=True, is_onnx_compatible=False, observer=None, task='classification', working_dir='/mnt/batch/tasks/shared/LS_root/mount...\n), random_state=0, reg_alpha=0.3125, reg_lambda=2.3958333333333335, subsample=1, tree_method='auto'))], verbose=False)), ('15', Pipeline(memory=None, steps=[('sparsenormalizer', Normalizer(copy=True, norm='l2')), ('randomforestclassifier', RandomForestClassifier(bootstrap=True, ccp_alpha=0.0, class_weight='balanced', criterion='gini', max_depth=None, max_features='sqrt', max_leaf_nodes=None, max_samples=None, min_impurity_decrease=0.0, min_impurity_split=None, min_samples_leaf=0.01, min_samples_split=0.01, min_weight_fraction_leaf=0.0, n_estimators=100, n_jobs=1, oob_score=True, random_state=None, verbose=0, warm_start=False))], verbose=False))], flatten_transform=None, weights=[0.14285714285714285, 0.14285714285714285, 0.07142857142857142, 0.07142857142857142, 0.21428571428571427, 0.14285714285714285, 0.07142857142857142, 0.07142857142857142, 0.07142857142857142]))],\n         verbose=False)"
          },
          "metadata": {}
        }
      ],
      "execution_count": 12,
      "metadata": {
        "gather": {
          "logged": 1639214706368
        }
      }
    },
    {
      "cell_type": "code",
      "source": [
        "model.steps"
      ],
      "outputs": [
        {
          "output_type": "execute_result",
          "execution_count": 13,
          "data": {
            "text/plain": "[('datatransformer',\n  DataTransformer(\n      task='classification',\n      is_onnx_compatible=False,\n      enable_feature_sweeping=True,\n      enable_dnn=False,\n      force_text_dnn=False,\n      feature_sweeping_timeout=86400,\n      featurization_config=None,\n      is_cross_validation=True,\n      feature_sweeping_config={}\n  )),\n ('prefittedsoftvotingclassifier',\n  PreFittedSoftVotingClassifier(\n      estimators=[('16', Pipeline(\n          memory=None,\n          steps=[('standardscalerwrapper', StandardScalerWrapper(\n              copy=True,\n              with_mean=False,\n              with_std=False\n          )), ('logisticregression', LogisticRegression(\n              C=51.79474679231202,\n              class_weight=None,\n              dual=False,\n              fit_intercept=True,\n              intercept_scaling=1,\n              l1_ratio=None,\n              max_iter=100,\n              multi_class='ovr',\n              n_jobs=1,\n              penalty='l2',\n              random_state=None,\n              solver='lbfgs',\n              tol=0.0001,\n              verbose=0,\n              warm_start=False\n          ))],\n          verbose=False\n      )), ('33', Pipeline(\n          memory=None,\n          steps=[('maxabsscaler', MaxAbsScaler(\n              copy=True\n          )), ('logisticregression', LogisticRegression(\n              C=7.9060432109076855,\n              class_weight=None,\n              dual=False,\n              fit_intercept=True,\n              intercept_scaling=1,\n              l1_ratio=None,\n              max_iter=100,\n              multi_class='ovr',\n              n_jobs=1,\n              penalty='l2',\n              random_state=None,\n              solver='saga',\n              tol=0.0001,\n              verbose=0,\n              warm_start=False\n          ))],\n          verbose=False\n      )), ('7', Pipeline(\n          memory=None,\n          steps=[('maxabsscaler', MaxAbsScaler(\n              copy=True\n          )), ('logisticregression', LogisticRegression(\n              C=1.7575106248547894,\n              class_weight=None,\n              dual=False,\n              fit_intercept=True,\n              intercept_scaling=1,\n              l1_ratio=None,\n              max_iter=100,\n              multi_class='multinomial',\n              n_jobs=1,\n              penalty='l2',\n              random_state=None,\n              solver='lbfgs',\n              tol=0.0001,\n              verbose=0,\n              warm_start=False\n          ))],\n          verbose=False\n      )), ('13', Pipeline(\n          memory=None,\n          steps=[('maxabsscaler', MaxAbsScaler(\n              copy=True\n          )), ('sgdclassifierwrapper', SGDClassifierWrapper(\n              alpha=7.5510448979591835,\n              class_weight='balanced',\n              eta0=0.001,\n              fit_intercept=True,\n              l1_ratio=0.42857142857142855,\n              learning_rate='constant',\n              loss='modified_huber',\n              max_iter=1000,\n              penalty='none',\n              power_t=0.7777777777777777,\n              tol=0.0001,\n              random_state=None,\n              n_jobs=1\n          ))],\n          verbose=False\n      )), ('12', Pipeline(\n          memory=None,\n          steps=[('maxabsscaler', MaxAbsScaler(\n              copy=True\n          )), ('logisticregression', LogisticRegression(\n              C=719.6856730011514,\n              class_weight=None,\n              dual=False,\n              fit_intercept=True,\n              intercept_scaling=1,\n              l1_ratio=None,\n              max_iter=100,\n              multi_class='multinomial',\n              n_jobs=1,\n              penalty='l2',\n              random_state=None,\n              solver='lbfgs',\n              tol=0.0001,\n              verbose=0,\n              warm_start=False\n          ))],\n          verbose=False\n      )), ('24', Pipeline(\n          memory=None,\n          steps=[('standardscalerwrapper', StandardScalerWrapper(\n              copy=True,\n              with_mean=False,\n              with_std=False\n          )), ('randomforestclassifier', RandomForestClassifier(\n              bootstrap=False,\n              ccp_alpha=0.0,\n              class_weight=None,\n              criterion='entropy',\n              max_depth=None,\n              max_features='log2',\n              max_leaf_nodes=None,\n              max_samples=None,\n              min_impurity_decrease=0.0,\n              min_impurity_split=None,\n              min_samples_leaf=0.035789473684210524,\n              min_samples_split=0.056842105263157895,\n              min_weight_fraction_leaf=0.0,\n              n_estimators=10,\n              n_jobs=1,\n              oob_score=False,\n              random_state=None,\n              verbose=0,\n              warm_start=False\n          ))],\n          verbose=False\n      )), ('18', Pipeline(\n          memory=None,\n          steps=[('standardscalerwrapper', StandardScalerWrapper(\n              copy=True,\n              with_mean=False,\n              with_std=False\n          )), ('xgboostclassifier', XGBoostClassifier(\n              random_state=0,\n              n_jobs=1,\n              problem_info=ProblemInfo(\n                  gpu_training_param_dict={'processing_unit_type': 'cpu'}\n              ),\n              booster='gbtree',\n              colsample_bytree=0.7,\n              eta=0.1,\n              gamma=0.1,\n              max_depth=9,\n              max_leaves=511,\n              n_estimators=25,\n              objective='reg:logistic',\n              reg_alpha=0,\n              reg_lambda=1.7708333333333335,\n              subsample=0.9,\n              tree_method='auto'\n          ))],\n          verbose=False\n      )), ('11', Pipeline(\n          memory=None,\n          steps=[('standardscalerwrapper', StandardScalerWrapper(\n              copy=True,\n              with_mean=False,\n              with_std=False\n          )), ('xgboostclassifier', XGBoostClassifier(\n              random_state=0,\n              n_jobs=1,\n              problem_info=ProblemInfo(\n                  gpu_training_param_dict={'processing_unit_type': 'cpu'}\n              ),\n              booster='gbtree',\n              colsample_bytree=0.6,\n              eta=0.3,\n              gamma=0,\n              max_depth=6,\n              max_leaves=0,\n              n_estimators=10,\n              objective='reg:logistic',\n              reg_alpha=0.3125,\n              reg_lambda=2.3958333333333335,\n              subsample=1,\n              tree_method='auto'\n          ))],\n          verbose=False\n      )), ('15', Pipeline(\n          memory=None,\n          steps=[('sparsenormalizer', Normalizer(\n              copy=True,\n              norm='l2'\n          )), ('randomforestclassifier', RandomForestClassifier(\n              bootstrap=True,\n              ccp_alpha=0.0,\n              class_weight='balanced',\n              criterion='gini',\n              max_depth=None,\n              max_features='sqrt',\n              max_leaf_nodes=None,\n              max_samples=None,\n              min_impurity_decrease=0.0,\n              min_impurity_split=None,\n              min_samples_leaf=0.01,\n              min_samples_split=0.01,\n              min_weight_fraction_leaf=0.0,\n              n_estimators=100,\n              n_jobs=1,\n              oob_score=True,\n              random_state=None,\n              verbose=0,\n              warm_start=False\n          ))],\n          verbose=False\n      ))],\n      weights=[0.14285714285714285, 0.14285714285714285, 0.07142857142857142, 0.07142857142857142, 0.21428571428571427, 0.14285714285714285, 0.07142857142857142, 0.07142857142857142, 0.07142857142857142],\n      flatten_transform=None,\n      classification_labels=array([0, 1])\n  ))]"
          },
          "metadata": {}
        }
      ],
      "execution_count": 13,
      "metadata": {
        "gather": {
          "logged": 1639214709913
        }
      }
    },
    {
      "cell_type": "code",
      "source": [
        "dir_name = 'infer_dir'\n",
        "if dir_name not in os.listdir():\n",
        "    os.mkdir(dir_name)"
      ],
      "outputs": [],
      "execution_count": 14,
      "metadata": {
        "gather": {
          "logged": 1639214717512
        }
      }
    },
    {
      "cell_type": "code",
      "source": [
        "#TODO: Save the best model\n",
        "import pickle\n",
        "best_run.download_file('outputs/scoring_file_v_1_0_0.py', 'infer_dir/score.py')\n",
        "best_run.download_file('outputs/model.pkl', 'infer_dir/model.pkl')\n",
        "best_run.download_file('outputs/conda_env_v_1_0_0.yml', 'infer_dir/conda_env.yml')"
      ],
      "outputs": [],
      "execution_count": 16,
      "metadata": {
        "gather": {
          "logged": 1639214741794
        },
        "jupyter": {
          "outputs_hidden": false,
          "source_hidden": false
        },
        "nteract": {
          "transient": {
            "deleting": false
          }
        }
      }
    },
    {
      "cell_type": "markdown",
      "source": [
        "## Model Deployment\n",
        "\n",
        "Remember you have to deploy only one of the two models you trained but you still need to register both the models. Perform the steps in the rest of this notebook only if you wish to deploy this model.\n",
        "\n",
        "TODO: In the cell below, register the model, create an inference config and deploy the model as a web service."
      ],
      "metadata": {}
    },
    {
      "cell_type": "code",
      "source": [
        "# Register the model\n",
        "import sklearn\n",
        "\n",
        "from azureml.core import Model\n",
        "from azureml.core.resource_configuration import ResourceConfiguration\n",
        "\n",
        "model_name = best_run.properties['model_name']\n",
        "run_id = best_run.id\n",
        "experiment_name = best_run.experiment.name\n",
        "\n",
        "model = Model.register(workspace=ws,\n",
        "                       model_name=model_name, # Name of the registered model in your workspace.\n",
        "                       model_path='infer_dir/model.pkl',  # Local file to upload and register as a model.\n",
        "                       model_framework=Model.Framework.SCIKITLEARN,  # Framework used to create the model.\n",
        "                       model_framework_version=sklearn.__version__,  # Version of scikit-learn used to create the model.\n",
        "                       description='Auto ML model to predict TargetClass.',\n",
        "                       tags={'area': 'TargetClass', 'type': 'classification'})\n",
        "\n",
        "print('Name:', model.name)\n",
        "print('Version:', model.version)"
      ],
      "outputs": [
        {
          "output_type": "stream",
          "name": "stdout",
          "text": "Registering model AutoMLf2ffd54f138\nName: AutoMLf2ffd54f138\nVersion: 1\n"
        }
      ],
      "execution_count": 17,
      "metadata": {
        "gather": {
          "logged": 1639214750504
        },
        "jupyter": {
          "outputs_hidden": false,
          "source_hidden": false
        },
        "nteract": {
          "transient": {
            "deleting": false
          }
        }
      }
    },
    {
      "cell_type": "code",
      "source": [
        "# create inference configuration\n",
        "from azureml.core.environment import Environment\n",
        "from azureml.core.model import InferenceConfig\n",
        "\n",
        "myenv = Environment.from_conda_specification(name=\"myenv\", file_path=\"infer_dir/conda_env.yml\")\n",
        "inference_config = InferenceConfig(entry_script=\"infer_dir/score.py\", environment=myenv)\n",
        "\n",
        "# display the environment file\n",
        "with open('infer_dir/conda_env.yml', 'r') as file:\n",
        "    env_file = file.read()\n",
        "    print(env_file)"
      ],
      "outputs": [
        {
          "output_type": "stream",
          "name": "stdout",
          "text": "# Conda environment specification. The dependencies defined in this file will\n# be automatically provisioned for runs with userManagedDependencies=False.\n\n# Details about the Conda environment file format:\n# https://conda.io/docs/user-guide/tasks/manage-environments.html#create-env-file-manually\n\nname: project_environment\ndependencies:\n  # The python interpreter version.\n  # Currently Azure ML only supports 3.5.2 and later.\n- python=3.6.2\n\n- pip:\n  - azureml-train-automl-runtime==1.36.1\n  - inference-schema\n  - azureml-interpret==1.36.0\n  - azureml-defaults==1.36.0\n- numpy>=1.16.0,<1.19.0\n- pandas==0.25.1\n- scikit-learn==0.22.1\n- py-xgboost<=0.90\n- fbprophet==0.5\n- holidays==0.9.11\n- psutil>=5.2.2,<6.0.0\nchannels:\n- anaconda\n- conda-forge\n\n"
        }
      ],
      "execution_count": 18,
      "metadata": {
        "gather": {
          "logged": 1639214763851
        }
      }
    },
    {
      "cell_type": "markdown",
      "source": [
        "TODO: In the cell below, send a request to the web service you deployed to test it."
      ],
      "metadata": {
        "collapsed": true,
        "gather": {
          "logged": 1598431657736
        },
        "jupyter": {
          "outputs_hidden": false,
          "source_hidden": false
        },
        "nteract": {
          "transient": {
            "deleting": false
          }
        }
      }
    },
    {
      "cell_type": "code",
      "source": [
        "# Model Deployment\n",
        "from azureml.core.webservice import AciWebservice\n",
        "\n",
        "# define deployment configuration\n",
        "aci_deployment_config = AciWebservice.deploy_configuration(cpu_cores=1,\n",
        "                                                           memory_gb=1,\n",
        "                                                           tags={'area': \"TargetClass\", 'type': \"classification\"},\n",
        "                                                           description=\"Predict TargetClass using classification model\",\n",
        "                                                           enable_app_insights=True)\n",
        "\n",
        "# deploy model as webservice using Azure Container Instance(ACI)\n",
        "aci_service_name = \"aci-medical-charges-deploy\"\n",
        "\n",
        "aci_service = Model.deploy(ws, aci_service_name, [model], inference_config, aci_deployment_config, overwrite=True)\n",
        "aci_service.wait_for_deployment(show_output=True)\n",
        "\n",
        "print(aci_service.state)"
      ],
      "outputs": [
        {
          "output_type": "stream",
          "name": "stdout",
          "text": "Tips: You can try get_logs(): https://aka.ms/debugimage#dockerlog or local deployment: https://aka.ms/debugimage#debug-locally to debug if deployment takes longer than 10 minutes.\nRunning\n2021-12-11 09:26:21+00:00 Creating Container Registry if not exists..\n2021-12-11 09:36:23+00:00 Registering the environment..\n2021-12-11 09:36:25+00:00 Building image..\n2021-12-11 09:47:55+00:00 Generating deployment configuration..\n2021-12-11 09:47:56+00:00 Submitting deployment to compute.\n2021-12-11 09:48:00+00:00 Checking the status of deployment aci-medical-charges-deploy..\n2021-12-11 09:51:39+00:00 Checking the status of inference endpoint aci-medical-charges-deploy.\nSucceeded\nACI service creation operation finished, operation \"Succeeded\"\nHealthy\n"
        }
      ],
      "execution_count": 19,
      "metadata": {
        "gather": {
          "logged": 1639216303563
        },
        "jupyter": {
          "outputs_hidden": false,
          "source_hidden": false
        },
        "nteract": {
          "transient": {
            "deleting": false
          }
        }
      }
    },
    {
      "cell_type": "code",
      "source": [
        "# get the active api endpoint for scoring\n",
        "print(aci_service.scoring_uri)"
      ],
      "outputs": [
        {
          "output_type": "stream",
          "name": "stdout",
          "text": "http://aa58c1f1-c1f3-4e59-9751-ec90590f34cb.southcentralus.azurecontainer.io/score\n"
        }
      ],
      "execution_count": 21,
      "metadata": {
        "gather": {
          "logged": 1639216540712
        }
      }
    },
    {
      "cell_type": "code",
      "source": [
        "# run script to score the 4 observations below in the json payloader\n",
        "import json\n",
        "import requests\n",
        "\n",
        "scoring_uri = 'http://aa58c1f1-c1f3-4e59-9751-ec90590f34cb.southcentralus.azurecontainer.io/score'\n",
        "headers = {'Content-Type':'application/json'}\n",
        "\n",
        "test_sample = json.dumps({\n",
        "    \"data\": [\n",
        "            [ 5.99, 13.73, 0.58, 1.318, 'K5III', 16.678352 ],\n",
        "            [ 8.6, 5.09, 1.37, 0.448, 'B1II',  17.133589 ]\n",
        "        ]\n",
        "    })\n",
        "\n",
        "response = requests.post(scoring_uri, data=test_sample, headers=headers)\n",
        "print(\"Results:\", response.json())"
      ],
      "outputs": [
        {
          "output_type": "stream",
          "name": "stdout",
          "text": "Results: {\"result\": [0, 1]}\n"
        }
      ],
      "execution_count": 24,
      "metadata": {
        "gather": {
          "logged": 1639216750170
        }
      }
    },
    {
      "cell_type": "markdown",
      "source": [
        "TODO: In the cell below, print the logs of the web service and delete the service"
      ],
      "metadata": {
        "collapsed": true,
        "gather": {
          "logged": 1598432765711
        },
        "jupyter": {
          "outputs_hidden": false,
          "source_hidden": false
        },
        "nteract": {
          "transient": {
            "deleting": false
          }
        }
      }
    },
    {
      "cell_type": "code",
      "source": [
        "# print the log of the webservice\n",
        "print(aci_service.get_logs())"
      ],
      "outputs": [
        {
          "output_type": "stream",
          "name": "stdout",
          "text": "2021-12-11T09:51:27,807740300+00:00 - iot-server/run \n2021-12-11T09:51:27,823879000+00:00 - rsyslog/run \n2021-12-11T09:51:27,806954100+00:00 - gunicorn/run \nDynamic Python package installation is disabled.\nStarting HTTP server\n2021-12-11T09:51:28,075146900+00:00 - nginx/run \nrsyslogd: /azureml-envs/azureml_bec455c772c2d018a0dc9c15319d853a/lib/libuuid.so.1: no version information available (required by rsyslogd)\nStarting gunicorn 20.1.0\nListening at: http://127.0.0.1:31311 (69)\nUsing worker: sync\nworker timeout is set to 300\nBooting worker with pid: 89\nSPARK_HOME not set. Skipping PySpark Initialization.\nGenerating new fontManager, this may take some time...\nInitializing logger\n2021-12-11 09:51:33,020 | root | INFO | Starting up app insights client\nlogging socket was found. logging is available.\nlogging socket was found. logging is available.\n2021-12-11 09:51:33,023 | root | INFO | Starting up request id generator\n2021-12-11 09:51:33,023 | root | INFO | Starting up app insight hooks\n2021-12-11 09:51:33,024 | root | INFO | Invoking user's init function\nEdgeHubConnectionString and IOTEDGE_IOTHUBHOSTNAME are not set. Exiting...\n2021-12-11T09:51:33,868499800+00:00 - iot-server/finish 1 0\n2021-12-11T09:51:33,870867900+00:00 - Exit code 1 is normal. Not restarting iot-server.\n2021-12-11 09:51:38,419 | azureml.core | WARNING | Failure while loading azureml_run_type_providers. Failed to load entrypoint automl = azureml.train.automl.run:AutoMLRun._from_run_dto with exception (cloudpickle 2.0.0 (/azureml-envs/azureml_bec455c772c2d018a0dc9c15319d853a/lib/python3.6/site-packages), Requirement.parse('cloudpickle<2.0.0,>=1.1.0'), {'azureml-dataprep'}).\nFailure while loading azureml_run_type_providers. Failed to load entrypoint automl = azureml.train.automl.run:AutoMLRun._from_run_dto with exception (cloudpickle 2.0.0 (/azureml-envs/azureml_bec455c772c2d018a0dc9c15319d853a/lib/python3.6/site-packages), Requirement.parse('cloudpickle<2.0.0,>=1.1.0'), {'azureml-dataprep'}).\n2021-12-11 09:51:39,196 | root | INFO | Users's init has completed successfully\n2021-12-11 09:51:39,216 | root | INFO | Skipping middleware: dbg_model_info as it's not enabled.\n2021-12-11 09:51:39,217 | root | INFO | Skipping middleware: dbg_resource_usage as it's not enabled.\nGenerating swagger file: /tmp/tmpgwny6_wv\n2021-12-11 09:51:39,222 | root | INFO | Scoring timeout is found from os.environ: 60000 ms\n2021-12-11 09:51:39,716 | root | INFO | 200\n127.0.0.1 - - [11/Dec/2021:09:51:39 +0000] \"GET /swagger.json HTTP/1.0\" 200 2462 \"-\" \"Go-http-client/1.1\"\n2021-12-11 09:51:43,420 | root | INFO | 200\n127.0.0.1 - - [11/Dec/2021:09:51:43 +0000] \"GET /swagger.json HTTP/1.0\" 200 2462 \"-\" \"Go-http-client/1.1\"\n2021-12-11 09:59:09,763 | root | INFO | Validation Request Content-Type\n2021-12-11 09:59:09,764 | root | INFO | Scoring Timer is set to 60.0 seconds\n2021-12-11 09:59:09,931 | root | INFO | 200\n127.0.0.1 - - [11/Dec/2021:09:59:09 +0000] \"POST /score HTTP/1.0\" 200 22 \"-\" \"python-requests/2.26.0\"\n\n"
        }
      ],
      "execution_count": 25,
      "metadata": {
        "gather": {
          "logged": 1639216758635
        },
        "jupyter": {
          "outputs_hidden": false,
          "source_hidden": false
        },
        "nteract": {
          "transient": {
            "deleting": false
          }
        }
      }
    },
    {
      "cell_type": "code",
      "source": [
        "# delete the web service\n",
        "aci_service.delete()\n",
        "model.delete()"
      ],
      "outputs": [],
      "execution_count": 26,
      "metadata": {
        "gather": {
          "logged": 1639216789512
        }
      }
    },
    {
      "cell_type": "markdown",
      "source": [
        "**Submission Checklist**\n",
        "- I have registered the model.\n",
        "- I have deployed the model with the best accuracy as a webservice.\n",
        "- I have tested the webservice by sending a request to the model endpoint.\n",
        "- I have deleted the webservice and shutdown all the computes that I have used.\n",
        "- I have taken a screenshot showing the model endpoint as active.\n",
        "- The project includes a file containing the environment details.\n"
      ],
      "metadata": {}
    },
    {
      "cell_type": "markdown",
      "source": [],
      "metadata": {}
    }
  ],
  "metadata": {
    "kernel_info": {
      "name": "python3"
    },
    "kernelspec": {
      "name": "python3",
      "language": "python",
      "display_name": "Python 3"
    },
    "language_info": {
      "name": "python",
      "version": "3.6.9",
      "mimetype": "text/x-python",
      "codemirror_mode": {
        "name": "ipython",
        "version": 3
      },
      "pygments_lexer": "ipython3",
      "nbconvert_exporter": "python",
      "file_extension": ".py"
    },
    "microsoft": {
      "host": {
        "AzureML": {
          "notebookHasBeenCompleted": true
        }
      }
    },
    "nteract": {
      "version": "nteract-front-end@1.0.0"
    }
  },
  "nbformat": 4,
  "nbformat_minor": 2
}