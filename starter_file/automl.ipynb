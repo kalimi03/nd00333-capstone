{
  "cells": [
    {
      "cell_type": "markdown",
      "metadata": {},
      "source": [
        "# Automated ML"
      ]
    },
    {
      "cell_type": "code",
      "execution_count": 1,
      "metadata": {
        "gather": {
          "logged": 1638612718351
        },
        "jupyter": {
          "outputs_hidden": false,
          "source_hidden": false
        },
        "nteract": {
          "transient": {
            "deleting": false
          }
        }
      },
      "outputs": [],
      "source": [
        "import logging\n",
        "import os\n",
        "import csv\n",
        "\n",
        "from matplotlib import pyplot as plt\n",
        "import numpy as np\n",
        "import pandas as pd\n",
        "from sklearn import datasets\n",
        "import pkg_resources\n",
        "\n",
        "import azureml.core\n",
        "from azureml.core.experiment import Experiment\n",
        "from azureml.core.workspace import Workspace\n",
        "from azureml.train.automl import AutoMLConfig\n",
        "# from azureml.core.dataset import Dataset\n",
        "from azureml.core import Dataset, Datastore\n",
        "from azureml.pipeline.steps import AutoMLStep"
      ]
    },
    {
      "cell_type": "markdown",
      "metadata": {},
      "source": [
        "## Dataset\n",
        "\n",
        "### Overview\n",
        "Stellar Classification uses the spectral data of stars to categorize them into different categories. The modern stellar classification system is known as the Morgan–Keenan (MK) classification system. It uses the old HR classification system to categorize stars with their chromaticity and uses Roman numerals to categorize the star’s size.\n",
        "In this Dataset, we will be using Absolute Magnitude and B-V Color Index to Identify Giants and Dwarfs.\n",
        "\n",
        "#### Data content:\n",
        "This Dataset contains several features of Stars:\n",
        "1. Vmag: Visual Apparent Magnitude of the Star\n",
        "2. Plx: Distance Between the Star and the Earth\n",
        "3. e_Plx: Standard Error of Plx (Drop the Row if you find the e_Plx is too high!)\n",
        "4. B-V: B-V color index. (A hot star has a B-V color index close to 0 or negative, while a cool star has a B-V color index close to 2.0.\n",
        "5. Amag: Absolute Magnitude of the Star\n",
        "\n",
        "#### Activity of Project:\n",
        "In this capstone project we will be predicting the TargetClass given the above feature as input."
      ]
    },
    {
      "cell_type": "code",
      "execution_count": 2,
      "metadata": {
        "gather": {
          "logged": 1638612718729
        },
        "jupyter": {
          "outputs_hidden": false,
          "source_hidden": false
        },
        "nteract": {
          "transient": {
            "deleting": false
          }
        }
      },
      "outputs": [],
      "source": [
        "ws = Workspace.from_config()\n",
        "\n",
        "# choose a name for experiment\n",
        "experiment_name = 'demo-experiment'\n",
        "experiment=Experiment(ws, experiment_name)"
      ]
    },
    {
      "cell_type": "code",
      "execution_count": 3,
      "metadata": {
        "gather": {
          "logged": 1638612721651
        },
        "jupyter": {
          "outputs_hidden": false,
          "source_hidden": false
        },
        "nteract": {
          "transient": {
            "deleting": false
          }
        }
      },
      "outputs": [
        {
          "data": {
            "text/html": [
              "<div>\n",
              "<style scoped>\n",
              "    .dataframe tbody tr th:only-of-type {\n",
              "        vertical-align: middle;\n",
              "    }\n",
              "\n",
              "    .dataframe tbody tr th {\n",
              "        vertical-align: top;\n",
              "    }\n",
              "\n",
              "    .dataframe thead th {\n",
              "        text-align: right;\n",
              "    }\n",
              "</style>\n",
              "<table border=\"1\" class=\"dataframe\">\n",
              "  <thead>\n",
              "    <tr style=\"text-align: right;\">\n",
              "      <th></th>\n",
              "      <th>age</th>\n",
              "      <th>bmi</th>\n",
              "      <th>children</th>\n",
              "      <th>charges</th>\n",
              "    </tr>\n",
              "  </thead>\n",
              "  <tbody>\n",
              "    <tr>\n",
              "      <th>count</th>\n",
              "      <td>1338.000000</td>\n",
              "      <td>1338.000000</td>\n",
              "      <td>1338.000000</td>\n",
              "      <td>1338.000000</td>\n",
              "    </tr>\n",
              "    <tr>\n",
              "      <th>mean</th>\n",
              "      <td>39.207025</td>\n",
              "      <td>30.663397</td>\n",
              "      <td>1.094918</td>\n",
              "      <td>13270.422265</td>\n",
              "    </tr>\n",
              "    <tr>\n",
              "      <th>std</th>\n",
              "      <td>14.049960</td>\n",
              "      <td>6.098187</td>\n",
              "      <td>1.205493</td>\n",
              "      <td>12110.011237</td>\n",
              "    </tr>\n",
              "    <tr>\n",
              "      <th>min</th>\n",
              "      <td>18.000000</td>\n",
              "      <td>15.960000</td>\n",
              "      <td>0.000000</td>\n",
              "      <td>1121.873900</td>\n",
              "    </tr>\n",
              "    <tr>\n",
              "      <th>25%</th>\n",
              "      <td>27.000000</td>\n",
              "      <td>26.296250</td>\n",
              "      <td>0.000000</td>\n",
              "      <td>4740.287150</td>\n",
              "    </tr>\n",
              "    <tr>\n",
              "      <th>50%</th>\n",
              "      <td>39.000000</td>\n",
              "      <td>30.400000</td>\n",
              "      <td>1.000000</td>\n",
              "      <td>9382.033000</td>\n",
              "    </tr>\n",
              "    <tr>\n",
              "      <th>75%</th>\n",
              "      <td>51.000000</td>\n",
              "      <td>34.693750</td>\n",
              "      <td>2.000000</td>\n",
              "      <td>16639.912515</td>\n",
              "    </tr>\n",
              "    <tr>\n",
              "      <th>max</th>\n",
              "      <td>64.000000</td>\n",
              "      <td>53.130000</td>\n",
              "      <td>5.000000</td>\n",
              "      <td>63770.428010</td>\n",
              "    </tr>\n",
              "  </tbody>\n",
              "</table>\n",
              "</div>"
            ],
            "text/plain": [
              "               age          bmi     children       charges\n",
              "count  1338.000000  1338.000000  1338.000000   1338.000000\n",
              "mean     39.207025    30.663397     1.094918  13270.422265\n",
              "std      14.049960     6.098187     1.205493  12110.011237\n",
              "min      18.000000    15.960000     0.000000   1121.873900\n",
              "25%      27.000000    26.296250     0.000000   4740.287150\n",
              "50%      39.000000    30.400000     1.000000   9382.033000\n",
              "75%      51.000000    34.693750     2.000000  16639.912515\n",
              "max      64.000000    53.130000     5.000000  63770.428010"
            ]
          },
          "execution_count": 3,
          "metadata": {},
          "output_type": "execute_result"
        }
      ],
      "source": [
        "# Try to load the dataset from the Workspace. Otherwise, create it from the file\n",
        "# NOTE: update the key to match the dataset name\n",
        "found = False\n",
        "key = \" spectral dataset of stars\"\n",
        "description_text = \"spectral data of stars dataset for udacity capstone project\"\n",
        "if key in ws.datasets.keys(): \n",
        "        found = True\n",
        "        dataset = ws.datasets[key] \n",
        "if not found:\n",
        "        # Create AML Dataset and register it into Workspace\n",
        "        example_data = 'https://raw.githubusercontent.com/kalimi03/nd00333-capstone/master/Star3642_balanced.csv'\n",
        "        dataset = Dataset.Tabular.from_delimited_files(example_data)        \n",
        "        #Register Dataset in Workspace\n",
        "        dataset = dataset.register(workspace=ws,\n",
        "                                   name=key,\n",
        "                                   description=description_text)\n",
        "\n",
        "df = dataset.to_pandas_dataframe().dropna()\n",
        "df.pop(\"SpType\")\n",
        "df.describe()"
      ]
    },
    {
      "cell_type": "markdown",
      "metadata": {
        "nteract": {
          "transient": {
            "deleting": false
          }
        }
      },
      "source": [
        "## Creating or attaching a compute cluster target"
      ]
    },
    {
      "cell_type": "code",
      "execution_count": 5,
      "metadata": {
        "gather": {
          "logged": 1638612839597
        },
        "jupyter": {
          "outputs_hidden": false,
          "source_hidden": false
        },
        "nteract": {
          "transient": {
            "deleting": false
          }
        }
      },
      "outputs": [
        {
          "name": "stdout",
          "output_type": "stream",
          "text": [
            "Found existing cluster, use it.\n",
            "Succeeded............\n",
            "AmlCompute wait for completion finished\n",
            "\n",
            "Wait timeout has been reached\n",
            "Current provisioning state of AmlCompute is \"Succeeded\" and current node count is \"0\"\n"
          ]
        }
      ],
      "source": [
        "from azureml.core.compute import AmlCompute\n",
        "from azureml.core.compute import ComputeTarget\n",
        "from azureml.core.compute_target import ComputeTargetException\n",
        "\n",
        "amlcompute_cluster_name = \"demo-cluster\"\n",
        "try:\n",
        "    compute_target = ComputeTarget(workspace=ws, name=amlcompute_cluster_name)\n",
        "    print('Found existing cluster, use it.')\n",
        "except ComputeTargetException:\n",
        "    compute_config = AmlCompute.provisioning_configuration(vm_size='STANDARD_D2_V2', max_nodes=4)\n",
        "    compute_target = ComputeTarget.create(ws, amlcompute_cluster_name, compute_config)\n",
        "\n",
        "compute_target.wait_for_completion(show_output=True, min_node_count = 1, timeout_in_minutes = 1)\n"
      ]
    },
    {
      "cell_type": "markdown",
      "metadata": {},
      "source": [
        "## AutoML Configuration\n",
        "\n",
        "The details of Azure ML configuration settings have been explained in the ReadMe document."
      ]
    },
    {
      "cell_type": "code",
      "execution_count": 6,
      "metadata": {
        "gather": {
          "logged": 1638612859261
        },
        "jupyter": {
          "outputs_hidden": false,
          "source_hidden": false
        },
        "nteract": {
          "transient": {
            "deleting": false
          }
        }
      },
      "outputs": [],
      "source": [
        "project_folder = './insurance-project'\n",
        "automl_settings = {\n",
        "    \"n_cross_validations\": 5,\n",
        "    \"experiment_timeout_minutes\": 25,\n",
        "    \"max_concurrent_iterations\": 5,\n",
        "    \"enable_early_stopping\": True,\n",
        "    \"primary_metric\": 'accuracy'\n",
        "}\n",
        "automl_config = AutoMLConfig(compute_target=compute_target,\n",
        "                            task = 'classificatin',\n",
        "                            training_data=dataset,\n",
        "                            label_column_name =\"TargetClass\",\n",
        "                            path = project_folder,\n",
        "                            **automl_settings\n",
        "                            )"
      ]
    },
    {
      "cell_type": "code",
      "execution_count": 7,
      "metadata": {
        "gather": {
          "logged": 1638613932323
        },
        "jupyter": {
          "outputs_hidden": false,
          "source_hidden": false
        },
        "nteract": {
          "transient": {
            "deleting": false
          }
        }
      },
      "outputs": [
        {
          "name": "stdout",
          "output_type": "stream",
          "text": [
            "Submitting remote run.\n",
            "No run_configuration provided, running on demo-cluster with default configuration\n",
            "Running on remote compute: demo-cluster\n"
          ]
        },
        {
          "data": {
            "text/html": [
              "<table style=\"width:100%\"><tr><th>Experiment</th><th>Id</th><th>Type</th><th>Status</th><th>Details Page</th><th>Docs Page</th></tr><tr><td>demo-experiment</td><td>AutoML_a7ae500f-ea7e-493b-9afb-3b6fb2ef9ba7</td><td>automl</td><td>NotStarted</td><td><a href=\"https://ml.azure.com/runs/AutoML_a7ae500f-ea7e-493b-9afb-3b6fb2ef9ba7?wsid=/subscriptions/d4ad7261-832d-46b2-b093-22156001df5b/resourcegroups/aml-quickstarts-165018/workspaces/quick-starts-ws-165018&amp;tid=660b3398-b80e-49d2-bc5b-ac1dc93b5254\" target=\"_blank\" rel=\"noopener\">Link to Azure Machine Learning studio</a></td><td><a href=\"https://docs.microsoft.com/en-us/python/api/overview/azure/ml/intro?view=azure-ml-py\" target=\"_blank\" rel=\"noopener\">Link to Documentation</a></td></tr></table>"
            ],
            "text/plain": [
              "<IPython.core.display.HTML object>"
            ]
          },
          "metadata": {},
          "output_type": "display_data"
        },
        {
          "name": "stdout",
          "output_type": "stream",
          "text": [
            "\n",
            "Current status: FeaturesGeneration. Generating features for the dataset.\n",
            "Current status: DatasetCrossValidationSplit. Generating individually featurized CV splits.\n",
            "Current status: ModelSelection. Beginning model selection.\n",
            "\n",
            "****************************************************************************************************\n",
            "DATA GUARDRAILS: \n",
            "\n",
            "TYPE:         Missing feature values imputation\n",
            "STATUS:       PASSED\n",
            "DESCRIPTION:  No feature missing values were detected in the training data.\n",
            "              Learn more about missing value imputation: https://aka.ms/AutomatedMLFeaturization\n",
            "\n",
            "****************************************************************************************************\n",
            "\n",
            "TYPE:         High cardinality feature detection\n",
            "STATUS:       PASSED\n",
            "DESCRIPTION:  Your inputs were analyzed, and no high cardinality features were detected.\n",
            "              Learn more about high cardinality feature handling: https://aka.ms/AutomatedMLFeaturization\n",
            "\n",
            "****************************************************************************************************\n",
            "\n",
            "****************************************************************************************************\n",
            "ITERATION: The iteration being evaluated.\n",
            "PIPELINE: A summary description of the pipeline being evaluated.\n",
            "DURATION: Time taken for the current iteration.\n",
            "METRIC: The result of computing score on the fitted pipeline.\n",
            "BEST: The best observed score thus far.\n",
            "****************************************************************************************************\n",
            "\n",
            " ITERATION   PIPELINE                                       DURATION      METRIC      BEST\n",
            "         4   MaxAbsScaler ElasticNet                        0:00:27       0.0982    0.0982\n",
            "         2   MaxAbsScaler ElasticNet                        0:00:54       0.0982    0.0982\n",
            "         3   StandardScalerWrapper ElasticNet               0:01:22       0.0983    0.0982\n",
            "         0   MaxAbsScaler LightGBM                          0:01:50       0.0861    0.0861\n",
            "         1   MaxAbsScaler XGBoostRegressor                  0:02:15       0.0783    0.0783\n",
            "         5   MaxAbsScaler ElasticNet                        0:02:12       0.0983    0.0783\n",
            "         8   StandardScalerWrapper ElasticNet               0:01:14       0.0983    0.0783\n",
            "         9   StandardScalerWrapper ElasticNet               0:01:15       0.1577    0.0783\n",
            "         6   MaxAbsScaler ExtremeRandomTrees                0:02:46       0.0813    0.0783\n",
            "         7   StandardScalerWrapper ElasticNet               0:02:17       0.0983    0.0783\n",
            "        10   MaxAbsScaler RandomForest                      0:01:12       0.1049    0.0783\n",
            "        11   StandardScalerWrapper ElasticNet               0:00:59       0.1216    0.0783\n",
            "        12   StandardScalerWrapper ElasticNet               0:00:51       0.1042    0.0783\n",
            "        13   StandardScalerWrapper ElasticNet               0:00:42       0.0983    0.0783\n",
            "        15   StandardScalerWrapper ElasticNet               0:00:45       0.0982    0.0783\n",
            "        14   StandardScalerWrapper ElasticNet               0:01:28       0.1037    0.0783\n",
            "        16   StandardScalerWrapper DecisionTree             0:01:38       0.0923    0.0783\n",
            "        17   StandardScalerWrapper ElasticNet               0:01:23       0.0983    0.0783\n",
            "        18   MaxAbsScaler DecisionTree                      0:02:00       0.0844    0.0783\n",
            "        19   StandardScalerWrapper LightGBM                 0:01:43       0.0811    0.0783\n",
            "        20   SparseNormalizer XGBoostRegressor              0:01:15       0.0825    0.0783\n",
            "        21   TruncatedSVDWrapper ElasticNet                 0:00:57       0.1068    0.0783\n",
            "        22   SparseNormalizer ExtremeRandomTrees            0:01:51       0.0939    0.0783\n",
            "        23   TruncatedSVDWrapper XGBoostRegressor           0:00:52       0.0853    0.0783\n",
            "        24   StandardScalerWrapper ExtremeRandomTrees       0:01:10       0.0798    0.0783\n",
            "        25   MaxAbsScaler GradientBoosting                  0:01:13       0.1086    0.0783\n",
            "        26   StandardScalerWrapper RandomForest             0:01:10       0.0946    0.0783\n",
            "        27   MaxAbsScaler RandomForest                      0:01:01       0.0809    0.0783\n",
            "        28   MaxAbsScaler ExtremeRandomTrees                0:01:37       0.0871    0.0783\n",
            "        29   MaxAbsScaler ExtremeRandomTrees                0:01:42       0.0830    0.0783\n",
            "        30   SparseNormalizer XGBoostRegressor              0:02:03       0.0841    0.0783\n",
            "        31   MaxAbsScaler ExtremeRandomTrees                0:01:54       0.1314    0.0783\n",
            "        32   MaxAbsScaler RandomForest                      0:01:36       0.1504    0.0783\n",
            "        33                                                  0:01:04          nan    0.0783\n",
            "        34   MaxAbsScaler ExtremeRandomTrees                0:00:40       0.0809    0.0783\n",
            "        35                                                  0:00:22          nan    0.0783\n",
            "        36                                                  0:00:19          nan    0.0783\n",
            "        37                                                  0:00:16          nan    0.0783\n",
            "        39    StackEnsemble                                 0:01:07       0.0761    0.0761\n",
            "        38    VotingEnsemble                                0:01:24       0.0762    0.0761\n"
          ]
        }
      ],
      "source": [
        "remote_run = experiment.submit(automl_config, show_output=True)"
      ]
    },
    {
      "cell_type": "markdown",
      "metadata": {},
      "source": [
        "## Run Details"
      ]
    },
    {
      "cell_type": "code",
      "execution_count": 8,
      "metadata": {
        "gather": {
          "logged": 1638613932870
        },
        "jupyter": {
          "outputs_hidden": false,
          "source_hidden": false
        },
        "nteract": {
          "transient": {
            "deleting": false
          }
        }
      },
      "outputs": [
        {
          "data": {
            "application/vnd.jupyter.widget-view+json": {
              "model_id": "1c3a072e7b7b4ee1a68af80f9becc907",
              "version_major": 2,
              "version_minor": 0
            },
            "text/plain": [
              "_AutoMLWidget(widget_settings={'childWidgetDisplay': 'popup', 'send_telemetry': False, 'log_level': 'INFO', 's…"
            ]
          },
          "metadata": {},
          "output_type": "display_data"
        },
        {
          "data": {
            "application/aml.mini.widget.v1": "{\"status\": \"Completed\", \"workbench_run_details_uri\": \"https://ml.azure.com/runs/AutoML_a7ae500f-ea7e-493b-9afb-3b6fb2ef9ba7?wsid=/subscriptions/d4ad7261-832d-46b2-b093-22156001df5b/resourcegroups/aml-quickstarts-165018/workspaces/quick-starts-ws-165018&tid=660b3398-b80e-49d2-bc5b-ac1dc93b5254\", \"run_id\": \"AutoML_a7ae500f-ea7e-493b-9afb-3b6fb2ef9ba7\", \"run_properties\": {\"run_id\": \"AutoML_a7ae500f-ea7e-493b-9afb-3b6fb2ef9ba7\", \"created_utc\": \"2021-12-04T10:14:30.912796Z\", \"properties\": {\"num_iterations\": \"1000\", \"training_type\": \"TrainFull\", \"acquisition_function\": \"EI\", \"primary_metric\": \"normalized_root_mean_squared_error\", \"train_split\": \"0\", \"acquisition_parameter\": \"0\", \"num_cross_validation\": \"5\", \"target\": \"demo-cluster\", \"AMLSettingsJsonString\": \"{\\\"path\\\":null,\\\"name\\\":\\\"demo-experiment\\\",\\\"subscription_id\\\":\\\"d4ad7261-832d-46b2-b093-22156001df5b\\\",\\\"resource_group\\\":\\\"aml-quickstarts-165018\\\",\\\"workspace_name\\\":\\\"quick-starts-ws-165018\\\",\\\"region\\\":\\\"southcentralus\\\",\\\"compute_target\\\":\\\"demo-cluster\\\",\\\"spark_service\\\":null,\\\"azure_service\\\":\\\"remote\\\",\\\"many_models\\\":false,\\\"pipeline_fetch_max_batch_size\\\":1,\\\"enable_batch_run\\\":false,\\\"enable_run_restructure\\\":false,\\\"start_auxiliary_runs_before_parent_complete\\\":false,\\\"enable_code_generation\\\":false,\\\"iterations\\\":1000,\\\"primary_metric\\\":\\\"normalized_root_mean_squared_error\\\",\\\"task_type\\\":\\\"regression\\\",\\\"data_script\\\":null,\\\"test_size\\\":0.0,\\\"test_include_predictions_only\\\":false,\\\"validation_size\\\":0.0,\\\"n_cross_validations\\\":5,\\\"y_min\\\":null,\\\"y_max\\\":null,\\\"num_classes\\\":null,\\\"featurization\\\":\\\"auto\\\",\\\"_ignore_package_version_incompatibilities\\\":false,\\\"is_timeseries\\\":false,\\\"max_cores_per_iteration\\\":1,\\\"max_concurrent_iterations\\\":5,\\\"iteration_timeout_minutes\\\":null,\\\"mem_in_mb\\\":null,\\\"enforce_time_on_windows\\\":false,\\\"experiment_timeout_minutes\\\":20,\\\"experiment_exit_score\\\":null,\\\"whitelist_models\\\":null,\\\"blacklist_algos\\\":[\\\"TensorFlowDNN\\\",\\\"TensorFlowLinearRegressor\\\"],\\\"supported_models\\\":[\\\"LassoLars\\\",\\\"GradientBoosting\\\",\\\"ElasticNet\\\",\\\"FastLinearRegressor\\\",\\\"KNN\\\",\\\"OnlineGradientDescentRegressor\\\",\\\"ExtremeRandomTrees\\\",\\\"LightGBM\\\",\\\"RandomForest\\\",\\\"DecisionTree\\\",\\\"SGD\\\",\\\"TensorFlowDNN\\\",\\\"TensorFlowLinearRegressor\\\",\\\"XGBoostRegressor\\\"],\\\"private_models\\\":[],\\\"auto_blacklist\\\":true,\\\"blacklist_samples_reached\\\":false,\\\"exclude_nan_labels\\\":true,\\\"verbosity\\\":20,\\\"_debug_log\\\":\\\"azureml_automl.log\\\",\\\"show_warnings\\\":false,\\\"model_explainability\\\":true,\\\"service_url\\\":null,\\\"sdk_url\\\":null,\\\"sdk_packages\\\":null,\\\"enable_onnx_compatible_models\\\":false,\\\"enable_split_onnx_featurizer_estimator_models\\\":false,\\\"vm_type\\\":\\\"STANDARD_DS12_V2\\\",\\\"telemetry_verbosity\\\":20,\\\"send_telemetry\\\":true,\\\"enable_dnn\\\":false,\\\"scenario\\\":\\\"SDK-1.13.0\\\",\\\"environment_label\\\":null,\\\"save_mlflow\\\":false,\\\"force_text_dnn\\\":false,\\\"enable_feature_sweeping\\\":true,\\\"enable_early_stopping\\\":true,\\\"early_stopping_n_iters\\\":10,\\\"metrics\\\":null,\\\"enable_metric_confidence\\\":false,\\\"enable_ensembling\\\":true,\\\"enable_stack_ensembling\\\":true,\\\"ensemble_iterations\\\":15,\\\"enable_tf\\\":false,\\\"enable_subsampling\\\":null,\\\"subsample_seed\\\":null,\\\"enable_nimbusml\\\":false,\\\"enable_streaming\\\":false,\\\"force_streaming\\\":false,\\\"track_child_runs\\\":true,\\\"allowed_private_models\\\":[],\\\"label_column_name\\\":\\\"charges\\\",\\\"weight_column_name\\\":null,\\\"cv_split_column_names\\\":null,\\\"positive_label\\\":null,\\\"enable_local_managed\\\":false,\\\"_local_managed_run_id\\\":null,\\\"cost_mode\\\":1,\\\"lag_length\\\":0,\\\"metric_operation\\\":\\\"minimize\\\",\\\"preprocess\\\":true}\", \"DataPrepJsonString\": \"{\\\\\\\"training_data\\\\\\\": {\\\\\\\"datasetId\\\\\\\": \\\\\\\"d7515452-fb07-4c3f-b6d1-4baf8e7796cf\\\\\\\"}, \\\\\\\"datasets\\\\\\\": 0}\", \"EnableSubsampling\": null, \"runTemplate\": \"AutoML\", \"azureml.runsource\": \"automl\", \"display_task_type\": \"regression\", \"dependencies_versions\": \"{\\\"azureml-widgets\\\": \\\"1.34.0\\\", \\\"azureml-train\\\": \\\"1.34.0\\\", \\\"azureml-train-restclients-hyperdrive\\\": \\\"1.34.0\\\", \\\"azureml-train-core\\\": \\\"1.34.0\\\", \\\"azureml-train-automl\\\": \\\"1.34.0\\\", \\\"azureml-train-automl-runtime\\\": \\\"1.34.0\\\", \\\"azureml-train-automl-client\\\": \\\"1.34.0\\\", \\\"azureml-tensorboard\\\": \\\"1.34.0\\\", \\\"azureml-telemetry\\\": \\\"1.34.0\\\", \\\"azureml-sdk\\\": \\\"1.34.0\\\", \\\"azureml-samples\\\": \\\"0+unknown\\\", \\\"azureml-responsibleai\\\": \\\"1.34.0\\\", \\\"azureml-pipeline\\\": \\\"1.34.0\\\", \\\"azureml-pipeline-steps\\\": \\\"1.34.0\\\", \\\"azureml-pipeline-core\\\": \\\"1.34.0\\\", \\\"azureml-opendatasets\\\": \\\"1.34.0\\\", \\\"azureml-mlflow\\\": \\\"1.34.0\\\", \\\"azureml-interpret\\\": \\\"1.34.0\\\", \\\"azureml-inference-server-http\\\": \\\"0.3.1\\\", \\\"azureml-explain-model\\\": \\\"1.34.0\\\", \\\"azureml-defaults\\\": \\\"1.34.0\\\", \\\"azureml-dataset-runtime\\\": \\\"1.34.0\\\", \\\"azureml-dataprep\\\": \\\"2.22.2\\\", \\\"azureml-dataprep-rslex\\\": \\\"1.20.1\\\", \\\"azureml-dataprep-native\\\": \\\"38.0.0\\\", \\\"azureml-datadrift\\\": \\\"1.34.0\\\", \\\"azureml-core\\\": \\\"1.34.0\\\", \\\"azureml-contrib-services\\\": \\\"1.34.0\\\", \\\"azureml-contrib-server\\\": \\\"1.34.0\\\", \\\"azureml-contrib-reinforcementlearning\\\": \\\"1.34.0\\\", \\\"azureml-contrib-pipeline-steps\\\": \\\"1.34.0\\\", \\\"azureml-contrib-notebook\\\": \\\"1.34.0\\\", \\\"azureml-contrib-fairness\\\": \\\"1.34.0\\\", \\\"azureml-contrib-dataset\\\": \\\"1.34.0\\\", \\\"azureml-contrib-automl-pipeline-steps\\\": \\\"1.34.0\\\", \\\"azureml-cli-common\\\": \\\"1.34.0\\\", \\\"azureml-automl-runtime\\\": \\\"1.34.0\\\", \\\"azureml-automl-dnn-nlp\\\": \\\"1.34.0\\\", \\\"azureml-automl-core\\\": \\\"1.34.0\\\", \\\"azureml-accel-models\\\": \\\"1.34.0\\\"}\", \"_aml_system_scenario_identification\": \"Remote.Parent\", \"ClientType\": \"SDK\", \"environment_cpu_name\": \"AzureML-AutoML\", \"environment_cpu_label\": \"prod\", \"environment_gpu_name\": \"AzureML-AutoML-GPU\", \"environment_gpu_label\": \"prod\", \"root_attribution\": \"automl\", \"attribution\": \"AutoML\", \"Orchestrator\": \"AutoML\", \"CancelUri\": \"https://southcentralus.api.azureml.ms/jasmine/v1.0/subscriptions/d4ad7261-832d-46b2-b093-22156001df5b/resourceGroups/aml-quickstarts-165018/providers/Microsoft.MachineLearningServices/workspaces/quick-starts-ws-165018/experimentids/555b387b-9e43-4f91-a68b-86ab294c68c9/cancel/AutoML_a7ae500f-ea7e-493b-9afb-3b6fb2ef9ba7\", \"ClientSdkVersion\": \"1.35.1\", \"snapshotId\": \"00000000-0000-0000-0000-000000000000\", \"SetupRunId\": \"AutoML_a7ae500f-ea7e-493b-9afb-3b6fb2ef9ba7_setup\", \"SetupRunContainerId\": \"dcid.AutoML_a7ae500f-ea7e-493b-9afb-3b6fb2ef9ba7_setup\", \"FeaturizationRunJsonPath\": \"featurizer_container.json\", \"FeaturizationRunId\": \"AutoML_a7ae500f-ea7e-493b-9afb-3b6fb2ef9ba7_featurize\", \"ProblemInfoJsonString\": \"{\\\"dataset_num_categorical\\\": 0, \\\"is_sparse\\\": true, \\\"subsampling\\\": false, \\\"has_extra_col\\\": true, \\\"dataset_classes\\\": 1337, \\\"dataset_features\\\": 60, \\\"dataset_samples\\\": 1338, \\\"single_frequency_class_detected\\\": false}\", \"ModelExplainRunId\": \"AutoML_a7ae500f-ea7e-493b-9afb-3b6fb2ef9ba7_ModelExplain\"}, \"tags\": {\"model_explain_run\": \"best_run\", \"_aml_system_azureml.automlComponent\": \"AutoML\", \"pipeline_id\": \"\", \"score\": \"\", \"predicted_cost\": \"\", \"fit_time\": \"\", \"training_percent\": \"\", \"iteration\": \"\", \"run_preprocessor\": \"\", \"run_algorithm\": \"\", \"dynamic_whitelisting_iterations\": \"<23>;<30>;<35>;\", \"_aml_system_azureml.automl_early_exit_message\": \"No scores improved over last 20 iterations, so experiment stopped early. This early stopping behavior can be disabled by setting enable_early_stopping = False in AutoMLConfig for notebook/python SDK runs.\", \"automl_best_child_run_id\": \"AutoML_a7ae500f-ea7e-493b-9afb-3b6fb2ef9ba7_39\", \"model_explain_best_run_child_id\": \"AutoML_a7ae500f-ea7e-493b-9afb-3b6fb2ef9ba7_39\"}, \"end_time_utc\": \"2021-12-04T10:31:56.335485Z\", \"status\": \"Completed\", \"log_files\": {}, \"log_groups\": [], \"run_duration\": \"0:17:25\", \"run_number\": \"1\", \"run_queued_details\": {\"status\": \"Completed\", \"details\": null}}, \"child_runs\": [{\"run_id\": \"AutoML_a7ae500f-ea7e-493b-9afb-3b6fb2ef9ba7_setup\", \"run_number\": 2, \"metric\": null, \"status\": \"Completed\", \"run_type\": \"azureml.scriptrun\", \"training_percent\": null, \"start_time\": \"2021-12-04T10:18:52.858722Z\", \"end_time\": \"2021-12-04T10:18:56.249393Z\", \"created_time\": \"2021-12-04T10:14:45.203632Z\", \"created_time_dt\": \"2021-12-04T10:14:45.203632Z\", \"duration\": \"0:04:11\", \"iteration\": null, \"goal\": null, \"run_name\": \"Completed\", \"run_properties\": null}, {\"run_id\": \"AutoML_a7ae500f-ea7e-493b-9afb-3b6fb2ef9ba7_featurize\", \"run_number\": 3, \"metric\": null, \"status\": \"Completed\", \"run_type\": \"automl.featurization\", \"training_percent\": null, \"start_time\": \"2021-12-04T10:18:57.071917Z\", \"end_time\": \"2021-12-04T10:19:31.947778Z\", \"created_time\": \"2021-12-04T10:18:56.642575Z\", \"created_time_dt\": \"2021-12-04T10:18:56.642575Z\", \"duration\": \"0:00:35\", \"iteration\": null, \"goal\": null, \"run_name\": \"Completed\", \"run_properties\": null}, {\"run_id\": \"AutoML_a7ae500f-ea7e-493b-9afb-3b6fb2ef9ba7_2\", \"run_number\": 5, \"metric\": null, \"status\": \"Completed\", \"run_type\": \"azureml.scriptrun\", \"training_percent\": \"100\", \"start_time\": \"2021-12-04T10:19:33.073741Z\", \"end_time\": \"2021-12-04T10:20:27.371783Z\", \"created_time\": \"2021-12-04T10:19:33.073741Z\", \"created_time_dt\": \"2021-12-04T10:19:33.073741Z\", \"duration\": \"0:00:54\", \"iteration\": \"2\", \"goal\": \"normalized_root_mean_squared_error_min\", \"run_name\": \"MaxAbsScaler, ElasticNet\", \"run_properties\": \"copy=True\", \"primary_metric\": 0.09820187, \"best_metric\": 0.07829234}, {\"run_id\": \"AutoML_a7ae500f-ea7e-493b-9afb-3b6fb2ef9ba7_1\", \"run_number\": 6, \"metric\": null, \"status\": \"Completed\", \"run_type\": \"azureml.scriptrun\", \"training_percent\": \"100\", \"start_time\": \"2021-12-04T10:19:33.087926Z\", \"end_time\": \"2021-12-04T10:21:47.811546Z\", \"created_time\": \"2021-12-04T10:19:33.087926Z\", \"created_time_dt\": \"2021-12-04T10:19:33.087926Z\", \"duration\": \"0:02:14\", \"iteration\": \"1\", \"goal\": \"normalized_root_mean_squared_error_min\", \"run_name\": \"MaxAbsScaler, XGBoostRegressor\", \"run_properties\": \"copy=True\", \"primary_metric\": 0.07829234, \"best_metric\": 0.07829234}, {\"run_id\": \"AutoML_a7ae500f-ea7e-493b-9afb-3b6fb2ef9ba7_3\", \"run_number\": 7, \"metric\": null, \"status\": \"Completed\", \"run_type\": \"azureml.scriptrun\", \"training_percent\": \"100\", \"start_time\": \"2021-12-04T10:19:33.107416Z\", \"end_time\": \"2021-12-04T10:20:55.242135Z\", \"created_time\": \"2021-12-04T10:19:33.107416Z\", \"created_time_dt\": \"2021-12-04T10:19:33.107416Z\", \"duration\": \"0:01:22\", \"iteration\": \"3\", \"goal\": \"normalized_root_mean_squared_error_min\", \"run_name\": \"StandardScalerWrapper, ElasticNet\", \"run_properties\": \"\\n    copy=True,\\n    with_mean=False,\\n    with_std=True\\n\", \"primary_metric\": 0.09826698, \"best_metric\": 0.07829234}, {\"run_id\": \"AutoML_a7ae500f-ea7e-493b-9afb-3b6fb2ef9ba7_4\", \"run_number\": 8, \"metric\": null, \"status\": \"Completed\", \"run_type\": \"azureml.scriptrun\", \"training_percent\": \"100\", \"start_time\": \"2021-12-04T10:19:33.092706Z\", \"end_time\": \"2021-12-04T10:20:00.315721Z\", \"created_time\": \"2021-12-04T10:19:33.092706Z\", \"created_time_dt\": \"2021-12-04T10:19:33.092706Z\", \"duration\": \"0:00:27\", \"iteration\": \"4\", \"goal\": \"normalized_root_mean_squared_error_min\", \"run_name\": \"MaxAbsScaler, ElasticNet\", \"run_properties\": \"copy=True\", \"primary_metric\": 0.09823216, \"best_metric\": 0.07829234}, {\"run_id\": \"AutoML_a7ae500f-ea7e-493b-9afb-3b6fb2ef9ba7_0\", \"run_number\": 9, \"metric\": null, \"status\": \"Completed\", \"run_type\": \"azureml.scriptrun\", \"training_percent\": \"100\", \"start_time\": \"2021-12-04T10:19:33.090559Z\", \"end_time\": \"2021-12-04T10:21:23.568204Z\", \"created_time\": \"2021-12-04T10:19:33.090559Z\", \"created_time_dt\": \"2021-12-04T10:19:33.090559Z\", \"duration\": \"0:01:50\", \"iteration\": \"0\", \"goal\": \"normalized_root_mean_squared_error_min\", \"run_name\": \"MaxAbsScaler, LightGBM\", \"run_properties\": \"copy=True\", \"primary_metric\": 0.0860512, \"best_metric\": 0.0860512}, {\"run_id\": \"AutoML_a7ae500f-ea7e-493b-9afb-3b6fb2ef9ba7_5\", \"run_number\": 10, \"metric\": null, \"status\": \"Completed\", \"run_type\": \"azureml.scriptrun\", \"training_percent\": \"100\", \"start_time\": \"2021-12-04T10:20:03.370779Z\", \"end_time\": \"2021-12-04T10:22:15.798749Z\", \"created_time\": \"2021-12-04T10:20:03.370779Z\", \"created_time_dt\": \"2021-12-04T10:20:03.370779Z\", \"duration\": \"0:02:12\", \"iteration\": \"5\", \"goal\": \"normalized_root_mean_squared_error_min\", \"run_name\": \"MaxAbsScaler, ElasticNet\", \"run_properties\": \"copy=True\", \"primary_metric\": 0.09826754, \"best_metric\": 0.07829234}, {\"run_id\": \"AutoML_a7ae500f-ea7e-493b-9afb-3b6fb2ef9ba7_6\", \"run_number\": 11, \"metric\": null, \"status\": \"Completed\", \"run_type\": \"azureml.scriptrun\", \"training_percent\": \"100\", \"start_time\": \"2021-12-04T10:20:30.372453Z\", \"end_time\": \"2021-12-04T10:23:16.077526Z\", \"created_time\": \"2021-12-04T10:20:30.372453Z\", \"created_time_dt\": \"2021-12-04T10:20:30.372453Z\", \"duration\": \"0:02:45\", \"iteration\": \"6\", \"goal\": \"normalized_root_mean_squared_error_min\", \"run_name\": \"MaxAbsScaler, ExtremeRandomTrees\", \"run_properties\": \"copy=True\", \"primary_metric\": 0.08129902, \"best_metric\": 0.07829234}, {\"run_id\": \"AutoML_a7ae500f-ea7e-493b-9afb-3b6fb2ef9ba7_7\", \"run_number\": 12, \"metric\": null, \"status\": \"Completed\", \"run_type\": \"azureml.scriptrun\", \"training_percent\": \"100\", \"start_time\": \"2021-12-04T10:20:58.225611Z\", \"end_time\": \"2021-12-04T10:23:15.551005Z\", \"created_time\": \"2021-12-04T10:20:58.225611Z\", \"created_time_dt\": \"2021-12-04T10:20:58.225611Z\", \"duration\": \"0:02:17\", \"iteration\": \"7\", \"goal\": \"normalized_root_mean_squared_error_min\", \"run_name\": \"StandardScalerWrapper, ElasticNet\", \"run_properties\": \"\\n    copy=True,\\n    with_mean=False,\\n    with_std=True\\n\", \"primary_metric\": 0.09825665, \"best_metric\": 0.07829234}, {\"run_id\": \"AutoML_a7ae500f-ea7e-493b-9afb-3b6fb2ef9ba7_8\", \"run_number\": 13, \"metric\": null, \"status\": \"Completed\", \"run_type\": \"azureml.scriptrun\", \"training_percent\": \"100\", \"start_time\": \"2021-12-04T10:21:26.716801Z\", \"end_time\": \"2021-12-04T10:22:41.091189Z\", \"created_time\": \"2021-12-04T10:21:26.716801Z\", \"created_time_dt\": \"2021-12-04T10:21:26.716801Z\", \"duration\": \"0:01:14\", \"iteration\": \"8\", \"goal\": \"normalized_root_mean_squared_error_min\", \"run_name\": \"StandardScalerWrapper, ElasticNet\", \"run_properties\": \"\\n    copy=True,\\n    with_mean=False,\\n    with_std=True\\n\", \"primary_metric\": 0.09826486, \"best_metric\": 0.07829234}, {\"run_id\": \"AutoML_a7ae500f-ea7e-493b-9afb-3b6fb2ef9ba7_9\", \"run_number\": 14, \"metric\": null, \"status\": \"Completed\", \"run_type\": \"azureml.scriptrun\", \"training_percent\": \"100\", \"start_time\": \"2021-12-04T10:21:51.29027Z\", \"end_time\": \"2021-12-04T10:23:06.016057Z\", \"created_time\": \"2021-12-04T10:21:51.29027Z\", \"created_time_dt\": \"2021-12-04T10:21:51.29027Z\", \"duration\": \"0:01:14\", \"iteration\": \"9\", \"goal\": \"normalized_root_mean_squared_error_min\", \"run_name\": \"StandardScalerWrapper, ElasticNet\", \"run_properties\": \"\\n    copy=True,\\n    with_mean=False,\\n    with_std=False\\n\", \"primary_metric\": 0.1577456, \"best_metric\": 0.07829234}, {\"run_id\": \"AutoML_a7ae500f-ea7e-493b-9afb-3b6fb2ef9ba7_10\", \"run_number\": 15, \"metric\": null, \"status\": \"Completed\", \"run_type\": \"azureml.scriptrun\", \"training_percent\": \"100\", \"start_time\": \"2021-12-04T10:22:18.836885Z\", \"end_time\": \"2021-12-04T10:23:30.395257Z\", \"created_time\": \"2021-12-04T10:22:18.836885Z\", \"created_time_dt\": \"2021-12-04T10:22:18.836885Z\", \"duration\": \"0:01:11\", \"iteration\": \"10\", \"goal\": \"normalized_root_mean_squared_error_min\", \"run_name\": \"MaxAbsScaler, RandomForest\", \"run_properties\": \"copy=True\", \"primary_metric\": 0.10489581, \"best_metric\": 0.07829234}, {\"run_id\": \"AutoML_a7ae500f-ea7e-493b-9afb-3b6fb2ef9ba7_11\", \"run_number\": 16, \"metric\": null, \"status\": \"Completed\", \"run_type\": \"azureml.scriptrun\", \"training_percent\": \"100\", \"start_time\": \"2021-12-04T10:22:44.332429Z\", \"end_time\": \"2021-12-04T10:23:42.899059Z\", \"created_time\": \"2021-12-04T10:22:44.332429Z\", \"created_time_dt\": \"2021-12-04T10:22:44.332429Z\", \"duration\": \"0:00:58\", \"iteration\": \"11\", \"goal\": \"normalized_root_mean_squared_error_min\", \"run_name\": \"StandardScalerWrapper, ElasticNet\", \"run_properties\": \"\\n    copy=True,\\n    with_mean=False,\\n    with_std=False\\n\", \"primary_metric\": 0.12157127, \"best_metric\": 0.07829234}, {\"run_id\": \"AutoML_a7ae500f-ea7e-493b-9afb-3b6fb2ef9ba7_12\", \"run_number\": 17, \"metric\": null, \"status\": \"Completed\", \"run_type\": \"azureml.scriptrun\", \"training_percent\": \"100\", \"start_time\": \"2021-12-04T10:23:09.127419Z\", \"end_time\": \"2021-12-04T10:23:59.948638Z\", \"created_time\": \"2021-12-04T10:23:09.127419Z\", \"created_time_dt\": \"2021-12-04T10:23:09.127419Z\", \"duration\": \"0:00:50\", \"iteration\": \"12\", \"goal\": \"normalized_root_mean_squared_error_min\", \"run_name\": \"StandardScalerWrapper, ElasticNet\", \"run_properties\": \"\\n    copy=True,\\n    with_mean=False,\\n    with_std=False\\n\", \"primary_metric\": 0.10424728, \"best_metric\": 0.07829234}, {\"run_id\": \"AutoML_a7ae500f-ea7e-493b-9afb-3b6fb2ef9ba7_13\", \"run_number\": 18, \"metric\": null, \"status\": \"Completed\", \"run_type\": \"azureml.scriptrun\", \"training_percent\": \"100\", \"start_time\": \"2021-12-04T10:23:18.65222Z\", \"end_time\": \"2021-12-04T10:24:00.2479Z\", \"created_time\": \"2021-12-04T10:23:18.65222Z\", \"created_time_dt\": \"2021-12-04T10:23:18.65222Z\", \"duration\": \"0:00:41\", \"iteration\": \"13\", \"goal\": \"normalized_root_mean_squared_error_min\", \"run_name\": \"StandardScalerWrapper, ElasticNet\", \"run_properties\": \"\\n    copy=True,\\n    with_mean=False,\\n    with_std=True\\n\", \"primary_metric\": 0.09825665, \"best_metric\": 0.07829234}, {\"run_id\": \"AutoML_a7ae500f-ea7e-493b-9afb-3b6fb2ef9ba7_14\", \"run_number\": 19, \"metric\": null, \"status\": \"Completed\", \"run_type\": \"azureml.scriptrun\", \"training_percent\": \"100\", \"start_time\": \"2021-12-04T10:23:22.556798Z\", \"end_time\": \"2021-12-04T10:24:50.11424Z\", \"created_time\": \"2021-12-04T10:23:22.556798Z\", \"created_time_dt\": \"2021-12-04T10:23:22.556798Z\", \"duration\": \"0:01:27\", \"iteration\": \"14\", \"goal\": \"normalized_root_mean_squared_error_min\", \"run_name\": \"StandardScalerWrapper, ElasticNet\", \"run_properties\": \"\\n    copy=True,\\n    with_mean=False,\\n    with_std=True\\n\", \"primary_metric\": 0.10370224, \"best_metric\": 0.07829234}, {\"run_id\": \"AutoML_a7ae500f-ea7e-493b-9afb-3b6fb2ef9ba7_15\", \"run_number\": 20, \"metric\": null, \"status\": \"Completed\", \"run_type\": \"azureml.scriptrun\", \"training_percent\": \"100\", \"start_time\": \"2021-12-04T10:23:33.420374Z\", \"end_time\": \"2021-12-04T10:24:18.621071Z\", \"created_time\": \"2021-12-04T10:23:33.420374Z\", \"created_time_dt\": \"2021-12-04T10:23:33.420374Z\", \"duration\": \"0:00:45\", \"iteration\": \"15\", \"goal\": \"normalized_root_mean_squared_error_min\", \"run_name\": \"StandardScalerWrapper, ElasticNet\", \"run_properties\": \"\\n    copy=True,\\n    with_mean=False,\\n    with_std=True\\n\", \"primary_metric\": 0.09824574, \"best_metric\": 0.07829234}, {\"run_id\": \"AutoML_a7ae500f-ea7e-493b-9afb-3b6fb2ef9ba7_16\", \"run_number\": 21, \"metric\": null, \"status\": \"Completed\", \"run_type\": \"azureml.scriptrun\", \"training_percent\": \"100\", \"start_time\": \"2021-12-04T10:23:46.082291Z\", \"end_time\": \"2021-12-04T10:25:23.656416Z\", \"created_time\": \"2021-12-04T10:23:46.082291Z\", \"created_time_dt\": \"2021-12-04T10:23:46.082291Z\", \"duration\": \"0:01:37\", \"iteration\": \"16\", \"goal\": \"normalized_root_mean_squared_error_min\", \"run_name\": \"StandardScalerWrapper, DecisionTree\", \"run_properties\": \"\\n    copy=True,\\n    with_mean=False,\\n    with_std=False\\n\", \"primary_metric\": 0.0922883, \"best_metric\": 0.07829234}, {\"run_id\": \"AutoML_a7ae500f-ea7e-493b-9afb-3b6fb2ef9ba7_17\", \"run_number\": 22, \"metric\": null, \"status\": \"Completed\", \"run_type\": \"azureml.scriptrun\", \"training_percent\": \"100\", \"start_time\": \"2021-12-04T10:24:02.786564Z\", \"end_time\": \"2021-12-04T10:25:26.26876Z\", \"created_time\": \"2021-12-04T10:24:02.786564Z\", \"created_time_dt\": \"2021-12-04T10:24:02.786564Z\", \"duration\": \"0:01:23\", \"iteration\": \"17\", \"goal\": \"normalized_root_mean_squared_error_min\", \"run_name\": \"StandardScalerWrapper, ElasticNet\", \"run_properties\": \"\\n    copy=True,\\n    with_mean=False,\\n    with_std=True\\n\", \"primary_metric\": 0.09826519, \"best_metric\": 0.07829234}, {\"run_id\": \"AutoML_a7ae500f-ea7e-493b-9afb-3b6fb2ef9ba7_18\", \"run_number\": 23, \"metric\": null, \"status\": \"Completed\", \"run_type\": \"azureml.scriptrun\", \"training_percent\": \"100\", \"start_time\": \"2021-12-04T10:24:06.272866Z\", \"end_time\": \"2021-12-04T10:26:06.106506Z\", \"created_time\": \"2021-12-04T10:24:06.272866Z\", \"created_time_dt\": \"2021-12-04T10:24:06.272866Z\", \"duration\": \"0:01:59\", \"iteration\": \"18\", \"goal\": \"normalized_root_mean_squared_error_min\", \"run_name\": \"MaxAbsScaler, DecisionTree\", \"run_properties\": \"copy=True\", \"primary_metric\": 0.08435595, \"best_metric\": 0.07829234}, {\"run_id\": \"AutoML_a7ae500f-ea7e-493b-9afb-3b6fb2ef9ba7_19\", \"run_number\": 24, \"metric\": null, \"status\": \"Completed\", \"run_type\": \"azureml.scriptrun\", \"training_percent\": \"100\", \"start_time\": \"2021-12-04T10:24:23.453424Z\", \"end_time\": \"2021-12-04T10:26:06.673316Z\", \"created_time\": \"2021-12-04T10:24:23.453424Z\", \"created_time_dt\": \"2021-12-04T10:24:23.453424Z\", \"duration\": \"0:01:43\", \"iteration\": \"19\", \"goal\": \"normalized_root_mean_squared_error_min\", \"run_name\": \"StandardScalerWrapper, LightGBM\", \"run_properties\": \"\\n    copy=True,\\n    with_mean=False,\\n    with_std=True\\n\", \"primary_metric\": 0.08112402, \"best_metric\": 0.07829234}, {\"run_id\": \"AutoML_a7ae500f-ea7e-493b-9afb-3b6fb2ef9ba7_20\", \"run_number\": 25, \"metric\": null, \"status\": \"Completed\", \"run_type\": \"azureml.scriptrun\", \"training_percent\": \"100\", \"start_time\": \"2021-12-04T10:24:53.608251Z\", \"end_time\": \"2021-12-04T10:26:09.012829Z\", \"created_time\": \"2021-12-04T10:24:53.608251Z\", \"created_time_dt\": \"2021-12-04T10:24:53.608251Z\", \"duration\": \"0:01:15\", \"iteration\": \"20\", \"goal\": \"normalized_root_mean_squared_error_min\", \"run_name\": \"SparseNormalizer, XGBoostRegressor\", \"run_properties\": \"copy=True, norm='max'\", \"primary_metric\": 0.08249567, \"best_metric\": 0.07829234}, {\"run_id\": \"AutoML_a7ae500f-ea7e-493b-9afb-3b6fb2ef9ba7_21\", \"run_number\": 26, \"metric\": null, \"status\": \"Completed\", \"run_type\": \"azureml.scriptrun\", \"training_percent\": \"100\", \"start_time\": \"2021-12-04T10:25:26.504743Z\", \"end_time\": \"2021-12-04T10:26:23.538671Z\", \"created_time\": \"2021-12-04T10:25:26.504743Z\", \"created_time_dt\": \"2021-12-04T10:25:26.504743Z\", \"duration\": \"0:00:57\", \"iteration\": \"21\", \"goal\": \"normalized_root_mean_squared_error_min\", \"run_name\": \"TruncatedSVDWrapper, ElasticNet\", \"run_properties\": \"n_components=0.8015789473684211, random_state=None\", \"primary_metric\": 0.10683999, \"best_metric\": 0.07829234}, {\"run_id\": \"AutoML_a7ae500f-ea7e-493b-9afb-3b6fb2ef9ba7_22\", \"run_number\": 27, \"metric\": null, \"status\": \"Completed\", \"run_type\": \"azureml.scriptrun\", \"training_percent\": \"100\", \"start_time\": \"2021-12-04T10:25:29.94439Z\", \"end_time\": \"2021-12-04T10:27:20.646527Z\", \"created_time\": \"2021-12-04T10:25:29.94439Z\", \"created_time_dt\": \"2021-12-04T10:25:29.94439Z\", \"duration\": \"0:01:50\", \"iteration\": \"22\", \"goal\": \"normalized_root_mean_squared_error_min\", \"run_name\": \"SparseNormalizer, ExtremeRandomTrees\", \"run_properties\": \"copy=True, norm='l1'\", \"primary_metric\": 0.0938726, \"best_metric\": 0.07829234}, {\"run_id\": \"AutoML_a7ae500f-ea7e-493b-9afb-3b6fb2ef9ba7_23\", \"run_number\": 28, \"metric\": null, \"status\": \"Completed\", \"run_type\": \"azureml.scriptrun\", \"training_percent\": \"100\", \"start_time\": \"2021-12-04T10:26:51.583409Z\", \"end_time\": \"2021-12-04T10:27:43.614743Z\", \"created_time\": \"2021-12-04T10:26:51.583409Z\", \"created_time_dt\": \"2021-12-04T10:26:51.583409Z\", \"duration\": \"0:00:52\", \"iteration\": \"23\", \"goal\": \"normalized_root_mean_squared_error_min\", \"run_name\": \"TruncatedSVDWrapper, XGBoostRegressor\", \"run_properties\": \"n_components=0.7026315789473684, random_state=None\", \"primary_metric\": 0.08530857, \"best_metric\": 0.07829234}, {\"run_id\": \"AutoML_a7ae500f-ea7e-493b-9afb-3b6fb2ef9ba7_24\", \"run_number\": 29, \"metric\": null, \"status\": \"Completed\", \"run_type\": \"azureml.scriptrun\", \"training_percent\": \"100\", \"start_time\": \"2021-12-04T10:26:51.601707Z\", \"end_time\": \"2021-12-04T10:28:01.159149Z\", \"created_time\": \"2021-12-04T10:26:51.601707Z\", \"created_time_dt\": \"2021-12-04T10:26:51.601707Z\", \"duration\": \"0:01:09\", \"iteration\": \"24\", \"goal\": \"normalized_root_mean_squared_error_min\", \"run_name\": \"StandardScalerWrapper, ExtremeRandomTrees\", \"run_properties\": \"\\n    copy=True,\\n    with_mean=False,\\n    with_std=True\\n\", \"primary_metric\": 0.07979808, \"best_metric\": 0.07829234}, {\"run_id\": \"AutoML_a7ae500f-ea7e-493b-9afb-3b6fb2ef9ba7_26\", \"run_number\": 30, \"metric\": null, \"status\": \"Completed\", \"run_type\": \"azureml.scriptrun\", \"training_percent\": \"100\", \"start_time\": \"2021-12-04T10:26:51.608607Z\", \"end_time\": \"2021-12-04T10:28:01.933806Z\", \"created_time\": \"2021-12-04T10:26:51.608607Z\", \"created_time_dt\": \"2021-12-04T10:26:51.608607Z\", \"duration\": \"0:01:10\", \"iteration\": \"26\", \"goal\": \"normalized_root_mean_squared_error_min\", \"run_name\": \"StandardScalerWrapper, RandomForest\", \"run_properties\": \"\\n    copy=True,\\n    with_mean=False,\\n    with_std=False\\n\", \"primary_metric\": 0.0946492, \"best_metric\": 0.07829234}, {\"run_id\": \"AutoML_a7ae500f-ea7e-493b-9afb-3b6fb2ef9ba7_25\", \"run_number\": 31, \"metric\": null, \"status\": \"Completed\", \"run_type\": \"azureml.scriptrun\", \"training_percent\": \"100\", \"start_time\": \"2021-12-04T10:26:51.61243Z\", \"end_time\": \"2021-12-04T10:28:04.355277Z\", \"created_time\": \"2021-12-04T10:26:51.61243Z\", \"created_time_dt\": \"2021-12-04T10:26:51.61243Z\", \"duration\": \"0:01:12\", \"iteration\": \"25\", \"goal\": \"normalized_root_mean_squared_error_min\", \"run_name\": \"MaxAbsScaler, GradientBoosting\", \"run_properties\": \"copy=True\", \"primary_metric\": 0.10860405, \"best_metric\": 0.07829234}, {\"run_id\": \"AutoML_a7ae500f-ea7e-493b-9afb-3b6fb2ef9ba7_27\", \"run_number\": 32, \"metric\": null, \"status\": \"Completed\", \"run_type\": \"azureml.scriptrun\", \"training_percent\": \"100\", \"start_time\": \"2021-12-04T10:27:22.625203Z\", \"end_time\": \"2021-12-04T10:28:23.470231Z\", \"created_time\": \"2021-12-04T10:27:22.625203Z\", \"created_time_dt\": \"2021-12-04T10:27:22.625203Z\", \"duration\": \"0:01:00\", \"iteration\": \"27\", \"goal\": \"normalized_root_mean_squared_error_min\", \"run_name\": \"MaxAbsScaler, RandomForest\", \"run_properties\": \"copy=True\", \"primary_metric\": 0.08086579, \"best_metric\": 0.07829234}, {\"run_id\": \"AutoML_a7ae500f-ea7e-493b-9afb-3b6fb2ef9ba7_28\", \"run_number\": 33, \"metric\": null, \"status\": \"Completed\", \"run_type\": \"azureml.scriptrun\", \"training_percent\": \"100\", \"start_time\": \"2021-12-04T10:27:45.595198Z\", \"end_time\": \"2021-12-04T10:29:22.738717Z\", \"created_time\": \"2021-12-04T10:27:45.595198Z\", \"created_time_dt\": \"2021-12-04T10:27:45.595198Z\", \"duration\": \"0:01:37\", \"iteration\": \"28\", \"goal\": \"normalized_root_mean_squared_error_min\", \"run_name\": \"MaxAbsScaler, ExtremeRandomTrees\", \"run_properties\": \"copy=True\", \"primary_metric\": 0.0870511, \"best_metric\": 0.07829234}, {\"run_id\": \"AutoML_a7ae500f-ea7e-493b-9afb-3b6fb2ef9ba7_29\", \"run_number\": 34, \"metric\": null, \"status\": \"Completed\", \"run_type\": \"azureml.scriptrun\", \"training_percent\": \"100\", \"start_time\": \"2021-12-04T10:28:03.149933Z\", \"end_time\": \"2021-12-04T10:29:45.466019Z\", \"created_time\": \"2021-12-04T10:28:03.149933Z\", \"created_time_dt\": \"2021-12-04T10:28:03.149933Z\", \"duration\": \"0:01:42\", \"iteration\": \"29\", \"goal\": \"normalized_root_mean_squared_error_min\", \"run_name\": \"MaxAbsScaler, ExtremeRandomTrees\", \"run_properties\": \"copy=True\", \"primary_metric\": 0.08300683, \"best_metric\": 0.07829234}, {\"run_id\": \"AutoML_a7ae500f-ea7e-493b-9afb-3b6fb2ef9ba7_30\", \"run_number\": 35, \"metric\": null, \"status\": \"Completed\", \"run_type\": \"azureml.scriptrun\", \"training_percent\": \"100\", \"start_time\": \"2021-12-04T10:28:06.986649Z\", \"end_time\": \"2021-12-04T10:30:10.242633Z\", \"created_time\": \"2021-12-04T10:28:06.986649Z\", \"created_time_dt\": \"2021-12-04T10:28:06.986649Z\", \"duration\": \"0:02:03\", \"iteration\": \"30\", \"goal\": \"normalized_root_mean_squared_error_min\", \"run_name\": \"SparseNormalizer, XGBoostRegressor\", \"run_properties\": \"copy=True, norm='l2'\", \"primary_metric\": 0.08408527, \"best_metric\": 0.07829234}, {\"run_id\": \"AutoML_a7ae500f-ea7e-493b-9afb-3b6fb2ef9ba7_31\", \"run_number\": 36, \"metric\": null, \"status\": \"Completed\", \"run_type\": \"azureml.scriptrun\", \"training_percent\": \"100\", \"start_time\": \"2021-12-04T10:28:09.909639Z\", \"end_time\": \"2021-12-04T10:30:03.959927Z\", \"created_time\": \"2021-12-04T10:28:09.909639Z\", \"created_time_dt\": \"2021-12-04T10:28:09.909639Z\", \"duration\": \"0:01:54\", \"iteration\": \"31\", \"goal\": \"normalized_root_mean_squared_error_min\", \"run_name\": \"MaxAbsScaler, ExtremeRandomTrees\", \"run_properties\": \"copy=True\", \"primary_metric\": 0.1313711, \"best_metric\": 0.07829234}, {\"run_id\": \"AutoML_a7ae500f-ea7e-493b-9afb-3b6fb2ef9ba7_32\", \"run_number\": 37, \"metric\": null, \"status\": \"Completed\", \"run_type\": \"azureml.scriptrun\", \"training_percent\": \"100\", \"start_time\": \"2021-12-04T10:28:27.797414Z\", \"end_time\": \"2021-12-04T10:30:04.261574Z\", \"created_time\": \"2021-12-04T10:28:27.797414Z\", \"created_time_dt\": \"2021-12-04T10:28:27.797414Z\", \"duration\": \"0:01:36\", \"iteration\": \"32\", \"goal\": \"normalized_root_mean_squared_error_min\", \"run_name\": \"MaxAbsScaler, RandomForest\", \"run_properties\": \"copy=True\", \"primary_metric\": 0.15042206, \"best_metric\": 0.07829234}, {\"run_id\": \"AutoML_a7ae500f-ea7e-493b-9afb-3b6fb2ef9ba7_33\", \"run_number\": 38, \"metric\": null, \"status\": \"Canceled\", \"run_type\": \"azureml.scriptrun\", \"training_percent\": \"100\", \"start_time\": \"2021-12-04T10:29:24.908687Z\", \"end_time\": \"2021-12-04T10:30:29.18418Z\", \"created_time\": \"2021-12-04T10:29:24.908687Z\", \"created_time_dt\": \"2021-12-04T10:29:24.908687Z\", \"duration\": \"0:01:04\", \"iteration\": \"33\", \"goal\": null, \"run_name\": \"Canceled\", \"run_properties\": null}, {\"run_id\": \"AutoML_a7ae500f-ea7e-493b-9afb-3b6fb2ef9ba7_34\", \"run_number\": 39, \"metric\": null, \"status\": \"Completed\", \"run_type\": \"azureml.scriptrun\", \"training_percent\": \"100\", \"start_time\": \"2021-12-04T10:29:47.440395Z\", \"end_time\": \"2021-12-04T10:30:27.751364Z\", \"created_time\": \"2021-12-04T10:29:47.440395Z\", \"created_time_dt\": \"2021-12-04T10:29:47.440395Z\", \"duration\": \"0:00:40\", \"iteration\": \"34\", \"goal\": \"normalized_root_mean_squared_error_min\", \"run_name\": \"MaxAbsScaler, ExtremeRandomTrees\", \"run_properties\": \"copy=True\", \"primary_metric\": 0.08091424, \"best_metric\": 0.07829234}, {\"run_id\": \"AutoML_a7ae500f-ea7e-493b-9afb-3b6fb2ef9ba7_35\", \"run_number\": 40, \"metric\": null, \"status\": \"Canceled\", \"run_type\": \"azureml.scriptrun\", \"training_percent\": \"100\", \"start_time\": \"2021-12-04T10:30:06.928274Z\", \"end_time\": \"2021-12-04T10:30:29.136975Z\", \"created_time\": \"2021-12-04T10:30:06.928274Z\", \"created_time_dt\": \"2021-12-04T10:30:06.928274Z\", \"duration\": \"0:00:22\", \"iteration\": \"35\", \"goal\": null, \"run_name\": \"Canceled\", \"run_properties\": null}, {\"run_id\": \"AutoML_a7ae500f-ea7e-493b-9afb-3b6fb2ef9ba7_36\", \"run_number\": 41, \"metric\": null, \"status\": \"Canceled\", \"run_type\": \"azureml.scriptrun\", \"training_percent\": \"100\", \"start_time\": \"2021-12-04T10:30:09.875436Z\", \"end_time\": \"2021-12-04T10:30:29.13566Z\", \"created_time\": \"2021-12-04T10:30:09.875436Z\", \"created_time_dt\": \"2021-12-04T10:30:09.875436Z\", \"duration\": \"0:00:19\", \"iteration\": \"36\", \"goal\": null, \"run_name\": \"Canceled\", \"run_properties\": null}, {\"run_id\": \"AutoML_a7ae500f-ea7e-493b-9afb-3b6fb2ef9ba7_37\", \"run_number\": 42, \"metric\": null, \"status\": \"Canceled\", \"run_type\": \"azureml.scriptrun\", \"training_percent\": \"100\", \"start_time\": \"2021-12-04T10:30:13.087828Z\", \"end_time\": \"2021-12-04T10:30:29.121823Z\", \"created_time\": \"2021-12-04T10:30:13.087828Z\", \"created_time_dt\": \"2021-12-04T10:30:13.087828Z\", \"duration\": \"0:00:16\", \"iteration\": \"37\", \"goal\": null, \"run_name\": \"Canceled\", \"run_properties\": null}, {\"run_id\": \"AutoML_a7ae500f-ea7e-493b-9afb-3b6fb2ef9ba7_38\", \"run_number\": 43, \"metric\": null, \"status\": \"Completed\", \"run_type\": \"azureml.scriptrun\", \"training_percent\": \"100\", \"start_time\": \"2021-12-04T10:30:30.184144Z\", \"end_time\": \"2021-12-04T10:31:54.626208Z\", \"created_time\": \"2021-12-04T10:30:30.184144Z\", \"created_time_dt\": \"2021-12-04T10:30:30.184144Z\", \"duration\": \"0:01:24\", \"iteration\": \"38\", \"goal\": \"normalized_root_mean_squared_error_min\", \"run_name\": \"VotingEnsemble\", \"run_properties\": \"\\n    estimators=[('1', Pipeline(\\n        memory=None,\\n        steps=[('maxabsscaler', MaxAbsScaler(\\n            copy=True\\n        \", \"primary_metric\": 0.07620182, \"best_metric\": 0.07620182}, {\"run_id\": \"AutoML_a7ae500f-ea7e-493b-9afb-3b6fb2ef9ba7_39\", \"run_number\": 44, \"metric\": null, \"status\": \"Completed\", \"run_type\": \"azureml.scriptrun\", \"training_percent\": \"100\", \"start_time\": \"2021-12-04T10:30:30.213432Z\", \"end_time\": \"2021-12-04T10:31:36.908461Z\", \"created_time\": \"2021-12-04T10:30:30.213432Z\", \"created_time_dt\": \"2021-12-04T10:30:30.213432Z\", \"duration\": \"0:01:06\", \"iteration\": \"39\", \"goal\": \"normalized_root_mean_squared_error_min\", \"run_name\": \"StackEnsemble\", \"run_properties\": \"\\n    base_learners=[('1', Pipeline(\\n        memory=None,\\n        steps=[('maxabsscaler', MaxAbsScaler(\\n            copy=True\\n        \", \"primary_metric\": 0.07606622, \"best_metric\": 0.07606622}], \"children_metrics\": {\"categories\": [0], \"series\": {\"explained_variance\": [{\"categories\": [\"0\", \"1\", \"2\", \"3\", \"4\", \"5\", \"6\", \"7\", \"8\", \"9\", \"10\", \"11\", \"12\", \"13\", \"14\", \"15\", \"16\", \"17\", \"18\", \"19\", \"20\", \"21\", \"22\", \"23\", \"24\", \"25\", \"26\", \"27\", \"28\", \"29\", \"30\", \"31\", \"32\", \"34\", \"38\", \"39\"], \"mode\": \"markers\", \"name\": \"explained_variance\", \"stepped\": false, \"type\": \"scatter\", \"data\": [0.7995730670496289, 0.8332790768809923, 0.7400435820054019, 0.7397002717106459, 0.7398837342132808, 0.7396969837614223, 0.8214795267258246, 0.7397890439927194, 0.7397125437431222, 0.331455337674589, 0.7028331112366866, 0.6018193158885169, 0.7067402365712553, 0.7397890439927194, 0.7105395029262522, 0.7398321124812404, 0.7689864981781638, 0.7397487576047127, 0.8080239869569793, 0.8217225828332596, 0.8149225959247023, 0.6919055891291698, 0.7608588704254394, 0.802477921256803, 0.8277916225219396, 0.6835801515475768, 0.7578189193291796, 0.8224013944666604, 0.7955333719984463, 0.8138777524303805, 0.8092302216567827, 0.5364502208745929, 0.39325676703083695, 0.8228419640307928, 0.8422906236982666, 0.8432205621519548]}, {\"categories\": [\"0\", \"1\", \"2\", \"3\", \"4\", \"5\", \"6\", \"7\", \"8\", \"9\", \"10\", \"11\", \"12\", \"13\", \"14\", \"15\", \"16\", \"17\", \"18\", \"19\", \"20\", \"21\", \"22\", \"23\", \"24\", \"25\", \"26\", \"27\", \"28\", \"29\", \"30\", \"31\", \"32\", \"34\", \"38\", \"39\"], \"mode\": \"lines\", \"name\": \"explained_variance_max\", \"stepped\": true, \"type\": \"scatter\", \"data\": [0.7995730670496289, 0.8332790768809923, 0.8332790768809923, 0.8332790768809923, 0.8332790768809923, 0.8332790768809923, 0.8332790768809923, 0.8332790768809923, 0.8332790768809923, 0.8332790768809923, 0.8332790768809923, 0.8332790768809923, 0.8332790768809923, 0.8332790768809923, 0.8332790768809923, 0.8332790768809923, 0.8332790768809923, 0.8332790768809923, 0.8332790768809923, 0.8332790768809923, 0.8332790768809923, 0.8332790768809923, 0.8332790768809923, 0.8332790768809923, 0.8332790768809923, 0.8332790768809923, 0.8332790768809923, 0.8332790768809923, 0.8332790768809923, 0.8332790768809923, 0.8332790768809923, 0.8332790768809923, 0.8332790768809923, 0.8332790768809923, 0.8422906236982666, 0.8432205621519548]}], \"normalized_median_absolute_error\": [{\"categories\": [\"0\", \"1\", \"2\", \"3\", \"4\", \"5\", \"6\", \"7\", \"8\", \"9\", \"10\", \"11\", \"12\", \"13\", \"14\", \"15\", \"16\", \"17\", \"18\", \"19\", \"20\", \"21\", \"22\", \"23\", \"24\", \"25\", \"26\", \"27\", \"28\", \"29\", \"30\", \"31\", \"32\", \"34\", \"38\", \"39\"], \"mode\": \"markers\", \"name\": \"normalized_median_absolute_error\", \"stepped\": false, \"type\": \"scatter\", \"data\": [0.041303938819691, 0.03500488253077977, 0.045103318583802586, 0.04574909789266074, 0.045414056811077866, 0.04574431617517858, 0.023550906829716008, 0.045764397271710465, 0.045766945013422704, 0.09475658659458311, 0.0688962940960602, 0.070550191018426, 0.056996213706580166, 0.045764397271710465, 0.05309796285793793, 0.045869204780627434, 0.058459849406582734, 0.045799088016972044, 0.03543362895738377, 0.02942263915218299, 0.024950606780801486, 0.06097738782787339, 0.0557706176399622, 0.03789435960540678, 0.028601991214492924, 0.05819907225030628, 0.052269364512020064, 0.036033524093364105, 0.03333273270295054, 0.02839069656602164, 0.023768084294260163, 0.07838437033346009, 0.09332847027086899, 0.02754201812810527, 0.027462067896803694, 0.025335746452365658]}, {\"categories\": [\"0\", \"1\", \"2\", \"3\", \"4\", \"5\", \"6\", \"7\", \"8\", \"9\", \"10\", \"11\", \"12\", \"13\", \"14\", \"15\", \"16\", \"17\", \"18\", \"19\", \"20\", \"21\", \"22\", \"23\", \"24\", \"25\", \"26\", \"27\", \"28\", \"29\", \"30\", \"31\", \"32\", \"34\", \"38\", \"39\"], \"mode\": \"lines\", \"name\": \"normalized_median_absolute_error_min\", \"stepped\": true, \"type\": \"scatter\", \"data\": [0.041303938819691, 0.03500488253077977, 0.03500488253077977, 0.03500488253077977, 0.03500488253077977, 0.03500488253077977, 0.023550906829716008, 0.023550906829716008, 0.023550906829716008, 0.023550906829716008, 0.023550906829716008, 0.023550906829716008, 0.023550906829716008, 0.023550906829716008, 0.023550906829716008, 0.023550906829716008, 0.023550906829716008, 0.023550906829716008, 0.023550906829716008, 0.023550906829716008, 0.023550906829716008, 0.023550906829716008, 0.023550906829716008, 0.023550906829716008, 0.023550906829716008, 0.023550906829716008, 0.023550906829716008, 0.023550906829716008, 0.023550906829716008, 0.023550906829716008, 0.023550906829716008, 0.023550906829716008, 0.023550906829716008, 0.023550906829716008, 0.023550906829716008, 0.023550906829716008]}], \"root_mean_squared_error\": [{\"categories\": [\"0\", \"1\", \"2\", \"3\", \"4\", \"5\", \"6\", \"7\", \"8\", \"9\", \"10\", \"11\", \"12\", \"13\", \"14\", \"15\", \"16\", \"17\", \"18\", \"19\", \"20\", \"21\", \"22\", \"23\", \"24\", \"25\", \"26\", \"27\", \"28\", \"29\", \"30\", \"31\", \"32\", \"34\", \"38\", \"39\"], \"mode\": \"markers\", \"name\": \"root_mean_squared_error\", \"stepped\": false, \"type\": \"scatter\", \"data\": [5390.983008103227, 4904.902077760857, 6152.205116318699, 6156.284091182795, 6154.1027799824105, 6156.319157369826, 5093.265811989731, 6155.637184632726, 6156.151109969828, 9882.533980845112, 6571.571016353542, 7616.264312206697, 6530.941515502564, 6155.637184632726, 6496.795615177473, 6154.953325345055, 5781.728813781223, 6156.171761431104, 5284.77824383859, 5082.302810612202, 5168.234151906335, 6693.3707845821755, 5880.9827503166025, 5344.458346166086, 4999.234597768412, 6803.88691556985, 5929.635475445981, 5066.124907723269, 5453.62578199778, 5200.258150683827, 5267.820613608817, 8230.20977638043, 9423.724331754465, 5069.159875360705, 4773.933750245618, 4765.438917868982]}, {\"categories\": [\"0\", \"1\", \"2\", \"3\", \"4\", \"5\", \"6\", \"7\", \"8\", \"9\", \"10\", \"11\", \"12\", \"13\", \"14\", \"15\", \"16\", \"17\", \"18\", \"19\", \"20\", \"21\", \"22\", \"23\", \"24\", \"25\", \"26\", \"27\", \"28\", \"29\", \"30\", \"31\", \"32\", \"34\", \"38\", \"39\"], \"mode\": \"lines\", \"name\": \"root_mean_squared_error_min\", \"stepped\": true, \"type\": \"scatter\", \"data\": [5390.983008103227, 4904.902077760857, 4904.902077760857, 4904.902077760857, 4904.902077760857, 4904.902077760857, 4904.902077760857, 4904.902077760857, 4904.902077760857, 4904.902077760857, 4904.902077760857, 4904.902077760857, 4904.902077760857, 4904.902077760857, 4904.902077760857, 4904.902077760857, 4904.902077760857, 4904.902077760857, 4904.902077760857, 4904.902077760857, 4904.902077760857, 4904.902077760857, 4904.902077760857, 4904.902077760857, 4904.902077760857, 4904.902077760857, 4904.902077760857, 4904.902077760857, 4904.902077760857, 4904.902077760857, 4904.902077760857, 4904.902077760857, 4904.902077760857, 4904.902077760857, 4773.933750245618, 4765.438917868982]}], \"r2_score\": [{\"categories\": [\"0\", \"1\", \"2\", \"3\", \"4\", \"5\", \"6\", \"7\", \"8\", \"9\", \"10\", \"11\", \"12\", \"13\", \"14\", \"15\", \"16\", \"17\", \"18\", \"19\", \"20\", \"21\", \"22\", \"23\", \"24\", \"25\", \"26\", \"27\", \"28\", \"29\", \"30\", \"31\", \"32\", \"34\", \"38\", \"39\"], \"mode\": \"markers\", \"name\": \"r2_score\", \"stepped\": false, \"type\": \"scatter\", \"data\": [0.7989359938777125, 0.8326998918177075, 0.7394635948774392, 0.7391106355621335, 0.7392988773103653, 0.7391071293940644, 0.8208975581650743, 0.7392264239570271, 0.7391237579565428, 0.3295183247605046, 0.7023496445309716, 0.6011544295617508, 0.7062913619120581, 0.7392264239570271, 0.7100838853348247, 0.7392583157607151, 0.7684239145327696, 0.7391897005328416, 0.806924999987577, 0.8213174439663511, 0.8146547790198957, 0.6914198376769035, 0.7604311945256593, 0.8016871023603788, 0.8271826594248406, 0.6816320015251607, 0.7573080105056597, 0.8219149533473813, 0.7950742265184181, 0.8133817078990664, 0.8086607688294368, 0.5353156895582344, 0.39156380308099853, 0.8222096093112075, 0.8418336156271181, 0.8423744353912971]}, {\"categories\": [\"0\", \"1\", \"2\", \"3\", \"4\", \"5\", \"6\", \"7\", \"8\", \"9\", \"10\", \"11\", \"12\", \"13\", \"14\", \"15\", \"16\", \"17\", \"18\", \"19\", \"20\", \"21\", \"22\", \"23\", \"24\", \"25\", \"26\", \"27\", \"28\", \"29\", \"30\", \"31\", \"32\", \"34\", \"38\", \"39\"], \"mode\": \"lines\", \"name\": \"r2_score_max\", \"stepped\": true, \"type\": \"scatter\", \"data\": [0.7989359938777125, 0.8326998918177075, 0.8326998918177075, 0.8326998918177075, 0.8326998918177075, 0.8326998918177075, 0.8326998918177075, 0.8326998918177075, 0.8326998918177075, 0.8326998918177075, 0.8326998918177075, 0.8326998918177075, 0.8326998918177075, 0.8326998918177075, 0.8326998918177075, 0.8326998918177075, 0.8326998918177075, 0.8326998918177075, 0.8326998918177075, 0.8326998918177075, 0.8326998918177075, 0.8326998918177075, 0.8326998918177075, 0.8326998918177075, 0.8326998918177075, 0.8326998918177075, 0.8326998918177075, 0.8326998918177075, 0.8326998918177075, 0.8326998918177075, 0.8326998918177075, 0.8326998918177075, 0.8326998918177075, 0.8326998918177075, 0.8418336156271181, 0.8423744353912971]}], \"normalized_root_mean_squared_error\": [{\"categories\": [\"0\", \"1\", \"2\", \"3\", \"4\", \"5\", \"6\", \"7\", \"8\", \"9\", \"10\", \"11\", \"12\", \"13\", \"14\", \"15\", \"16\", \"17\", \"18\", \"19\", \"20\", \"21\", \"22\", \"23\", \"24\", \"25\", \"26\", \"27\", \"28\", \"29\", \"30\", \"31\", \"32\", \"34\", \"38\", \"39\"], \"mode\": \"markers\", \"name\": \"normalized_root_mean_squared_error\", \"stepped\": false, \"type\": \"scatter\", \"data\": [0.08605119598829998, 0.07829234285517106, 0.09820186920062819, 0.09826697804347452, 0.09823215982250559, 0.09826753777206726, 0.08129901614404123, 0.09825665208209744, 0.098264855389331, 0.15774560356960665, 0.10489581299538056, 0.12157127040528111, 0.10424728245180828, 0.09825665208209744, 0.10370224353095563, 0.09824573627889359, 0.09228830411041104, 0.09826518502920166, 0.08435594913426792, 0.08112402405470616, 0.08249566530828167, 0.10683998824346011, 0.0938726014329176, 0.08530856652784265, 0.07979808423017429, 0.10860405339321007, 0.09464919916642557, 0.0808657913928553, 0.08705110372415234, 0.08300683430862703, 0.08408527041756522, 0.13137110494089949, 0.1504220562729674, 0.08091423572936958, 0.07620181851066216, 0.0760662234838125]}, {\"categories\": [\"0\", \"1\", \"2\", \"3\", \"4\", \"5\", \"6\", \"7\", \"8\", \"9\", \"10\", \"11\", \"12\", \"13\", \"14\", \"15\", \"16\", \"17\", \"18\", \"19\", \"20\", \"21\", \"22\", \"23\", \"24\", \"25\", \"26\", \"27\", \"28\", \"29\", \"30\", \"31\", \"32\", \"34\", \"38\", \"39\"], \"mode\": \"lines\", \"name\": \"normalized_root_mean_squared_error_min\", \"stepped\": true, \"type\": \"scatter\", \"data\": [0.08605119598829998, 0.07829234285517106, 0.07829234285517106, 0.07829234285517106, 0.07829234285517106, 0.07829234285517106, 0.07829234285517106, 0.07829234285517106, 0.07829234285517106, 0.07829234285517106, 0.07829234285517106, 0.07829234285517106, 0.07829234285517106, 0.07829234285517106, 0.07829234285517106, 0.07829234285517106, 0.07829234285517106, 0.07829234285517106, 0.07829234285517106, 0.07829234285517106, 0.07829234285517106, 0.07829234285517106, 0.07829234285517106, 0.07829234285517106, 0.07829234285517106, 0.07829234285517106, 0.07829234285517106, 0.07829234285517106, 0.07829234285517106, 0.07829234285517106, 0.07829234285517106, 0.07829234285517106, 0.07829234285517106, 0.07829234285517106, 0.07620181851066216, 0.0760662234838125]}], \"median_absolute_error\": [{\"categories\": [\"0\", \"1\", \"2\", \"3\", \"4\", \"5\", \"6\", \"7\", \"8\", \"9\", \"10\", \"11\", \"12\", \"13\", \"14\", \"15\", \"16\", \"17\", \"18\", \"19\", \"20\", \"21\", \"22\", \"23\", \"24\", \"25\", \"26\", \"27\", \"28\", \"29\", \"30\", \"31\", \"32\", \"34\", \"38\", \"39\"], \"mode\": \"markers\", \"name\": \"median_absolute_error\", \"stepped\": false, \"type\": \"scatter\", \"data\": [2587.632046101541, 2193.00527734375, 2825.657694837925, 2866.1148348120437, 2845.124995483426, 2865.815267125624, 1475.430260861032, 2867.0733187882897, 2867.2329311228073, 5936.3631425496405, 4316.253208655502, 4419.867459488697, 3570.730378461811, 2867.0733187882897, 3326.510599236295, 2873.639357681809, 3662.4250388107494, 2869.2466438199262, 2219.8656210503204, 1843.2858009845404, 1563.119438984375, 3820.145180820982, 3493.9485569652925, 2374.0268382031245, 1791.8733942549047, 3646.0877270251126, 3274.6001109266026, 2257.44818393711, 2088.2475083749628, 1778.6360900369978, 1489.0361149999994, 4910.667466214053, 5846.893719768062, 1725.4676129972042, 1720.4588466054, 1587.2478825382707]}, {\"categories\": [\"0\", \"1\", \"2\", \"3\", \"4\", \"5\", \"6\", \"7\", \"8\", \"9\", \"10\", \"11\", \"12\", \"13\", \"14\", \"15\", \"16\", \"17\", \"18\", \"19\", \"20\", \"21\", \"22\", \"23\", \"24\", \"25\", \"26\", \"27\", \"28\", \"29\", \"30\", \"31\", \"32\", \"34\", \"38\", \"39\"], \"mode\": \"lines\", \"name\": \"median_absolute_error_min\", \"stepped\": true, \"type\": \"scatter\", \"data\": [2587.632046101541, 2193.00527734375, 2193.00527734375, 2193.00527734375, 2193.00527734375, 2193.00527734375, 1475.430260861032, 1475.430260861032, 1475.430260861032, 1475.430260861032, 1475.430260861032, 1475.430260861032, 1475.430260861032, 1475.430260861032, 1475.430260861032, 1475.430260861032, 1475.430260861032, 1475.430260861032, 1475.430260861032, 1475.430260861032, 1475.430260861032, 1475.430260861032, 1475.430260861032, 1475.430260861032, 1475.430260861032, 1475.430260861032, 1475.430260861032, 1475.430260861032, 1475.430260861032, 1475.430260861032, 1475.430260861032, 1475.430260861032, 1475.430260861032, 1475.430260861032, 1475.430260861032, 1475.430260861032]}], \"normalized_root_mean_squared_log_error\": [{\"categories\": [\"0\", \"1\", \"2\", \"3\", \"4\", \"5\", \"6\", \"7\", \"8\", \"9\", \"10\", \"11\", \"12\", \"13\", \"14\", \"15\", \"16\", \"17\", \"18\", \"19\", \"20\", \"21\", \"22\", \"23\", \"24\", \"25\", \"26\", \"27\", \"28\", \"29\", \"30\", \"31\", \"32\", \"34\", \"38\", \"39\"], \"mode\": \"markers\", \"name\": \"normalized_root_mean_squared_log_error\", \"stepped\": false, \"type\": \"scatter\", \"data\": [0.1411680708899095, 0.13102154764337565, NaN, NaN, NaN, NaN, 0.11485544587169252, NaN, NaN, 0.2161802813879036, 0.1803686009079928, 0.1810499559302835, 0.14857474303034177, NaN, 0.14034949422547233, NaN, 0.16009394410768163, NaN, 0.12773001583307908, 0.15141634387155706, 0.13147601579613946, 0.15256024447960587, 0.15883592123743848, 0.13121256786425575, 0.11320858636532452, 0.15890350784220847, 0.1536488864202239, 0.12746761078551955, 0.11816301726297809, 0.11486803461250597, 0.12487570875364107, 0.18495954904186335, 0.2121298671546422, 0.1137485013729809, 0.11670384143208193, 0.11222952489071214]}, {\"categories\": [\"0\", \"1\", \"2\", \"3\", \"4\", \"5\", \"6\", \"7\", \"8\", \"9\", \"10\", \"11\", \"12\", \"13\", \"14\", \"15\", \"16\", \"17\", \"18\", \"19\", \"20\", \"21\", \"22\", \"23\", \"24\", \"25\", \"26\", \"27\", \"28\", \"29\", \"30\", \"31\", \"32\", \"34\", \"38\", \"39\"], \"mode\": \"lines\", \"name\": \"normalized_root_mean_squared_log_error_min\", \"stepped\": true, \"type\": \"scatter\", \"data\": [0.1411680708899095, 0.13102154764337565, 0.13102154764337565, 0.13102154764337565, 0.13102154764337565, 0.13102154764337565, 0.11485544587169252, 0.11485544587169252, 0.11485544587169252, 0.11485544587169252, 0.11485544587169252, 0.11485544587169252, 0.11485544587169252, 0.11485544587169252, 0.11485544587169252, 0.11485544587169252, 0.11485544587169252, 0.11485544587169252, 0.11485544587169252, 0.11485544587169252, 0.11485544587169252, 0.11485544587169252, 0.11485544587169252, 0.11485544587169252, 0.11320858636532452, 0.11320858636532452, 0.11320858636532452, 0.11320858636532452, 0.11320858636532452, 0.11320858636532452, 0.11320858636532452, 0.11320858636532452, 0.11320858636532452, 0.11320858636532452, 0.11320858636532452, 0.11222952489071214]}], \"root_mean_squared_log_error\": [{\"categories\": [\"0\", \"1\", \"2\", \"3\", \"4\", \"5\", \"6\", \"7\", \"8\", \"9\", \"10\", \"11\", \"12\", \"13\", \"14\", \"15\", \"16\", \"17\", \"18\", \"19\", \"20\", \"21\", \"22\", \"23\", \"24\", \"25\", \"26\", \"27\", \"28\", \"29\", \"30\", \"31\", \"32\", \"34\", \"38\", \"39\"], \"mode\": \"markers\", \"name\": \"root_mean_squared_log_error\", \"stepped\": false, \"type\": \"scatter\", \"data\": [0.5702362638742189, 0.5292502571168654, NaN, NaN, NaN, NaN, 0.46394868135980866, NaN, NaN, 0.8732416275494128, 0.7285834286295797, 0.7313357035585613, 0.6001548780656325, NaN, 0.5669296939403752, NaN, 0.6466856986949003, NaN, 0.5159543978613372, 0.6116332799230901, 0.5310860420776441, 0.61625396790774, 0.6416040236612081, 0.5300218668469724, 0.45729633422410687, 0.6418770339300954, 0.6206514432646068, 0.5148944352720717, 0.47730933112128915, 0.46399953249408493, 0.5044246702489383, 0.7471281682084061, 0.8568803281071389, 0.4594772743958805, 0.47141511602788694, 0.45334149972175314]}, {\"categories\": [\"0\", \"1\", \"2\", \"3\", \"4\", \"5\", \"6\", \"7\", \"8\", \"9\", \"10\", \"11\", \"12\", \"13\", \"14\", \"15\", \"16\", \"17\", \"18\", \"19\", \"20\", \"21\", \"22\", \"23\", \"24\", \"25\", \"26\", \"27\", \"28\", \"29\", \"30\", \"31\", \"32\", \"34\", \"38\", \"39\"], \"mode\": \"lines\", \"name\": \"root_mean_squared_log_error_min\", \"stepped\": true, \"type\": \"scatter\", \"data\": [0.5702362638742189, 0.5292502571168654, 0.5292502571168654, 0.5292502571168654, 0.5292502571168654, 0.5292502571168654, 0.46394868135980866, 0.46394868135980866, 0.46394868135980866, 0.46394868135980866, 0.46394868135980866, 0.46394868135980866, 0.46394868135980866, 0.46394868135980866, 0.46394868135980866, 0.46394868135980866, 0.46394868135980866, 0.46394868135980866, 0.46394868135980866, 0.46394868135980866, 0.46394868135980866, 0.46394868135980866, 0.46394868135980866, 0.46394868135980866, 0.45729633422410687, 0.45729633422410687, 0.45729633422410687, 0.45729633422410687, 0.45729633422410687, 0.45729633422410687, 0.45729633422410687, 0.45729633422410687, 0.45729633422410687, 0.45729633422410687, 0.45729633422410687, 0.45334149972175314]}], \"spearman_correlation\": [{\"categories\": [\"0\", \"1\", \"2\", \"3\", \"4\", \"5\", \"6\", \"7\", \"8\", \"9\", \"10\", \"11\", \"12\", \"13\", \"14\", \"15\", \"16\", \"17\", \"18\", \"19\", \"20\", \"21\", \"22\", \"23\", \"24\", \"25\", \"26\", \"27\", \"28\", \"29\", \"30\", \"31\", \"32\", \"34\", \"38\", \"39\"], \"mode\": \"markers\", \"name\": \"spearman_correlation\", \"stepped\": false, \"type\": \"scatter\", \"data\": [0.7725975561834841, 0.8619795948289933, 0.8459552036249409, 0.8453619626070544, 0.8456853949962708, 0.8453732362534293, 0.8551031385983894, 0.8450507028449696, 0.8453382261195473, 0.5442845823061265, 0.5398890707010653, 0.654247224516733, 0.7623786626854636, 0.8450507028449696, 0.8404726550881302, 0.8451473132937866, 0.5963904056574865, 0.8450565105069978, 0.8183732770739741, 0.8448238126044249, 0.8294474577078741, 0.7241148355438171, 0.6190748403960779, 0.8288775342335153, 0.8661937526155876, 0.7164059610638072, 0.827900635147086, 0.8653694536786691, 0.8712072505651933, 0.8678249695585677, 0.8264323432270931, 0.8189527149367614, 0.5970763909223866, 0.8626103798055118, 0.877682867470374, 0.8773391442606094]}, {\"categories\": [\"0\", \"1\", \"2\", \"3\", \"4\", \"5\", \"6\", \"7\", \"8\", \"9\", \"10\", \"11\", \"12\", \"13\", \"14\", \"15\", \"16\", \"17\", \"18\", \"19\", \"20\", \"21\", \"22\", \"23\", \"24\", \"25\", \"26\", \"27\", \"28\", \"29\", \"30\", \"31\", \"32\", \"34\", \"38\", \"39\"], \"mode\": \"lines\", \"name\": \"spearman_correlation_max\", \"stepped\": true, \"type\": \"scatter\", \"data\": [0.7725975561834841, 0.8619795948289933, 0.8619795948289933, 0.8619795948289933, 0.8619795948289933, 0.8619795948289933, 0.8619795948289933, 0.8619795948289933, 0.8619795948289933, 0.8619795948289933, 0.8619795948289933, 0.8619795948289933, 0.8619795948289933, 0.8619795948289933, 0.8619795948289933, 0.8619795948289933, 0.8619795948289933, 0.8619795948289933, 0.8619795948289933, 0.8619795948289933, 0.8619795948289933, 0.8619795948289933, 0.8619795948289933, 0.8619795948289933, 0.8661937526155876, 0.8661937526155876, 0.8661937526155876, 0.8661937526155876, 0.8712072505651933, 0.8712072505651933, 0.8712072505651933, 0.8712072505651933, 0.8712072505651933, 0.8712072505651933, 0.877682867470374, 0.877682867470374]}], \"mean_absolute_error\": [{\"categories\": [\"0\", \"1\", \"2\", \"3\", \"4\", \"5\", \"6\", \"7\", \"8\", \"9\", \"10\", \"11\", \"12\", \"13\", \"14\", \"15\", \"16\", \"17\", \"18\", \"19\", \"20\", \"21\", \"22\", \"23\", \"24\", \"25\", \"26\", \"27\", \"28\", \"29\", \"30\", \"31\", \"32\", \"34\", \"38\", \"39\"], \"mode\": \"markers\", \"name\": \"mean_absolute_error\", \"stepped\": false, \"type\": \"scatter\", \"data\": [3649.533601108929, 3133.2857725102463, 4333.221310992112, 4349.39000146041, 4341.038201346968, 4349.300831613729, 3046.3852278083423, 4361.823205600983, 4349.68964517734, 7469.059605345859, 5078.742827781187, 5722.967773410572, 4829.660208267682, 4361.823205600983, 4717.413655722651, 4355.576894937642, 4320.834820054094, 4364.10817606568, 3464.4380234821306, 3117.4238690164084, 3061.9548500574742, 5025.618139719416, 4344.98160136129, 3541.9357264151854, 3049.3085200137666, 4975.162226641369, 4271.878062736061, 3303.0476310033055, 3500.395554241221, 3216.3179588645226, 3129.4335131780226, 6022.843040618113, 7037.211325596922, 3062.0588676812363, 2884.698273333485, 2792.2739965511196]}, {\"categories\": [\"0\", \"1\", \"2\", \"3\", \"4\", \"5\", \"6\", \"7\", \"8\", \"9\", \"10\", \"11\", \"12\", \"13\", \"14\", \"15\", \"16\", \"17\", \"18\", \"19\", \"20\", \"21\", \"22\", \"23\", \"24\", \"25\", \"26\", \"27\", \"28\", \"29\", \"30\", \"31\", \"32\", \"34\", \"38\", \"39\"], \"mode\": \"lines\", \"name\": \"mean_absolute_error_min\", \"stepped\": true, \"type\": \"scatter\", \"data\": [3649.533601108929, 3133.2857725102463, 3133.2857725102463, 3133.2857725102463, 3133.2857725102463, 3133.2857725102463, 3046.3852278083423, 3046.3852278083423, 3046.3852278083423, 3046.3852278083423, 3046.3852278083423, 3046.3852278083423, 3046.3852278083423, 3046.3852278083423, 3046.3852278083423, 3046.3852278083423, 3046.3852278083423, 3046.3852278083423, 3046.3852278083423, 3046.3852278083423, 3046.3852278083423, 3046.3852278083423, 3046.3852278083423, 3046.3852278083423, 3046.3852278083423, 3046.3852278083423, 3046.3852278083423, 3046.3852278083423, 3046.3852278083423, 3046.3852278083423, 3046.3852278083423, 3046.3852278083423, 3046.3852278083423, 3046.3852278083423, 2884.698273333485, 2792.2739965511196]}], \"mean_absolute_percentage_error\": [{\"categories\": [\"0\", \"1\", \"2\", \"3\", \"4\", \"5\", \"6\", \"7\", \"8\", \"9\", \"10\", \"11\", \"12\", \"13\", \"14\", \"15\", \"16\", \"17\", \"18\", \"19\", \"20\", \"21\", \"22\", \"23\", \"24\", \"25\", \"26\", \"27\", \"28\", \"29\", \"30\", \"31\", \"32\", \"34\", \"38\", \"39\"], \"mode\": \"markers\", \"name\": \"mean_absolute_percentage_error\", \"stepped\": false, \"type\": \"scatter\", \"data\": [47.0511537442923, 48.39944859663528, 45.427197575536624, 45.72646783042713, 45.570247404956596, 45.72471143624922, 33.37961743026254, 46.08535466904143, 45.73483598951337, 125.33774437866126, 88.87619286763896, 91.35672006363802, 65.14436330389567, 46.08535466904143, 57.12940073617235, 45.90703778240121, 68.80745805001666, 46.15018261626393, 41.125867110280225, 38.41439464991563, 37.78193638896, 68.00526642996803, 68.88539083590243, 49.48532062162214, 34.17452741734267, 69.99338669967861, 67.42936407942332, 46.532922886796925, 40.00536446643214, 36.20689048171834, 40.089642790421166, 94.39172497827742, 120.24345063478522, 33.51671680431168, 38.55777669251977, 34.29910063733257]}, {\"categories\": [\"0\", \"1\", \"2\", \"3\", \"4\", \"5\", \"6\", \"7\", \"8\", \"9\", \"10\", \"11\", \"12\", \"13\", \"14\", \"15\", \"16\", \"17\", \"18\", \"19\", \"20\", \"21\", \"22\", \"23\", \"24\", \"25\", \"26\", \"27\", \"28\", \"29\", \"30\", \"31\", \"32\", \"34\", \"38\", \"39\"], \"mode\": \"lines\", \"name\": \"mean_absolute_percentage_error_min\", \"stepped\": true, \"type\": \"scatter\", \"data\": [47.0511537442923, 47.0511537442923, 45.427197575536624, 45.427197575536624, 45.427197575536624, 45.427197575536624, 33.37961743026254, 33.37961743026254, 33.37961743026254, 33.37961743026254, 33.37961743026254, 33.37961743026254, 33.37961743026254, 33.37961743026254, 33.37961743026254, 33.37961743026254, 33.37961743026254, 33.37961743026254, 33.37961743026254, 33.37961743026254, 33.37961743026254, 33.37961743026254, 33.37961743026254, 33.37961743026254, 33.37961743026254, 33.37961743026254, 33.37961743026254, 33.37961743026254, 33.37961743026254, 33.37961743026254, 33.37961743026254, 33.37961743026254, 33.37961743026254, 33.37961743026254, 33.37961743026254, 33.37961743026254]}], \"normalized_mean_absolute_error\": [{\"categories\": [\"0\", \"1\", \"2\", \"3\", \"4\", \"5\", \"6\", \"7\", \"8\", \"9\", \"10\", \"11\", \"12\", \"13\", \"14\", \"15\", \"16\", \"17\", \"18\", \"19\", \"20\", \"21\", \"22\", \"23\", \"24\", \"25\", \"26\", \"27\", \"28\", \"29\", \"30\", \"31\", \"32\", \"34\", \"38\", \"39\"], \"mode\": \"markers\", \"name\": \"normalized_mean_absolute_error\", \"stepped\": false, \"type\": \"scatter\", \"data\": [0.05825407550030572, 0.05001369651738073, 0.06916713996916396, 0.06942522558180086, 0.06929191364456484, 0.06942380224732898, 0.04862658478054286, 0.06962368513633017, 0.06943000851288665, 0.11922157999419243, 0.0810671993940003, 0.09135035683923418, 0.07709132759532862, 0.06962368513633017, 0.07529964135229186, 0.06952398114871101, 0.06896942605359188, 0.06966015797272931, 0.05529956872427061, 0.049760507856937176, 0.04887510803012647, 0.08021921991839272, 0.06935485843348047, 0.05653659173356436, 0.04867324654707448, 0.07941383959007012, 0.06818797533994773, 0.05272344554359108, 0.05587352499939796, 0.0513390612849137, 0.04995220652153089, 0.09613698394448249, 0.11232839170143974, 0.04887676836571187, 0.04604572785939249, 0.044570445977865185]}, {\"categories\": [\"0\", \"1\", \"2\", \"3\", \"4\", \"5\", \"6\", \"7\", \"8\", \"9\", \"10\", \"11\", \"12\", \"13\", \"14\", \"15\", \"16\", \"17\", \"18\", \"19\", \"20\", \"21\", \"22\", \"23\", \"24\", \"25\", \"26\", \"27\", \"28\", \"29\", \"30\", \"31\", \"32\", \"34\", \"38\", \"39\"], \"mode\": \"lines\", \"name\": \"normalized_mean_absolute_error_min\", \"stepped\": true, \"type\": \"scatter\", \"data\": [0.05825407550030572, 0.05001369651738073, 0.05001369651738073, 0.05001369651738073, 0.05001369651738073, 0.05001369651738073, 0.04862658478054286, 0.04862658478054286, 0.04862658478054286, 0.04862658478054286, 0.04862658478054286, 0.04862658478054286, 0.04862658478054286, 0.04862658478054286, 0.04862658478054286, 0.04862658478054286, 0.04862658478054286, 0.04862658478054286, 0.04862658478054286, 0.04862658478054286, 0.04862658478054286, 0.04862658478054286, 0.04862658478054286, 0.04862658478054286, 0.04862658478054286, 0.04862658478054286, 0.04862658478054286, 0.04862658478054286, 0.04862658478054286, 0.04862658478054286, 0.04862658478054286, 0.04862658478054286, 0.04862658478054286, 0.04862658478054286, 0.04604572785939249, 0.044570445977865185]}]}, \"metricName\": null, \"primaryMetricName\": \"normalized_root_mean_squared_error\", \"showLegend\": false}, \"run_metrics\": [{\"name\": \"experiment_status\", \"run_id\": \"AutoML_a7ae500f-ea7e-493b-9afb-3b6fb2ef9ba7\", \"categories\": [0, 1, 2, 3, 4, 5, 6, 7, 8, 9, 10, 11], \"series\": [{\"data\": [\"DatasetEvaluation\", \"FeaturesGeneration\", \"DatasetFeaturization\", \"DatasetFeaturizationCompleted\", \"DatasetCrossValidationSplit\", \"ModelSelection\", \"BestRunExplainModel\", \"ModelExplanationDataSetSetup\", \"PickSurrogateModel\", \"EngineeredFeatureExplanations\", \"EngineeredFeatureExplanations\", \"RawFeaturesExplanations\"]}]}, {\"name\": \"experiment_status_description\", \"run_id\": \"AutoML_a7ae500f-ea7e-493b-9afb-3b6fb2ef9ba7\", \"categories\": [0, 1, 2, 3, 4, 5, 6, 7, 8, 9, 10, 11], \"series\": [{\"data\": [\"Gathering dataset statistics.\", \"Generating features for the dataset.\", \"Beginning to fit featurizers and featurize the dataset.\", \"Completed fit featurizers and featurizing the dataset.\", \"Generating individually featurized CV splits.\", \"Beginning model selection.\", \"Best run model explanations started\", \"Model explanations data setup completed\", \"Choosing LightGBM as the surrogate model for explanations\", \"Computation of engineered features started\", \"Computation of engineered features completed\", \"Computation of raw features started\"]}]}, {\"name\": \"explained_variance\", \"run_id\": \"AutoML_a7ae500f-ea7e-493b-9afb-3b6fb2ef9ba7\", \"categories\": [0], \"series\": [{\"data\": [0.8432205621519548]}]}, {\"name\": \"mean_absolute_error\", \"run_id\": \"AutoML_a7ae500f-ea7e-493b-9afb-3b6fb2ef9ba7\", \"categories\": [0], \"series\": [{\"data\": [2792.2739965511196]}]}, {\"name\": \"r2_score\", \"run_id\": \"AutoML_a7ae500f-ea7e-493b-9afb-3b6fb2ef9ba7\", \"categories\": [0], \"series\": [{\"data\": [0.8423744353912971]}]}, {\"name\": \"median_absolute_error\", \"run_id\": \"AutoML_a7ae500f-ea7e-493b-9afb-3b6fb2ef9ba7\", \"categories\": [0], \"series\": [{\"data\": [1587.2478825382707]}]}, {\"name\": \"normalized_root_mean_squared_log_error\", \"run_id\": \"AutoML_a7ae500f-ea7e-493b-9afb-3b6fb2ef9ba7\", \"categories\": [0], \"series\": [{\"data\": [0.11222952489071214]}]}, {\"name\": \"mean_absolute_percentage_error\", \"run_id\": \"AutoML_a7ae500f-ea7e-493b-9afb-3b6fb2ef9ba7\", \"categories\": [0], \"series\": [{\"data\": [34.29910063733257]}]}, {\"name\": \"normalized_mean_absolute_error\", \"run_id\": \"AutoML_a7ae500f-ea7e-493b-9afb-3b6fb2ef9ba7\", \"categories\": [0], \"series\": [{\"data\": [0.044570445977865185]}]}, {\"name\": \"root_mean_squared_log_error\", \"run_id\": \"AutoML_a7ae500f-ea7e-493b-9afb-3b6fb2ef9ba7\", \"categories\": [0], \"series\": [{\"data\": [0.45334149972175314]}]}, {\"name\": \"normalized_root_mean_squared_error\", \"run_id\": \"AutoML_a7ae500f-ea7e-493b-9afb-3b6fb2ef9ba7\", \"categories\": [0], \"series\": [{\"data\": [0.0760662234838125]}]}, {\"name\": \"spearman_correlation\", \"run_id\": \"AutoML_a7ae500f-ea7e-493b-9afb-3b6fb2ef9ba7\", \"categories\": [0], \"series\": [{\"data\": [0.8773391442606094]}]}, {\"name\": \"normalized_median_absolute_error\", \"run_id\": \"AutoML_a7ae500f-ea7e-493b-9afb-3b6fb2ef9ba7\", \"categories\": [0], \"series\": [{\"data\": [0.025335746452365658]}]}, {\"name\": \"root_mean_squared_error\", \"run_id\": \"AutoML_a7ae500f-ea7e-493b-9afb-3b6fb2ef9ba7\", \"categories\": [0], \"series\": [{\"data\": [4765.438917868982]}]}], \"run_logs\": \"\\nRun is completed.\", \"graph\": {}, \"widget_settings\": {\"childWidgetDisplay\": \"popup\", \"send_telemetry\": false, \"log_level\": \"INFO\", \"sdk_version\": \"1.34.0\"}, \"loading\": false}"
          },
          "metadata": {},
          "output_type": "display_data"
        }
      ],
      "source": [
        "from azureml.widgets import RunDetails\n",
        "RunDetails(remote_run).show()"
      ]
    },
    {
      "cell_type": "code",
      "execution_count": 21,
      "metadata": {},
      "outputs": [
        {
          "data": {
            "text/html": [
              "<table style=\"width:100%\"><tr><th>Experiment</th><th>Id</th><th>Type</th><th>Status</th><th>Details Page</th><th>Docs Page</th></tr><tr><td>demo-experiment</td><td>AutoML_a7ae500f-ea7e-493b-9afb-3b6fb2ef9ba7</td><td>automl</td><td>Completed</td><td><a href=\"https://ml.azure.com/runs/AutoML_a7ae500f-ea7e-493b-9afb-3b6fb2ef9ba7?wsid=/subscriptions/d4ad7261-832d-46b2-b093-22156001df5b/resourcegroups/aml-quickstarts-165018/workspaces/quick-starts-ws-165018&amp;tid=660b3398-b80e-49d2-bc5b-ac1dc93b5254\" target=\"_blank\" rel=\"noopener\">Link to Azure Machine Learning studio</a></td><td><a href=\"https://docs.microsoft.com/en-us/python/api/overview/azure/ml/intro?view=azure-ml-py\" target=\"_blank\" rel=\"noopener\">Link to Documentation</a></td></tr></table>"
            ],
            "text/plain": [
              "<IPython.core.display.HTML object>"
            ]
          },
          "metadata": {},
          "output_type": "display_data"
        },
        {
          "name": "stdout",
          "output_type": "stream",
          "text": [
            "\n",
            "\n",
            "****************************************************************************************************\n",
            "DATA GUARDRAILS: \n",
            "\n",
            "TYPE:         Missing feature values imputation\n",
            "STATUS:       PASSED\n",
            "DESCRIPTION:  No feature missing values were detected in the training data.\n",
            "              Learn more about missing value imputation: https://aka.ms/AutomatedMLFeaturization\n",
            "\n",
            "****************************************************************************************************\n",
            "\n",
            "TYPE:         High cardinality feature detection\n",
            "STATUS:       PASSED\n",
            "DESCRIPTION:  Your inputs were analyzed, and no high cardinality features were detected.\n",
            "              Learn more about high cardinality feature handling: https://aka.ms/AutomatedMLFeaturization\n",
            "\n",
            "****************************************************************************************************\n",
            "\n",
            "****************************************************************************************************\n",
            "ITERATION: The iteration being evaluated.\n",
            "PIPELINE: A summary description of the pipeline being evaluated.\n",
            "DURATION: Time taken for the current iteration.\n",
            "METRIC: The result of computing score on the fitted pipeline.\n",
            "BEST: The best observed score thus far.\n",
            "****************************************************************************************************\n",
            "\n",
            " ITERATION   PIPELINE                                       DURATION      METRIC      BEST\n",
            "         0   MaxAbsScaler LightGBM                          0:01:50       0.0861    0.0861\n",
            "         1   MaxAbsScaler XGBoostRegressor                  0:02:15       0.0783    0.0783\n",
            "         2   MaxAbsScaler ElasticNet                        0:00:54       0.0982    0.0783\n",
            "         3   StandardScalerWrapper ElasticNet               0:01:22       0.0983    0.0783\n",
            "         4   MaxAbsScaler ElasticNet                        0:00:27       0.0982    0.0783\n",
            "         5   MaxAbsScaler ElasticNet                        0:02:12       0.0983    0.0783\n",
            "         6   MaxAbsScaler ExtremeRandomTrees                0:02:46       0.0813    0.0783\n",
            "         7   StandardScalerWrapper ElasticNet               0:02:17       0.0983    0.0783\n",
            "         8   StandardScalerWrapper ElasticNet               0:01:14       0.0983    0.0783\n",
            "         9   StandardScalerWrapper ElasticNet               0:01:15       0.1577    0.0783\n",
            "        10   MaxAbsScaler RandomForest                      0:01:12       0.1049    0.0783\n",
            "        11   StandardScalerWrapper ElasticNet               0:00:59       0.1216    0.0783\n",
            "        12   StandardScalerWrapper ElasticNet               0:00:51       0.1042    0.0783\n",
            "        13   StandardScalerWrapper ElasticNet               0:00:42       0.0983    0.0783\n",
            "        14   StandardScalerWrapper ElasticNet               0:01:28       0.1037    0.0783\n",
            "        15   StandardScalerWrapper ElasticNet               0:00:45       0.0982    0.0783\n",
            "        16   StandardScalerWrapper DecisionTree             0:01:38       0.0923    0.0783\n",
            "        17   StandardScalerWrapper ElasticNet               0:01:23       0.0983    0.0783\n",
            "        18   MaxAbsScaler DecisionTree                      0:02:00       0.0844    0.0783\n",
            "        19   StandardScalerWrapper LightGBM                 0:01:43       0.0811    0.0783\n",
            "        20   SparseNormalizer XGBoostRegressor              0:01:15       0.0825    0.0783\n",
            "        21   TruncatedSVDWrapper ElasticNet                 0:00:57       0.1068    0.0783\n",
            "        22   SparseNormalizer ExtremeRandomTrees            0:01:51       0.0939    0.0783\n",
            "        23   TruncatedSVDWrapper XGBoostRegressor           0:00:52       0.0853    0.0783\n",
            "        24   StandardScalerWrapper ExtremeRandomTrees       0:01:10       0.0798    0.0783\n",
            "        25   MaxAbsScaler GradientBoosting                  0:01:13       0.1086    0.0783\n",
            "        26   StandardScalerWrapper RandomForest             0:01:10       0.0946    0.0783\n",
            "        27   MaxAbsScaler RandomForest                      0:01:01       0.0809    0.0783\n",
            "        28   MaxAbsScaler ExtremeRandomTrees                0:01:37       0.0871    0.0783\n",
            "        29   MaxAbsScaler ExtremeRandomTrees                0:01:42       0.0830    0.0783\n"
          ]
        }
      ],
      "source": [
        "# return details of the run\n",
        "remote_run.wait_for_completion(show_output=True)"
      ]
    },
    {
      "cell_type": "markdown",
      "metadata": {},
      "source": [
        "## Best Model\n",
        "\n",
        "TODO: In the cell below, get the best model from the automl experiments and display all the properties of the model.\n",
        "\n"
      ]
    },
    {
      "cell_type": "code",
      "execution_count": 9,
      "metadata": {
        "gather": {
          "logged": 1638614038545
        },
        "jupyter": {
          "outputs_hidden": false,
          "source_hidden": false
        },
        "nteract": {
          "transient": {
            "deleting": false
          }
        }
      },
      "outputs": [
        {
          "name": "stderr",
          "output_type": "stream",
          "text": [
            "WARNING:root:The version of the SDK does not match the version the model was trained on.\n",
            "WARNING:root:The consistency in the result may not be guaranteed.\n",
            "WARNING:root:Package:azureml-automl-core, training version:1.35.1, current version:1.34.0\n",
            "Package:azureml-automl-runtime, training version:1.35.1, current version:1.34.0\n",
            "Package:azureml-core, training version:1.35.0.post1, current version:1.34.0\n",
            "Package:azureml-dataprep, training version:2.23.2, current version:2.22.2\n",
            "Package:azureml-dataprep-rslex, training version:1.21.2, current version:1.20.1\n",
            "Package:azureml-dataset-runtime, training version:1.35.0, current version:1.34.0\n",
            "Package:azureml-defaults, training version:1.35.0, current version:1.34.0\n",
            "Package:azureml-interpret, training version:1.35.0, current version:1.34.0\n",
            "Package:azureml-mlflow, training version:1.35.0, current version:1.34.0\n",
            "Package:azureml-pipeline-core, training version:1.35.0, current version:1.34.0\n",
            "Package:azureml-responsibleai, training version:1.35.0, current version:1.34.0\n",
            "Package:azureml-telemetry, training version:1.35.0, current version:1.34.0\n",
            "Package:azureml-train-automl-client, training version:1.35.0, current version:1.34.0\n",
            "Package:azureml-train-automl-runtime, training version:1.35.1, current version:1.34.0\n",
            "Package:azureml-train-core, training version:1.35.0, current version:1.34.0\n",
            "Package:azureml-train-restclients-hyperdrive, training version:1.35.0, current version:1.34.0\n",
            "WARNING:root:Please ensure the version of your local conda dependencies match the version on which your model was trained in order to properly retrieve your model.\n"
          ]
        },
        {
          "data": {
            "text/html": [
              "<table style=\"width:100%\"><tr><th>Experiment</th><th>Id</th><th>Type</th><th>Status</th><th>Details Page</th><th>Docs Page</th></tr><tr><td>demo-experiment</td><td>AutoML_a7ae500f-ea7e-493b-9afb-3b6fb2ef9ba7_39</td><td>azureml.scriptrun</td><td>Completed</td><td><a href=\"https://ml.azure.com/runs/AutoML_a7ae500f-ea7e-493b-9afb-3b6fb2ef9ba7_39?wsid=/subscriptions/d4ad7261-832d-46b2-b093-22156001df5b/resourcegroups/aml-quickstarts-165018/workspaces/quick-starts-ws-165018&amp;tid=660b3398-b80e-49d2-bc5b-ac1dc93b5254\" target=\"_blank\" rel=\"noopener\">Link to Azure Machine Learning studio</a></td><td><a href=\"https://docs.microsoft.com/en-us/python/api/azureml-core/azureml.core.run.Run?view=azure-ml-py\" target=\"_blank\" rel=\"noopener\">Link to Documentation</a></td></tr></table>"
            ],
            "text/plain": [
              "Run(Experiment: demo-experiment,\n",
              "Id: AutoML_a7ae500f-ea7e-493b-9afb-3b6fb2ef9ba7_39,\n",
              "Type: azureml.scriptrun,\n",
              "Status: Completed)"
            ]
          },
          "execution_count": 9,
          "metadata": {},
          "output_type": "execute_result"
        }
      ],
      "source": [
        "best_run, model = remote_run.get_output()\n",
        "best_run"
      ]
    },
    {
      "cell_type": "code",
      "execution_count": 10,
      "metadata": {
        "gather": {
          "logged": 1638614044449
        }
      },
      "outputs": [
        {
          "data": {
            "text/plain": [
              "RegressionPipeline(pipeline=Pipeline(memory=None,\n",
              "                                     steps=[('datatransformer',\n",
              "                                             DataTransformer(enable_dnn=False, enable_feature_sweeping=True, feature_sweeping_config={}, feature_sweeping_timeout=86400, featurization_config=None, force_text_dnn=False, is_cross_validation=True, is_onnx_compatible=False, observer=None, task='regression', working_dir='/mnt/batch/ta...\n",
              "), random_state=None))], verbose=False)), ('5', Pipeline(memory=None, steps=[('maxabsscaler', MaxAbsScaler(copy=True)), ('elasticnet', ElasticNet(alpha=0.001, copy_X=True, fit_intercept=True, l1_ratio=1, max_iter=1000, normalize=False, positive=False, precompute=False, random_state=None, selection='cyclic', tol=0.0001, warm_start=False))], verbose=False))], meta_learner=ElasticNetCV(alphas=None, copy_X=True, cv=None, eps=0.001, fit_intercept=True, l1_ratio=0.5, max_iter=1000, n_alphas=100, n_jobs=None, normalize=False, positive=False, precompute='auto', random_state=None, selection='cyclic', tol=0.0001, verbose=0), training_cv_folds=5))],\n",
              "                                     verbose=False),\n",
              "                   stddev=[4780.502147436755])"
            ]
          },
          "execution_count": 10,
          "metadata": {},
          "output_type": "execute_result"
        }
      ],
      "source": [
        "model"
      ]
    },
    {
      "cell_type": "code",
      "execution_count": 11,
      "metadata": {
        "gather": {
          "logged": 1638614048131
        }
      },
      "outputs": [
        {
          "data": {
            "text/plain": [
              "[('datatransformer',\n",
              "  DataTransformer(\n",
              "      task='regression',\n",
              "      is_onnx_compatible=False,\n",
              "      enable_feature_sweeping=True,\n",
              "      enable_dnn=False,\n",
              "      force_text_dnn=False,\n",
              "      feature_sweeping_timeout=86400,\n",
              "      featurization_config=None,\n",
              "      is_cross_validation=True,\n",
              "      feature_sweeping_config={}\n",
              "  )),\n",
              " ('stackensembleregressor',\n",
              "  StackEnsembleRegressor(\n",
              "      base_learners=[('1', Pipeline(\n",
              "          memory=None,\n",
              "          steps=[('maxabsscaler', MaxAbsScaler(\n",
              "              copy=True\n",
              "          )), ('xgboostregressor', XGBoostRegressor(\n",
              "              random_state=0,\n",
              "              n_jobs=1,\n",
              "              problem_info=ProblemInfo(\n",
              "                  gpu_training_param_dict={'processing_unit_type': 'cpu'}\n",
              "              ),\n",
              "              tree_method='auto'\n",
              "          ))],\n",
              "          verbose=False\n",
              "      )), ('24', Pipeline(\n",
              "          memory=None,\n",
              "          steps=[('standardscalerwrapper', StandardScalerWrapper(\n",
              "              copy=True,\n",
              "              with_mean=False,\n",
              "              with_std=True\n",
              "          )), ('extratreesregressor', ExtraTreesRegressor(\n",
              "              bootstrap=False,\n",
              "              ccp_alpha=0.0,\n",
              "              criterion='mse',\n",
              "              max_depth=None,\n",
              "              max_features=0.8,\n",
              "              max_leaf_nodes=None,\n",
              "              max_samples=None,\n",
              "              min_impurity_decrease=0.0,\n",
              "              min_impurity_split=None,\n",
              "              min_samples_leaf=0.003466237459044996,\n",
              "              min_samples_split=0.026024633095283807,\n",
              "              min_weight_fraction_leaf=0.0,\n",
              "              n_estimators=10,\n",
              "              n_jobs=1,\n",
              "              oob_score=False,\n",
              "              random_state=None,\n",
              "              verbose=0,\n",
              "              warm_start=False\n",
              "          ))],\n",
              "          verbose=False\n",
              "      )), ('27', Pipeline(\n",
              "          memory=None,\n",
              "          steps=[('maxabsscaler', MaxAbsScaler(\n",
              "              copy=True\n",
              "          )), ('randomforestregressor', RandomForestRegressor(\n",
              "              bootstrap=True,\n",
              "              ccp_alpha=0.0,\n",
              "              criterion='mse',\n",
              "              max_depth=None,\n",
              "              max_features=0.3,\n",
              "              max_leaf_nodes=None,\n",
              "              max_samples=None,\n",
              "              min_impurity_decrease=0.0,\n",
              "              min_impurity_split=None,\n",
              "              min_samples_leaf=0.003466237459044996,\n",
              "              min_samples_split=0.000630957344480193,\n",
              "              min_weight_fraction_leaf=0.0,\n",
              "              n_estimators=100,\n",
              "              n_jobs=1,\n",
              "              oob_score=False,\n",
              "              random_state=None,\n",
              "              verbose=0,\n",
              "              warm_start=False\n",
              "          ))],\n",
              "          verbose=False\n",
              "      )), ('34', Pipeline(\n",
              "          memory=None,\n",
              "          steps=[('maxabsscaler', MaxAbsScaler(\n",
              "              copy=True\n",
              "          )), ('extratreesregressor', ExtraTreesRegressor(\n",
              "              bootstrap=False,\n",
              "              ccp_alpha=0.0,\n",
              "              criterion='mse',\n",
              "              max_depth=None,\n",
              "              max_features=0.7,\n",
              "              max_leaf_nodes=None,\n",
              "              max_samples=None,\n",
              "              min_impurity_decrease=0.0,\n",
              "              min_impurity_split=None,\n",
              "              min_samples_leaf=0.0028629618034842247,\n",
              "              min_samples_split=0.0018261584682702607,\n",
              "              min_weight_fraction_leaf=0.0,\n",
              "              n_estimators=10,\n",
              "              n_jobs=1,\n",
              "              oob_score=False,\n",
              "              random_state=None,\n",
              "              verbose=0,\n",
              "              warm_start=False\n",
              "          ))],\n",
              "          verbose=False\n",
              "      )), ('19', Pipeline(\n",
              "          memory=None,\n",
              "          steps=[('standardscalerwrapper', StandardScalerWrapper(\n",
              "              copy=True,\n",
              "              with_mean=False,\n",
              "              with_std=True\n",
              "          )), ('lightgbmregressor', LightGBMRegressor(\n",
              "              boosting_type='gbdt',\n",
              "              colsample_bytree=0.6,\n",
              "              learning_rate=0.16842263157894738,\n",
              "              max_bin=1023,\n",
              "              max_depth=9,\n",
              "              min_data_in_leaf=0.0032263930780845784,\n",
              "              min_split_gain=0.7368421052631579,\n",
              "              n_estimators=100,\n",
              "              num_leaves=255,\n",
              "              reg_alpha=0,\n",
              "              reg_lambda=0.75,\n",
              "              subsample=0.9,\n",
              "              subsample_freq=6,\n",
              "              random_state=None,\n",
              "              n_jobs=1,\n",
              "              problem_info=ProblemInfo(\n",
              "                  gpu_training_param_dict={'processing_unit_type': 'cpu'}\n",
              "              )\n",
              "          ))],\n",
              "          verbose=False\n",
              "      )), ('6', Pipeline(\n",
              "          memory=None,\n",
              "          steps=[('maxabsscaler', MaxAbsScaler(\n",
              "              copy=True\n",
              "          )), ('extratreesregressor', ExtraTreesRegressor(\n",
              "              bootstrap=False,\n",
              "              ccp_alpha=0.0,\n",
              "              criterion='mse',\n",
              "              max_depth=None,\n",
              "              max_features=0.8,\n",
              "              max_leaf_nodes=None,\n",
              "              max_samples=None,\n",
              "              min_impurity_decrease=0.0,\n",
              "              min_impurity_split=None,\n",
              "              min_samples_leaf=0.0023646822772690063,\n",
              "              min_samples_split=0.005285388593079247,\n",
              "              min_weight_fraction_leaf=0.0,\n",
              "              n_estimators=10,\n",
              "              n_jobs=1,\n",
              "              oob_score=False,\n",
              "              random_state=None,\n",
              "              verbose=0,\n",
              "              warm_start=False\n",
              "          ))],\n",
              "          verbose=False\n",
              "      )), ('20', Pipeline(\n",
              "          memory=None,\n",
              "          steps=[('sparsenormalizer', Normalizer(\n",
              "              copy=True,\n",
              "              norm='max'\n",
              "          )), ('xgboostregressor', XGBoostRegressor(\n",
              "              random_state=0,\n",
              "              n_jobs=1,\n",
              "              problem_info=ProblemInfo(\n",
              "                  gpu_training_param_dict={'processing_unit_type': 'cpu'}\n",
              "              ),\n",
              "              booster='gbtree',\n",
              "              colsample_bytree=0.9,\n",
              "              eta=0.3,\n",
              "              gamma=0.01,\n",
              "              grow_policy='lossguide',\n",
              "              max_bin=1023,\n",
              "              max_depth=6,\n",
              "              max_leaves=7,\n",
              "              n_estimators=400,\n",
              "              objective='reg:linear',\n",
              "              reg_alpha=1.4583333333333335,\n",
              "              reg_lambda=2.3958333333333335,\n",
              "              subsample=0.6,\n",
              "              tree_method='hist'\n",
              "          ))],\n",
              "          verbose=False\n",
              "      )), ('30', Pipeline(\n",
              "          memory=None,\n",
              "          steps=[('sparsenormalizer', Normalizer(\n",
              "              copy=True,\n",
              "              norm='l2'\n",
              "          )), ('xgboostregressor', XGBoostRegressor(\n",
              "              random_state=0,\n",
              "              n_jobs=1,\n",
              "              problem_info=ProblemInfo(\n",
              "                  gpu_training_param_dict={'processing_unit_type': 'cpu'}\n",
              "              ),\n",
              "              booster='gbtree',\n",
              "              colsample_bytree=0.5,\n",
              "              eta=0.4,\n",
              "              gamma=1,\n",
              "              max_depth=6,\n",
              "              max_leaves=15,\n",
              "              n_estimators=400,\n",
              "              objective='reg:linear',\n",
              "              reg_alpha=2.5,\n",
              "              reg_lambda=1.6666666666666667,\n",
              "              subsample=0.8,\n",
              "              tree_method='auto'\n",
              "          ))],\n",
              "          verbose=False\n",
              "      )), ('0', Pipeline(\n",
              "          memory=None,\n",
              "          steps=[('maxabsscaler', MaxAbsScaler(\n",
              "              copy=True\n",
              "          )), ('lightgbmregressor', LightGBMRegressor(\n",
              "              min_data_in_leaf=20,\n",
              "              random_state=None,\n",
              "              n_jobs=1,\n",
              "              problem_info=ProblemInfo(\n",
              "                  gpu_training_param_dict={'processing_unit_type': 'cpu'}\n",
              "              )\n",
              "          ))],\n",
              "          verbose=False\n",
              "      )), ('5', Pipeline(\n",
              "          memory=None,\n",
              "          steps=[('maxabsscaler', MaxAbsScaler(\n",
              "              copy=True\n",
              "          )), ('elasticnet', ElasticNet(\n",
              "              alpha=0.001,\n",
              "              copy_X=True,\n",
              "              fit_intercept=True,\n",
              "              l1_ratio=1,\n",
              "              max_iter=1000,\n",
              "              normalize=False,\n",
              "              positive=False,\n",
              "              precompute=False,\n",
              "              random_state=None,\n",
              "              selection='cyclic',\n",
              "              tol=0.0001,\n",
              "              warm_start=False\n",
              "          ))],\n",
              "          verbose=False\n",
              "      ))],\n",
              "      meta_learner=ElasticNetCV(\n",
              "          alphas=None,\n",
              "          copy_X=True,\n",
              "          cv=None,\n",
              "          eps=0.001,\n",
              "          fit_intercept=True,\n",
              "          l1_ratio=0.5,\n",
              "          max_iter=1000,\n",
              "          n_alphas=100,\n",
              "          n_jobs=None,\n",
              "          normalize=False,\n",
              "          positive=False,\n",
              "          precompute='auto',\n",
              "          random_state=None,\n",
              "          selection='cyclic',\n",
              "          tol=0.0001,\n",
              "          verbose=0\n",
              "      ),\n",
              "      training_cv_folds=5\n",
              "  ))]"
            ]
          },
          "execution_count": 11,
          "metadata": {},
          "output_type": "execute_result"
        }
      ],
      "source": [
        "model.steps"
      ]
    },
    {
      "cell_type": "code",
      "execution_count": 12,
      "metadata": {
        "gather": {
          "logged": 1638614062132
        }
      },
      "outputs": [],
      "source": [
        "dir_name = 'infer_dir'\n",
        "if dir_name not in os.listdir():\n",
        "    os.mkdir(dir_name)"
      ]
    },
    {
      "cell_type": "code",
      "execution_count": 13,
      "metadata": {
        "gather": {
          "logged": 1638614078882
        },
        "jupyter": {
          "outputs_hidden": false,
          "source_hidden": false
        },
        "nteract": {
          "transient": {
            "deleting": false
          }
        }
      },
      "outputs": [],
      "source": [
        "#TODO: Save the best model\n",
        "import pickle\n",
        "best_run.download_file('outputs/scoring_file_v_1_0_0.py', 'infer_dir/score.py')\n",
        "best_run.download_file('outputs/model.pkl', 'infer_dir/model.pkl')\n",
        "best_run.download_file('outputs/conda_env_v_1_0_0.yml', 'infer_dir/conda_env.yml')\n",
        "\n",
        "\n",
        "\n",
        "# save the model to disk\n",
        "#filename = 'best_model.sav'\n",
        "#pickle.dump(model, open(filename, 'wb'))\n",
        "\n",
        "# https://docs.microsoft.com/en-us/azure/machine-learning/tutorial-auto-train-models"
      ]
    },
    {
      "cell_type": "markdown",
      "metadata": {},
      "source": [
        "## Model Deployment\n",
        "\n",
        "Remember you have to deploy only one of the two models you trained but you still need to register both the models. Perform the steps in the rest of this notebook only if you wish to deploy this model.\n",
        "\n",
        "TODO: In the cell below, register the model, create an inference config and deploy the model as a web service."
      ]
    },
    {
      "cell_type": "code",
      "execution_count": 14,
      "metadata": {
        "gather": {
          "logged": 1638614091168
        },
        "jupyter": {
          "outputs_hidden": false,
          "source_hidden": false
        },
        "nteract": {
          "transient": {
            "deleting": false
          }
        }
      },
      "outputs": [
        {
          "name": "stdout",
          "output_type": "stream",
          "text": [
            "Registering model AutoMLa7ae500fe39\n",
            "Name: AutoMLa7ae500fe39\n",
            "Version: 1\n"
          ]
        }
      ],
      "source": [
        "# Register the model\n",
        "import sklearn\n",
        "\n",
        "from azureml.core import Model\n",
        "from azureml.core.resource_configuration import ResourceConfiguration\n",
        "\n",
        "model_name = best_run.properties['model_name']\n",
        "run_id = best_run.id\n",
        "experiment_name = best_run.experiment.name\n",
        "\n",
        "model = Model.register(workspace=ws,\n",
        "                       model_name=model_name, # Name of the registered model in your workspace.\n",
        "                       model_path='infer_dir/model.pkl',  # Local file to upload and register as a model.\n",
        "                       model_framework=Model.Framework.SCIKITLEARN,  # Framework used to create the model.\n",
        "                       model_framework_version=sklearn.__version__,  # Version of scikit-learn used to create the model.\n",
        "                       description='Auto ML model to predict TargetClass.',\n",
        "                       tags={'area': 'TargetClass', 'type': 'classification'})\n",
        "\n",
        "print('Name:', model.name)\n",
        "print('Version:', model.version)"
      ]
    },
    {
      "cell_type": "code",
      "execution_count": 15,
      "metadata": {
        "gather": {
          "logged": 1638614117758
        }
      },
      "outputs": [
        {
          "name": "stdout",
          "output_type": "stream",
          "text": [
            "# Conda environment specification. The dependencies defined in this file will\n",
            "# be automatically provisioned for runs with userManagedDependencies=False.\n",
            "\n",
            "# Details about the Conda environment file format:\n",
            "# https://conda.io/docs/user-guide/tasks/manage-environments.html#create-env-file-manually\n",
            "\n",
            "name: project_environment\n",
            "dependencies:\n",
            "  # The python interpreter version.\n",
            "  # Currently Azure ML only supports 3.5.2 and later.\n",
            "- python=3.6.2\n",
            "\n",
            "- pip:\n",
            "  - azureml-train-automl-runtime==1.35.1\n",
            "  - inference-schema\n",
            "  - azureml-interpret==1.35.0\n",
            "  - azureml-defaults==1.35.0\n",
            "- numpy>=1.16.0,<1.19.0\n",
            "- pandas==0.25.1\n",
            "- scikit-learn==0.22.1\n",
            "- py-xgboost<=0.90\n",
            "- fbprophet==0.5\n",
            "- holidays==0.9.11\n",
            "- psutil>=5.2.2,<6.0.0\n",
            "channels:\n",
            "- anaconda\n",
            "- conda-forge\n",
            "\n"
          ]
        }
      ],
      "source": [
        "# create inference configuration\n",
        "from azureml.core.environment import Environment\n",
        "from azureml.core.model import InferenceConfig\n",
        "\n",
        "myenv = Environment.from_conda_specification(name=\"myenv\", file_path=\"infer_dir/conda_env.yml\")\n",
        "inference_config = InferenceConfig(entry_script=\"infer_dir/score.py\", environment=myenv)\n",
        "\n",
        "# display the environment file\n",
        "with open('infer_dir/conda_env.yml', 'r') as file:\n",
        "    env_file = file.read()\n",
        "    print(env_file)"
      ]
    },
    {
      "cell_type": "markdown",
      "metadata": {
        "collapsed": true,
        "gather": {
          "logged": 1598431657736
        },
        "jupyter": {
          "outputs_hidden": false,
          "source_hidden": false
        },
        "nteract": {
          "transient": {
            "deleting": false
          }
        }
      },
      "source": [
        "TODO: In the cell below, send a request to the web service you deployed to test it."
      ]
    },
    {
      "cell_type": "code",
      "execution_count": 16,
      "metadata": {
        "gather": {
          "logged": 1638615694321
        },
        "jupyter": {
          "outputs_hidden": false,
          "source_hidden": false
        },
        "nteract": {
          "transient": {
            "deleting": false
          }
        }
      },
      "outputs": [
        {
          "name": "stdout",
          "output_type": "stream",
          "text": [
            "Tips: You can try get_logs(): https://aka.ms/debugimage#dockerlog or local deployment: https://aka.ms/debugimage#debug-locally to debug if deployment takes longer than 10 minutes.\n",
            "Running\n",
            "2021-12-04 10:35:28+00:00 Creating Container Registry if not exists..\n",
            "2021-12-04 10:45:29+00:00 Registering the environment..\n",
            "2021-12-04 10:45:30+00:00 Building image..\n",
            "2021-12-04 10:57:02+00:00 Generating deployment configuration.\n",
            "2021-12-04 10:57:03+00:00 Submitting deployment to compute..\n",
            "2021-12-04 10:57:06+00:00 Checking the status of deployment aci-medical-charges-deploy..\n",
            "2021-12-04 11:01:27+00:00 Checking the status of inference endpoint aci-medical-charges-deploy.\n",
            "Succeeded\n",
            "ACI service creation operation finished, operation \"Succeeded\"\n",
            "Healthy\n"
          ]
        }
      ],
      "source": [
        "# Model Deployment\n",
        "from azureml.core.webservice import AciWebservice\n",
        "\n",
        "# define deployment configuration\n",
        "aci_deployment_config = AciWebservice.deploy_configuration(cpu_cores=1,\n",
        "                                                           memory_gb=1,\n",
        "                                                           tags={'area': \"TargetClass\", 'type': \"classification\"},\n",
        "                                                           description=\"Predict TargetClass using classification model\",\n",
        "                                                           enable_app_insights=True)\n",
        "\n",
        "# deploy model as webservice using Azure Container Instance(ACI)\n",
        "aci_service_name = \"aci-medical-charges-deploy\"\n",
        "\n",
        "aci_service = Model.deploy(ws, aci_service_name, [model], inference_config, aci_deployment_config, overwrite=True)\n",
        "aci_service.wait_for_deployment(show_output=True)\n",
        "\n",
        "print(aci_service.state)"
      ]
    },
    {
      "cell_type": "code",
      "execution_count": 17,
      "metadata": {
        "gather": {
          "logged": 1638615732183
        }
      },
      "outputs": [
        {
          "name": "stdout",
          "output_type": "stream",
          "text": [
            "http://2645b839-4bf0-4aa4-bdca-6f175f1bd29a.southcentralus.azurecontainer.io/score\n"
          ]
        }
      ],
      "source": [
        "# get the active api endpoint for scoring\n",
        "print(aci_service.scoring_uri)"
      ]
    },
    {
      "cell_type": "code",
      "execution_count": 18,
      "metadata": {
        "gather": {
          "logged": 1638616093020
        }
      },
      "outputs": [
        {
          "name": "stdout",
          "output_type": "stream",
          "text": [
            "Results: {\"result\": [19684.820170258816, 2808.3080752085543]}\n"
          ]
        }
      ],
      "source": [
        "# run script to score the 4 observations below in the json payloader\n",
        "import json\n",
        "import requests\n",
        "\n",
        "scoring_uri = 'http://2645b839-4bf0-4aa4-bdca-6f175f1bd29a.southcentralus.azurecontainer.io/score'\n",
        "headers = {'Content-Type':'application/json'}\n",
        "\n",
        "test_sample = json.dumps({\n",
        "    \"data\": [\n",
        "            [ 5.99, 13.73, 0.58, 1.318, 16.678352 ],\n",
        "            [ 8.6, 5.09, 1.37, 0.448, 17.133589 ]\n",
        "        ]\n",
        "    })\n",
        "\n",
        "response = requests.post(scoring_uri, data=test_sample, headers=headers)\n",
        "print(\"Results:\", response.json())"
      ]
    },
    {
      "cell_type": "markdown",
      "metadata": {
        "collapsed": true,
        "gather": {
          "logged": 1598432765711
        },
        "jupyter": {
          "outputs_hidden": false,
          "source_hidden": false
        },
        "nteract": {
          "transient": {
            "deleting": false
          }
        }
      },
      "source": [
        "TODO: In the cell below, print the logs of the web service and delete the service"
      ]
    },
    {
      "cell_type": "code",
      "execution_count": 19,
      "metadata": {
        "gather": {
          "logged": 1638616143910
        },
        "jupyter": {
          "outputs_hidden": false,
          "source_hidden": false
        },
        "nteract": {
          "transient": {
            "deleting": false
          }
        }
      },
      "outputs": [
        {
          "name": "stdout",
          "output_type": "stream",
          "text": [
            "2021-12-04T11:01:12,829366200+00:00 - rsyslog/run \n",
            "2021-12-04T11:01:12,828331900+00:00 - gunicorn/run \n",
            "Dynamic Python package installation is disabled.\n",
            "Starting HTTP server\n",
            "2021-12-04T11:01:12,868173100+00:00 - iot-server/run \n",
            "2021-12-04T11:01:12,906573000+00:00 - nginx/run \n",
            "rsyslogd: /azureml-envs/azureml_3c16aae97c7a45ee5cfd748a3ac40d13/lib/libuuid.so.1: no version information available (required by rsyslogd)\n",
            "EdgeHubConnectionString and IOTEDGE_IOTHUBHOSTNAME are not set. Exiting...\n",
            "2021-12-04T11:01:13,476825800+00:00 - iot-server/finish 1 0\n",
            "2021-12-04T11:01:13,483742000+00:00 - Exit code 1 is normal. Not restarting iot-server.\n",
            "Starting gunicorn 20.1.0\n",
            "Listening at: http://127.0.0.1:31311 (72)\n",
            "Using worker: sync\n",
            "worker timeout is set to 300\n",
            "Booting worker with pid: 100\n",
            "SPARK_HOME not set. Skipping PySpark Initialization.\n",
            "Generating new fontManager, this may take some time...\n",
            "Initializing logger\n",
            "2021-12-04 11:01:16,095 | root | INFO | Starting up app insights client\n",
            "logging socket was found. logging is available.\n",
            "logging socket was found. logging is available.\n",
            "2021-12-04 11:01:16,096 | root | INFO | Starting up request id generator\n",
            "2021-12-04 11:01:16,097 | root | INFO | Starting up app insight hooks\n",
            "2021-12-04 11:01:16,097 | root | INFO | Invoking user's init function\n",
            "2021-12-04 11:01:20,474 | azureml.core | WARNING | Failure while loading azureml_run_type_providers. Failed to load entrypoint automl = azureml.train.automl.run:AutoMLRun._from_run_dto with exception (cloudpickle 2.0.0 (/azureml-envs/azureml_3c16aae97c7a45ee5cfd748a3ac40d13/lib/python3.6/site-packages), Requirement.parse('cloudpickle<2.0.0,>=1.1.0'), {'azureml-dataprep'}).\n",
            "Failure while loading azureml_run_type_providers. Failed to load entrypoint automl = azureml.train.automl.run:AutoMLRun._from_run_dto with exception (cloudpickle 2.0.0 (/azureml-envs/azureml_3c16aae97c7a45ee5cfd748a3ac40d13/lib/python3.6/site-packages), Requirement.parse('cloudpickle<2.0.0,>=1.1.0'), {'azureml-dataprep'}).\n",
            "2021-12-04 11:01:21,243 | root | INFO | Users's init has completed successfully\n",
            "2021-12-04 11:01:21,251 | root | INFO | Skipping middleware: dbg_model_info as it's not enabled.\n",
            "2021-12-04 11:01:21,251 | root | INFO | Skipping middleware: dbg_resource_usage as it's not enabled.\n",
            "Generating swagger file: /tmp/tmprvcfv7cd\n",
            "2021-12-04 11:01:21,289 | root | INFO | Scoring timeout is found from os.environ: 60000 ms\n",
            "2021-12-04 11:01:27,500 | root | INFO | 200\n",
            "127.0.0.1 - - [04/Dec/2021:11:01:27 +0000] \"GET /swagger.json HTTP/1.0\" 200 2405 \"-\" \"Go-http-client/1.1\"\n",
            "2021-12-04 11:01:34,196 | root | INFO | 200\n",
            "127.0.0.1 - - [04/Dec/2021:11:01:34 +0000] \"GET /swagger.json HTTP/1.0\" 200 2405 \"-\" \"Go-http-client/1.1\"\n",
            "2021-12-04 11:08:12,644 | root | INFO | Validation Request Content-Type\n",
            "2021-12-04 11:08:12,648 | root | INFO | Scoring Timer is set to 60.0 seconds\n",
            "2021-12-04 11:08:12,872 | root | INFO | 200\n",
            "127.0.0.1 - - [04/Dec/2021:11:08:12 +0000] \"POST /score HTTP/1.0\" 200 56 \"-\" \"python-requests/2.26.0\"\n",
            "\n"
          ]
        }
      ],
      "source": [
        "# print the log of the webservice\n",
        "print(aci_service.get_logs())"
      ]
    },
    {
      "cell_type": "code",
      "execution_count": 20,
      "metadata": {
        "gather": {
          "logged": 1638616165641
        }
      },
      "outputs": [],
      "source": [
        "# delete the web service\n",
        "aci_service.delete()\n",
        "model.delete()"
      ]
    },
    {
      "cell_type": "markdown",
      "metadata": {},
      "source": [
        "**Submission Checklist**\n",
        "- I have registered the model.\n",
        "- I have deployed the model with the best accuracy as a webservice.\n",
        "- I have tested the webservice by sending a request to the model endpoint.\n",
        "- I have deleted the webservice and shutdown all the computes that I have used.\n",
        "- I have taken a screenshot showing the model endpoint as active.\n",
        "- The project includes a file containing the environment details.\n"
      ]
    },
    {
      "cell_type": "markdown",
      "metadata": {},
      "source": []
    }
  ],
  "metadata": {
    "kernel_info": {
      "name": "python3"
    },
    "kernelspec": {
      "display_name": "Python 3",
      "language": "python",
      "name": "python3"
    },
    "language_info": {
      "codemirror_mode": {
        "name": "ipython",
        "version": 3
      },
      "file_extension": ".py",
      "mimetype": "text/x-python",
      "name": "python",
      "nbconvert_exporter": "python",
      "pygments_lexer": "ipython3",
      "version": "3.6.9"
    },
    "microsoft": {
      "host": {
        "AzureML": {
          "notebookHasBeenCompleted": true
        }
      }
    },
    "nteract": {
      "version": "nteract-front-end@1.0.0"
    }
  },
  "nbformat": 4,
  "nbformat_minor": 2
}
